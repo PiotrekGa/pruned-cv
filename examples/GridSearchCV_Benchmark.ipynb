{
 "cells": [
  {
   "cell_type": "code",
   "execution_count": 2,
   "metadata": {
    "ExecuteTime": {
     "end_time": "2019-03-09T20:53:28.729900Z",
     "start_time": "2019-03-09T20:53:28.724394Z"
    }
   },
   "outputs": [],
   "source": [
    "from lightgbm import LGBMRegressor\n",
    "from sklearn.model_selection import GridSearchCV\n",
    "from sklearn.datasets import fetch_california_housing\n",
    "from prunedcv import PrunedGridSearchCV, PrunedCV"
   ]
  },
  {
   "cell_type": "code",
   "execution_count": 3,
   "metadata": {
    "ExecuteTime": {
     "end_time": "2019-03-09T20:53:29.665050Z",
     "start_time": "2019-03-09T20:53:29.637442Z"
    }
   },
   "outputs": [],
   "source": [
    "data = fetch_california_housing()\n",
    "x = data['data']\n",
    "y = data['target']\n",
    "\n",
    "model = LGBMRegressor()\n",
    "\n",
    "params_grid = {'n_estimators': [2, 5, 10, 20, 50, 100],\n",
    "                'max_depth': [2,5,10,20,50,100,200],\n",
    "                'learning_rate': [.001, .002, .005, .01, .02, .05, .1, .2]}"
   ]
  },
  {
   "cell_type": "code",
   "execution_count": 4,
   "metadata": {
    "ExecuteTime": {
     "end_time": "2019-03-09T20:53:29.990316Z",
     "start_time": "2019-03-09T20:53:29.981000Z"
    }
   },
   "outputs": [],
   "source": [
    "pgs = PrunedGridSearchCV(model, params_grid, cv=12, tolerance=0.1)"
   ]
  },
  {
   "cell_type": "code",
   "execution_count": 5,
   "metadata": {
    "ExecuteTime": {
     "end_time": "2019-03-09T20:54:56.683004Z",
     "start_time": "2019-03-09T20:53:30.430736Z"
    }
   },
   "outputs": [
    {
     "name": "stdout",
     "output_type": "stream",
     "text": [
      "CPU times: user 11min 13s, sys: 5.12 s, total: 11min 19s\n",
      "Wall time: 1min 26s\n"
     ]
    }
   ],
   "source": [
    "%time pgs.fit(x, y, random_state=42)"
   ]
  },
  {
   "cell_type": "code",
   "execution_count": 6,
   "metadata": {
    "ExecuteTime": {
     "end_time": "2019-03-09T20:54:56.691461Z",
     "start_time": "2019-03-09T20:54:56.685614Z"
    }
   },
   "outputs": [],
   "source": [
    "gs = GridSearchCV(model, params_grid, cv=12, refit=False, scoring=\"neg_mean_squared_error\")"
   ]
  },
  {
   "cell_type": "code",
   "execution_count": 7,
   "metadata": {
    "ExecuteTime": {
     "end_time": "2019-03-09T20:58:14.161448Z",
     "start_time": "2019-03-09T20:54:56.693639Z"
    }
   },
   "outputs": [
    {
     "name": "stdout",
     "output_type": "stream",
     "text": [
      "CPU times: user 25min 43s, sys: 14.7 s, total: 25min 57s\n",
      "Wall time: 3min 17s\n"
     ]
    },
    {
     "data": {
      "text/plain": [
       "GridSearchCV(cv=12, error_score='raise-deprecating',\n",
       "       estimator=LGBMRegressor(boosting_type='gbdt', class_weight=None, colsample_bytree=1.0,\n",
       "       importance_type='split', learning_rate=0.2, max_depth=200,\n",
       "       min_child_samples=20, min_child_weight=0.001, min_split_gain=0.0,\n",
       "       n_estimators=100, n_jobs=-1, num_leaves=31, objective=None,\n",
       "       random_state=None, reg_alpha=0.0, reg_lambda=0.0, silent=True,\n",
       "       subsample=1.0, subsample_for_bin=200000, subsample_freq=0),\n",
       "       fit_params=None, iid='warn', n_jobs=None,\n",
       "       param_grid={'n_estimators': [2, 5, 10, 20, 50, 100], 'max_depth': [2, 5, 10, 20, 50, 100, 200], 'learning_rate': [0.001, 0.002, 0.005, 0.01, 0.02, 0.05, 0.1, 0.2]},\n",
       "       pre_dispatch='2*n_jobs', refit=False, return_train_score='warn',\n",
       "       scoring='neg_mean_squared_error', verbose=0)"
      ]
     },
     "execution_count": 7,
     "metadata": {},
     "output_type": "execute_result"
    }
   ],
   "source": [
    "%time gs.fit(x, y)"
   ]
  },
  {
   "cell_type": "code",
   "execution_count": 9,
   "metadata": {
    "ExecuteTime": {
     "end_time": "2019-03-09T20:58:24.450509Z",
     "start_time": "2019-03-09T20:58:24.443782Z"
    }
   },
   "outputs": [
    {
     "data": {
      "text/plain": [
       "{'learning_rate': 0.1, 'max_depth': 20, 'n_estimators': 100}"
      ]
     },
     "execution_count": 9,
     "metadata": {},
     "output_type": "execute_result"
    }
   ],
   "source": [
    "pgs.best_params"
   ]
  },
  {
   "cell_type": "code",
   "execution_count": 10,
   "metadata": {
    "ExecuteTime": {
     "end_time": "2019-03-09T20:58:28.987218Z",
     "start_time": "2019-03-09T20:58:28.981407Z"
    }
   },
   "outputs": [
    {
     "data": {
      "text/plain": [
       "{'learning_rate': 0.1, 'max_depth': 20, 'n_estimators': 100}"
      ]
     },
     "execution_count": 10,
     "metadata": {},
     "output_type": "execute_result"
    }
   ],
   "source": [
    "gs.best_params_"
   ]
  },
  {
   "cell_type": "code",
   "execution_count": 11,
   "metadata": {
    "ExecuteTime": {
     "end_time": "2019-03-09T20:58:44.158354Z",
     "start_time": "2019-03-09T20:58:44.154175Z"
    }
   },
   "outputs": [
    {
     "data": {
      "text/plain": [
       "0.3339652882106395"
      ]
     },
     "execution_count": 11,
     "metadata": {},
     "output_type": "execute_result"
    }
   ],
   "source": [
    "pgs.best_score"
   ]
  },
  {
   "cell_type": "code",
   "execution_count": 13,
   "metadata": {
    "ExecuteTime": {
     "end_time": "2019-03-09T20:58:51.408967Z",
     "start_time": "2019-03-09T20:58:51.404988Z"
    }
   },
   "outputs": [
    {
     "data": {
      "text/plain": [
       "0.33396528821063953"
      ]
     },
     "execution_count": 13,
     "metadata": {},
     "output_type": "execute_result"
    }
   ],
   "source": [
    "- gs.best_score_"
   ]
  }
 ],
 "metadata": {
  "kernelspec": {
   "display_name": "Python 3",
   "language": "python",
   "name": "python3"
  },
  "language_info": {
   "codemirror_mode": {
    "name": "ipython",
    "version": 3
   },
   "file_extension": ".py",
   "mimetype": "text/x-python",
   "name": "python",
   "nbconvert_exporter": "python",
   "pygments_lexer": "ipython3",
   "version": "3.6.8"
  }
 },
 "nbformat": 4,
 "nbformat_minor": 2
}
