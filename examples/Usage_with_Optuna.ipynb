{
 "cells": [
  {
   "cell_type": "code",
   "execution_count": 2,
   "metadata": {
    "ExecuteTime": {
     "end_time": "2019-03-20T04:18:13.188636Z",
     "start_time": "2019-03-20T04:18:13.185008Z"
    }
   },
   "outputs": [],
   "source": [
    "from lightgbm import LGBMRegressor\n",
    "import optuna\n",
    "from sklearn.datasets import fetch_california_housing\n",
    "from sklearn.model_selection import cross_val_score\n",
    "from prunedcv import PrunedCV\n",
    "import seaborn as sns\n",
    "import numpy as np"
   ]
  },
  {
   "cell_type": "code",
   "execution_count": 3,
   "metadata": {
    "ExecuteTime": {
     "end_time": "2019-03-20T04:18:14.220231Z",
     "start_time": "2019-03-20T04:18:14.193708Z"
    }
   },
   "outputs": [],
   "source": [
    "data = fetch_california_housing()\n",
    "x = data['data']\n",
    "y = data['target']"
   ]
  },
  {
   "cell_type": "code",
   "execution_count": 4,
   "metadata": {
    "ExecuteTime": {
     "end_time": "2019-03-20T04:18:14.985917Z",
     "start_time": "2019-03-20T04:18:14.980660Z"
    }
   },
   "outputs": [],
   "source": [
    "model = LGBMRegressor()"
   ]
  },
  {
   "cell_type": "code",
   "execution_count": 6,
   "metadata": {
    "ExecuteTime": {
     "end_time": "2019-03-20T04:21:43.561217Z",
     "start_time": "2019-03-20T04:19:42.092249Z"
    }
   },
   "outputs": [
    {
     "name": "stderr",
     "output_type": "stream",
     "text": [
      "[I 2019-03-19 21:19:43,210] Finished a trial resulted in value: 0.5958921869848147. Current best value is 0.5958921869848147 with parameters: {'n_estimators': 49, 'num_leaves': 50, 'colsample_bytree': 0.7343413580079781, 'learning_rate': 0.02646223241870733, 'max_depth': 790}.\n",
      "[I 2019-03-19 21:19:45,611] Finished a trial resulted in value: 1.13790877159008. Current best value is 0.5958921869848147 with parameters: {'n_estimators': 49, 'num_leaves': 50, 'colsample_bytree': 0.7343413580079781, 'learning_rate': 0.02646223241870733, 'max_depth': 790}.\n",
      "[I 2019-03-19 21:19:47,037] Finished a trial resulted in value: 0.5096925242429295. Current best value is 0.5096925242429295 with parameters: {'n_estimators': 88, 'num_leaves': 55, 'colsample_bytree': 0.5718769708386473, 'learning_rate': 0.764318994969143, 'max_depth': 560}.\n",
      "[I 2019-03-19 21:19:48,959] Finished a trial resulted in value: 0.5745002160441535. Current best value is 0.5096925242429295 with parameters: {'n_estimators': 88, 'num_leaves': 55, 'colsample_bytree': 0.5718769708386473, 'learning_rate': 0.764318994969143, 'max_depth': 560}.\n",
      "[I 2019-03-19 21:19:49,516] Finished a trial resulted in value: 0.7394379678041315. Current best value is 0.5096925242429295 with parameters: {'n_estimators': 88, 'num_leaves': 55, 'colsample_bytree': 0.5718769708386473, 'learning_rate': 0.764318994969143, 'max_depth': 560}.\n",
      "[I 2019-03-19 21:19:50,986] Finished a trial resulted in value: 1.2646355063901826. Current best value is 0.5096925242429295 with parameters: {'n_estimators': 88, 'num_leaves': 55, 'colsample_bytree': 0.5718769708386473, 'learning_rate': 0.764318994969143, 'max_depth': 560}.\n",
      "[I 2019-03-19 21:19:51,970] Finished a trial resulted in value: 1.3723421871709485. Current best value is 0.5096925242429295 with parameters: {'n_estimators': 88, 'num_leaves': 55, 'colsample_bytree': 0.5718769708386473, 'learning_rate': 0.764318994969143, 'max_depth': 560}.\n",
      "[I 2019-03-19 21:19:52,252] Finished a trial resulted in value: 0.5821191308802628. Current best value is 0.5096925242429295 with parameters: {'n_estimators': 88, 'num_leaves': 55, 'colsample_bytree': 0.5718769708386473, 'learning_rate': 0.764318994969143, 'max_depth': 560}.\n",
      "[I 2019-03-19 21:19:52,622] Finished a trial resulted in value: 1.3710082015735132. Current best value is 0.5096925242429295 with parameters: {'n_estimators': 88, 'num_leaves': 55, 'colsample_bytree': 0.5718769708386473, 'learning_rate': 0.764318994969143, 'max_depth': 560}.\n",
      "[I 2019-03-19 21:19:53,466] Finished a trial resulted in value: 0.958326991441233. Current best value is 0.5096925242429295 with parameters: {'n_estimators': 88, 'num_leaves': 55, 'colsample_bytree': 0.5718769708386473, 'learning_rate': 0.764318994969143, 'max_depth': 560}.\n",
      "[I 2019-03-19 21:19:54,716] Finished a trial resulted in value: 0.3801469689998509. Current best value is 0.3801469689998509 with parameters: {'n_estimators': 74, 'num_leaves': 33, 'colsample_bytree': 0.5200034476158042, 'learning_rate': 0.11049132196641286, 'max_depth': 238}.\n",
      "[I 2019-03-19 21:19:55,668] Finished a trial resulted in value: 0.37162618039317286. Current best value is 0.37162618039317286 with parameters: {'n_estimators': 73, 'num_leaves': 29, 'colsample_bytree': 0.502796195790717, 'learning_rate': 0.11839323694018698, 'max_depth': 291}.\n",
      "[I 2019-03-19 21:19:55,930] Finished a trial resulted in value: 0.8018446167158726. Current best value is 0.37162618039317286 with parameters: {'n_estimators': 73, 'num_leaves': 29, 'colsample_bytree': 0.502796195790717, 'learning_rate': 0.11839323694018698, 'max_depth': 291}.\n",
      "[I 2019-03-19 21:19:57,332] Finished a trial resulted in value: 1.3172370038710624. Current best value is 0.37162618039317286 with parameters: {'n_estimators': 73, 'num_leaves': 29, 'colsample_bytree': 0.502796195790717, 'learning_rate': 0.11839323694018698, 'max_depth': 291}.\n",
      "[I 2019-03-19 21:19:58,562] Finished a trial resulted in value: 1.3695958119892326. Current best value is 0.37162618039317286 with parameters: {'n_estimators': 73, 'num_leaves': 29, 'colsample_bytree': 0.502796195790717, 'learning_rate': 0.11839323694018698, 'max_depth': 291}.\n",
      "[I 2019-03-19 21:19:59,439] Finished a trial resulted in value: 0.3411884482513785. Current best value is 0.3411884482513785 with parameters: {'n_estimators': 80, 'num_leaves': 18, 'colsample_bytree': 0.879036768069856, 'learning_rate': 0.11197408052667535, 'max_depth': 132}.\n",
      "[I 2019-03-19 21:20:00,492] Finished a trial resulted in value: 0.3424483752531165. Current best value is 0.3411884482513785 with parameters: {'n_estimators': 80, 'num_leaves': 18, 'colsample_bytree': 0.879036768069856, 'learning_rate': 0.11197408052667535, 'max_depth': 132}.\n",
      "[I 2019-03-19 21:20:01,612] Finished a trial resulted in value: 0.3533196546019055. Current best value is 0.3411884482513785 with parameters: {'n_estimators': 80, 'num_leaves': 18, 'colsample_bytree': 0.879036768069856, 'learning_rate': 0.11197408052667535, 'max_depth': 132}.\n",
      "[I 2019-03-19 21:20:02,567] Finished a trial resulted in value: 0.393417264913208. Current best value is 0.3411884482513785 with parameters: {'n_estimators': 80, 'num_leaves': 18, 'colsample_bytree': 0.879036768069856, 'learning_rate': 0.11197408052667535, 'max_depth': 132}.\n",
      "[I 2019-03-19 21:20:03,899] Finished a trial resulted in value: 0.4880127084737753. Current best value is 0.3411884482513785 with parameters: {'n_estimators': 80, 'num_leaves': 18, 'colsample_bytree': 0.879036768069856, 'learning_rate': 0.11197408052667535, 'max_depth': 132}.\n",
      "[I 2019-03-19 21:20:04,969] Finished a trial resulted in value: 0.35488708223826343. Current best value is 0.3411884482513785 with parameters: {'n_estimators': 80, 'num_leaves': 18, 'colsample_bytree': 0.879036768069856, 'learning_rate': 0.11197408052667535, 'max_depth': 132}.\n",
      "[I 2019-03-19 21:20:06,142] Finished a trial resulted in value: 0.3862386327548728. Current best value is 0.3411884482513785 with parameters: {'n_estimators': 80, 'num_leaves': 18, 'colsample_bytree': 0.879036768069856, 'learning_rate': 0.11197408052667535, 'max_depth': 132}.\n",
      "[I 2019-03-19 21:20:06,527] Finished a trial resulted in value: 0.40311368865072755. Current best value is 0.3411884482513785 with parameters: {'n_estimators': 80, 'num_leaves': 18, 'colsample_bytree': 0.879036768069856, 'learning_rate': 0.11197408052667535, 'max_depth': 132}.\n",
      "[I 2019-03-19 21:20:08,225] Finished a trial resulted in value: 0.3757413916032705. Current best value is 0.3411884482513785 with parameters: {'n_estimators': 80, 'num_leaves': 18, 'colsample_bytree': 0.879036768069856, 'learning_rate': 0.11197408052667535, 'max_depth': 132}.\n",
      "[I 2019-03-19 21:20:09,090] Finished a trial resulted in value: 0.48352264652001775. Current best value is 0.3411884482513785 with parameters: {'n_estimators': 80, 'num_leaves': 18, 'colsample_bytree': 0.879036768069856, 'learning_rate': 0.11197408052667535, 'max_depth': 132}.\n",
      "[I 2019-03-19 21:20:10,687] Finished a trial resulted in value: 0.3892707036869157. Current best value is 0.3411884482513785 with parameters: {'n_estimators': 80, 'num_leaves': 18, 'colsample_bytree': 0.879036768069856, 'learning_rate': 0.11197408052667535, 'max_depth': 132}.\n",
      "[I 2019-03-19 21:20:10,958] Finished a trial resulted in value: 1.265318631082492. Current best value is 0.3411884482513785 with parameters: {'n_estimators': 80, 'num_leaves': 18, 'colsample_bytree': 0.879036768069856, 'learning_rate': 0.11197408052667535, 'max_depth': 132}.\n",
      "[I 2019-03-19 21:20:12,709] Finished a trial resulted in value: 0.35639755991061567. Current best value is 0.3411884482513785 with parameters: {'n_estimators': 80, 'num_leaves': 18, 'colsample_bytree': 0.879036768069856, 'learning_rate': 0.11197408052667535, 'max_depth': 132}.\n",
      "[I 2019-03-19 21:20:16,275] Finished a trial resulted in value: 0.35400925549444134. Current best value is 0.3411884482513785 with parameters: {'n_estimators': 80, 'num_leaves': 18, 'colsample_bytree': 0.879036768069856, 'learning_rate': 0.11197408052667535, 'max_depth': 132}.\n"
     ]
    },
    {
     "name": "stderr",
     "output_type": "stream",
     "text": [
      "[I 2019-03-19 21:20:18,921] Finished a trial resulted in value: 0.674602221936873. Current best value is 0.3411884482513785 with parameters: {'n_estimators': 80, 'num_leaves': 18, 'colsample_bytree': 0.879036768069856, 'learning_rate': 0.11197408052667535, 'max_depth': 132}.\n",
      "[I 2019-03-19 21:20:27,508] Finished a trial resulted in value: 0.45468710182415. Current best value is 0.3411884482513785 with parameters: {'n_estimators': 80, 'num_leaves': 18, 'colsample_bytree': 0.879036768069856, 'learning_rate': 0.11197408052667535, 'max_depth': 132}.\n",
      "[I 2019-03-19 21:20:31,155] Finished a trial resulted in value: 0.780009241148591. Current best value is 0.3411884482513785 with parameters: {'n_estimators': 80, 'num_leaves': 18, 'colsample_bytree': 0.879036768069856, 'learning_rate': 0.11197408052667535, 'max_depth': 132}.\n",
      "[I 2019-03-19 21:20:32,565] Finished a trial resulted in value: 1.2456592660811923. Current best value is 0.3411884482513785 with parameters: {'n_estimators': 80, 'num_leaves': 18, 'colsample_bytree': 0.879036768069856, 'learning_rate': 0.11197408052667535, 'max_depth': 132}.\n",
      "[I 2019-03-19 21:20:33,931] Finished a trial resulted in value: 0.40611434252848394. Current best value is 0.3411884482513785 with parameters: {'n_estimators': 80, 'num_leaves': 18, 'colsample_bytree': 0.879036768069856, 'learning_rate': 0.11197408052667535, 'max_depth': 132}.\n",
      "[I 2019-03-19 21:20:35,615] Finished a trial resulted in value: 0.3583373610224527. Current best value is 0.3411884482513785 with parameters: {'n_estimators': 80, 'num_leaves': 18, 'colsample_bytree': 0.879036768069856, 'learning_rate': 0.11197408052667535, 'max_depth': 132}.\n",
      "[I 2019-03-19 21:20:36,113] Finished a trial resulted in value: 0.6967062444715375. Current best value is 0.3411884482513785 with parameters: {'n_estimators': 80, 'num_leaves': 18, 'colsample_bytree': 0.879036768069856, 'learning_rate': 0.11197408052667535, 'max_depth': 132}.\n",
      "[I 2019-03-19 21:20:37,194] Finished a trial resulted in value: 0.41177483700267076. Current best value is 0.3411884482513785 with parameters: {'n_estimators': 80, 'num_leaves': 18, 'colsample_bytree': 0.879036768069856, 'learning_rate': 0.11197408052667535, 'max_depth': 132}.\n",
      "[I 2019-03-19 21:20:38,247] Finished a trial resulted in value: 1.207580352576495. Current best value is 0.3411884482513785 with parameters: {'n_estimators': 80, 'num_leaves': 18, 'colsample_bytree': 0.879036768069856, 'learning_rate': 0.11197408052667535, 'max_depth': 132}.\n",
      "[I 2019-03-19 21:20:39,541] Finished a trial resulted in value: 0.3735926050058656. Current best value is 0.3411884482513785 with parameters: {'n_estimators': 80, 'num_leaves': 18, 'colsample_bytree': 0.879036768069856, 'learning_rate': 0.11197408052667535, 'max_depth': 132}.\n",
      "[I 2019-03-19 21:20:40,433] Finished a trial resulted in value: 0.5698708525227484. Current best value is 0.3411884482513785 with parameters: {'n_estimators': 80, 'num_leaves': 18, 'colsample_bytree': 0.879036768069856, 'learning_rate': 0.11197408052667535, 'max_depth': 132}.\n",
      "[I 2019-03-19 21:20:41,726] Finished a trial resulted in value: 0.47565372678801393. Current best value is 0.3411884482513785 with parameters: {'n_estimators': 80, 'num_leaves': 18, 'colsample_bytree': 0.879036768069856, 'learning_rate': 0.11197408052667535, 'max_depth': 132}.\n",
      "[I 2019-03-19 21:20:43,416] Finished a trial resulted in value: 1.1717392211631665. Current best value is 0.3411884482513785 with parameters: {'n_estimators': 80, 'num_leaves': 18, 'colsample_bytree': 0.879036768069856, 'learning_rate': 0.11197408052667535, 'max_depth': 132}.\n",
      "[I 2019-03-19 21:20:43,706] Finished a trial resulted in value: 0.4617697705721038. Current best value is 0.3411884482513785 with parameters: {'n_estimators': 80, 'num_leaves': 18, 'colsample_bytree': 0.879036768069856, 'learning_rate': 0.11197408052667535, 'max_depth': 132}.\n",
      "[I 2019-03-19 21:20:45,426] Finished a trial resulted in value: 1.342147192549197. Current best value is 0.3411884482513785 with parameters: {'n_estimators': 80, 'num_leaves': 18, 'colsample_bytree': 0.879036768069856, 'learning_rate': 0.11197408052667535, 'max_depth': 132}.\n",
      "[I 2019-03-19 21:20:47,048] Finished a trial resulted in value: 0.33970595272386944. Current best value is 0.33970595272386944 with parameters: {'n_estimators': 95, 'num_leaves': 45, 'colsample_bytree': 0.935177946888561, 'learning_rate': 0.08459886667434098, 'max_depth': 586}.\n",
      "[I 2019-03-19 21:20:49,116] Finished a trial resulted in value: 0.4940152102198739. Current best value is 0.33970595272386944 with parameters: {'n_estimators': 95, 'num_leaves': 45, 'colsample_bytree': 0.935177946888561, 'learning_rate': 0.08459886667434098, 'max_depth': 586}.\n",
      "[I 2019-03-19 21:20:51,345] Finished a trial resulted in value: 0.3475547604136799. Current best value is 0.33970595272386944 with parameters: {'n_estimators': 95, 'num_leaves': 45, 'colsample_bytree': 0.935177946888561, 'learning_rate': 0.08459886667434098, 'max_depth': 586}.\n",
      "[I 2019-03-19 21:20:55,188] Finished a trial resulted in value: 0.637058013284931. Current best value is 0.33970595272386944 with parameters: {'n_estimators': 95, 'num_leaves': 45, 'colsample_bytree': 0.935177946888561, 'learning_rate': 0.08459886667434098, 'max_depth': 586}.\n",
      "[I 2019-03-19 21:20:56,236] Finished a trial resulted in value: 1.1372987330986781. Current best value is 0.33970595272386944 with parameters: {'n_estimators': 95, 'num_leaves': 45, 'colsample_bytree': 0.935177946888561, 'learning_rate': 0.08459886667434098, 'max_depth': 586}.\n",
      "[I 2019-03-19 21:20:57,560] Finished a trial resulted in value: 1.2738731642528804. Current best value is 0.33970595272386944 with parameters: {'n_estimators': 95, 'num_leaves': 45, 'colsample_bytree': 0.935177946888561, 'learning_rate': 0.08459886667434098, 'max_depth': 586}.\n",
      "[I 2019-03-19 21:21:00,583] Finished a trial resulted in value: 0.42050671582156757. Current best value is 0.33970595272386944 with parameters: {'n_estimators': 95, 'num_leaves': 45, 'colsample_bytree': 0.935177946888561, 'learning_rate': 0.08459886667434098, 'max_depth': 586}.\n",
      "[I 2019-03-19 21:21:02,485] Finished a trial resulted in value: 0.34048912147149296. Current best value is 0.33970595272386944 with parameters: {'n_estimators': 95, 'num_leaves': 45, 'colsample_bytree': 0.935177946888561, 'learning_rate': 0.08459886667434098, 'max_depth': 586}.\n",
      "[I 2019-03-19 21:21:04,691] Finished a trial resulted in value: 0.4539541775819838. Current best value is 0.33970595272386944 with parameters: {'n_estimators': 95, 'num_leaves': 45, 'colsample_bytree': 0.935177946888561, 'learning_rate': 0.08459886667434098, 'max_depth': 586}.\n",
      "[I 2019-03-19 21:21:05,654] Finished a trial resulted in value: 1.3732785594662869. Current best value is 0.33970595272386944 with parameters: {'n_estimators': 95, 'num_leaves': 45, 'colsample_bytree': 0.935177946888561, 'learning_rate': 0.08459886667434098, 'max_depth': 586}.\n",
      "[I 2019-03-19 21:21:09,310] Finished a trial resulted in value: 0.3464343534479278. Current best value is 0.33970595272386944 with parameters: {'n_estimators': 95, 'num_leaves': 45, 'colsample_bytree': 0.935177946888561, 'learning_rate': 0.08459886667434098, 'max_depth': 586}.\n",
      "[I 2019-03-19 21:21:11,596] Finished a trial resulted in value: 0.34911913609882733. Current best value is 0.33970595272386944 with parameters: {'n_estimators': 95, 'num_leaves': 45, 'colsample_bytree': 0.935177946888561, 'learning_rate': 0.08459886667434098, 'max_depth': 586}.\n",
      "[I 2019-03-19 21:21:13,849] Finished a trial resulted in value: 0.377838102387097. Current best value is 0.33970595272386944 with parameters: {'n_estimators': 95, 'num_leaves': 45, 'colsample_bytree': 0.935177946888561, 'learning_rate': 0.08459886667434098, 'max_depth': 586}.\n",
      "[I 2019-03-19 21:21:15,424] Finished a trial resulted in value: 1.0993542764828272. Current best value is 0.33970595272386944 with parameters: {'n_estimators': 95, 'num_leaves': 45, 'colsample_bytree': 0.935177946888561, 'learning_rate': 0.08459886667434098, 'max_depth': 586}.\n"
     ]
    },
    {
     "name": "stderr",
     "output_type": "stream",
     "text": [
      "[I 2019-03-19 21:21:16,579] Finished a trial resulted in value: 0.37803151669230034. Current best value is 0.33970595272386944 with parameters: {'n_estimators': 95, 'num_leaves': 45, 'colsample_bytree': 0.935177946888561, 'learning_rate': 0.08459886667434098, 'max_depth': 586}.\n",
      "[I 2019-03-19 21:21:19,630] Finished a trial resulted in value: 1.3582757960652925. Current best value is 0.33970595272386944 with parameters: {'n_estimators': 95, 'num_leaves': 45, 'colsample_bytree': 0.935177946888561, 'learning_rate': 0.08459886667434098, 'max_depth': 586}.\n",
      "[I 2019-03-19 21:21:20,967] Finished a trial resulted in value: 0.41586198443854233. Current best value is 0.33970595272386944 with parameters: {'n_estimators': 95, 'num_leaves': 45, 'colsample_bytree': 0.935177946888561, 'learning_rate': 0.08459886667434098, 'max_depth': 586}.\n",
      "[I 2019-03-19 21:21:22,684] Finished a trial resulted in value: 0.8345477968707429. Current best value is 0.33970595272386944 with parameters: {'n_estimators': 95, 'num_leaves': 45, 'colsample_bytree': 0.935177946888561, 'learning_rate': 0.08459886667434098, 'max_depth': 586}.\n",
      "[I 2019-03-19 21:21:23,486] Finished a trial resulted in value: 0.9174112899912239. Current best value is 0.33970595272386944 with parameters: {'n_estimators': 95, 'num_leaves': 45, 'colsample_bytree': 0.935177946888561, 'learning_rate': 0.08459886667434098, 'max_depth': 586}.\n",
      "[I 2019-03-19 21:21:25,991] Finished a trial resulted in value: 0.4774818487910861. Current best value is 0.33970595272386944 with parameters: {'n_estimators': 95, 'num_leaves': 45, 'colsample_bytree': 0.935177946888561, 'learning_rate': 0.08459886667434098, 'max_depth': 586}.\n",
      "[I 2019-03-19 21:21:27,740] Finished a trial resulted in value: 0.3641134254496312. Current best value is 0.33970595272386944 with parameters: {'n_estimators': 95, 'num_leaves': 45, 'colsample_bytree': 0.935177946888561, 'learning_rate': 0.08459886667434098, 'max_depth': 586}.\n",
      "[I 2019-03-19 21:21:28,755] Finished a trial resulted in value: 0.3673068049634584. Current best value is 0.33970595272386944 with parameters: {'n_estimators': 95, 'num_leaves': 45, 'colsample_bytree': 0.935177946888561, 'learning_rate': 0.08459886667434098, 'max_depth': 586}.\n",
      "[I 2019-03-19 21:21:29,497] Finished a trial resulted in value: 0.36733710705270495. Current best value is 0.33970595272386944 with parameters: {'n_estimators': 95, 'num_leaves': 45, 'colsample_bytree': 0.935177946888561, 'learning_rate': 0.08459886667434098, 'max_depth': 586}.\n",
      "[I 2019-03-19 21:21:30,568] Finished a trial resulted in value: 0.33993788875033637. Current best value is 0.33970595272386944 with parameters: {'n_estimators': 95, 'num_leaves': 45, 'colsample_bytree': 0.935177946888561, 'learning_rate': 0.08459886667434098, 'max_depth': 586}.\n",
      "[I 2019-03-19 21:21:31,736] Finished a trial resulted in value: 0.3657078503420248. Current best value is 0.33970595272386944 with parameters: {'n_estimators': 95, 'num_leaves': 45, 'colsample_bytree': 0.935177946888561, 'learning_rate': 0.08459886667434098, 'max_depth': 586}.\n",
      "[I 2019-03-19 21:21:32,901] Finished a trial resulted in value: 0.4239855330794875. Current best value is 0.33970595272386944 with parameters: {'n_estimators': 95, 'num_leaves': 45, 'colsample_bytree': 0.935177946888561, 'learning_rate': 0.08459886667434098, 'max_depth': 586}.\n",
      "[I 2019-03-19 21:21:33,958] Finished a trial resulted in value: 0.3986860520143663. Current best value is 0.33970595272386944 with parameters: {'n_estimators': 95, 'num_leaves': 45, 'colsample_bytree': 0.935177946888561, 'learning_rate': 0.08459886667434098, 'max_depth': 586}.\n",
      "[I 2019-03-19 21:21:35,181] Finished a trial resulted in value: 0.4371653721279127. Current best value is 0.33970595272386944 with parameters: {'n_estimators': 95, 'num_leaves': 45, 'colsample_bytree': 0.935177946888561, 'learning_rate': 0.08459886667434098, 'max_depth': 586}.\n",
      "[I 2019-03-19 21:21:36,574] Finished a trial resulted in value: 0.6035248921728839. Current best value is 0.33970595272386944 with parameters: {'n_estimators': 95, 'num_leaves': 45, 'colsample_bytree': 0.935177946888561, 'learning_rate': 0.08459886667434098, 'max_depth': 586}.\n",
      "[I 2019-03-19 21:21:37,772] Finished a trial resulted in value: 0.343496488508481. Current best value is 0.33970595272386944 with parameters: {'n_estimators': 95, 'num_leaves': 45, 'colsample_bytree': 0.935177946888561, 'learning_rate': 0.08459886667434098, 'max_depth': 586}.\n",
      "[I 2019-03-19 21:21:39,971] Finished a trial resulted in value: 0.3842295607826007. Current best value is 0.33970595272386944 with parameters: {'n_estimators': 95, 'num_leaves': 45, 'colsample_bytree': 0.935177946888561, 'learning_rate': 0.08459886667434098, 'max_depth': 586}.\n",
      "[I 2019-03-19 21:21:41,736] Finished a trial resulted in value: 0.5091931207867472. Current best value is 0.33970595272386944 with parameters: {'n_estimators': 95, 'num_leaves': 45, 'colsample_bytree': 0.935177946888561, 'learning_rate': 0.08459886667434098, 'max_depth': 586}.\n",
      "[I 2019-03-19 21:21:43,557] Finished a trial resulted in value: 0.36079342239016404. Current best value is 0.33970595272386944 with parameters: {'n_estimators': 95, 'num_leaves': 45, 'colsample_bytree': 0.935177946888561, 'learning_rate': 0.08459886667434098, 'max_depth': 586}.\n"
     ]
    }
   ],
   "source": [
    "def obejctive_standard(trial):\n",
    "    \n",
    "    n_estimators = trial.suggest_int('n_estimators', 5, 100)\n",
    "    num_leaves = trial.suggest_int('num_leaves', 2, 100)\n",
    "    colsample_bytree = trial.suggest_uniform('colsample_bytree', 0.5, 1.0)\n",
    "    learning_rate = trial.suggest_loguniform('learning_rate', 1e-4, 1e-0)\n",
    "    max_depth = trial.suggest_int('max_depth', 2, 1_000)\n",
    "\n",
    "\n",
    "    params = {        \n",
    "        'n_estimators': n_estimators,\n",
    "        'num_leaves': num_leaves,\n",
    "        'colsample_bytree': colsample_bytree,\n",
    "        'learning_rate': learning_rate,\n",
    "        'max_depth': max_depth\n",
    "    }\n",
    "    \n",
    "    model.set_params(**params)\n",
    "\n",
    "    return - np.mean(cross_val_score(model, x, y, cv=12, scoring='neg_mean_squared_error'))\n",
    "\n",
    "study_standard = optuna.create_study()\n",
    "\n",
    "study_standard.optimize(obejctive_standard, timeout=120)"
   ]
  },
  {
   "cell_type": "code",
   "execution_count": 7,
   "metadata": {
    "ExecuteTime": {
     "end_time": "2019-03-20T04:23:43.796092Z",
     "start_time": "2019-03-20T04:21:43.563800Z"
    }
   },
   "outputs": [
    {
     "name": "stderr",
     "output_type": "stream",
     "text": [
      "[I 2019-03-19 21:21:46,464] Finished a trial resulted in value: 1.2288620194626116. Current best value is 1.2288620194626116 with parameters: {'n_estimators': 57, 'num_leaves': 90, 'colsample_bytree': 0.684446732599298, 'learning_rate': 0.0020364516661190353, 'max_depth': 623}.\n",
      "[I 2019-03-19 21:21:46,983] Finished a trial resulted in value: 1.3789122486131125. Current best value is 1.2288620194626116 with parameters: {'n_estimators': 57, 'num_leaves': 90, 'colsample_bytree': 0.684446732599298, 'learning_rate': 0.0020364516661190353, 'max_depth': 623}.\n",
      "[I 2019-03-19 21:21:47,179] Finished a trial resulted in value: 1.3884277572333332. Current best value is 1.2288620194626116 with parameters: {'n_estimators': 57, 'num_leaves': 90, 'colsample_bytree': 0.684446732599298, 'learning_rate': 0.0020364516661190353, 'max_depth': 623}.\n",
      "[I 2019-03-19 21:21:49,115] Finished a trial resulted in value: 0.4449494470639915. Current best value is 0.4449494470639915 with parameters: {'n_estimators': 44, 'num_leaves': 100, 'colsample_bytree': 0.5860426455897955, 'learning_rate': 0.49430004571763, 'max_depth': 460}.\n",
      "[I 2019-03-19 21:21:49,371] Finished a trial resulted in value: 0.4914648041370544. Current best value is 0.4449494470639915 with parameters: {'n_estimators': 44, 'num_leaves': 100, 'colsample_bytree': 0.5860426455897955, 'learning_rate': 0.49430004571763, 'max_depth': 460}.\n",
      "[I 2019-03-19 21:21:49,693] Finished a trial resulted in value: 1.172602060072397. Current best value is 0.4449494470639915 with parameters: {'n_estimators': 44, 'num_leaves': 100, 'colsample_bytree': 0.5860426455897955, 'learning_rate': 0.49430004571763, 'max_depth': 460}.\n",
      "[I 2019-03-19 21:21:49,829] Finished a trial resulted in value: 1.304211189566514. Current best value is 0.4449494470639915 with parameters: {'n_estimators': 44, 'num_leaves': 100, 'colsample_bytree': 0.5860426455897955, 'learning_rate': 0.49430004571763, 'max_depth': 460}.\n",
      "[I 2019-03-19 21:21:49,968] Finished a trial resulted in value: 0.6800155052502612. Current best value is 0.4449494470639915 with parameters: {'n_estimators': 44, 'num_leaves': 100, 'colsample_bytree': 0.5860426455897955, 'learning_rate': 0.49430004571763, 'max_depth': 460}.\n",
      "[I 2019-03-19 21:21:50,202] Finished a trial resulted in value: 1.366170737089341. Current best value is 0.4449494470639915 with parameters: {'n_estimators': 44, 'num_leaves': 100, 'colsample_bytree': 0.5860426455897955, 'learning_rate': 0.49430004571763, 'max_depth': 460}.\n",
      "[I 2019-03-19 21:21:50,319] Finished a trial resulted in value: 0.5314347650083192. Current best value is 0.4449494470639915 with parameters: {'n_estimators': 44, 'num_leaves': 100, 'colsample_bytree': 0.5860426455897955, 'learning_rate': 0.49430004571763, 'max_depth': 460}.\n",
      "[I 2019-03-19 21:21:50,722] Finished a trial resulted in value: 0.5822778771323813. Current best value is 0.4449494470639915 with parameters: {'n_estimators': 44, 'num_leaves': 100, 'colsample_bytree': 0.5860426455897955, 'learning_rate': 0.49430004571763, 'max_depth': 460}.\n",
      "[I 2019-03-19 21:21:52,325] Finished a trial resulted in value: 0.3880469899387368. Current best value is 0.3880469899387368 with parameters: {'n_estimators': 43, 'num_leaves': 70, 'colsample_bytree': 0.530461284342211, 'learning_rate': 0.18837117523776717, 'max_depth': 298}.\n",
      "[I 2019-03-19 21:21:52,409] Finished a trial resulted in value: 0.48967215263898234. Current best value is 0.3880469899387368 with parameters: {'n_estimators': 43, 'num_leaves': 70, 'colsample_bytree': 0.530461284342211, 'learning_rate': 0.18837117523776717, 'max_depth': 298}.\n",
      "[I 2019-03-19 21:21:52,587] Finished a trial resulted in value: 0.697313087027487. Current best value is 0.3880469899387368 with parameters: {'n_estimators': 43, 'num_leaves': 70, 'colsample_bytree': 0.530461284342211, 'learning_rate': 0.18837117523776717, 'max_depth': 298}.\n",
      "[I 2019-03-19 21:21:52,700] Finished a trial resulted in value: 1.0927816254766602. Current best value is 0.3880469899387368 with parameters: {'n_estimators': 43, 'num_leaves': 70, 'colsample_bytree': 0.530461284342211, 'learning_rate': 0.18837117523776717, 'max_depth': 298}.\n",
      "[I 2019-03-19 21:21:54,320] Finished a trial resulted in value: 0.36408288374150316. Current best value is 0.36408288374150316 with parameters: {'n_estimators': 74, 'num_leaves': 73, 'colsample_bytree': 0.914793307492535, 'learning_rate': 0.2577169276517327, 'max_depth': 175}.\n",
      "[I 2019-03-19 21:21:54,461] Finished a trial resulted in value: 0.4793231657844155. Current best value is 0.36408288374150316 with parameters: {'n_estimators': 74, 'num_leaves': 73, 'colsample_bytree': 0.914793307492535, 'learning_rate': 0.2577169276517327, 'max_depth': 175}.\n",
      "[I 2019-03-19 21:21:56,571] Finished a trial resulted in value: 0.35039690231504195. Current best value is 0.35039690231504195 with parameters: {'n_estimators': 75, 'num_leaves': 73, 'colsample_bytree': 0.8999634469659498, 'learning_rate': 0.19101373794559512, 'max_depth': 129}.\n",
      "[I 2019-03-19 21:21:57,042] Finished a trial resulted in value: 0.37580032596587903. Current best value is 0.35039690231504195 with parameters: {'n_estimators': 75, 'num_leaves': 73, 'colsample_bytree': 0.8999634469659498, 'learning_rate': 0.19101373794559512, 'max_depth': 129}.\n",
      "[I 2019-03-19 21:21:58,080] Finished a trial resulted in value: 0.37188076165723083. Current best value is 0.35039690231504195 with parameters: {'n_estimators': 75, 'num_leaves': 73, 'colsample_bytree': 0.8999634469659498, 'learning_rate': 0.19101373794559512, 'max_depth': 129}.\n",
      "[I 2019-03-19 21:21:59,411] Finished a trial resulted in value: 0.37233012590569015. Current best value is 0.35039690231504195 with parameters: {'n_estimators': 75, 'num_leaves': 73, 'colsample_bytree': 0.8999634469659498, 'learning_rate': 0.19101373794559512, 'max_depth': 129}.\n",
      "[I 2019-03-19 21:21:59,688] Finished a trial resulted in value: 0.40049852192406754. Current best value is 0.35039690231504195 with parameters: {'n_estimators': 75, 'num_leaves': 73, 'colsample_bytree': 0.8999634469659498, 'learning_rate': 0.19101373794559512, 'max_depth': 129}.\n",
      "[I 2019-03-19 21:22:02,406] Finished a trial resulted in value: 0.3471301396068824. Current best value is 0.3471301396068824 with parameters: {'n_estimators': 100, 'num_leaves': 94, 'colsample_bytree': 0.999420742916652, 'learning_rate': 0.08161139172121358, 'max_depth': 257}.\n",
      "[I 2019-03-19 21:22:05,148] Finished a trial resulted in value: 0.35198482253330865. Current best value is 0.3471301396068824 with parameters: {'n_estimators': 100, 'num_leaves': 94, 'colsample_bytree': 0.999420742916652, 'learning_rate': 0.08161139172121358, 'max_depth': 257}.\n",
      "[I 2019-03-19 21:22:05,644] Finished a trial resulted in value: 0.38328839209206894. Current best value is 0.3471301396068824 with parameters: {'n_estimators': 100, 'num_leaves': 94, 'colsample_bytree': 0.999420742916652, 'learning_rate': 0.08161139172121358, 'max_depth': 257}.\n",
      "[I 2019-03-19 21:22:08,104] Finished a trial resulted in value: 0.3493776516640757. Current best value is 0.3471301396068824 with parameters: {'n_estimators': 100, 'num_leaves': 94, 'colsample_bytree': 0.999420742916652, 'learning_rate': 0.08161139172121358, 'max_depth': 257}.\n",
      "[I 2019-03-19 21:22:08,617] Finished a trial resulted in value: 0.6976673025503505. Current best value is 0.3471301396068824 with parameters: {'n_estimators': 100, 'num_leaves': 94, 'colsample_bytree': 0.999420742916652, 'learning_rate': 0.08161139172121358, 'max_depth': 257}.\n",
      "[I 2019-03-19 21:22:11,638] Finished a trial resulted in value: 0.3456166047435781. Current best value is 0.3456166047435781 with parameters: {'n_estimators': 84, 'num_leaves': 92, 'colsample_bytree': 0.8757399482698698, 'learning_rate': 0.10715806239290114, 'max_depth': 261}.\n",
      "[I 2019-03-19 21:22:11,916] Finished a trial resulted in value: 0.5431211976192927. Current best value is 0.3456166047435781 with parameters: {'n_estimators': 84, 'num_leaves': 92, 'colsample_bytree': 0.8757399482698698, 'learning_rate': 0.10715806239290114, 'max_depth': 261}.\n"
     ]
    },
    {
     "name": "stderr",
     "output_type": "stream",
     "text": [
      "[I 2019-03-19 21:22:12,242] Finished a trial resulted in value: 1.0655246335044193. Current best value is 0.3456166047435781 with parameters: {'n_estimators': 84, 'num_leaves': 92, 'colsample_bytree': 0.8757399482698698, 'learning_rate': 0.10715806239290114, 'max_depth': 261}.\n",
      "[I 2019-03-19 21:22:13,260] Finished a trial resulted in value: 0.3640597741285564. Current best value is 0.3456166047435781 with parameters: {'n_estimators': 84, 'num_leaves': 92, 'colsample_bytree': 0.8757399482698698, 'learning_rate': 0.10715806239290114, 'max_depth': 261}.\n",
      "[I 2019-03-19 21:22:13,774] Finished a trial resulted in value: 0.41544729966008903. Current best value is 0.3456166047435781 with parameters: {'n_estimators': 84, 'num_leaves': 92, 'colsample_bytree': 0.8757399482698698, 'learning_rate': 0.10715806239290114, 'max_depth': 261}.\n",
      "[I 2019-03-19 21:22:14,501] Finished a trial resulted in value: 0.3765677349985186. Current best value is 0.3456166047435781 with parameters: {'n_estimators': 84, 'num_leaves': 92, 'colsample_bytree': 0.8757399482698698, 'learning_rate': 0.10715806239290114, 'max_depth': 261}.\n",
      "[I 2019-03-19 21:22:14,725] Finished a trial resulted in value: 0.9207816722712481. Current best value is 0.3456166047435781 with parameters: {'n_estimators': 84, 'num_leaves': 92, 'colsample_bytree': 0.8757399482698698, 'learning_rate': 0.10715806239290114, 'max_depth': 261}.\n",
      "[I 2019-03-19 21:22:14,850] Finished a trial resulted in value: 0.3894544674982545. Current best value is 0.3456166047435781 with parameters: {'n_estimators': 84, 'num_leaves': 92, 'colsample_bytree': 0.8757399482698698, 'learning_rate': 0.10715806239290114, 'max_depth': 261}.\n",
      "[I 2019-03-19 21:22:15,017] Finished a trial resulted in value: 0.4974087875597878. Current best value is 0.3456166047435781 with parameters: {'n_estimators': 84, 'num_leaves': 92, 'colsample_bytree': 0.8757399482698698, 'learning_rate': 0.10715806239290114, 'max_depth': 261}.\n",
      "[I 2019-03-19 21:22:17,302] Finished a trial resulted in value: 0.34159698376873854. Current best value is 0.34159698376873854 with parameters: {'n_estimators': 94, 'num_leaves': 56, 'colsample_bytree': 0.9654642738905163, 'learning_rate': 0.1121190550070611, 'max_depth': 340}.\n",
      "[I 2019-03-19 21:22:17,743] Finished a trial resulted in value: 1.0247535984402796. Current best value is 0.34159698376873854 with parameters: {'n_estimators': 94, 'num_leaves': 56, 'colsample_bytree': 0.9654642738905163, 'learning_rate': 0.1121190550070611, 'max_depth': 340}.\n",
      "[I 2019-03-19 21:22:17,929] Finished a trial resulted in value: 0.37219333583619457. Current best value is 0.34159698376873854 with parameters: {'n_estimators': 94, 'num_leaves': 56, 'colsample_bytree': 0.9654642738905163, 'learning_rate': 0.1121190550070611, 'max_depth': 340}.\n",
      "[I 2019-03-19 21:22:18,034] Finished a trial resulted in value: 0.4454744417118086. Current best value is 0.34159698376873854 with parameters: {'n_estimators': 94, 'num_leaves': 56, 'colsample_bytree': 0.9654642738905163, 'learning_rate': 0.1121190550070611, 'max_depth': 340}.\n",
      "[I 2019-03-19 21:22:18,401] Finished a trial resulted in value: 0.3605940517075352. Current best value is 0.34159698376873854 with parameters: {'n_estimators': 94, 'num_leaves': 56, 'colsample_bytree': 0.9654642738905163, 'learning_rate': 0.1121190550070611, 'max_depth': 340}.\n",
      "[I 2019-03-19 21:22:18,643] Finished a trial resulted in value: 0.5269607220728512. Current best value is 0.34159698376873854 with parameters: {'n_estimators': 94, 'num_leaves': 56, 'colsample_bytree': 0.9654642738905163, 'learning_rate': 0.1121190550070611, 'max_depth': 340}.\n",
      "[I 2019-03-19 21:22:18,872] Finished a trial resulted in value: 1.108587789150757. Current best value is 0.34159698376873854 with parameters: {'n_estimators': 94, 'num_leaves': 56, 'colsample_bytree': 0.9654642738905163, 'learning_rate': 0.1121190550070611, 'max_depth': 340}.\n",
      "[I 2019-03-19 21:22:19,207] Finished a trial resulted in value: 0.38159863551228984. Current best value is 0.34159698376873854 with parameters: {'n_estimators': 94, 'num_leaves': 56, 'colsample_bytree': 0.9654642738905163, 'learning_rate': 0.1121190550070611, 'max_depth': 340}.\n",
      "[I 2019-03-19 21:22:19,308] Finished a trial resulted in value: 0.9600192524331742. Current best value is 0.34159698376873854 with parameters: {'n_estimators': 94, 'num_leaves': 56, 'colsample_bytree': 0.9654642738905163, 'learning_rate': 0.1121190550070611, 'max_depth': 340}.\n",
      "[I 2019-03-19 21:22:19,598] Finished a trial resulted in value: 0.3926197850623247. Current best value is 0.34159698376873854 with parameters: {'n_estimators': 94, 'num_leaves': 56, 'colsample_bytree': 0.9654642738905163, 'learning_rate': 0.1121190550070611, 'max_depth': 340}.\n",
      "[I 2019-03-19 21:22:20,371] Finished a trial resulted in value: 0.6604419865247168. Current best value is 0.34159698376873854 with parameters: {'n_estimators': 94, 'num_leaves': 56, 'colsample_bytree': 0.9654642738905163, 'learning_rate': 0.1121190550070611, 'max_depth': 340}.\n",
      "[I 2019-03-19 21:22:20,694] Finished a trial resulted in value: 0.3835547953394145. Current best value is 0.34159698376873854 with parameters: {'n_estimators': 94, 'num_leaves': 56, 'colsample_bytree': 0.9654642738905163, 'learning_rate': 0.1121190550070611, 'max_depth': 340}.\n",
      "[I 2019-03-19 21:22:20,870] Finished a trial resulted in value: 0.464390415305457. Current best value is 0.34159698376873854 with parameters: {'n_estimators': 94, 'num_leaves': 56, 'colsample_bytree': 0.9654642738905163, 'learning_rate': 0.1121190550070611, 'max_depth': 340}.\n",
      "[I 2019-03-19 21:22:21,156] Finished a trial resulted in value: 0.3663669068541173. Current best value is 0.34159698376873854 with parameters: {'n_estimators': 94, 'num_leaves': 56, 'colsample_bytree': 0.9654642738905163, 'learning_rate': 0.1121190550070611, 'max_depth': 340}.\n",
      "[I 2019-03-19 21:22:21,449] Finished a trial resulted in value: 0.3594594043594158. Current best value is 0.34159698376873854 with parameters: {'n_estimators': 94, 'num_leaves': 56, 'colsample_bytree': 0.9654642738905163, 'learning_rate': 0.1121190550070611, 'max_depth': 340}.\n",
      "[I 2019-03-19 21:22:21,737] Finished a trial resulted in value: 0.5797988503123519. Current best value is 0.34159698376873854 with parameters: {'n_estimators': 94, 'num_leaves': 56, 'colsample_bytree': 0.9654642738905163, 'learning_rate': 0.1121190550070611, 'max_depth': 340}.\n",
      "[I 2019-03-19 21:22:21,817] Finished a trial resulted in value: 0.49651306374939025. Current best value is 0.34159698376873854 with parameters: {'n_estimators': 94, 'num_leaves': 56, 'colsample_bytree': 0.9654642738905163, 'learning_rate': 0.1121190550070611, 'max_depth': 340}.\n",
      "[I 2019-03-19 21:22:22,172] Finished a trial resulted in value: 0.5615204307402991. Current best value is 0.34159698376873854 with parameters: {'n_estimators': 94, 'num_leaves': 56, 'colsample_bytree': 0.9654642738905163, 'learning_rate': 0.1121190550070611, 'max_depth': 340}.\n",
      "[I 2019-03-19 21:22:22,508] Finished a trial resulted in value: 1.0893393893957246. Current best value is 0.34159698376873854 with parameters: {'n_estimators': 94, 'num_leaves': 56, 'colsample_bytree': 0.9654642738905163, 'learning_rate': 0.1121190550070611, 'max_depth': 340}.\n",
      "[I 2019-03-19 21:22:22,629] Finished a trial resulted in value: 0.7352421895133862. Current best value is 0.34159698376873854 with parameters: {'n_estimators': 94, 'num_leaves': 56, 'colsample_bytree': 0.9654642738905163, 'learning_rate': 0.1121190550070611, 'max_depth': 340}.\n",
      "[I 2019-03-19 21:22:22,928] Finished a trial resulted in value: 0.3674795205221835. Current best value is 0.34159698376873854 with parameters: {'n_estimators': 94, 'num_leaves': 56, 'colsample_bytree': 0.9654642738905163, 'learning_rate': 0.1121190550070611, 'max_depth': 340}.\n",
      "[I 2019-03-19 21:22:25,127] Finished a trial resulted in value: 0.3413550473511171. Current best value is 0.3413550473511171 with parameters: {'n_estimators': 96, 'num_leaves': 59, 'colsample_bytree': 0.8872180495650656, 'learning_rate': 0.0776979434347191, 'max_depth': 406}.\n"
     ]
    },
    {
     "name": "stderr",
     "output_type": "stream",
     "text": [
      "[I 2019-03-19 21:22:25,440] Finished a trial resulted in value: 1.0258324868787507. Current best value is 0.3413550473511171 with parameters: {'n_estimators': 96, 'num_leaves': 59, 'colsample_bytree': 0.8872180495650656, 'learning_rate': 0.0776979434347191, 'max_depth': 406}.\n",
      "[I 2019-03-19 21:22:25,526] Finished a trial resulted in value: 0.8908811770587617. Current best value is 0.3413550473511171 with parameters: {'n_estimators': 96, 'num_leaves': 59, 'colsample_bytree': 0.8872180495650656, 'learning_rate': 0.0776979434347191, 'max_depth': 406}.\n",
      "[I 2019-03-19 21:22:25,872] Finished a trial resulted in value: 0.37646218773282714. Current best value is 0.3413550473511171 with parameters: {'n_estimators': 96, 'num_leaves': 59, 'colsample_bytree': 0.8872180495650656, 'learning_rate': 0.0776979434347191, 'max_depth': 406}.\n",
      "[I 2019-03-19 21:22:26,157] Finished a trial resulted in value: 1.003343193046384. Current best value is 0.3413550473511171 with parameters: {'n_estimators': 96, 'num_leaves': 59, 'colsample_bytree': 0.8872180495650656, 'learning_rate': 0.0776979434347191, 'max_depth': 406}.\n",
      "[I 2019-03-19 21:22:27,820] Finished a trial resulted in value: 0.48607856104149877. Current best value is 0.3413550473511171 with parameters: {'n_estimators': 96, 'num_leaves': 59, 'colsample_bytree': 0.8872180495650656, 'learning_rate': 0.0776979434347191, 'max_depth': 406}.\n",
      "[I 2019-03-19 21:22:28,015] Finished a trial resulted in value: 0.6535226871770838. Current best value is 0.3413550473511171 with parameters: {'n_estimators': 96, 'num_leaves': 59, 'colsample_bytree': 0.8872180495650656, 'learning_rate': 0.0776979434347191, 'max_depth': 406}.\n",
      "[I 2019-03-19 21:22:28,155] Finished a trial resulted in value: 0.4238568708017039. Current best value is 0.3413550473511171 with parameters: {'n_estimators': 96, 'num_leaves': 59, 'colsample_bytree': 0.8872180495650656, 'learning_rate': 0.0776979434347191, 'max_depth': 406}.\n",
      "[I 2019-03-19 21:22:28,818] Finished a trial resulted in value: 0.366657600235199. Current best value is 0.3413550473511171 with parameters: {'n_estimators': 96, 'num_leaves': 59, 'colsample_bytree': 0.8872180495650656, 'learning_rate': 0.0776979434347191, 'max_depth': 406}.\n",
      "[I 2019-03-19 21:22:29,587] Finished a trial resulted in value: 0.3735423500170909. Current best value is 0.3413550473511171 with parameters: {'n_estimators': 96, 'num_leaves': 59, 'colsample_bytree': 0.8872180495650656, 'learning_rate': 0.0776979434347191, 'max_depth': 406}.\n",
      "[I 2019-03-19 21:22:31,548] Finished a trial resulted in value: 0.34931254145899865. Current best value is 0.3413550473511171 with parameters: {'n_estimators': 96, 'num_leaves': 59, 'colsample_bytree': 0.8872180495650656, 'learning_rate': 0.0776979434347191, 'max_depth': 406}.\n",
      "[I 2019-03-19 21:22:32,745] Finished a trial resulted in value: 0.372267583863271. Current best value is 0.3413550473511171 with parameters: {'n_estimators': 96, 'num_leaves': 59, 'colsample_bytree': 0.8872180495650656, 'learning_rate': 0.0776979434347191, 'max_depth': 406}.\n",
      "[I 2019-03-19 21:22:33,496] Finished a trial resulted in value: 0.39770958594512845. Current best value is 0.3413550473511171 with parameters: {'n_estimators': 96, 'num_leaves': 59, 'colsample_bytree': 0.8872180495650656, 'learning_rate': 0.0776979434347191, 'max_depth': 406}.\n",
      "[I 2019-03-19 21:22:33,925] Finished a trial resulted in value: 0.40841180838767444. Current best value is 0.3413550473511171 with parameters: {'n_estimators': 96, 'num_leaves': 59, 'colsample_bytree': 0.8872180495650656, 'learning_rate': 0.0776979434347191, 'max_depth': 406}.\n",
      "[I 2019-03-19 21:22:34,322] Finished a trial resulted in value: 0.4479754335946769. Current best value is 0.3413550473511171 with parameters: {'n_estimators': 96, 'num_leaves': 59, 'colsample_bytree': 0.8872180495650656, 'learning_rate': 0.0776979434347191, 'max_depth': 406}.\n",
      "[I 2019-03-19 21:22:34,663] Finished a trial resulted in value: 0.37754277036553496. Current best value is 0.3413550473511171 with parameters: {'n_estimators': 96, 'num_leaves': 59, 'colsample_bytree': 0.8872180495650656, 'learning_rate': 0.0776979434347191, 'max_depth': 406}.\n",
      "[I 2019-03-19 21:22:35,241] Finished a trial resulted in value: 0.39359009808599466. Current best value is 0.3413550473511171 with parameters: {'n_estimators': 96, 'num_leaves': 59, 'colsample_bytree': 0.8872180495650656, 'learning_rate': 0.0776979434347191, 'max_depth': 406}.\n",
      "[I 2019-03-19 21:22:36,135] Finished a trial resulted in value: 0.674747997027926. Current best value is 0.3413550473511171 with parameters: {'n_estimators': 96, 'num_leaves': 59, 'colsample_bytree': 0.8872180495650656, 'learning_rate': 0.0776979434347191, 'max_depth': 406}.\n",
      "[I 2019-03-19 21:22:36,353] Finished a trial resulted in value: 0.6821035419934368. Current best value is 0.3413550473511171 with parameters: {'n_estimators': 96, 'num_leaves': 59, 'colsample_bytree': 0.8872180495650656, 'learning_rate': 0.0776979434347191, 'max_depth': 406}.\n",
      "[I 2019-03-19 21:22:36,951] Finished a trial resulted in value: 0.4331657840442491. Current best value is 0.3413550473511171 with parameters: {'n_estimators': 96, 'num_leaves': 59, 'colsample_bytree': 0.8872180495650656, 'learning_rate': 0.0776979434347191, 'max_depth': 406}.\n",
      "[I 2019-03-19 21:22:37,465] Finished a trial resulted in value: 0.41237362264676497. Current best value is 0.3413550473511171 with parameters: {'n_estimators': 96, 'num_leaves': 59, 'colsample_bytree': 0.8872180495650656, 'learning_rate': 0.0776979434347191, 'max_depth': 406}.\n",
      "[I 2019-03-19 21:22:37,823] Finished a trial resulted in value: 0.37014926401711323. Current best value is 0.3413550473511171 with parameters: {'n_estimators': 96, 'num_leaves': 59, 'colsample_bytree': 0.8872180495650656, 'learning_rate': 0.0776979434347191, 'max_depth': 406}.\n",
      "[I 2019-03-19 21:22:38,649] Finished a trial resulted in value: 0.43866293461079936. Current best value is 0.3413550473511171 with parameters: {'n_estimators': 96, 'num_leaves': 59, 'colsample_bytree': 0.8872180495650656, 'learning_rate': 0.0776979434347191, 'max_depth': 406}.\n",
      "[I 2019-03-19 21:22:39,122] Finished a trial resulted in value: 0.3725870964090152. Current best value is 0.3413550473511171 with parameters: {'n_estimators': 96, 'num_leaves': 59, 'colsample_bytree': 0.8872180495650656, 'learning_rate': 0.0776979434347191, 'max_depth': 406}.\n",
      "[I 2019-03-19 21:22:39,606] Finished a trial resulted in value: 0.6479296033496245. Current best value is 0.3413550473511171 with parameters: {'n_estimators': 96, 'num_leaves': 59, 'colsample_bytree': 0.8872180495650656, 'learning_rate': 0.0776979434347191, 'max_depth': 406}.\n",
      "[I 2019-03-19 21:22:40,045] Finished a trial resulted in value: 0.39199436399134474. Current best value is 0.3413550473511171 with parameters: {'n_estimators': 96, 'num_leaves': 59, 'colsample_bytree': 0.8872180495650656, 'learning_rate': 0.0776979434347191, 'max_depth': 406}.\n",
      "[I 2019-03-19 21:22:40,414] Finished a trial resulted in value: 0.38557260333257987. Current best value is 0.3413550473511171 with parameters: {'n_estimators': 96, 'num_leaves': 59, 'colsample_bytree': 0.8872180495650656, 'learning_rate': 0.0776979434347191, 'max_depth': 406}.\n",
      "[I 2019-03-19 21:22:40,812] Finished a trial resulted in value: 0.38284137827536874. Current best value is 0.3413550473511171 with parameters: {'n_estimators': 96, 'num_leaves': 59, 'colsample_bytree': 0.8872180495650656, 'learning_rate': 0.0776979434347191, 'max_depth': 406}.\n",
      "[I 2019-03-19 21:22:41,033] Finished a trial resulted in value: 0.9048549430168655. Current best value is 0.3413550473511171 with parameters: {'n_estimators': 96, 'num_leaves': 59, 'colsample_bytree': 0.8872180495650656, 'learning_rate': 0.0776979434347191, 'max_depth': 406}.\n",
      "[I 2019-03-19 21:22:41,179] Finished a trial resulted in value: 0.5336285635008476. Current best value is 0.3413550473511171 with parameters: {'n_estimators': 96, 'num_leaves': 59, 'colsample_bytree': 0.8872180495650656, 'learning_rate': 0.0776979434347191, 'max_depth': 406}.\n"
     ]
    },
    {
     "name": "stderr",
     "output_type": "stream",
     "text": [
      "[I 2019-03-19 21:22:41,861] Finished a trial resulted in value: 0.4078440731076544. Current best value is 0.3413550473511171 with parameters: {'n_estimators': 96, 'num_leaves': 59, 'colsample_bytree': 0.8872180495650656, 'learning_rate': 0.0776979434347191, 'max_depth': 406}.\n",
      "[I 2019-03-19 21:22:42,327] Finished a trial resulted in value: 0.4909298772730181. Current best value is 0.3413550473511171 with parameters: {'n_estimators': 96, 'num_leaves': 59, 'colsample_bytree': 0.8872180495650656, 'learning_rate': 0.0776979434347191, 'max_depth': 406}.\n",
      "[I 2019-03-19 21:22:42,467] Finished a trial resulted in value: 0.4084994367552757. Current best value is 0.3413550473511171 with parameters: {'n_estimators': 96, 'num_leaves': 59, 'colsample_bytree': 0.8872180495650656, 'learning_rate': 0.0776979434347191, 'max_depth': 406}.\n",
      "[I 2019-03-19 21:22:42,948] Finished a trial resulted in value: 0.3637681528726417. Current best value is 0.3413550473511171 with parameters: {'n_estimators': 96, 'num_leaves': 59, 'colsample_bytree': 0.8872180495650656, 'learning_rate': 0.0776979434347191, 'max_depth': 406}.\n",
      "[I 2019-03-19 21:22:43,204] Finished a trial resulted in value: 0.36479800549821634. Current best value is 0.3413550473511171 with parameters: {'n_estimators': 96, 'num_leaves': 59, 'colsample_bytree': 0.8872180495650656, 'learning_rate': 0.0776979434347191, 'max_depth': 406}.\n",
      "[I 2019-03-19 21:22:43,492] Finished a trial resulted in value: 0.49578048675427494. Current best value is 0.3413550473511171 with parameters: {'n_estimators': 96, 'num_leaves': 59, 'colsample_bytree': 0.8872180495650656, 'learning_rate': 0.0776979434347191, 'max_depth': 406}.\n",
      "[I 2019-03-19 21:22:44,188] Finished a trial resulted in value: 0.406164163719468. Current best value is 0.3413550473511171 with parameters: {'n_estimators': 96, 'num_leaves': 59, 'colsample_bytree': 0.8872180495650656, 'learning_rate': 0.0776979434347191, 'max_depth': 406}.\n",
      "[I 2019-03-19 21:22:44,495] Finished a trial resulted in value: 0.3805351280106483. Current best value is 0.3413550473511171 with parameters: {'n_estimators': 96, 'num_leaves': 59, 'colsample_bytree': 0.8872180495650656, 'learning_rate': 0.0776979434347191, 'max_depth': 406}.\n",
      "[I 2019-03-19 21:22:46,086] Finished a trial resulted in value: 0.339150034920553. Current best value is 0.339150034920553 with parameters: {'n_estimators': 64, 'num_leaves': 69, 'colsample_bytree': 0.999982338756556, 'learning_rate': 0.12844602310660108, 'max_depth': 226}.\n",
      "[I 2019-03-19 21:22:46,305] Finished a trial resulted in value: 0.3604816673840519. Current best value is 0.339150034920553 with parameters: {'n_estimators': 64, 'num_leaves': 69, 'colsample_bytree': 0.999982338756556, 'learning_rate': 0.12844602310660108, 'max_depth': 226}.\n",
      "[I 2019-03-19 21:22:48,112] Finished a trial resulted in value: 0.3535218086225034. Current best value is 0.339150034920553 with parameters: {'n_estimators': 64, 'num_leaves': 69, 'colsample_bytree': 0.999982338756556, 'learning_rate': 0.12844602310660108, 'max_depth': 226}.\n",
      "[I 2019-03-19 21:22:48,495] Finished a trial resulted in value: 0.3612534376091702. Current best value is 0.339150034920553 with parameters: {'n_estimators': 64, 'num_leaves': 69, 'colsample_bytree': 0.999982338756556, 'learning_rate': 0.12844602310660108, 'max_depth': 226}.\n",
      "[I 2019-03-19 21:22:48,828] Finished a trial resulted in value: 1.1205519152066894. Current best value is 0.339150034920553 with parameters: {'n_estimators': 64, 'num_leaves': 69, 'colsample_bytree': 0.999982338756556, 'learning_rate': 0.12844602310660108, 'max_depth': 226}.\n",
      "[I 2019-03-19 21:22:49,106] Finished a trial resulted in value: 0.3934164582177237. Current best value is 0.339150034920553 with parameters: {'n_estimators': 64, 'num_leaves': 69, 'colsample_bytree': 0.999982338756556, 'learning_rate': 0.12844602310660108, 'max_depth': 226}.\n",
      "[I 2019-03-19 21:22:49,322] Finished a trial resulted in value: 0.4273680182955896. Current best value is 0.339150034920553 with parameters: {'n_estimators': 64, 'num_leaves': 69, 'colsample_bytree': 0.999982338756556, 'learning_rate': 0.12844602310660108, 'max_depth': 226}.\n",
      "[I 2019-03-19 21:22:49,590] Finished a trial resulted in value: 0.3743995311800944. Current best value is 0.339150034920553 with parameters: {'n_estimators': 64, 'num_leaves': 69, 'colsample_bytree': 0.999982338756556, 'learning_rate': 0.12844602310660108, 'max_depth': 226}.\n",
      "[I 2019-03-19 21:22:49,763] Finished a trial resulted in value: 0.4202094618625062. Current best value is 0.339150034920553 with parameters: {'n_estimators': 64, 'num_leaves': 69, 'colsample_bytree': 0.999982338756556, 'learning_rate': 0.12844602310660108, 'max_depth': 226}.\n",
      "[I 2019-03-19 21:22:50,016] Finished a trial resulted in value: 0.9965731843467384. Current best value is 0.339150034920553 with parameters: {'n_estimators': 64, 'num_leaves': 69, 'colsample_bytree': 0.999982338756556, 'learning_rate': 0.12844602310660108, 'max_depth': 226}.\n",
      "[I 2019-03-19 21:22:50,297] Finished a trial resulted in value: 0.48215859162975644. Current best value is 0.339150034920553 with parameters: {'n_estimators': 64, 'num_leaves': 69, 'colsample_bytree': 0.999982338756556, 'learning_rate': 0.12844602310660108, 'max_depth': 226}.\n",
      "[I 2019-03-19 21:22:50,562] Finished a trial resulted in value: 1.0050840537075714. Current best value is 0.339150034920553 with parameters: {'n_estimators': 64, 'num_leaves': 69, 'colsample_bytree': 0.999982338756556, 'learning_rate': 0.12844602310660108, 'max_depth': 226}.\n",
      "[I 2019-03-19 21:22:50,922] Finished a trial resulted in value: 0.40407145669348465. Current best value is 0.339150034920553 with parameters: {'n_estimators': 64, 'num_leaves': 69, 'colsample_bytree': 0.999982338756556, 'learning_rate': 0.12844602310660108, 'max_depth': 226}.\n",
      "[I 2019-03-19 21:22:51,204] Finished a trial resulted in value: 0.3980205495650987. Current best value is 0.339150034920553 with parameters: {'n_estimators': 64, 'num_leaves': 69, 'colsample_bytree': 0.999982338756556, 'learning_rate': 0.12844602310660108, 'max_depth': 226}.\n",
      "[I 2019-03-19 21:22:51,443] Finished a trial resulted in value: 0.5869286760992128. Current best value is 0.339150034920553 with parameters: {'n_estimators': 64, 'num_leaves': 69, 'colsample_bytree': 0.999982338756556, 'learning_rate': 0.12844602310660108, 'max_depth': 226}.\n",
      "[I 2019-03-19 21:22:52,482] Finished a trial resulted in value: 0.4009789499945065. Current best value is 0.339150034920553 with parameters: {'n_estimators': 64, 'num_leaves': 69, 'colsample_bytree': 0.999982338756556, 'learning_rate': 0.12844602310660108, 'max_depth': 226}.\n",
      "[I 2019-03-19 21:22:52,740] Finished a trial resulted in value: 0.40380706428786645. Current best value is 0.339150034920553 with parameters: {'n_estimators': 64, 'num_leaves': 69, 'colsample_bytree': 0.999982338756556, 'learning_rate': 0.12844602310660108, 'max_depth': 226}.\n",
      "[I 2019-03-19 21:22:53,374] Finished a trial resulted in value: 1.0458904784227145. Current best value is 0.339150034920553 with parameters: {'n_estimators': 64, 'num_leaves': 69, 'colsample_bytree': 0.999982338756556, 'learning_rate': 0.12844602310660108, 'max_depth': 226}.\n",
      "[I 2019-03-19 21:22:53,633] Finished a trial resulted in value: 0.43487099562159. Current best value is 0.339150034920553 with parameters: {'n_estimators': 64, 'num_leaves': 69, 'colsample_bytree': 0.999982338756556, 'learning_rate': 0.12844602310660108, 'max_depth': 226}.\n",
      "[I 2019-03-19 21:22:54,125] Finished a trial resulted in value: 0.4170050553358159. Current best value is 0.339150034920553 with parameters: {'n_estimators': 64, 'num_leaves': 69, 'colsample_bytree': 0.999982338756556, 'learning_rate': 0.12844602310660108, 'max_depth': 226}.\n",
      "[I 2019-03-19 21:22:54,336] Finished a trial resulted in value: 0.46006761977722954. Current best value is 0.339150034920553 with parameters: {'n_estimators': 64, 'num_leaves': 69, 'colsample_bytree': 0.999982338756556, 'learning_rate': 0.12844602310660108, 'max_depth': 226}.\n"
     ]
    },
    {
     "name": "stderr",
     "output_type": "stream",
     "text": [
      "[I 2019-03-19 21:22:54,829] Finished a trial resulted in value: 1.090558781525388. Current best value is 0.339150034920553 with parameters: {'n_estimators': 64, 'num_leaves': 69, 'colsample_bytree': 0.999982338756556, 'learning_rate': 0.12844602310660108, 'max_depth': 226}.\n",
      "[I 2019-03-19 21:22:55,544] Finished a trial resulted in value: 0.36580379945824626. Current best value is 0.339150034920553 with parameters: {'n_estimators': 64, 'num_leaves': 69, 'colsample_bytree': 0.999982338756556, 'learning_rate': 0.12844602310660108, 'max_depth': 226}.\n",
      "[I 2019-03-19 21:22:56,019] Finished a trial resulted in value: 0.8542295290308787. Current best value is 0.339150034920553 with parameters: {'n_estimators': 64, 'num_leaves': 69, 'colsample_bytree': 0.999982338756556, 'learning_rate': 0.12844602310660108, 'max_depth': 226}.\n",
      "[I 2019-03-19 21:22:56,318] Finished a trial resulted in value: 0.6485275251187693. Current best value is 0.339150034920553 with parameters: {'n_estimators': 64, 'num_leaves': 69, 'colsample_bytree': 0.999982338756556, 'learning_rate': 0.12844602310660108, 'max_depth': 226}.\n",
      "[I 2019-03-19 21:22:56,672] Finished a trial resulted in value: 0.39333745546541143. Current best value is 0.339150034920553 with parameters: {'n_estimators': 64, 'num_leaves': 69, 'colsample_bytree': 0.999982338756556, 'learning_rate': 0.12844602310660108, 'max_depth': 226}.\n",
      "[I 2019-03-19 21:22:56,939] Finished a trial resulted in value: 0.3798193583999039. Current best value is 0.339150034920553 with parameters: {'n_estimators': 64, 'num_leaves': 69, 'colsample_bytree': 0.999982338756556, 'learning_rate': 0.12844602310660108, 'max_depth': 226}.\n",
      "[I 2019-03-19 21:22:57,151] Finished a trial resulted in value: 0.9059797614601527. Current best value is 0.339150034920553 with parameters: {'n_estimators': 64, 'num_leaves': 69, 'colsample_bytree': 0.999982338756556, 'learning_rate': 0.12844602310660108, 'max_depth': 226}.\n",
      "[I 2019-03-19 21:22:57,485] Finished a trial resulted in value: 0.9979132201530173. Current best value is 0.339150034920553 with parameters: {'n_estimators': 64, 'num_leaves': 69, 'colsample_bytree': 0.999982338756556, 'learning_rate': 0.12844602310660108, 'max_depth': 226}.\n",
      "[I 2019-03-19 21:22:57,894] Finished a trial resulted in value: 0.38524796446537185. Current best value is 0.339150034920553 with parameters: {'n_estimators': 64, 'num_leaves': 69, 'colsample_bytree': 0.999982338756556, 'learning_rate': 0.12844602310660108, 'max_depth': 226}.\n",
      "[I 2019-03-19 21:22:58,291] Finished a trial resulted in value: 0.5718133424683429. Current best value is 0.339150034920553 with parameters: {'n_estimators': 64, 'num_leaves': 69, 'colsample_bytree': 0.999982338756556, 'learning_rate': 0.12844602310660108, 'max_depth': 226}.\n",
      "[I 2019-03-19 21:22:58,542] Finished a trial resulted in value: 0.4185782756874312. Current best value is 0.339150034920553 with parameters: {'n_estimators': 64, 'num_leaves': 69, 'colsample_bytree': 0.999982338756556, 'learning_rate': 0.12844602310660108, 'max_depth': 226}.\n",
      "[I 2019-03-19 21:22:59,427] Finished a trial resulted in value: 0.35704454450739054. Current best value is 0.339150034920553 with parameters: {'n_estimators': 64, 'num_leaves': 69, 'colsample_bytree': 0.999982338756556, 'learning_rate': 0.12844602310660108, 'max_depth': 226}.\n",
      "[I 2019-03-19 21:22:59,599] Finished a trial resulted in value: 0.4089383183015969. Current best value is 0.339150034920553 with parameters: {'n_estimators': 64, 'num_leaves': 69, 'colsample_bytree': 0.999982338756556, 'learning_rate': 0.12844602310660108, 'max_depth': 226}.\n",
      "[I 2019-03-19 21:22:59,841] Finished a trial resulted in value: 0.4026932220904704. Current best value is 0.339150034920553 with parameters: {'n_estimators': 64, 'num_leaves': 69, 'colsample_bytree': 0.999982338756556, 'learning_rate': 0.12844602310660108, 'max_depth': 226}.\n",
      "[I 2019-03-19 21:22:59,980] Finished a trial resulted in value: 0.6577719967539166. Current best value is 0.339150034920553 with parameters: {'n_estimators': 64, 'num_leaves': 69, 'colsample_bytree': 0.999982338756556, 'learning_rate': 0.12844602310660108, 'max_depth': 226}.\n",
      "[I 2019-03-19 21:23:00,821] Finished a trial resulted in value: 0.3609446769976659. Current best value is 0.339150034920553 with parameters: {'n_estimators': 64, 'num_leaves': 69, 'colsample_bytree': 0.999982338756556, 'learning_rate': 0.12844602310660108, 'max_depth': 226}.\n",
      "[I 2019-03-19 21:23:01,217] Finished a trial resulted in value: 0.4160340982180939. Current best value is 0.339150034920553 with parameters: {'n_estimators': 64, 'num_leaves': 69, 'colsample_bytree': 0.999982338756556, 'learning_rate': 0.12844602310660108, 'max_depth': 226}.\n",
      "[I 2019-03-19 21:23:01,627] Finished a trial resulted in value: 0.9972238552689099. Current best value is 0.339150034920553 with parameters: {'n_estimators': 64, 'num_leaves': 69, 'colsample_bytree': 0.999982338756556, 'learning_rate': 0.12844602310660108, 'max_depth': 226}.\n",
      "[I 2019-03-19 21:23:01,765] Finished a trial resulted in value: 1.1199500435139678. Current best value is 0.339150034920553 with parameters: {'n_estimators': 64, 'num_leaves': 69, 'colsample_bytree': 0.999982338756556, 'learning_rate': 0.12844602310660108, 'max_depth': 226}.\n",
      "[I 2019-03-19 21:23:02,540] Finished a trial resulted in value: 0.6226243878114797. Current best value is 0.339150034920553 with parameters: {'n_estimators': 64, 'num_leaves': 69, 'colsample_bytree': 0.999982338756556, 'learning_rate': 0.12844602310660108, 'max_depth': 226}.\n",
      "[I 2019-03-19 21:23:03,398] Finished a trial resulted in value: 0.37117251049638594. Current best value is 0.339150034920553 with parameters: {'n_estimators': 64, 'num_leaves': 69, 'colsample_bytree': 0.999982338756556, 'learning_rate': 0.12844602310660108, 'max_depth': 226}.\n",
      "[I 2019-03-19 21:23:03,908] Finished a trial resulted in value: 0.36899145319597243. Current best value is 0.339150034920553 with parameters: {'n_estimators': 64, 'num_leaves': 69, 'colsample_bytree': 0.999982338756556, 'learning_rate': 0.12844602310660108, 'max_depth': 226}.\n",
      "[I 2019-03-19 21:23:04,182] Finished a trial resulted in value: 0.6386346025254855. Current best value is 0.339150034920553 with parameters: {'n_estimators': 64, 'num_leaves': 69, 'colsample_bytree': 0.999982338756556, 'learning_rate': 0.12844602310660108, 'max_depth': 226}.\n",
      "[I 2019-03-19 21:23:06,156] Finished a trial resulted in value: 0.3579479096695946. Current best value is 0.339150034920553 with parameters: {'n_estimators': 64, 'num_leaves': 69, 'colsample_bytree': 0.999982338756556, 'learning_rate': 0.12844602310660108, 'max_depth': 226}.\n",
      "[I 2019-03-19 21:23:06,630] Finished a trial resulted in value: 0.3751756169625491. Current best value is 0.339150034920553 with parameters: {'n_estimators': 64, 'num_leaves': 69, 'colsample_bytree': 0.999982338756556, 'learning_rate': 0.12844602310660108, 'max_depth': 226}.\n",
      "[I 2019-03-19 21:23:07,083] Finished a trial resulted in value: 0.4169630210060017. Current best value is 0.339150034920553 with parameters: {'n_estimators': 64, 'num_leaves': 69, 'colsample_bytree': 0.999982338756556, 'learning_rate': 0.12844602310660108, 'max_depth': 226}.\n",
      "[I 2019-03-19 21:23:09,917] Finished a trial resulted in value: 0.33881067364307205. Current best value is 0.33881067364307205 with parameters: {'n_estimators': 93, 'num_leaves': 84, 'colsample_bytree': 0.8602792085874245, 'learning_rate': 0.12077317661267975, 'max_depth': 192}.\n",
      "[I 2019-03-19 21:23:10,250] Finished a trial resulted in value: 0.4352613485765461. Current best value is 0.33881067364307205 with parameters: {'n_estimators': 93, 'num_leaves': 84, 'colsample_bytree': 0.8602792085874245, 'learning_rate': 0.12077317661267975, 'max_depth': 192}.\n",
      "[I 2019-03-19 21:23:10,800] Finished a trial resulted in value: 0.4062469192245357. Current best value is 0.33881067364307205 with parameters: {'n_estimators': 93, 'num_leaves': 84, 'colsample_bytree': 0.8602792085874245, 'learning_rate': 0.12077317661267975, 'max_depth': 192}.\n"
     ]
    },
    {
     "name": "stderr",
     "output_type": "stream",
     "text": [
      "[I 2019-03-19 21:23:11,708] Finished a trial resulted in value: 0.38753909015112786. Current best value is 0.33881067364307205 with parameters: {'n_estimators': 93, 'num_leaves': 84, 'colsample_bytree': 0.8602792085874245, 'learning_rate': 0.12077317661267975, 'max_depth': 192}.\n",
      "[I 2019-03-19 21:23:12,181] Finished a trial resulted in value: 0.37057903986820756. Current best value is 0.33881067364307205 with parameters: {'n_estimators': 93, 'num_leaves': 84, 'colsample_bytree': 0.8602792085874245, 'learning_rate': 0.12077317661267975, 'max_depth': 192}.\n",
      "[I 2019-03-19 21:23:12,578] Finished a trial resulted in value: 0.36781355597217236. Current best value is 0.33881067364307205 with parameters: {'n_estimators': 93, 'num_leaves': 84, 'colsample_bytree': 0.8602792085874245, 'learning_rate': 0.12077317661267975, 'max_depth': 192}.\n",
      "[I 2019-03-19 21:23:13,057] Finished a trial resulted in value: 0.3748618058988166. Current best value is 0.33881067364307205 with parameters: {'n_estimators': 93, 'num_leaves': 84, 'colsample_bytree': 0.8602792085874245, 'learning_rate': 0.12077317661267975, 'max_depth': 192}.\n",
      "[I 2019-03-19 21:23:13,927] Finished a trial resulted in value: 0.3673279838352954. Current best value is 0.33881067364307205 with parameters: {'n_estimators': 93, 'num_leaves': 84, 'colsample_bytree': 0.8602792085874245, 'learning_rate': 0.12077317661267975, 'max_depth': 192}.\n",
      "[I 2019-03-19 21:23:14,347] Finished a trial resulted in value: 0.39896079438373805. Current best value is 0.33881067364307205 with parameters: {'n_estimators': 93, 'num_leaves': 84, 'colsample_bytree': 0.8602792085874245, 'learning_rate': 0.12077317661267975, 'max_depth': 192}.\n",
      "[I 2019-03-19 21:23:14,686] Finished a trial resulted in value: 0.3838316670680711. Current best value is 0.33881067364307205 with parameters: {'n_estimators': 93, 'num_leaves': 84, 'colsample_bytree': 0.8602792085874245, 'learning_rate': 0.12077317661267975, 'max_depth': 192}.\n",
      "[I 2019-03-19 21:23:15,002] Finished a trial resulted in value: 0.3773055828581104. Current best value is 0.33881067364307205 with parameters: {'n_estimators': 93, 'num_leaves': 84, 'colsample_bytree': 0.8602792085874245, 'learning_rate': 0.12077317661267975, 'max_depth': 192}.\n",
      "[I 2019-03-19 21:23:15,471] Finished a trial resulted in value: 0.3879279698393796. Current best value is 0.33881067364307205 with parameters: {'n_estimators': 93, 'num_leaves': 84, 'colsample_bytree': 0.8602792085874245, 'learning_rate': 0.12077317661267975, 'max_depth': 192}.\n",
      "[I 2019-03-19 21:23:15,875] Finished a trial resulted in value: 0.40691580903219654. Current best value is 0.33881067364307205 with parameters: {'n_estimators': 93, 'num_leaves': 84, 'colsample_bytree': 0.8602792085874245, 'learning_rate': 0.12077317661267975, 'max_depth': 192}.\n",
      "[I 2019-03-19 21:23:16,305] Finished a trial resulted in value: 0.3917967895332809. Current best value is 0.33881067364307205 with parameters: {'n_estimators': 93, 'num_leaves': 84, 'colsample_bytree': 0.8602792085874245, 'learning_rate': 0.12077317661267975, 'max_depth': 192}.\n",
      "[I 2019-03-19 21:23:16,675] Finished a trial resulted in value: 0.7608344693032442. Current best value is 0.33881067364307205 with parameters: {'n_estimators': 93, 'num_leaves': 84, 'colsample_bytree': 0.8602792085874245, 'learning_rate': 0.12077317661267975, 'max_depth': 192}.\n",
      "[I 2019-03-19 21:23:17,237] Finished a trial resulted in value: 0.6076625831581032. Current best value is 0.33881067364307205 with parameters: {'n_estimators': 93, 'num_leaves': 84, 'colsample_bytree': 0.8602792085874245, 'learning_rate': 0.12077317661267975, 'max_depth': 192}.\n",
      "[I 2019-03-19 21:23:17,742] Finished a trial resulted in value: 0.4350455507111839. Current best value is 0.33881067364307205 with parameters: {'n_estimators': 93, 'num_leaves': 84, 'colsample_bytree': 0.8602792085874245, 'learning_rate': 0.12077317661267975, 'max_depth': 192}.\n",
      "[I 2019-03-19 21:23:18,160] Finished a trial resulted in value: 0.35883644920997787. Current best value is 0.33881067364307205 with parameters: {'n_estimators': 93, 'num_leaves': 84, 'colsample_bytree': 0.8602792085874245, 'learning_rate': 0.12077317661267975, 'max_depth': 192}.\n",
      "[I 2019-03-19 21:23:18,684] Finished a trial resulted in value: 0.38475539177920354. Current best value is 0.33881067364307205 with parameters: {'n_estimators': 93, 'num_leaves': 84, 'colsample_bytree': 0.8602792085874245, 'learning_rate': 0.12077317661267975, 'max_depth': 192}.\n",
      "[I 2019-03-19 21:23:18,955] Finished a trial resulted in value: 0.8556029995854094. Current best value is 0.33881067364307205 with parameters: {'n_estimators': 93, 'num_leaves': 84, 'colsample_bytree': 0.8602792085874245, 'learning_rate': 0.12077317661267975, 'max_depth': 192}.\n",
      "[I 2019-03-19 21:23:19,289] Finished a trial resulted in value: 0.4629634690220529. Current best value is 0.33881067364307205 with parameters: {'n_estimators': 93, 'num_leaves': 84, 'colsample_bytree': 0.8602792085874245, 'learning_rate': 0.12077317661267975, 'max_depth': 192}.\n",
      "[I 2019-03-19 21:23:19,730] Finished a trial resulted in value: 0.4022149652733481. Current best value is 0.33881067364307205 with parameters: {'n_estimators': 93, 'num_leaves': 84, 'colsample_bytree': 0.8602792085874245, 'learning_rate': 0.12077317661267975, 'max_depth': 192}.\n",
      "[I 2019-03-19 21:23:20,186] Finished a trial resulted in value: 0.5178776157375005. Current best value is 0.33881067364307205 with parameters: {'n_estimators': 93, 'num_leaves': 84, 'colsample_bytree': 0.8602792085874245, 'learning_rate': 0.12077317661267975, 'max_depth': 192}.\n",
      "[I 2019-03-19 21:23:20,587] Finished a trial resulted in value: 0.4264225644644983. Current best value is 0.33881067364307205 with parameters: {'n_estimators': 93, 'num_leaves': 84, 'colsample_bytree': 0.8602792085874245, 'learning_rate': 0.12077317661267975, 'max_depth': 192}.\n",
      "[I 2019-03-19 21:23:21,158] Finished a trial resulted in value: 0.40157532951130775. Current best value is 0.33881067364307205 with parameters: {'n_estimators': 93, 'num_leaves': 84, 'colsample_bytree': 0.8602792085874245, 'learning_rate': 0.12077317661267975, 'max_depth': 192}.\n",
      "[I 2019-03-19 21:23:21,475] Finished a trial resulted in value: 0.38712154638890467. Current best value is 0.33881067364307205 with parameters: {'n_estimators': 93, 'num_leaves': 84, 'colsample_bytree': 0.8602792085874245, 'learning_rate': 0.12077317661267975, 'max_depth': 192}.\n",
      "[I 2019-03-19 21:23:21,804] Finished a trial resulted in value: 0.37999606614388376. Current best value is 0.33881067364307205 with parameters: {'n_estimators': 93, 'num_leaves': 84, 'colsample_bytree': 0.8602792085874245, 'learning_rate': 0.12077317661267975, 'max_depth': 192}.\n",
      "[I 2019-03-19 21:23:22,111] Finished a trial resulted in value: 0.4145166936855501. Current best value is 0.33881067364307205 with parameters: {'n_estimators': 93, 'num_leaves': 84, 'colsample_bytree': 0.8602792085874245, 'learning_rate': 0.12077317661267975, 'max_depth': 192}.\n",
      "[I 2019-03-19 21:23:24,064] Finished a trial resulted in value: 0.3378513498160045. Current best value is 0.3378513498160045 with parameters: {'n_estimators': 100, 'num_leaves': 44, 'colsample_bytree': 0.9068366523140337, 'learning_rate': 0.1214158461039946, 'max_depth': 107}.\n",
      "[I 2019-03-19 21:23:24,378] Finished a trial resulted in value: 0.39525113213166635. Current best value is 0.3378513498160045 with parameters: {'n_estimators': 100, 'num_leaves': 44, 'colsample_bytree': 0.9068366523140337, 'learning_rate': 0.1214158461039946, 'max_depth': 107}.\n",
      "[I 2019-03-19 21:23:24,790] Finished a trial resulted in value: 0.38453160472046466. Current best value is 0.3378513498160045 with parameters: {'n_estimators': 100, 'num_leaves': 44, 'colsample_bytree': 0.9068366523140337, 'learning_rate': 0.1214158461039946, 'max_depth': 107}.\n",
      "[I 2019-03-19 21:23:25,005] Finished a trial resulted in value: 0.4207670610541189. Current best value is 0.3378513498160045 with parameters: {'n_estimators': 100, 'num_leaves': 44, 'colsample_bytree': 0.9068366523140337, 'learning_rate': 0.1214158461039946, 'max_depth': 107}.\n"
     ]
    },
    {
     "name": "stderr",
     "output_type": "stream",
     "text": [
      "[I 2019-03-19 21:23:25,319] Finished a trial resulted in value: 0.408799239312914. Current best value is 0.3378513498160045 with parameters: {'n_estimators': 100, 'num_leaves': 44, 'colsample_bytree': 0.9068366523140337, 'learning_rate': 0.1214158461039946, 'max_depth': 107}.\n",
      "[I 2019-03-19 21:23:25,582] Finished a trial resulted in value: 0.5219151946938825. Current best value is 0.3378513498160045 with parameters: {'n_estimators': 100, 'num_leaves': 44, 'colsample_bytree': 0.9068366523140337, 'learning_rate': 0.1214158461039946, 'max_depth': 107}.\n",
      "[I 2019-03-19 21:23:26,501] Finished a trial resulted in value: 0.36956027658218615. Current best value is 0.3378513498160045 with parameters: {'n_estimators': 100, 'num_leaves': 44, 'colsample_bytree': 0.9068366523140337, 'learning_rate': 0.1214158461039946, 'max_depth': 107}.\n",
      "[I 2019-03-19 21:23:26,722] Finished a trial resulted in value: 0.4831675443623239. Current best value is 0.3378513498160045 with parameters: {'n_estimators': 100, 'num_leaves': 44, 'colsample_bytree': 0.9068366523140337, 'learning_rate': 0.1214158461039946, 'max_depth': 107}.\n",
      "[I 2019-03-19 21:23:27,046] Finished a trial resulted in value: 0.3697028503825976. Current best value is 0.3378513498160045 with parameters: {'n_estimators': 100, 'num_leaves': 44, 'colsample_bytree': 0.9068366523140337, 'learning_rate': 0.1214158461039946, 'max_depth': 107}.\n",
      "[I 2019-03-19 21:23:27,712] Finished a trial resulted in value: 1.063702521331. Current best value is 0.3378513498160045 with parameters: {'n_estimators': 100, 'num_leaves': 44, 'colsample_bytree': 0.9068366523140337, 'learning_rate': 0.1214158461039946, 'max_depth': 107}.\n",
      "[I 2019-03-19 21:23:28,187] Finished a trial resulted in value: 0.9945607071924392. Current best value is 0.3378513498160045 with parameters: {'n_estimators': 100, 'num_leaves': 44, 'colsample_bytree': 0.9068366523140337, 'learning_rate': 0.1214158461039946, 'max_depth': 107}.\n",
      "[I 2019-03-19 21:23:28,574] Finished a trial resulted in value: 0.3780516570752733. Current best value is 0.3378513498160045 with parameters: {'n_estimators': 100, 'num_leaves': 44, 'colsample_bytree': 0.9068366523140337, 'learning_rate': 0.1214158461039946, 'max_depth': 107}.\n",
      "[I 2019-03-19 21:23:29,006] Finished a trial resulted in value: 0.38439612802890155. Current best value is 0.3378513498160045 with parameters: {'n_estimators': 100, 'num_leaves': 44, 'colsample_bytree': 0.9068366523140337, 'learning_rate': 0.1214158461039946, 'max_depth': 107}.\n",
      "[I 2019-03-19 21:23:29,695] Finished a trial resulted in value: 0.49881306555077337. Current best value is 0.3378513498160045 with parameters: {'n_estimators': 100, 'num_leaves': 44, 'colsample_bytree': 0.9068366523140337, 'learning_rate': 0.1214158461039946, 'max_depth': 107}.\n",
      "[I 2019-03-19 21:23:30,298] Finished a trial resulted in value: 0.8115087732764857. Current best value is 0.3378513498160045 with parameters: {'n_estimators': 100, 'num_leaves': 44, 'colsample_bytree': 0.9068366523140337, 'learning_rate': 0.1214158461039946, 'max_depth': 107}.\n",
      "[I 2019-03-19 21:23:30,560] Finished a trial resulted in value: 0.4031415854786079. Current best value is 0.3378513498160045 with parameters: {'n_estimators': 100, 'num_leaves': 44, 'colsample_bytree': 0.9068366523140337, 'learning_rate': 0.1214158461039946, 'max_depth': 107}.\n",
      "[I 2019-03-19 21:23:32,339] Finished a trial resulted in value: 0.3367808737098259. Current best value is 0.3367808737098259 with parameters: {'n_estimators': 62, 'num_leaves': 66, 'colsample_bytree': 0.8922129930689786, 'learning_rate': 0.13716114349466596, 'max_depth': 83}.\n",
      "[I 2019-03-19 21:23:32,653] Finished a trial resulted in value: 0.3542323503984049. Current best value is 0.3367808737098259 with parameters: {'n_estimators': 62, 'num_leaves': 66, 'colsample_bytree': 0.8922129930689786, 'learning_rate': 0.13716114349466596, 'max_depth': 83}.\n",
      "[I 2019-03-19 21:23:33,002] Finished a trial resulted in value: 0.36801359978868636. Current best value is 0.3367808737098259 with parameters: {'n_estimators': 62, 'num_leaves': 66, 'colsample_bytree': 0.8922129930689786, 'learning_rate': 0.13716114349466596, 'max_depth': 83}.\n",
      "[I 2019-03-19 21:23:33,374] Finished a trial resulted in value: 0.36246763893856054. Current best value is 0.3367808737098259 with parameters: {'n_estimators': 62, 'num_leaves': 66, 'colsample_bytree': 0.8922129930689786, 'learning_rate': 0.13716114349466596, 'max_depth': 83}.\n",
      "[I 2019-03-19 21:23:33,548] Finished a trial resulted in value: 0.43911885747274854. Current best value is 0.3367808737098259 with parameters: {'n_estimators': 62, 'num_leaves': 66, 'colsample_bytree': 0.8922129930689786, 'learning_rate': 0.13716114349466596, 'max_depth': 83}.\n",
      "[I 2019-03-19 21:23:33,768] Finished a trial resulted in value: 0.40797688577230595. Current best value is 0.3367808737098259 with parameters: {'n_estimators': 62, 'num_leaves': 66, 'colsample_bytree': 0.8922129930689786, 'learning_rate': 0.13716114349466596, 'max_depth': 83}.\n",
      "[I 2019-03-19 21:23:34,276] Finished a trial resulted in value: 0.40694445164309107. Current best value is 0.3367808737098259 with parameters: {'n_estimators': 62, 'num_leaves': 66, 'colsample_bytree': 0.8922129930689786, 'learning_rate': 0.13716114349466596, 'max_depth': 83}.\n",
      "[I 2019-03-19 21:23:35,047] Finished a trial resulted in value: 0.4368549695327271. Current best value is 0.3367808737098259 with parameters: {'n_estimators': 62, 'num_leaves': 66, 'colsample_bytree': 0.8922129930689786, 'learning_rate': 0.13716114349466596, 'max_depth': 83}.\n",
      "[I 2019-03-19 21:23:35,388] Finished a trial resulted in value: 0.6876812044013577. Current best value is 0.3367808737098259 with parameters: {'n_estimators': 62, 'num_leaves': 66, 'colsample_bytree': 0.8922129930689786, 'learning_rate': 0.13716114349466596, 'max_depth': 83}.\n",
      "[I 2019-03-19 21:23:35,697] Finished a trial resulted in value: 0.37842880083554103. Current best value is 0.3367808737098259 with parameters: {'n_estimators': 62, 'num_leaves': 66, 'colsample_bytree': 0.8922129930689786, 'learning_rate': 0.13716114349466596, 'max_depth': 83}.\n",
      "[I 2019-03-19 21:23:35,952] Finished a trial resulted in value: 0.3690372482804171. Current best value is 0.3367808737098259 with parameters: {'n_estimators': 62, 'num_leaves': 66, 'colsample_bytree': 0.8922129930689786, 'learning_rate': 0.13716114349466596, 'max_depth': 83}.\n",
      "[I 2019-03-19 21:23:36,373] Finished a trial resulted in value: 0.8444017730951081. Current best value is 0.3367808737098259 with parameters: {'n_estimators': 62, 'num_leaves': 66, 'colsample_bytree': 0.8922129930689786, 'learning_rate': 0.13716114349466596, 'max_depth': 83}.\n",
      "[I 2019-03-19 21:23:36,856] Finished a trial resulted in value: 1.1430989762734984. Current best value is 0.3367808737098259 with parameters: {'n_estimators': 62, 'num_leaves': 66, 'colsample_bytree': 0.8922129930689786, 'learning_rate': 0.13716114349466596, 'max_depth': 83}.\n",
      "[I 2019-03-19 21:23:37,110] Finished a trial resulted in value: 0.620221313772753. Current best value is 0.3367808737098259 with parameters: {'n_estimators': 62, 'num_leaves': 66, 'colsample_bytree': 0.8922129930689786, 'learning_rate': 0.13716114349466596, 'max_depth': 83}.\n",
      "[I 2019-03-19 21:23:37,459] Finished a trial resulted in value: 0.4045336223430849. Current best value is 0.3367808737098259 with parameters: {'n_estimators': 62, 'num_leaves': 66, 'colsample_bytree': 0.8922129930689786, 'learning_rate': 0.13716114349466596, 'max_depth': 83}.\n",
      "[I 2019-03-19 21:23:37,678] Finished a trial resulted in value: 0.4195548549481007. Current best value is 0.3367808737098259 with parameters: {'n_estimators': 62, 'num_leaves': 66, 'colsample_bytree': 0.8922129930689786, 'learning_rate': 0.13716114349466596, 'max_depth': 83}.\n",
      "[I 2019-03-19 21:23:37,900] Finished a trial resulted in value: 0.4080647977281302. Current best value is 0.3367808737098259 with parameters: {'n_estimators': 62, 'num_leaves': 66, 'colsample_bytree': 0.8922129930689786, 'learning_rate': 0.13716114349466596, 'max_depth': 83}.\n"
     ]
    },
    {
     "name": "stderr",
     "output_type": "stream",
     "text": [
      "[I 2019-03-19 21:23:38,246] Finished a trial resulted in value: 0.4093198993576411. Current best value is 0.3367808737098259 with parameters: {'n_estimators': 62, 'num_leaves': 66, 'colsample_bytree': 0.8922129930689786, 'learning_rate': 0.13716114349466596, 'max_depth': 83}.\n",
      "[I 2019-03-19 21:23:38,733] Finished a trial resulted in value: 0.4017340092918092. Current best value is 0.3367808737098259 with parameters: {'n_estimators': 62, 'num_leaves': 66, 'colsample_bytree': 0.8922129930689786, 'learning_rate': 0.13716114349466596, 'max_depth': 83}.\n",
      "[I 2019-03-19 21:23:39,193] Finished a trial resulted in value: 0.4118234459789971. Current best value is 0.3367808737098259 with parameters: {'n_estimators': 62, 'num_leaves': 66, 'colsample_bytree': 0.8922129930689786, 'learning_rate': 0.13716114349466596, 'max_depth': 83}.\n",
      "[I 2019-03-19 21:23:39,519] Finished a trial resulted in value: 0.44175405347299085. Current best value is 0.3367808737098259 with parameters: {'n_estimators': 62, 'num_leaves': 66, 'colsample_bytree': 0.8922129930689786, 'learning_rate': 0.13716114349466596, 'max_depth': 83}.\n",
      "[I 2019-03-19 21:23:39,904] Finished a trial resulted in value: 0.5996119928726421. Current best value is 0.3367808737098259 with parameters: {'n_estimators': 62, 'num_leaves': 66, 'colsample_bytree': 0.8922129930689786, 'learning_rate': 0.13716114349466596, 'max_depth': 83}.\n",
      "[I 2019-03-19 21:23:40,318] Finished a trial resulted in value: 0.39186112007312346. Current best value is 0.3367808737098259 with parameters: {'n_estimators': 62, 'num_leaves': 66, 'colsample_bytree': 0.8922129930689786, 'learning_rate': 0.13716114349466596, 'max_depth': 83}.\n",
      "[I 2019-03-19 21:23:42,313] Finished a trial resulted in value: 0.3429556042833107. Current best value is 0.3367808737098259 with parameters: {'n_estimators': 62, 'num_leaves': 66, 'colsample_bytree': 0.8922129930689786, 'learning_rate': 0.13716114349466596, 'max_depth': 83}.\n",
      "[I 2019-03-19 21:23:42,583] Finished a trial resulted in value: 0.38925002025364613. Current best value is 0.3367808737098259 with parameters: {'n_estimators': 62, 'num_leaves': 66, 'colsample_bytree': 0.8922129930689786, 'learning_rate': 0.13716114349466596, 'max_depth': 83}.\n",
      "[I 2019-03-19 21:23:42,823] Finished a trial resulted in value: 0.3945546364361296. Current best value is 0.3367808737098259 with parameters: {'n_estimators': 62, 'num_leaves': 66, 'colsample_bytree': 0.8922129930689786, 'learning_rate': 0.13716114349466596, 'max_depth': 83}.\n",
      "[I 2019-03-19 21:23:43,090] Finished a trial resulted in value: 0.40986592262790544. Current best value is 0.3367808737098259 with parameters: {'n_estimators': 62, 'num_leaves': 66, 'colsample_bytree': 0.8922129930689786, 'learning_rate': 0.13716114349466596, 'max_depth': 83}.\n",
      "[I 2019-03-19 21:23:43,430] Finished a trial resulted in value: 0.7289745951149758. Current best value is 0.3367808737098259 with parameters: {'n_estimators': 62, 'num_leaves': 66, 'colsample_bytree': 0.8922129930689786, 'learning_rate': 0.13716114349466596, 'max_depth': 83}.\n",
      "[I 2019-03-19 21:23:43,791] Finished a trial resulted in value: 0.5612264081429189. Current best value is 0.3367808737098259 with parameters: {'n_estimators': 62, 'num_leaves': 66, 'colsample_bytree': 0.8922129930689786, 'learning_rate': 0.13716114349466596, 'max_depth': 83}.\n"
     ]
    }
   ],
   "source": [
    "prun = PrunedCV(12, 0.05)\n",
    "\n",
    "def objective_pruned(trial):\n",
    "\n",
    "    n_estimators = trial.suggest_int('n_estimators', 5, 100)\n",
    "    num_leaves = trial.suggest_int('num_leaves', 2, 100)\n",
    "    colsample_bytree = trial.suggest_uniform('colsample_bytree', 0.5, 1.0)\n",
    "    learning_rate = trial.suggest_loguniform('learning_rate', 1e-4, 1e-0)\n",
    "    max_depth = trial.suggest_int('max_depth', 2, 1_000)\n",
    "\n",
    "\n",
    "    params = {        \n",
    "        'n_estimators': n_estimators,\n",
    "        'num_leaves': num_leaves,\n",
    "        'colsample_bytree': colsample_bytree,\n",
    "        'learning_rate': learning_rate,\n",
    "        'max_depth': max_depth\n",
    "    }\n",
    "    \n",
    "    model.set_params(**params)\n",
    "\n",
    "    return prun.cross_val_score(model, x, y)\n",
    "\n",
    "study_pruned = optuna.create_study()\n",
    "\n",
    "study_pruned.optimize(objective_pruned, timeout=120)"
   ]
  },
  {
   "cell_type": "code",
   "execution_count": 8,
   "metadata": {
    "ExecuteTime": {
     "end_time": "2019-03-20T04:23:43.843659Z",
     "start_time": "2019-03-20T04:23:43.798268Z"
    }
   },
   "outputs": [],
   "source": [
    "df_prun = study_pruned.trials_dataframe()\n",
    "df_stan = study_standard.trials_dataframe()"
   ]
  },
  {
   "cell_type": "code",
   "execution_count": 9,
   "metadata": {
    "ExecuteTime": {
     "end_time": "2019-03-20T04:23:43.904959Z",
     "start_time": "2019-03-20T04:23:43.848830Z"
    }
   },
   "outputs": [],
   "source": [
    "df_prun['time'] = (df_prun.datetime_start - df_prun.datetime_start.min()).astype('int') / 1_000_000_000\n",
    "df_stan['time'] = (df_stan.datetime_start - df_stan.datetime_start.min()).astype('int') / 1_000_000_000"
   ]
  },
  {
   "cell_type": "code",
   "execution_count": 10,
   "metadata": {
    "ExecuteTime": {
     "end_time": "2019-03-20T04:23:44.535637Z",
     "start_time": "2019-03-20T04:23:43.914839Z"
    }
   },
   "outputs": [
    {
     "data": {
      "image/png": "[encoded data removed]",
      "text/plain": [
       "<Figure size 432x288 with 1 Axes>"
      ]
     },
     "metadata": {
      "needs_background": "light"
     },
     "output_type": "display_data"
    }
   ],
   "source": [
    "sns.lineplot(x=df_stan.time, y=df_stan.value.cummin());\n",
    "sns.lineplot(x=df_prun.time, y=df_prun.value.cummin());"
   ]
  },
  {
   "cell_type": "code",
   "execution_count": 11,
   "metadata": {
    "ExecuteTime": {
     "end_time": "2019-03-20T04:23:44.733609Z",
     "start_time": "2019-03-20T04:23:44.537133Z"
    }
   },
   "outputs": [
    {
     "data": {
      "image/png": "[encoded data removed]",
      "text/plain": [
       "<Figure size 432x288 with 1 Axes>"
      ]
     },
     "metadata": {
      "needs_background": "light"
     },
     "output_type": "display_data"
    }
   ],
   "source": [
    "sns.lineplot(x=df_stan.index, y=df_stan.value.cummin());\n",
    "sns.lineplot(x=df_prun.index, y=df_prun.value.cummin());"
   ]
  },
  {
   "cell_type": "code",
   "execution_count": 12,
   "metadata": {
    "ExecuteTime": {
     "end_time": "2019-03-20T04:23:44.740320Z",
     "start_time": "2019-03-20T04:23:44.735523Z"
    }
   },
   "outputs": [
    {
     "data": {
      "text/plain": [
       "2.792207792207792"
      ]
     },
     "execution_count": 12,
     "metadata": {},
     "output_type": "execute_result"
    }
   ],
   "source": [
    "df_prun.shape[0] / df_stan.shape[0]"
   ]
  }
 ],
 "metadata": {
  "kernelspec": {
   "display_name": "Python 3",
   "language": "python",
   "name": "python3"
  },
  "language_info": {
   "codemirror_mode": {
    "name": "ipython",
    "version": 3
   },
   "file_extension": ".py",
   "mimetype": "text/x-python",
   "name": "python",
   "nbconvert_exporter": "python",
   "pygments_lexer": "ipython3",
   "version": "3.6.8"
  }
 },
 "nbformat": 4,
 "nbformat_minor": 2
}
