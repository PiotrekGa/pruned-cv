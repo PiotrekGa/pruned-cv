{
 "cells": [
  {
   "cell_type": "code",
   "execution_count": 1,
   "metadata": {
    "ExecuteTime": {
     "end_time": "2019-03-12T04:00:30.441204Z",
     "start_time": "2019-03-12T04:00:28.658934Z"
    }
   },
   "outputs": [
    {
     "name": "stderr",
     "output_type": "stream",
     "text": [
      "/Users/piotrgabrys/.pyenv/versions/miniconda3-4.3.30/lib/python3.6/site-packages/lightgbm/__init__.py:46: UserWarning: Starting from version 2.2.1, the library file in distribution wheels for macOS is built by the Apple Clang (Xcode_8.3.1) compiler.\n",
      "This means that in case of installing LightGBM from PyPI via the ``pip install lightgbm`` command, you don't need to install the gcc compiler anymore.\n",
      "Instead of that, you need to install the OpenMP library, which is required for running LightGBM on the system with the Apple Clang compiler.\n",
      "You can install the OpenMP library by the following command: ``brew install libomp``.\n",
      "  \"You can install the OpenMP library by the following command: ``brew install libomp``.\", UserWarning)\n"
     ]
    }
   ],
   "source": [
    "from lightgbm import LGBMRegressor\n",
    "import optuna\n",
    "from sklearn.datasets import fetch_california_housing\n",
    "from sklearn.model_selection import cross_val_score\n",
    "from prunedcv import PrunedCV\n",
    "import seaborn as sns\n",
    "import numpy as np"
   ]
  },
  {
   "cell_type": "code",
   "execution_count": 2,
   "metadata": {
    "ExecuteTime": {
     "end_time": "2019-03-12T04:00:30.601836Z",
     "start_time": "2019-03-12T04:00:30.576555Z"
    }
   },
   "outputs": [],
   "source": [
    "data = fetch_california_housing()\n",
    "x = data['data']\n",
    "y = data['target']"
   ]
  },
  {
   "cell_type": "code",
   "execution_count": 3,
   "metadata": {
    "ExecuteTime": {
     "end_time": "2019-03-12T04:00:31.125676Z",
     "start_time": "2019-03-12T04:00:31.123205Z"
    }
   },
   "outputs": [],
   "source": [
    "model = LGBMRegressor()"
   ]
  },
  {
   "cell_type": "code",
   "execution_count": 6,
   "metadata": {
    "ExecuteTime": {
     "end_time": "2019-03-12T04:03:02.354575Z",
     "start_time": "2019-03-12T04:01:00.137646Z"
    }
   },
   "outputs": [
    {
     "name": "stderr",
     "output_type": "stream",
     "text": [
      "[I 2019-03-11 21:01:02,607] Finished a trial resulted in value: 0.8025130242016553. Current best value is 0.8025130242016553 with parameters: {'n_estimators': 97, 'num_leaves': 48, 'colsample_bytree': 0.7498877786681608, 'learning_rate': 0.006552764453881509, 'max_depth': 885}.\n",
      "[I 2019-03-11 21:01:03,109] Finished a trial resulted in value: 0.38741263707897566. Current best value is 0.38741263707897566 with parameters: {'n_estimators': 30, 'num_leaves': 23, 'colsample_bytree': 0.7892018797365447, 'learning_rate': 0.17383471931488398, 'max_depth': 618}.\n",
      "[I 2019-03-11 21:01:03,845] Finished a trial resulted in value: 0.8773111253533822. Current best value is 0.38741263707897566 with parameters: {'n_estimators': 30, 'num_leaves': 23, 'colsample_bytree': 0.7892018797365447, 'learning_rate': 0.17383471931488398, 'max_depth': 618}.\n",
      "[I 2019-03-11 21:01:04,312] Finished a trial resulted in value: 0.4782342051276622. Current best value is 0.38741263707897566 with parameters: {'n_estimators': 30, 'num_leaves': 23, 'colsample_bytree': 0.7892018797365447, 'learning_rate': 0.17383471931488398, 'max_depth': 618}.\n",
      "[I 2019-03-11 21:01:05,703] Finished a trial resulted in value: 1.2914838456797233. Current best value is 0.38741263707897566 with parameters: {'n_estimators': 30, 'num_leaves': 23, 'colsample_bytree': 0.7892018797365447, 'learning_rate': 0.17383471931488398, 'max_depth': 618}.\n",
      "[I 2019-03-11 21:01:07,475] Finished a trial resulted in value: 0.3625763461961163. Current best value is 0.3625763461961163 with parameters: {'n_estimators': 82, 'num_leaves': 60, 'colsample_bytree': 0.9758449141083574, 'learning_rate': 0.22771643862638036, 'max_depth': 449}.\n",
      "[I 2019-03-11 21:01:08,381] Finished a trial resulted in value: 1.3794396986046564. Current best value is 0.3625763461961163 with parameters: {'n_estimators': 82, 'num_leaves': 60, 'colsample_bytree': 0.9758449141083574, 'learning_rate': 0.22771643862638036, 'max_depth': 449}.\n",
      "[I 2019-03-11 21:01:09,483] Finished a trial resulted in value: 1.3664491889238348. Current best value is 0.3625763461961163 with parameters: {'n_estimators': 82, 'num_leaves': 60, 'colsample_bytree': 0.9758449141083574, 'learning_rate': 0.22771643862638036, 'max_depth': 449}.\n",
      "[I 2019-03-11 21:01:10,540] Finished a trial resulted in value: 1.3652759407149277. Current best value is 0.3625763461961163 with parameters: {'n_estimators': 82, 'num_leaves': 60, 'colsample_bytree': 0.9758449141083574, 'learning_rate': 0.22771643862638036, 'max_depth': 449}.\n",
      "[I 2019-03-11 21:01:12,779] Finished a trial resulted in value: 1.0978397563804616. Current best value is 0.3625763461961163 with parameters: {'n_estimators': 82, 'num_leaves': 60, 'colsample_bytree': 0.9758449141083574, 'learning_rate': 0.22771643862638036, 'max_depth': 449}.\n",
      "[I 2019-03-11 21:01:15,536] Finished a trial resulted in value: 0.3564711726613643. Current best value is 0.3564711726613643 with parameters: {'n_estimators': 78, 'num_leaves': 99, 'colsample_bytree': 0.9815224565770937, 'learning_rate': 0.06417720728100203, 'max_depth': 206}.\n",
      "[I 2019-03-11 21:01:15,964] Finished a trial resulted in value: 0.9970524615277035. Current best value is 0.3564711726613643 with parameters: {'n_estimators': 78, 'num_leaves': 99, 'colsample_bytree': 0.9815224565770937, 'learning_rate': 0.06417720728100203, 'max_depth': 206}.\n",
      "[I 2019-03-11 21:01:17,047] Finished a trial resulted in value: 0.5418826488564611. Current best value is 0.3564711726613643 with parameters: {'n_estimators': 78, 'num_leaves': 99, 'colsample_bytree': 0.9815224565770937, 'learning_rate': 0.06417720728100203, 'max_depth': 206}.\n",
      "[I 2019-03-11 21:01:19,706] Finished a trial resulted in value: 1.2624124093334155. Current best value is 0.3564711726613643 with parameters: {'n_estimators': 78, 'num_leaves': 99, 'colsample_bytree': 0.9815224565770937, 'learning_rate': 0.06417720728100203, 'max_depth': 206}.\n",
      "[I 2019-03-11 21:01:20,497] Finished a trial resulted in value: 0.5723144576414847. Current best value is 0.3564711726613643 with parameters: {'n_estimators': 78, 'num_leaves': 99, 'colsample_bytree': 0.9815224565770937, 'learning_rate': 0.06417720728100203, 'max_depth': 206}.\n",
      "[I 2019-03-11 21:01:21,347] Finished a trial resulted in value: 0.5155193053014463. Current best value is 0.3564711726613643 with parameters: {'n_estimators': 78, 'num_leaves': 99, 'colsample_bytree': 0.9815224565770937, 'learning_rate': 0.06417720728100203, 'max_depth': 206}.\n",
      "[I 2019-03-11 21:01:24,075] Finished a trial resulted in value: 1.300490929106563. Current best value is 0.3564711726613643 with parameters: {'n_estimators': 78, 'num_leaves': 99, 'colsample_bytree': 0.9815224565770937, 'learning_rate': 0.06417720728100203, 'max_depth': 206}.\n",
      "[I 2019-03-11 21:01:26,323] Finished a trial resulted in value: 0.35145626696593796. Current best value is 0.35145626696593796 with parameters: {'n_estimators': 82, 'num_leaves': 61, 'colsample_bytree': 0.9507797116888813, 'learning_rate': 0.14466693098019504, 'max_depth': 587}.\n",
      "[I 2019-03-11 21:01:29,197] Finished a trial resulted in value: 0.3493295934879039. Current best value is 0.3493295934879039 with parameters: {'n_estimators': 78, 'num_leaves': 92, 'colsample_bytree': 0.9147787058318958, 'learning_rate': 0.0840904567611999, 'max_depth': 603}.\n",
      "[I 2019-03-11 21:01:31,248] Finished a trial resulted in value: 0.38179711061475746. Current best value is 0.3493295934879039 with parameters: {'n_estimators': 78, 'num_leaves': 92, 'colsample_bytree': 0.9147787058318958, 'learning_rate': 0.0840904567611999, 'max_depth': 603}.\n",
      "[I 2019-03-11 21:01:32,658] Finished a trial resulted in value: 0.6536849115388773. Current best value is 0.3493295934879039 with parameters: {'n_estimators': 78, 'num_leaves': 92, 'colsample_bytree': 0.9147787058318958, 'learning_rate': 0.0840904567611999, 'max_depth': 603}.\n",
      "[I 2019-03-11 21:01:34,867] Finished a trial resulted in value: 0.36313990343361496. Current best value is 0.3493295934879039 with parameters: {'n_estimators': 78, 'num_leaves': 92, 'colsample_bytree': 0.9147787058318958, 'learning_rate': 0.0840904567611999, 'max_depth': 603}.\n",
      "[I 2019-03-11 21:01:36,596] Finished a trial resulted in value: 0.4247119150420719. Current best value is 0.3493295934879039 with parameters: {'n_estimators': 78, 'num_leaves': 92, 'colsample_bytree': 0.9147787058318958, 'learning_rate': 0.0840904567611999, 'max_depth': 603}.\n",
      "[I 2019-03-11 21:01:38,419] Finished a trial resulted in value: 0.5175295782776356. Current best value is 0.3493295934879039 with parameters: {'n_estimators': 78, 'num_leaves': 92, 'colsample_bytree': 0.9147787058318958, 'learning_rate': 0.0840904567611999, 'max_depth': 603}.\n",
      "[I 2019-03-11 21:01:40,235] Finished a trial resulted in value: 0.33888558202091174. Current best value is 0.33888558202091174 with parameters: {'n_estimators': 88, 'num_leaves': 53, 'colsample_bytree': 0.877969611255744, 'learning_rate': 0.0992634370001351, 'max_depth': 541}.\n",
      "[I 2019-03-11 21:01:41,472] Finished a trial resulted in value: 0.3515691311446559. Current best value is 0.33888558202091174 with parameters: {'n_estimators': 88, 'num_leaves': 53, 'colsample_bytree': 0.877969611255744, 'learning_rate': 0.0992634370001351, 'max_depth': 541}.\n",
      "[I 2019-03-11 21:01:42,530] Finished a trial resulted in value: 0.5375653570539473. Current best value is 0.33888558202091174 with parameters: {'n_estimators': 88, 'num_leaves': 53, 'colsample_bytree': 0.877969611255744, 'learning_rate': 0.0992634370001351, 'max_depth': 541}.\n",
      "[I 2019-03-11 21:01:45,222] Finished a trial resulted in value: 0.4696124328804645. Current best value is 0.33888558202091174 with parameters: {'n_estimators': 88, 'num_leaves': 53, 'colsample_bytree': 0.877969611255744, 'learning_rate': 0.0992634370001351, 'max_depth': 541}.\n",
      "[I 2019-03-11 21:01:48,097] Finished a trial resulted in value: 0.5909591367866368. Current best value is 0.33888558202091174 with parameters: {'n_estimators': 88, 'num_leaves': 53, 'colsample_bytree': 0.877969611255744, 'learning_rate': 0.0992634370001351, 'max_depth': 541}.\n"
     ]
    },
    {
     "name": "stderr",
     "output_type": "stream",
     "text": [
      "[I 2019-03-11 21:01:49,817] Finished a trial resulted in value: 0.9508871356669814. Current best value is 0.33888558202091174 with parameters: {'n_estimators': 88, 'num_leaves': 53, 'colsample_bytree': 0.877969611255744, 'learning_rate': 0.0992634370001351, 'max_depth': 541}.\n",
      "[I 2019-03-11 21:01:51,480] Finished a trial resulted in value: 0.34878559534846826. Current best value is 0.33888558202091174 with parameters: {'n_estimators': 88, 'num_leaves': 53, 'colsample_bytree': 0.877969611255744, 'learning_rate': 0.0992634370001351, 'max_depth': 541}.\n",
      "[I 2019-03-11 21:01:53,160] Finished a trial resulted in value: 0.3619060968842904. Current best value is 0.33888558202091174 with parameters: {'n_estimators': 88, 'num_leaves': 53, 'colsample_bytree': 0.877969611255744, 'learning_rate': 0.0992634370001351, 'max_depth': 541}.\n",
      "[I 2019-03-11 21:01:54,129] Finished a trial resulted in value: 0.37698776309936816. Current best value is 0.33888558202091174 with parameters: {'n_estimators': 88, 'num_leaves': 53, 'colsample_bytree': 0.877969611255744, 'learning_rate': 0.0992634370001351, 'max_depth': 541}.\n",
      "[I 2019-03-11 21:01:55,744] Finished a trial resulted in value: 0.43019406805570126. Current best value is 0.33888558202091174 with parameters: {'n_estimators': 88, 'num_leaves': 53, 'colsample_bytree': 0.877969611255744, 'learning_rate': 0.0992634370001351, 'max_depth': 541}.\n",
      "[I 2019-03-11 21:01:56,384] Finished a trial resulted in value: 1.2069590258371619. Current best value is 0.33888558202091174 with parameters: {'n_estimators': 88, 'num_leaves': 53, 'colsample_bytree': 0.877969611255744, 'learning_rate': 0.0992634370001351, 'max_depth': 541}.\n",
      "[I 2019-03-11 21:01:57,172] Finished a trial resulted in value: 0.3557940152162041. Current best value is 0.33888558202091174 with parameters: {'n_estimators': 88, 'num_leaves': 53, 'colsample_bytree': 0.877969611255744, 'learning_rate': 0.0992634370001351, 'max_depth': 541}.\n",
      "[I 2019-03-11 21:01:58,182] Finished a trial resulted in value: 0.38341735261578686. Current best value is 0.33888558202091174 with parameters: {'n_estimators': 88, 'num_leaves': 53, 'colsample_bytree': 0.877969611255744, 'learning_rate': 0.0992634370001351, 'max_depth': 541}.\n",
      "[I 2019-03-11 21:01:59,909] Finished a trial resulted in value: 0.4129970172000548. Current best value is 0.33888558202091174 with parameters: {'n_estimators': 88, 'num_leaves': 53, 'colsample_bytree': 0.877969611255744, 'learning_rate': 0.0992634370001351, 'max_depth': 541}.\n",
      "[I 2019-03-11 21:02:00,282] Finished a trial resulted in value: 0.6671860966393219. Current best value is 0.33888558202091174 with parameters: {'n_estimators': 88, 'num_leaves': 53, 'colsample_bytree': 0.877969611255744, 'learning_rate': 0.0992634370001351, 'max_depth': 541}.\n",
      "[I 2019-03-11 21:02:01,405] Finished a trial resulted in value: 1.297135249524449. Current best value is 0.33888558202091174 with parameters: {'n_estimators': 88, 'num_leaves': 53, 'colsample_bytree': 0.877969611255744, 'learning_rate': 0.0992634370001351, 'max_depth': 541}.\n",
      "[I 2019-03-11 21:02:03,535] Finished a trial resulted in value: 0.7154443337326087. Current best value is 0.33888558202091174 with parameters: {'n_estimators': 88, 'num_leaves': 53, 'colsample_bytree': 0.877969611255744, 'learning_rate': 0.0992634370001351, 'max_depth': 541}.\n",
      "[I 2019-03-11 21:02:06,615] Finished a trial resulted in value: 0.36632784830116. Current best value is 0.33888558202091174 with parameters: {'n_estimators': 88, 'num_leaves': 53, 'colsample_bytree': 0.877969611255744, 'learning_rate': 0.0992634370001351, 'max_depth': 541}.\n",
      "[I 2019-03-11 21:02:08,028] Finished a trial resulted in value: 0.6335015608975886. Current best value is 0.33888558202091174 with parameters: {'n_estimators': 88, 'num_leaves': 53, 'colsample_bytree': 0.877969611255744, 'learning_rate': 0.0992634370001351, 'max_depth': 541}.\n",
      "[I 2019-03-11 21:02:08,951] Finished a trial resulted in value: 0.35143778322001734. Current best value is 0.33888558202091174 with parameters: {'n_estimators': 88, 'num_leaves': 53, 'colsample_bytree': 0.877969611255744, 'learning_rate': 0.0992634370001351, 'max_depth': 541}.\n",
      "[I 2019-03-11 21:02:09,726] Finished a trial resulted in value: 0.3770501496145135. Current best value is 0.33888558202091174 with parameters: {'n_estimators': 88, 'num_leaves': 53, 'colsample_bytree': 0.877969611255744, 'learning_rate': 0.0992634370001351, 'max_depth': 541}.\n",
      "[I 2019-03-11 21:02:10,868] Finished a trial resulted in value: 1.1954119064043123. Current best value is 0.33888558202091174 with parameters: {'n_estimators': 88, 'num_leaves': 53, 'colsample_bytree': 0.877969611255744, 'learning_rate': 0.0992634370001351, 'max_depth': 541}.\n",
      "[I 2019-03-11 21:02:11,625] Finished a trial resulted in value: 0.5371735688271699. Current best value is 0.33888558202091174 with parameters: {'n_estimators': 88, 'num_leaves': 53, 'colsample_bytree': 0.877969611255744, 'learning_rate': 0.0992634370001351, 'max_depth': 541}.\n",
      "[I 2019-03-11 21:02:13,412] Finished a trial resulted in value: 1.3295506511634572. Current best value is 0.33888558202091174 with parameters: {'n_estimators': 88, 'num_leaves': 53, 'colsample_bytree': 0.877969611255744, 'learning_rate': 0.0992634370001351, 'max_depth': 541}.\n",
      "[I 2019-03-11 21:02:14,853] Finished a trial resulted in value: 0.5109337801672722. Current best value is 0.33888558202091174 with parameters: {'n_estimators': 88, 'num_leaves': 53, 'colsample_bytree': 0.877969611255744, 'learning_rate': 0.0992634370001351, 'max_depth': 541}.\n",
      "[I 2019-03-11 21:02:16,474] Finished a trial resulted in value: 0.415964789231194. Current best value is 0.33888558202091174 with parameters: {'n_estimators': 88, 'num_leaves': 53, 'colsample_bytree': 0.877969611255744, 'learning_rate': 0.0992634370001351, 'max_depth': 541}.\n",
      "[I 2019-03-11 21:02:18,472] Finished a trial resulted in value: 0.818738316278114. Current best value is 0.33888558202091174 with parameters: {'n_estimators': 88, 'num_leaves': 53, 'colsample_bytree': 0.877969611255744, 'learning_rate': 0.0992634370001351, 'max_depth': 541}.\n",
      "[I 2019-03-11 21:02:21,143] Finished a trial resulted in value: 1.3675164035690053. Current best value is 0.33888558202091174 with parameters: {'n_estimators': 88, 'num_leaves': 53, 'colsample_bytree': 0.877969611255744, 'learning_rate': 0.0992634370001351, 'max_depth': 541}.\n",
      "[I 2019-03-11 21:02:22,231] Finished a trial resulted in value: 0.4088088438285873. Current best value is 0.33888558202091174 with parameters: {'n_estimators': 88, 'num_leaves': 53, 'colsample_bytree': 0.877969611255744, 'learning_rate': 0.0992634370001351, 'max_depth': 541}.\n",
      "[I 2019-03-11 21:02:23,220] Finished a trial resulted in value: 0.35493382273122703. Current best value is 0.33888558202091174 with parameters: {'n_estimators': 88, 'num_leaves': 53, 'colsample_bytree': 0.877969611255744, 'learning_rate': 0.0992634370001351, 'max_depth': 541}.\n",
      "[I 2019-03-11 21:02:26,095] Finished a trial resulted in value: 0.4441378497117175. Current best value is 0.33888558202091174 with parameters: {'n_estimators': 88, 'num_leaves': 53, 'colsample_bytree': 0.877969611255744, 'learning_rate': 0.0992634370001351, 'max_depth': 541}.\n",
      "[I 2019-03-11 21:02:28,421] Finished a trial resulted in value: 1.0577048433308855. Current best value is 0.33888558202091174 with parameters: {'n_estimators': 88, 'num_leaves': 53, 'colsample_bytree': 0.877969611255744, 'learning_rate': 0.0992634370001351, 'max_depth': 541}.\n",
      "[I 2019-03-11 21:02:29,586] Finished a trial resulted in value: 0.35622837329623375. Current best value is 0.33888558202091174 with parameters: {'n_estimators': 88, 'num_leaves': 53, 'colsample_bytree': 0.877969611255744, 'learning_rate': 0.0992634370001351, 'max_depth': 541}.\n",
      "[I 2019-03-11 21:02:32,545] Finished a trial resulted in value: 0.5381525678420117. Current best value is 0.33888558202091174 with parameters: {'n_estimators': 88, 'num_leaves': 53, 'colsample_bytree': 0.877969611255744, 'learning_rate': 0.0992634370001351, 'max_depth': 541}.\n"
     ]
    },
    {
     "name": "stderr",
     "output_type": "stream",
     "text": [
      "[I 2019-03-11 21:02:34,592] Finished a trial resulted in value: 0.37507868030995883. Current best value is 0.33888558202091174 with parameters: {'n_estimators': 88, 'num_leaves': 53, 'colsample_bytree': 0.877969611255744, 'learning_rate': 0.0992634370001351, 'max_depth': 541}.\n",
      "[I 2019-03-11 21:02:36,657] Finished a trial resulted in value: 0.4407310956992487. Current best value is 0.33888558202091174 with parameters: {'n_estimators': 88, 'num_leaves': 53, 'colsample_bytree': 0.877969611255744, 'learning_rate': 0.0992634370001351, 'max_depth': 541}.\n",
      "[I 2019-03-11 21:02:38,510] Finished a trial resulted in value: 1.193130595336014. Current best value is 0.33888558202091174 with parameters: {'n_estimators': 88, 'num_leaves': 53, 'colsample_bytree': 0.877969611255744, 'learning_rate': 0.0992634370001351, 'max_depth': 541}.\n",
      "[I 2019-03-11 21:02:39,309] Finished a trial resulted in value: 0.47781017429176864. Current best value is 0.33888558202091174 with parameters: {'n_estimators': 88, 'num_leaves': 53, 'colsample_bytree': 0.877969611255744, 'learning_rate': 0.0992634370001351, 'max_depth': 541}.\n",
      "[I 2019-03-11 21:02:39,809] Finished a trial resulted in value: 0.5750988136674898. Current best value is 0.33888558202091174 with parameters: {'n_estimators': 88, 'num_leaves': 53, 'colsample_bytree': 0.877969611255744, 'learning_rate': 0.0992634370001351, 'max_depth': 541}.\n",
      "[I 2019-03-11 21:02:41,374] Finished a trial resulted in value: 0.6664593459763587. Current best value is 0.33888558202091174 with parameters: {'n_estimators': 88, 'num_leaves': 53, 'colsample_bytree': 0.877969611255744, 'learning_rate': 0.0992634370001351, 'max_depth': 541}.\n",
      "[I 2019-03-11 21:02:42,860] Finished a trial resulted in value: 0.4068659191113458. Current best value is 0.33888558202091174 with parameters: {'n_estimators': 88, 'num_leaves': 53, 'colsample_bytree': 0.877969611255744, 'learning_rate': 0.0992634370001351, 'max_depth': 541}.\n",
      "[I 2019-03-11 21:02:45,487] Finished a trial resulted in value: 0.3471581664444576. Current best value is 0.33888558202091174 with parameters: {'n_estimators': 88, 'num_leaves': 53, 'colsample_bytree': 0.877969611255744, 'learning_rate': 0.0992634370001351, 'max_depth': 541}.\n",
      "[I 2019-03-11 21:02:48,148] Finished a trial resulted in value: 0.37151910294087065. Current best value is 0.33888558202091174 with parameters: {'n_estimators': 88, 'num_leaves': 53, 'colsample_bytree': 0.877969611255744, 'learning_rate': 0.0992634370001351, 'max_depth': 541}.\n",
      "[I 2019-03-11 21:02:51,149] Finished a trial resulted in value: 0.3465683102220425. Current best value is 0.33888558202091174 with parameters: {'n_estimators': 88, 'num_leaves': 53, 'colsample_bytree': 0.877969611255744, 'learning_rate': 0.0992634370001351, 'max_depth': 541}.\n",
      "[I 2019-03-11 21:02:53,737] Finished a trial resulted in value: 0.3477182096138953. Current best value is 0.33888558202091174 with parameters: {'n_estimators': 88, 'num_leaves': 53, 'colsample_bytree': 0.877969611255744, 'learning_rate': 0.0992634370001351, 'max_depth': 541}.\n",
      "[I 2019-03-11 21:02:56,825] Finished a trial resulted in value: 0.3472914743994134. Current best value is 0.33888558202091174 with parameters: {'n_estimators': 88, 'num_leaves': 53, 'colsample_bytree': 0.877969611255744, 'learning_rate': 0.0992634370001351, 'max_depth': 541}.\n",
      "[I 2019-03-11 21:02:59,462] Finished a trial resulted in value: 0.5005306904181135. Current best value is 0.33888558202091174 with parameters: {'n_estimators': 88, 'num_leaves': 53, 'colsample_bytree': 0.877969611255744, 'learning_rate': 0.0992634370001351, 'max_depth': 541}.\n",
      "[I 2019-03-11 21:03:02,350] Finished a trial resulted in value: 0.36639692228557497. Current best value is 0.33888558202091174 with parameters: {'n_estimators': 88, 'num_leaves': 53, 'colsample_bytree': 0.877969611255744, 'learning_rate': 0.0992634370001351, 'max_depth': 541}.\n"
     ]
    }
   ],
   "source": [
    "def obejctive_standard(trial):\n",
    "    \n",
    "    n_estimators = trial.suggest_int('n_estimators', 5, 100)\n",
    "    num_leaves = trial.suggest_int('num_leaves', 2, 100)\n",
    "    colsample_bytree = trial.suggest_uniform('colsample_bytree', 0.5, 1.0)\n",
    "    learning_rate = trial.suggest_loguniform('learning_rate', 1e-4, 1e-0)\n",
    "    max_depth = trial.suggest_int('max_depth', 2, 1_000)\n",
    "\n",
    "\n",
    "    params = {        \n",
    "        'n_estimators': n_estimators,\n",
    "        'num_leaves': num_leaves,\n",
    "        'colsample_bytree': colsample_bytree,\n",
    "        'learning_rate': learning_rate,\n",
    "        'max_depth': max_depth\n",
    "    }\n",
    "    \n",
    "    model.set_params(**params)\n",
    "\n",
    "    return - np.mean(cross_val_score(model, x, y, cv=12, scoring='neg_mean_squared_error'))\n",
    "\n",
    "study_standard = optuna.create_study()\n",
    "\n",
    "study_standard.optimize(obejctive_standard, timeout=120)"
   ]
  },
  {
   "cell_type": "markdown",
   "metadata": {},
   "source": [
    "For probabilistic search methods like Bayesian Optimization you should use probabilistic pruning:"
   ]
  },
  {
   "cell_type": "code",
   "execution_count": 7,
   "metadata": {
    "ExecuteTime": {
     "end_time": "2019-03-12T04:05:34.226304Z",
     "start_time": "2019-03-12T04:03:33.757552Z"
    }
   },
   "outputs": [
    {
     "name": "stderr",
     "output_type": "stream",
     "text": [
      "[I 2019-03-11 21:03:34,341] Finished a trial resulted in value: 1.3292882724049582. Current best value is 1.3292882724049582 with parameters: {'n_estimators': 19, 'num_leaves': 43, 'colsample_bytree': 0.9399907161616903, 'learning_rate': 0.0018690330534205835, 'max_depth': 139}.\n",
      "[I 2019-03-11 21:03:34,546] Finished a trial resulted in value: 1.3539567509263288. Current best value is 1.3292882724049582 with parameters: {'n_estimators': 19, 'num_leaves': 43, 'colsample_bytree': 0.9399907161616903, 'learning_rate': 0.0018690330534205835, 'max_depth': 139}.\n",
      "[I 2019-03-11 21:03:37,646] Finished a trial resulted in value: 1.302774602371681. Current best value is 1.302774602371681 with parameters: {'n_estimators': 87, 'num_leaves': 87, 'colsample_bytree': 0.7284089014763375, 'learning_rate': 0.0006535332503506664, 'max_depth': 259}.\n",
      "[I 2019-03-11 21:03:39,067] Finished a trial resulted in value: 1.2246681380577564. Current best value is 1.2246681380577564 with parameters: {'n_estimators': 33, 'num_leaves': 94, 'colsample_bytree': 0.7081925843823736, 'learning_rate': 0.0036604222925501256, 'max_depth': 559}.\n",
      "[I 2019-03-11 21:03:40,154] Finished a trial resulted in value: 0.3834407466662342. Current best value is 0.3834407466662342 with parameters: {'n_estimators': 28, 'num_leaves': 96, 'colsample_bytree': 0.7525333422953772, 'learning_rate': 0.402859232377168, 'max_depth': 663}.\n",
      "[I 2019-03-11 21:03:40,454] Finished a trial resulted in value: 0.44121848066245645. Current best value is 0.3834407466662342 with parameters: {'n_estimators': 28, 'num_leaves': 96, 'colsample_bytree': 0.7525333422953772, 'learning_rate': 0.402859232377168, 'max_depth': 663}.\n",
      "[I 2019-03-11 21:03:40,602] Finished a trial resulted in value: 1.140173285342438. Current best value is 0.3834407466662342 with parameters: {'n_estimators': 28, 'num_leaves': 96, 'colsample_bytree': 0.7525333422953772, 'learning_rate': 0.402859232377168, 'max_depth': 663}.\n",
      "[I 2019-03-11 21:03:40,824] Finished a trial resulted in value: 1.1564082865539178. Current best value is 0.3834407466662342 with parameters: {'n_estimators': 28, 'num_leaves': 96, 'colsample_bytree': 0.7525333422953772, 'learning_rate': 0.402859232377168, 'max_depth': 663}.\n",
      "[I 2019-03-11 21:03:41,013] Finished a trial resulted in value: 0.4411753378324263. Current best value is 0.3834407466662342 with parameters: {'n_estimators': 28, 'num_leaves': 96, 'colsample_bytree': 0.7525333422953772, 'learning_rate': 0.402859232377168, 'max_depth': 663}.\n",
      "[I 2019-03-11 21:03:41,238] Finished a trial resulted in value: 0.42468818195003183. Current best value is 0.3834407466662342 with parameters: {'n_estimators': 28, 'num_leaves': 96, 'colsample_bytree': 0.7525333422953772, 'learning_rate': 0.402859232377168, 'max_depth': 663}.\n",
      "[I 2019-03-11 21:03:41,309] Finished a trial resulted in value: 0.5916268518366308. Current best value is 0.3834407466662342 with parameters: {'n_estimators': 28, 'num_leaves': 96, 'colsample_bytree': 0.7525333422953772, 'learning_rate': 0.402859232377168, 'max_depth': 663}.\n",
      "[I 2019-03-11 21:03:42,752] Finished a trial resulted in value: 0.3475317100860416. Current best value is 0.3475317100860416 with parameters: {'n_estimators': 45, 'num_leaves': 77, 'colsample_bytree': 0.8825918990759911, 'learning_rate': 0.16970204495988797, 'max_depth': 771}.\n",
      "[I 2019-03-11 21:03:42,981] Finished a trial resulted in value: 0.3683901002268825. Current best value is 0.3475317100860416 with parameters: {'n_estimators': 45, 'num_leaves': 77, 'colsample_bytree': 0.8825918990759911, 'learning_rate': 0.16970204495988797, 'max_depth': 771}.\n",
      "[I 2019-03-11 21:03:43,083] Finished a trial resulted in value: 0.6623723959617486. Current best value is 0.3475317100860416 with parameters: {'n_estimators': 45, 'num_leaves': 77, 'colsample_bytree': 0.8825918990759911, 'learning_rate': 0.16970204495988797, 'max_depth': 771}.\n",
      "[I 2019-03-11 21:03:43,307] Finished a trial resulted in value: 0.8265237851152548. Current best value is 0.3475317100860416 with parameters: {'n_estimators': 45, 'num_leaves': 77, 'colsample_bytree': 0.8825918990759911, 'learning_rate': 0.16970204495988797, 'max_depth': 771}.\n",
      "[I 2019-03-11 21:03:43,430] Finished a trial resulted in value: 0.412755604195801. Current best value is 0.3475317100860416 with parameters: {'n_estimators': 45, 'num_leaves': 77, 'colsample_bytree': 0.8825918990759911, 'learning_rate': 0.16970204495988797, 'max_depth': 771}.\n",
      "[I 2019-03-11 21:03:43,680] Finished a trial resulted in value: 0.46002929531705566. Current best value is 0.3475317100860416 with parameters: {'n_estimators': 45, 'num_leaves': 77, 'colsample_bytree': 0.8825918990759911, 'learning_rate': 0.16970204495988797, 'max_depth': 771}.\n",
      "[I 2019-03-11 21:03:43,922] Finished a trial resulted in value: 0.3858832215399935. Current best value is 0.3475317100860416 with parameters: {'n_estimators': 45, 'num_leaves': 77, 'colsample_bytree': 0.8825918990759911, 'learning_rate': 0.16970204495988797, 'max_depth': 771}.\n",
      "[I 2019-03-11 21:03:44,154] Finished a trial resulted in value: 0.38974063916354246. Current best value is 0.3475317100860416 with parameters: {'n_estimators': 45, 'num_leaves': 77, 'colsample_bytree': 0.8825918990759911, 'learning_rate': 0.16970204495988797, 'max_depth': 771}.\n",
      "[I 2019-03-11 21:03:44,368] Finished a trial resulted in value: 0.38861756372992257. Current best value is 0.3475317100860416 with parameters: {'n_estimators': 45, 'num_leaves': 77, 'colsample_bytree': 0.8825918990759911, 'learning_rate': 0.16970204495988797, 'max_depth': 771}.\n",
      "[I 2019-03-11 21:03:44,539] Finished a trial resulted in value: 0.40080234455464187. Current best value is 0.3475317100860416 with parameters: {'n_estimators': 45, 'num_leaves': 77, 'colsample_bytree': 0.8825918990759911, 'learning_rate': 0.16970204495988797, 'max_depth': 771}.\n",
      "[I 2019-03-11 21:03:44,849] Finished a trial resulted in value: 0.42782167904473917. Current best value is 0.3475317100860416 with parameters: {'n_estimators': 45, 'num_leaves': 77, 'colsample_bytree': 0.8825918990759911, 'learning_rate': 0.16970204495988797, 'max_depth': 771}.\n",
      "[I 2019-03-11 21:03:45,222] Finished a trial resulted in value: 0.6301162676579762. Current best value is 0.3475317100860416 with parameters: {'n_estimators': 45, 'num_leaves': 77, 'colsample_bytree': 0.8825918990759911, 'learning_rate': 0.16970204495988797, 'max_depth': 771}.\n",
      "[I 2019-03-11 21:03:45,363] Finished a trial resulted in value: 0.38313815732069295. Current best value is 0.3475317100860416 with parameters: {'n_estimators': 45, 'num_leaves': 77, 'colsample_bytree': 0.8825918990759911, 'learning_rate': 0.16970204495988797, 'max_depth': 771}.\n",
      "[I 2019-03-11 21:03:45,663] Finished a trial resulted in value: 0.39245666441638066. Current best value is 0.3475317100860416 with parameters: {'n_estimators': 45, 'num_leaves': 77, 'colsample_bytree': 0.8825918990759911, 'learning_rate': 0.16970204495988797, 'max_depth': 771}.\n",
      "[I 2019-03-11 21:03:45,876] Finished a trial resulted in value: 0.41758896566845116. Current best value is 0.3475317100860416 with parameters: {'n_estimators': 45, 'num_leaves': 77, 'colsample_bytree': 0.8825918990759911, 'learning_rate': 0.16970204495988797, 'max_depth': 771}.\n",
      "[I 2019-03-11 21:03:47,555] Finished a trial resulted in value: 0.34431727727673384. Current best value is 0.34431727727673384 with parameters: {'n_estimators': 49, 'num_leaves': 92, 'colsample_bytree': 0.9071162195612112, 'learning_rate': 0.14397931071399334, 'max_depth': 600}.\n",
      "[I 2019-03-11 21:03:47,954] Finished a trial resulted in value: 0.4606498944233735. Current best value is 0.34431727727673384 with parameters: {'n_estimators': 49, 'num_leaves': 92, 'colsample_bytree': 0.9071162195612112, 'learning_rate': 0.14397931071399334, 'max_depth': 600}.\n",
      "[I 2019-03-11 21:03:48,603] Finished a trial resulted in value: 0.5924230960745142. Current best value is 0.34431727727673384 with parameters: {'n_estimators': 49, 'num_leaves': 92, 'colsample_bytree': 0.9071162195612112, 'learning_rate': 0.14397931071399334, 'max_depth': 600}.\n"
     ]
    },
    {
     "name": "stderr",
     "output_type": "stream",
     "text": [
      "[I 2019-03-11 21:03:49,047] Finished a trial resulted in value: 0.37791240617363714. Current best value is 0.34431727727673384 with parameters: {'n_estimators': 49, 'num_leaves': 92, 'colsample_bytree': 0.9071162195612112, 'learning_rate': 0.14397931071399334, 'max_depth': 600}.\n",
      "[I 2019-03-11 21:03:49,258] Finished a trial resulted in value: 1.0407583476711622. Current best value is 0.34431727727673384 with parameters: {'n_estimators': 49, 'num_leaves': 92, 'colsample_bytree': 0.9071162195612112, 'learning_rate': 0.14397931071399334, 'max_depth': 600}.\n",
      "[I 2019-03-11 21:03:49,869] Finished a trial resulted in value: 0.34660222407884267. Current best value is 0.34431727727673384 with parameters: {'n_estimators': 49, 'num_leaves': 92, 'colsample_bytree': 0.9071162195612112, 'learning_rate': 0.14397931071399334, 'max_depth': 600}.\n",
      "[I 2019-03-11 21:03:50,037] Finished a trial resulted in value: 0.349977852202508. Current best value is 0.34431727727673384 with parameters: {'n_estimators': 49, 'num_leaves': 92, 'colsample_bytree': 0.9071162195612112, 'learning_rate': 0.14397931071399334, 'max_depth': 600}.\n",
      "[I 2019-03-11 21:03:50,311] Finished a trial resulted in value: 0.9751960664882132. Current best value is 0.34431727727673384 with parameters: {'n_estimators': 49, 'num_leaves': 92, 'colsample_bytree': 0.9071162195612112, 'learning_rate': 0.14397931071399334, 'max_depth': 600}.\n",
      "[I 2019-03-11 21:03:50,594] Finished a trial resulted in value: 0.3490980475386432. Current best value is 0.34431727727673384 with parameters: {'n_estimators': 49, 'num_leaves': 92, 'colsample_bytree': 0.9071162195612112, 'learning_rate': 0.14397931071399334, 'max_depth': 600}.\n",
      "[I 2019-03-11 21:03:50,945] Finished a trial resulted in value: 1.0836968478133324. Current best value is 0.34431727727673384 with parameters: {'n_estimators': 49, 'num_leaves': 92, 'colsample_bytree': 0.9071162195612112, 'learning_rate': 0.14397931071399334, 'max_depth': 600}.\n",
      "[I 2019-03-11 21:03:51,221] Finished a trial resulted in value: 0.47101559722394054. Current best value is 0.34431727727673384 with parameters: {'n_estimators': 49, 'num_leaves': 92, 'colsample_bytree': 0.9071162195612112, 'learning_rate': 0.14397931071399334, 'max_depth': 600}.\n",
      "[I 2019-03-11 21:03:51,352] Finished a trial resulted in value: 1.131725403742243. Current best value is 0.34431727727673384 with parameters: {'n_estimators': 49, 'num_leaves': 92, 'colsample_bytree': 0.9071162195612112, 'learning_rate': 0.14397931071399334, 'max_depth': 600}.\n",
      "[I 2019-03-11 21:03:51,567] Finished a trial resulted in value: 0.4169392676384025. Current best value is 0.34431727727673384 with parameters: {'n_estimators': 49, 'num_leaves': 92, 'colsample_bytree': 0.9071162195612112, 'learning_rate': 0.14397931071399334, 'max_depth': 600}.\n",
      "[I 2019-03-11 21:03:51,805] Finished a trial resulted in value: 0.417299622898853. Current best value is 0.34431727727673384 with parameters: {'n_estimators': 49, 'num_leaves': 92, 'colsample_bytree': 0.9071162195612112, 'learning_rate': 0.14397931071399334, 'max_depth': 600}.\n",
      "[I 2019-03-11 21:03:51,960] Finished a trial resulted in value: 0.40206172605513985. Current best value is 0.34431727727673384 with parameters: {'n_estimators': 49, 'num_leaves': 92, 'colsample_bytree': 0.9071162195612112, 'learning_rate': 0.14397931071399334, 'max_depth': 600}.\n",
      "[I 2019-03-11 21:03:52,149] Finished a trial resulted in value: 0.39604100559342054. Current best value is 0.34431727727673384 with parameters: {'n_estimators': 49, 'num_leaves': 92, 'colsample_bytree': 0.9071162195612112, 'learning_rate': 0.14397931071399334, 'max_depth': 600}.\n",
      "[I 2019-03-11 21:03:52,491] Finished a trial resulted in value: 0.3556233277011786. Current best value is 0.34431727727673384 with parameters: {'n_estimators': 49, 'num_leaves': 92, 'colsample_bytree': 0.9071162195612112, 'learning_rate': 0.14397931071399334, 'max_depth': 600}.\n",
      "[I 2019-03-11 21:03:52,645] Finished a trial resulted in value: 0.9806312827861656. Current best value is 0.34431727727673384 with parameters: {'n_estimators': 49, 'num_leaves': 92, 'colsample_bytree': 0.9071162195612112, 'learning_rate': 0.14397931071399334, 'max_depth': 600}.\n",
      "[I 2019-03-11 21:03:52,773] Finished a trial resulted in value: 0.5673883671237119. Current best value is 0.34431727727673384 with parameters: {'n_estimators': 49, 'num_leaves': 92, 'colsample_bytree': 0.9071162195612112, 'learning_rate': 0.14397931071399334, 'max_depth': 600}.\n",
      "[I 2019-03-11 21:03:52,910] Finished a trial resulted in value: 0.41923344739437285. Current best value is 0.34431727727673384 with parameters: {'n_estimators': 49, 'num_leaves': 92, 'colsample_bytree': 0.9071162195612112, 'learning_rate': 0.14397931071399334, 'max_depth': 600}.\n",
      "[I 2019-03-11 21:03:53,063] Finished a trial resulted in value: 0.6382048818871631. Current best value is 0.34431727727673384 with parameters: {'n_estimators': 49, 'num_leaves': 92, 'colsample_bytree': 0.9071162195612112, 'learning_rate': 0.14397931071399334, 'max_depth': 600}.\n",
      "[I 2019-03-11 21:03:53,220] Finished a trial resulted in value: 0.3816715733459842. Current best value is 0.34431727727673384 with parameters: {'n_estimators': 49, 'num_leaves': 92, 'colsample_bytree': 0.9071162195612112, 'learning_rate': 0.14397931071399334, 'max_depth': 600}.\n",
      "[I 2019-03-11 21:03:53,429] Finished a trial resulted in value: 1.1214526171580081. Current best value is 0.34431727727673384 with parameters: {'n_estimators': 49, 'num_leaves': 92, 'colsample_bytree': 0.9071162195612112, 'learning_rate': 0.14397931071399334, 'max_depth': 600}.\n",
      "[I 2019-03-11 21:03:53,735] Finished a trial resulted in value: 1.0483113337211558. Current best value is 0.34431727727673384 with parameters: {'n_estimators': 49, 'num_leaves': 92, 'colsample_bytree': 0.9071162195612112, 'learning_rate': 0.14397931071399334, 'max_depth': 600}.\n",
      "[I 2019-03-11 21:03:53,920] Finished a trial resulted in value: 0.421800012639079. Current best value is 0.34431727727673384 with parameters: {'n_estimators': 49, 'num_leaves': 92, 'colsample_bytree': 0.9071162195612112, 'learning_rate': 0.14397931071399334, 'max_depth': 600}.\n",
      "[I 2019-03-11 21:03:54,077] Finished a trial resulted in value: 0.41338307444726785. Current best value is 0.34431727727673384 with parameters: {'n_estimators': 49, 'num_leaves': 92, 'colsample_bytree': 0.9071162195612112, 'learning_rate': 0.14397931071399334, 'max_depth': 600}.\n",
      "[I 2019-03-11 21:03:54,253] Finished a trial resulted in value: 0.6446597662380584. Current best value is 0.34431727727673384 with parameters: {'n_estimators': 49, 'num_leaves': 92, 'colsample_bytree': 0.9071162195612112, 'learning_rate': 0.14397931071399334, 'max_depth': 600}.\n",
      "[I 2019-03-11 21:03:54,611] Finished a trial resulted in value: 0.34728375200467215. Current best value is 0.34431727727673384 with parameters: {'n_estimators': 49, 'num_leaves': 92, 'colsample_bytree': 0.9071162195612112, 'learning_rate': 0.14397931071399334, 'max_depth': 600}.\n",
      "[I 2019-03-11 21:03:54,962] Finished a trial resulted in value: 0.3769810851673677. Current best value is 0.34431727727673384 with parameters: {'n_estimators': 49, 'num_leaves': 92, 'colsample_bytree': 0.9071162195612112, 'learning_rate': 0.14397931071399334, 'max_depth': 600}.\n",
      "[I 2019-03-11 21:03:55,057] Finished a trial resulted in value: 1.106252565766893. Current best value is 0.34431727727673384 with parameters: {'n_estimators': 49, 'num_leaves': 92, 'colsample_bytree': 0.9071162195612112, 'learning_rate': 0.14397931071399334, 'max_depth': 600}.\n",
      "[I 2019-03-11 21:03:55,250] Finished a trial resulted in value: 0.5712908210754938. Current best value is 0.34431727727673384 with parameters: {'n_estimators': 49, 'num_leaves': 92, 'colsample_bytree': 0.9071162195612112, 'learning_rate': 0.14397931071399334, 'max_depth': 600}.\n",
      "[I 2019-03-11 21:03:55,450] Finished a trial resulted in value: 0.4655691888356644. Current best value is 0.34431727727673384 with parameters: {'n_estimators': 49, 'num_leaves': 92, 'colsample_bytree': 0.9071162195612112, 'learning_rate': 0.14397931071399334, 'max_depth': 600}.\n"
     ]
    },
    {
     "name": "stderr",
     "output_type": "stream",
     "text": [
      "[I 2019-03-11 21:03:55,705] Finished a trial resulted in value: 0.36919641073751674. Current best value is 0.34431727727673384 with parameters: {'n_estimators': 49, 'num_leaves': 92, 'colsample_bytree': 0.9071162195612112, 'learning_rate': 0.14397931071399334, 'max_depth': 600}.\n",
      "[I 2019-03-11 21:03:55,947] Finished a trial resulted in value: 0.35985134357154563. Current best value is 0.34431727727673384 with parameters: {'n_estimators': 49, 'num_leaves': 92, 'colsample_bytree': 0.9071162195612112, 'learning_rate': 0.14397931071399334, 'max_depth': 600}.\n",
      "[I 2019-03-11 21:03:56,030] Finished a trial resulted in value: 0.8150582310306883. Current best value is 0.34431727727673384 with parameters: {'n_estimators': 49, 'num_leaves': 92, 'colsample_bytree': 0.9071162195612112, 'learning_rate': 0.14397931071399334, 'max_depth': 600}.\n",
      "[I 2019-03-11 21:03:56,188] Finished a trial resulted in value: 0.5200299827699927. Current best value is 0.34431727727673384 with parameters: {'n_estimators': 49, 'num_leaves': 92, 'colsample_bytree': 0.9071162195612112, 'learning_rate': 0.14397931071399334, 'max_depth': 600}.\n",
      "[I 2019-03-11 21:03:56,437] Finished a trial resulted in value: 0.34478436392262146. Current best value is 0.34431727727673384 with parameters: {'n_estimators': 49, 'num_leaves': 92, 'colsample_bytree': 0.9071162195612112, 'learning_rate': 0.14397931071399334, 'max_depth': 600}.\n",
      "[I 2019-03-11 21:03:56,526] Finished a trial resulted in value: 1.0360062904211202. Current best value is 0.34431727727673384 with parameters: {'n_estimators': 49, 'num_leaves': 92, 'colsample_bytree': 0.9071162195612112, 'learning_rate': 0.14397931071399334, 'max_depth': 600}.\n",
      "[I 2019-03-11 21:03:56,744] Finished a trial resulted in value: 0.3951455478730548. Current best value is 0.34431727727673384 with parameters: {'n_estimators': 49, 'num_leaves': 92, 'colsample_bytree': 0.9071162195612112, 'learning_rate': 0.14397931071399334, 'max_depth': 600}.\n",
      "[I 2019-03-11 21:03:56,865] Finished a trial resulted in value: 0.35495558380542486. Current best value is 0.34431727727673384 with parameters: {'n_estimators': 49, 'num_leaves': 92, 'colsample_bytree': 0.9071162195612112, 'learning_rate': 0.14397931071399334, 'max_depth': 600}.\n",
      "[I 2019-03-11 21:03:57,025] Finished a trial resulted in value: 0.4211699759835961. Current best value is 0.34431727727673384 with parameters: {'n_estimators': 49, 'num_leaves': 92, 'colsample_bytree': 0.9071162195612112, 'learning_rate': 0.14397931071399334, 'max_depth': 600}.\n",
      "[I 2019-03-11 21:03:57,164] Finished a trial resulted in value: 0.3770753586751137. Current best value is 0.34431727727673384 with parameters: {'n_estimators': 49, 'num_leaves': 92, 'colsample_bytree': 0.9071162195612112, 'learning_rate': 0.14397931071399334, 'max_depth': 600}.\n",
      "[I 2019-03-11 21:03:57,319] Finished a trial resulted in value: 0.49795630159333293. Current best value is 0.34431727727673384 with parameters: {'n_estimators': 49, 'num_leaves': 92, 'colsample_bytree': 0.9071162195612112, 'learning_rate': 0.14397931071399334, 'max_depth': 600}.\n",
      "[I 2019-03-11 21:03:57,587] Finished a trial resulted in value: 0.39374777584535164. Current best value is 0.34431727727673384 with parameters: {'n_estimators': 49, 'num_leaves': 92, 'colsample_bytree': 0.9071162195612112, 'learning_rate': 0.14397931071399334, 'max_depth': 600}.\n",
      "[I 2019-03-11 21:03:57,761] Finished a trial resulted in value: 0.4004900823681555. Current best value is 0.34431727727673384 with parameters: {'n_estimators': 49, 'num_leaves': 92, 'colsample_bytree': 0.9071162195612112, 'learning_rate': 0.14397931071399334, 'max_depth': 600}.\n",
      "[I 2019-03-11 21:03:58,228] Finished a trial resulted in value: 0.3934848558860347. Current best value is 0.34431727727673384 with parameters: {'n_estimators': 49, 'num_leaves': 92, 'colsample_bytree': 0.9071162195612112, 'learning_rate': 0.14397931071399334, 'max_depth': 600}.\n",
      "[I 2019-03-11 21:03:58,354] Finished a trial resulted in value: 0.35493677590463574. Current best value is 0.34431727727673384 with parameters: {'n_estimators': 49, 'num_leaves': 92, 'colsample_bytree': 0.9071162195612112, 'learning_rate': 0.14397931071399334, 'max_depth': 600}.\n",
      "[I 2019-03-11 21:03:58,607] Finished a trial resulted in value: 0.4097884896530577. Current best value is 0.34431727727673384 with parameters: {'n_estimators': 49, 'num_leaves': 92, 'colsample_bytree': 0.9071162195612112, 'learning_rate': 0.14397931071399334, 'max_depth': 600}.\n",
      "[I 2019-03-11 21:03:58,704] Finished a trial resulted in value: 0.48914208418206767. Current best value is 0.34431727727673384 with parameters: {'n_estimators': 49, 'num_leaves': 92, 'colsample_bytree': 0.9071162195612112, 'learning_rate': 0.14397931071399334, 'max_depth': 600}.\n",
      "[I 2019-03-11 21:03:58,929] Finished a trial resulted in value: 0.37830039254777303. Current best value is 0.34431727727673384 with parameters: {'n_estimators': 49, 'num_leaves': 92, 'colsample_bytree': 0.9071162195612112, 'learning_rate': 0.14397931071399334, 'max_depth': 600}.\n",
      "[I 2019-03-11 21:03:59,058] Finished a trial resulted in value: 0.6468354389804333. Current best value is 0.34431727727673384 with parameters: {'n_estimators': 49, 'num_leaves': 92, 'colsample_bytree': 0.9071162195612112, 'learning_rate': 0.14397931071399334, 'max_depth': 600}.\n",
      "[I 2019-03-11 21:03:59,398] Finished a trial resulted in value: 0.3848891496439172. Current best value is 0.34431727727673384 with parameters: {'n_estimators': 49, 'num_leaves': 92, 'colsample_bytree': 0.9071162195612112, 'learning_rate': 0.14397931071399334, 'max_depth': 600}.\n",
      "[I 2019-03-11 21:03:59,548] Finished a trial resulted in value: 0.3908536244233423. Current best value is 0.34431727727673384 with parameters: {'n_estimators': 49, 'num_leaves': 92, 'colsample_bytree': 0.9071162195612112, 'learning_rate': 0.14397931071399334, 'max_depth': 600}.\n",
      "[I 2019-03-11 21:03:59,732] Finished a trial resulted in value: 0.7217924124747335. Current best value is 0.34431727727673384 with parameters: {'n_estimators': 49, 'num_leaves': 92, 'colsample_bytree': 0.9071162195612112, 'learning_rate': 0.14397931071399334, 'max_depth': 600}.\n",
      "[I 2019-03-11 21:03:59,844] Finished a trial resulted in value: 0.37212163241380747. Current best value is 0.34431727727673384 with parameters: {'n_estimators': 49, 'num_leaves': 92, 'colsample_bytree': 0.9071162195612112, 'learning_rate': 0.14397931071399334, 'max_depth': 600}.\n",
      "[I 2019-03-11 21:04:00,221] Finished a trial resulted in value: 0.35112034240091067. Current best value is 0.34431727727673384 with parameters: {'n_estimators': 49, 'num_leaves': 92, 'colsample_bytree': 0.9071162195612112, 'learning_rate': 0.14397931071399334, 'max_depth': 600}.\n",
      "[I 2019-03-11 21:04:00,490] Finished a trial resulted in value: 1.1126788394776335. Current best value is 0.34431727727673384 with parameters: {'n_estimators': 49, 'num_leaves': 92, 'colsample_bytree': 0.9071162195612112, 'learning_rate': 0.14397931071399334, 'max_depth': 600}.\n",
      "[I 2019-03-11 21:04:00,667] Finished a trial resulted in value: 0.9934399788121272. Current best value is 0.34431727727673384 with parameters: {'n_estimators': 49, 'num_leaves': 92, 'colsample_bytree': 0.9071162195612112, 'learning_rate': 0.14397931071399334, 'max_depth': 600}.\n",
      "[I 2019-03-11 21:04:01,036] Finished a trial resulted in value: 1.039591858915312. Current best value is 0.34431727727673384 with parameters: {'n_estimators': 49, 'num_leaves': 92, 'colsample_bytree': 0.9071162195612112, 'learning_rate': 0.14397931071399334, 'max_depth': 600}.\n",
      "[I 2019-03-11 21:04:01,235] Finished a trial resulted in value: 0.3638001705732159. Current best value is 0.34431727727673384 with parameters: {'n_estimators': 49, 'num_leaves': 92, 'colsample_bytree': 0.9071162195612112, 'learning_rate': 0.14397931071399334, 'max_depth': 600}.\n",
      "[I 2019-03-11 21:04:01,414] Finished a trial resulted in value: 0.43690649805223547. Current best value is 0.34431727727673384 with parameters: {'n_estimators': 49, 'num_leaves': 92, 'colsample_bytree': 0.9071162195612112, 'learning_rate': 0.14397931071399334, 'max_depth': 600}.\n"
     ]
    },
    {
     "name": "stderr",
     "output_type": "stream",
     "text": [
      "[I 2019-03-11 21:04:01,571] Finished a trial resulted in value: 0.5443034280294836. Current best value is 0.34431727727673384 with parameters: {'n_estimators': 49, 'num_leaves': 92, 'colsample_bytree': 0.9071162195612112, 'learning_rate': 0.14397931071399334, 'max_depth': 600}.\n",
      "[I 2019-03-11 21:04:01,990] Finished a trial resulted in value: 0.38008541753421876. Current best value is 0.34431727727673384 with parameters: {'n_estimators': 49, 'num_leaves': 92, 'colsample_bytree': 0.9071162195612112, 'learning_rate': 0.14397931071399334, 'max_depth': 600}.\n",
      "[I 2019-03-11 21:04:02,373] Finished a trial resulted in value: 0.3563158415987411. Current best value is 0.34431727727673384 with parameters: {'n_estimators': 49, 'num_leaves': 92, 'colsample_bytree': 0.9071162195612112, 'learning_rate': 0.14397931071399334, 'max_depth': 600}.\n",
      "[I 2019-03-11 21:04:02,590] Finished a trial resulted in value: 0.5714191193769601. Current best value is 0.34431727727673384 with parameters: {'n_estimators': 49, 'num_leaves': 92, 'colsample_bytree': 0.9071162195612112, 'learning_rate': 0.14397931071399334, 'max_depth': 600}.\n",
      "[I 2019-03-11 21:04:03,049] Finished a trial resulted in value: 0.37087209307009816. Current best value is 0.34431727727673384 with parameters: {'n_estimators': 49, 'num_leaves': 92, 'colsample_bytree': 0.9071162195612112, 'learning_rate': 0.14397931071399334, 'max_depth': 600}.\n",
      "[I 2019-03-11 21:04:03,298] Finished a trial resulted in value: 0.3738041992287089. Current best value is 0.34431727727673384 with parameters: {'n_estimators': 49, 'num_leaves': 92, 'colsample_bytree': 0.9071162195612112, 'learning_rate': 0.14397931071399334, 'max_depth': 600}.\n",
      "[I 2019-03-11 21:04:03,431] Finished a trial resulted in value: 0.37153155342743993. Current best value is 0.34431727727673384 with parameters: {'n_estimators': 49, 'num_leaves': 92, 'colsample_bytree': 0.9071162195612112, 'learning_rate': 0.14397931071399334, 'max_depth': 600}.\n",
      "[I 2019-03-11 21:04:03,567] Finished a trial resulted in value: 0.48575160338694. Current best value is 0.34431727727673384 with parameters: {'n_estimators': 49, 'num_leaves': 92, 'colsample_bytree': 0.9071162195612112, 'learning_rate': 0.14397931071399334, 'max_depth': 600}.\n",
      "[I 2019-03-11 21:04:03,927] Finished a trial resulted in value: 0.37701965588711855. Current best value is 0.34431727727673384 with parameters: {'n_estimators': 49, 'num_leaves': 92, 'colsample_bytree': 0.9071162195612112, 'learning_rate': 0.14397931071399334, 'max_depth': 600}.\n",
      "[I 2019-03-11 21:04:04,189] Finished a trial resulted in value: 0.3526748285477313. Current best value is 0.34431727727673384 with parameters: {'n_estimators': 49, 'num_leaves': 92, 'colsample_bytree': 0.9071162195612112, 'learning_rate': 0.14397931071399334, 'max_depth': 600}.\n",
      "[I 2019-03-11 21:04:04,363] Finished a trial resulted in value: 0.7881695440068389. Current best value is 0.34431727727673384 with parameters: {'n_estimators': 49, 'num_leaves': 92, 'colsample_bytree': 0.9071162195612112, 'learning_rate': 0.14397931071399334, 'max_depth': 600}.\n",
      "[I 2019-03-11 21:04:04,749] Finished a trial resulted in value: 0.3633078510549576. Current best value is 0.34431727727673384 with parameters: {'n_estimators': 49, 'num_leaves': 92, 'colsample_bytree': 0.9071162195612112, 'learning_rate': 0.14397931071399334, 'max_depth': 600}.\n",
      "[I 2019-03-11 21:04:04,953] Finished a trial resulted in value: 0.41480350331871885. Current best value is 0.34431727727673384 with parameters: {'n_estimators': 49, 'num_leaves': 92, 'colsample_bytree': 0.9071162195612112, 'learning_rate': 0.14397931071399334, 'max_depth': 600}.\n",
      "[I 2019-03-11 21:04:05,079] Finished a trial resulted in value: 0.4824347615049462. Current best value is 0.34431727727673384 with parameters: {'n_estimators': 49, 'num_leaves': 92, 'colsample_bytree': 0.9071162195612112, 'learning_rate': 0.14397931071399334, 'max_depth': 600}.\n",
      "[I 2019-03-11 21:04:05,262] Finished a trial resulted in value: 0.40553578479848434. Current best value is 0.34431727727673384 with parameters: {'n_estimators': 49, 'num_leaves': 92, 'colsample_bytree': 0.9071162195612112, 'learning_rate': 0.14397931071399334, 'max_depth': 600}.\n",
      "[I 2019-03-11 21:04:05,683] Finished a trial resulted in value: 0.37598820239601355. Current best value is 0.34431727727673384 with parameters: {'n_estimators': 49, 'num_leaves': 92, 'colsample_bytree': 0.9071162195612112, 'learning_rate': 0.14397931071399334, 'max_depth': 600}.\n",
      "[I 2019-03-11 21:04:05,944] Finished a trial resulted in value: 0.9490103139860683. Current best value is 0.34431727727673384 with parameters: {'n_estimators': 49, 'num_leaves': 92, 'colsample_bytree': 0.9071162195612112, 'learning_rate': 0.14397931071399334, 'max_depth': 600}.\n",
      "[I 2019-03-11 21:04:06,126] Finished a trial resulted in value: 0.38984968879375703. Current best value is 0.34431727727673384 with parameters: {'n_estimators': 49, 'num_leaves': 92, 'colsample_bytree': 0.9071162195612112, 'learning_rate': 0.14397931071399334, 'max_depth': 600}.\n",
      "[I 2019-03-11 21:04:07,048] Finished a trial resulted in value: 0.3783483465041167. Current best value is 0.34431727727673384 with parameters: {'n_estimators': 49, 'num_leaves': 92, 'colsample_bytree': 0.9071162195612112, 'learning_rate': 0.14397931071399334, 'max_depth': 600}.\n",
      "[I 2019-03-11 21:04:07,253] Finished a trial resulted in value: 0.4907441885799823. Current best value is 0.34431727727673384 with parameters: {'n_estimators': 49, 'num_leaves': 92, 'colsample_bytree': 0.9071162195612112, 'learning_rate': 0.14397931071399334, 'max_depth': 600}.\n",
      "[I 2019-03-11 21:04:07,401] Finished a trial resulted in value: 0.7759015460518645. Current best value is 0.34431727727673384 with parameters: {'n_estimators': 49, 'num_leaves': 92, 'colsample_bytree': 0.9071162195612112, 'learning_rate': 0.14397931071399334, 'max_depth': 600}.\n",
      "[I 2019-03-11 21:04:07,673] Finished a trial resulted in value: 0.5052399825491234. Current best value is 0.34431727727673384 with parameters: {'n_estimators': 49, 'num_leaves': 92, 'colsample_bytree': 0.9071162195612112, 'learning_rate': 0.14397931071399334, 'max_depth': 600}.\n",
      "[I 2019-03-11 21:04:08,821] Finished a trial resulted in value: 0.3713487497569218. Current best value is 0.34431727727673384 with parameters: {'n_estimators': 49, 'num_leaves': 92, 'colsample_bytree': 0.9071162195612112, 'learning_rate': 0.14397931071399334, 'max_depth': 600}.\n",
      "[I 2019-03-11 21:04:09,576] Finished a trial resulted in value: 0.3798638934782748. Current best value is 0.34431727727673384 with parameters: {'n_estimators': 49, 'num_leaves': 92, 'colsample_bytree': 0.9071162195612112, 'learning_rate': 0.14397931071399334, 'max_depth': 600}.\n",
      "[I 2019-03-11 21:04:10,200] Finished a trial resulted in value: 0.3481499449621077. Current best value is 0.34431727727673384 with parameters: {'n_estimators': 49, 'num_leaves': 92, 'colsample_bytree': 0.9071162195612112, 'learning_rate': 0.14397931071399334, 'max_depth': 600}.\n",
      "[I 2019-03-11 21:04:10,596] Finished a trial resulted in value: 0.3975765100540991. Current best value is 0.34431727727673384 with parameters: {'n_estimators': 49, 'num_leaves': 92, 'colsample_bytree': 0.9071162195612112, 'learning_rate': 0.14397931071399334, 'max_depth': 600}.\n",
      "[I 2019-03-11 21:04:10,879] Finished a trial resulted in value: 0.7190143248523129. Current best value is 0.34431727727673384 with parameters: {'n_estimators': 49, 'num_leaves': 92, 'colsample_bytree': 0.9071162195612112, 'learning_rate': 0.14397931071399334, 'max_depth': 600}.\n",
      "[I 2019-03-11 21:04:11,079] Finished a trial resulted in value: 0.4919939612616534. Current best value is 0.34431727727673384 with parameters: {'n_estimators': 49, 'num_leaves': 92, 'colsample_bytree': 0.9071162195612112, 'learning_rate': 0.14397931071399334, 'max_depth': 600}.\n",
      "[I 2019-03-11 21:04:11,219] Finished a trial resulted in value: 0.8571030650698206. Current best value is 0.34431727727673384 with parameters: {'n_estimators': 49, 'num_leaves': 92, 'colsample_bytree': 0.9071162195612112, 'learning_rate': 0.14397931071399334, 'max_depth': 600}.\n"
     ]
    },
    {
     "name": "stderr",
     "output_type": "stream",
     "text": [
      "[I 2019-03-11 21:04:11,690] Finished a trial resulted in value: 0.39188040326883133. Current best value is 0.34431727727673384 with parameters: {'n_estimators': 49, 'num_leaves': 92, 'colsample_bytree': 0.9071162195612112, 'learning_rate': 0.14397931071399334, 'max_depth': 600}.\n",
      "[I 2019-03-11 21:04:11,985] Finished a trial resulted in value: 0.35382391629856474. Current best value is 0.34431727727673384 with parameters: {'n_estimators': 49, 'num_leaves': 92, 'colsample_bytree': 0.9071162195612112, 'learning_rate': 0.14397931071399334, 'max_depth': 600}.\n",
      "[I 2019-03-11 21:04:12,167] Finished a trial resulted in value: 1.0954323159913737. Current best value is 0.34431727727673384 with parameters: {'n_estimators': 49, 'num_leaves': 92, 'colsample_bytree': 0.9071162195612112, 'learning_rate': 0.14397931071399334, 'max_depth': 600}.\n",
      "[I 2019-03-11 21:04:12,566] Finished a trial resulted in value: 0.4397278975764176. Current best value is 0.34431727727673384 with parameters: {'n_estimators': 49, 'num_leaves': 92, 'colsample_bytree': 0.9071162195612112, 'learning_rate': 0.14397931071399334, 'max_depth': 600}.\n",
      "[I 2019-03-11 21:04:12,866] Finished a trial resulted in value: 0.6726798137488867. Current best value is 0.34431727727673384 with parameters: {'n_estimators': 49, 'num_leaves': 92, 'colsample_bytree': 0.9071162195612112, 'learning_rate': 0.14397931071399334, 'max_depth': 600}.\n",
      "[I 2019-03-11 21:04:13,264] Finished a trial resulted in value: 1.1129717657684617. Current best value is 0.34431727727673384 with parameters: {'n_estimators': 49, 'num_leaves': 92, 'colsample_bytree': 0.9071162195612112, 'learning_rate': 0.14397931071399334, 'max_depth': 600}.\n",
      "[I 2019-03-11 21:04:13,532] Finished a trial resulted in value: 1.065744635476189. Current best value is 0.34431727727673384 with parameters: {'n_estimators': 49, 'num_leaves': 92, 'colsample_bytree': 0.9071162195612112, 'learning_rate': 0.14397931071399334, 'max_depth': 600}.\n",
      "[I 2019-03-11 21:04:14,826] Finished a trial resulted in value: 0.34585133001614154. Current best value is 0.34431727727673384 with parameters: {'n_estimators': 49, 'num_leaves': 92, 'colsample_bytree': 0.9071162195612112, 'learning_rate': 0.14397931071399334, 'max_depth': 600}.\n",
      "[I 2019-03-11 21:04:15,141] Finished a trial resulted in value: 0.36493163284031593. Current best value is 0.34431727727673384 with parameters: {'n_estimators': 49, 'num_leaves': 92, 'colsample_bytree': 0.9071162195612112, 'learning_rate': 0.14397931071399334, 'max_depth': 600}.\n",
      "[I 2019-03-11 21:04:15,389] Finished a trial resulted in value: 0.4505304595806843. Current best value is 0.34431727727673384 with parameters: {'n_estimators': 49, 'num_leaves': 92, 'colsample_bytree': 0.9071162195612112, 'learning_rate': 0.14397931071399334, 'max_depth': 600}.\n",
      "[I 2019-03-11 21:04:15,595] Finished a trial resulted in value: 0.9662905627278542. Current best value is 0.34431727727673384 with parameters: {'n_estimators': 49, 'num_leaves': 92, 'colsample_bytree': 0.9071162195612112, 'learning_rate': 0.14397931071399334, 'max_depth': 600}.\n",
      "[I 2019-03-11 21:04:15,850] Finished a trial resulted in value: 0.4003403155965908. Current best value is 0.34431727727673384 with parameters: {'n_estimators': 49, 'num_leaves': 92, 'colsample_bytree': 0.9071162195612112, 'learning_rate': 0.14397931071399334, 'max_depth': 600}.\n",
      "[I 2019-03-11 21:04:16,018] Finished a trial resulted in value: 0.8535879493008374. Current best value is 0.34431727727673384 with parameters: {'n_estimators': 49, 'num_leaves': 92, 'colsample_bytree': 0.9071162195612112, 'learning_rate': 0.14397931071399334, 'max_depth': 600}.\n",
      "[I 2019-03-11 21:04:16,259] Finished a trial resulted in value: 1.0413774455995473. Current best value is 0.34431727727673384 with parameters: {'n_estimators': 49, 'num_leaves': 92, 'colsample_bytree': 0.9071162195612112, 'learning_rate': 0.14397931071399334, 'max_depth': 600}.\n",
      "[I 2019-03-11 21:04:16,534] Finished a trial resulted in value: 0.3864744597981582. Current best value is 0.34431727727673384 with parameters: {'n_estimators': 49, 'num_leaves': 92, 'colsample_bytree': 0.9071162195612112, 'learning_rate': 0.14397931071399334, 'max_depth': 600}.\n",
      "[I 2019-03-11 21:04:16,797] Finished a trial resulted in value: 0.3756533444853586. Current best value is 0.34431727727673384 with parameters: {'n_estimators': 49, 'num_leaves': 92, 'colsample_bytree': 0.9071162195612112, 'learning_rate': 0.14397931071399334, 'max_depth': 600}.\n",
      "[I 2019-03-11 21:04:16,992] Finished a trial resulted in value: 0.394008501491651. Current best value is 0.34431727727673384 with parameters: {'n_estimators': 49, 'num_leaves': 92, 'colsample_bytree': 0.9071162195612112, 'learning_rate': 0.14397931071399334, 'max_depth': 600}.\n",
      "[I 2019-03-11 21:04:17,256] Finished a trial resulted in value: 0.36194932516756606. Current best value is 0.34431727727673384 with parameters: {'n_estimators': 49, 'num_leaves': 92, 'colsample_bytree': 0.9071162195612112, 'learning_rate': 0.14397931071399334, 'max_depth': 600}.\n",
      "[I 2019-03-11 21:04:17,520] Finished a trial resulted in value: 0.8582725425202407. Current best value is 0.34431727727673384 with parameters: {'n_estimators': 49, 'num_leaves': 92, 'colsample_bytree': 0.9071162195612112, 'learning_rate': 0.14397931071399334, 'max_depth': 600}.\n",
      "[I 2019-03-11 21:04:17,930] Finished a trial resulted in value: 0.9076649633907931. Current best value is 0.34431727727673384 with parameters: {'n_estimators': 49, 'num_leaves': 92, 'colsample_bytree': 0.9071162195612112, 'learning_rate': 0.14397931071399334, 'max_depth': 600}.\n",
      "[I 2019-03-11 21:04:18,108] Finished a trial resulted in value: 0.45308133018529495. Current best value is 0.34431727727673384 with parameters: {'n_estimators': 49, 'num_leaves': 92, 'colsample_bytree': 0.9071162195612112, 'learning_rate': 0.14397931071399334, 'max_depth': 600}.\n",
      "[I 2019-03-11 21:04:18,398] Finished a trial resulted in value: 0.738374764008608. Current best value is 0.34431727727673384 with parameters: {'n_estimators': 49, 'num_leaves': 92, 'colsample_bytree': 0.9071162195612112, 'learning_rate': 0.14397931071399334, 'max_depth': 600}.\n",
      "[I 2019-03-11 21:04:18,669] Finished a trial resulted in value: 0.36224785156511136. Current best value is 0.34431727727673384 with parameters: {'n_estimators': 49, 'num_leaves': 92, 'colsample_bytree': 0.9071162195612112, 'learning_rate': 0.14397931071399334, 'max_depth': 600}.\n",
      "[I 2019-03-11 21:04:20,157] Finished a trial resulted in value: 0.3467720414963285. Current best value is 0.34431727727673384 with parameters: {'n_estimators': 49, 'num_leaves': 92, 'colsample_bytree': 0.9071162195612112, 'learning_rate': 0.14397931071399334, 'max_depth': 600}.\n",
      "[I 2019-03-11 21:04:20,529] Finished a trial resulted in value: 0.4443061218973736. Current best value is 0.34431727727673384 with parameters: {'n_estimators': 49, 'num_leaves': 92, 'colsample_bytree': 0.9071162195612112, 'learning_rate': 0.14397931071399334, 'max_depth': 600}.\n",
      "[I 2019-03-11 21:04:20,916] Finished a trial resulted in value: 0.43879938043997985. Current best value is 0.34431727727673384 with parameters: {'n_estimators': 49, 'num_leaves': 92, 'colsample_bytree': 0.9071162195612112, 'learning_rate': 0.14397931071399334, 'max_depth': 600}.\n",
      "[I 2019-03-11 21:04:21,056] Finished a trial resulted in value: 0.4054361834125821. Current best value is 0.34431727727673384 with parameters: {'n_estimators': 49, 'num_leaves': 92, 'colsample_bytree': 0.9071162195612112, 'learning_rate': 0.14397931071399334, 'max_depth': 600}.\n",
      "[I 2019-03-11 21:04:21,267] Finished a trial resulted in value: 0.4145910531706633. Current best value is 0.34431727727673384 with parameters: {'n_estimators': 49, 'num_leaves': 92, 'colsample_bytree': 0.9071162195612112, 'learning_rate': 0.14397931071399334, 'max_depth': 600}.\n",
      "[I 2019-03-11 21:04:21,535] Finished a trial resulted in value: 0.565536100808165. Current best value is 0.34431727727673384 with parameters: {'n_estimators': 49, 'num_leaves': 92, 'colsample_bytree': 0.9071162195612112, 'learning_rate': 0.14397931071399334, 'max_depth': 600}.\n"
     ]
    },
    {
     "name": "stderr",
     "output_type": "stream",
     "text": [
      "[I 2019-03-11 21:04:21,750] Finished a trial resulted in value: 0.44730652759731976. Current best value is 0.34431727727673384 with parameters: {'n_estimators': 49, 'num_leaves': 92, 'colsample_bytree': 0.9071162195612112, 'learning_rate': 0.14397931071399334, 'max_depth': 600}.\n",
      "[I 2019-03-11 21:04:21,919] Finished a trial resulted in value: 0.3490324359993981. Current best value is 0.34431727727673384 with parameters: {'n_estimators': 49, 'num_leaves': 92, 'colsample_bytree': 0.9071162195612112, 'learning_rate': 0.14397931071399334, 'max_depth': 600}.\n",
      "[I 2019-03-11 21:04:22,154] Finished a trial resulted in value: 0.3777901351997789. Current best value is 0.34431727727673384 with parameters: {'n_estimators': 49, 'num_leaves': 92, 'colsample_bytree': 0.9071162195612112, 'learning_rate': 0.14397931071399334, 'max_depth': 600}.\n",
      "[I 2019-03-11 21:04:22,353] Finished a trial resulted in value: 0.4355565038814277. Current best value is 0.34431727727673384 with parameters: {'n_estimators': 49, 'num_leaves': 92, 'colsample_bytree': 0.9071162195612112, 'learning_rate': 0.14397931071399334, 'max_depth': 600}.\n",
      "[I 2019-03-11 21:04:22,525] Finished a trial resulted in value: 0.41569060801368113. Current best value is 0.34431727727673384 with parameters: {'n_estimators': 49, 'num_leaves': 92, 'colsample_bytree': 0.9071162195612112, 'learning_rate': 0.14397931071399334, 'max_depth': 600}.\n",
      "[I 2019-03-11 21:04:22,806] Finished a trial resulted in value: 0.41007722814390507. Current best value is 0.34431727727673384 with parameters: {'n_estimators': 49, 'num_leaves': 92, 'colsample_bytree': 0.9071162195612112, 'learning_rate': 0.14397931071399334, 'max_depth': 600}.\n",
      "[I 2019-03-11 21:04:23,194] Finished a trial resulted in value: 0.4480744692003648. Current best value is 0.34431727727673384 with parameters: {'n_estimators': 49, 'num_leaves': 92, 'colsample_bytree': 0.9071162195612112, 'learning_rate': 0.14397931071399334, 'max_depth': 600}.\n",
      "[I 2019-03-11 21:04:23,456] Finished a trial resulted in value: 0.36223522203604186. Current best value is 0.34431727727673384 with parameters: {'n_estimators': 49, 'num_leaves': 92, 'colsample_bytree': 0.9071162195612112, 'learning_rate': 0.14397931071399334, 'max_depth': 600}.\n",
      "[I 2019-03-11 21:04:23,637] Finished a trial resulted in value: 0.547307882549679. Current best value is 0.34431727727673384 with parameters: {'n_estimators': 49, 'num_leaves': 92, 'colsample_bytree': 0.9071162195612112, 'learning_rate': 0.14397931071399334, 'max_depth': 600}.\n",
      "[I 2019-03-11 21:04:23,924] Finished a trial resulted in value: 0.35885916826822023. Current best value is 0.34431727727673384 with parameters: {'n_estimators': 49, 'num_leaves': 92, 'colsample_bytree': 0.9071162195612112, 'learning_rate': 0.14397931071399334, 'max_depth': 600}.\n",
      "[I 2019-03-11 21:04:24,212] Finished a trial resulted in value: 0.3504679633667291. Current best value is 0.34431727727673384 with parameters: {'n_estimators': 49, 'num_leaves': 92, 'colsample_bytree': 0.9071162195612112, 'learning_rate': 0.14397931071399334, 'max_depth': 600}.\n",
      "[I 2019-03-11 21:04:24,772] Finished a trial resulted in value: 0.35381796160626583. Current best value is 0.34431727727673384 with parameters: {'n_estimators': 49, 'num_leaves': 92, 'colsample_bytree': 0.9071162195612112, 'learning_rate': 0.14397931071399334, 'max_depth': 600}.\n",
      "[I 2019-03-11 21:04:24,963] Finished a trial resulted in value: 0.6656804864096463. Current best value is 0.34431727727673384 with parameters: {'n_estimators': 49, 'num_leaves': 92, 'colsample_bytree': 0.9071162195612112, 'learning_rate': 0.14397931071399334, 'max_depth': 600}.\n",
      "[I 2019-03-11 21:04:25,396] Finished a trial resulted in value: 0.3534549640119106. Current best value is 0.34431727727673384 with parameters: {'n_estimators': 49, 'num_leaves': 92, 'colsample_bytree': 0.9071162195612112, 'learning_rate': 0.14397931071399334, 'max_depth': 600}.\n",
      "[I 2019-03-11 21:04:25,655] Finished a trial resulted in value: 0.40413593614844867. Current best value is 0.34431727727673384 with parameters: {'n_estimators': 49, 'num_leaves': 92, 'colsample_bytree': 0.9071162195612112, 'learning_rate': 0.14397931071399334, 'max_depth': 600}.\n",
      "[I 2019-03-11 21:04:25,818] Finished a trial resulted in value: 0.44822476154791635. Current best value is 0.34431727727673384 with parameters: {'n_estimators': 49, 'num_leaves': 92, 'colsample_bytree': 0.9071162195612112, 'learning_rate': 0.14397931071399334, 'max_depth': 600}.\n",
      "[I 2019-03-11 21:04:26,130] Finished a trial resulted in value: 0.3914485131093812. Current best value is 0.34431727727673384 with parameters: {'n_estimators': 49, 'num_leaves': 92, 'colsample_bytree': 0.9071162195612112, 'learning_rate': 0.14397931071399334, 'max_depth': 600}.\n",
      "[I 2019-03-11 21:04:26,476] Finished a trial resulted in value: 0.3464710268284883. Current best value is 0.34431727727673384 with parameters: {'n_estimators': 49, 'num_leaves': 92, 'colsample_bytree': 0.9071162195612112, 'learning_rate': 0.14397931071399334, 'max_depth': 600}.\n",
      "[I 2019-03-11 21:04:26,860] Finished a trial resulted in value: 0.3698473514097657. Current best value is 0.34431727727673384 with parameters: {'n_estimators': 49, 'num_leaves': 92, 'colsample_bytree': 0.9071162195612112, 'learning_rate': 0.14397931071399334, 'max_depth': 600}.\n",
      "[I 2019-03-11 21:04:27,194] Finished a trial resulted in value: 0.4577850457611596. Current best value is 0.34431727727673384 with parameters: {'n_estimators': 49, 'num_leaves': 92, 'colsample_bytree': 0.9071162195612112, 'learning_rate': 0.14397931071399334, 'max_depth': 600}.\n",
      "[I 2019-03-11 21:04:29,111] Finished a trial resulted in value: 0.3462018624599607. Current best value is 0.34431727727673384 with parameters: {'n_estimators': 49, 'num_leaves': 92, 'colsample_bytree': 0.9071162195612112, 'learning_rate': 0.14397931071399334, 'max_depth': 600}.\n",
      "[I 2019-03-11 21:04:29,389] Finished a trial resulted in value: 0.38669132301793724. Current best value is 0.34431727727673384 with parameters: {'n_estimators': 49, 'num_leaves': 92, 'colsample_bytree': 0.9071162195612112, 'learning_rate': 0.14397931071399334, 'max_depth': 600}.\n",
      "[I 2019-03-11 21:04:29,720] Finished a trial resulted in value: 0.3564648466443493. Current best value is 0.34431727727673384 with parameters: {'n_estimators': 49, 'num_leaves': 92, 'colsample_bytree': 0.9071162195612112, 'learning_rate': 0.14397931071399334, 'max_depth': 600}.\n",
      "[I 2019-03-11 21:04:30,013] Finished a trial resulted in value: 0.6020715179888241. Current best value is 0.34431727727673384 with parameters: {'n_estimators': 49, 'num_leaves': 92, 'colsample_bytree': 0.9071162195612112, 'learning_rate': 0.14397931071399334, 'max_depth': 600}.\n",
      "[I 2019-03-11 21:04:30,516] Finished a trial resulted in value: 0.4490476226871856. Current best value is 0.34431727727673384 with parameters: {'n_estimators': 49, 'num_leaves': 92, 'colsample_bytree': 0.9071162195612112, 'learning_rate': 0.14397931071399334, 'max_depth': 600}.\n",
      "[I 2019-03-11 21:04:30,777] Finished a trial resulted in value: 0.5792860524111992. Current best value is 0.34431727727673384 with parameters: {'n_estimators': 49, 'num_leaves': 92, 'colsample_bytree': 0.9071162195612112, 'learning_rate': 0.14397931071399334, 'max_depth': 600}.\n",
      "[I 2019-03-11 21:04:31,153] Finished a trial resulted in value: 0.40417598320244436. Current best value is 0.34431727727673384 with parameters: {'n_estimators': 49, 'num_leaves': 92, 'colsample_bytree': 0.9071162195612112, 'learning_rate': 0.14397931071399334, 'max_depth': 600}.\n",
      "[I 2019-03-11 21:04:31,603] Finished a trial resulted in value: 1.0258860619745893. Current best value is 0.34431727727673384 with parameters: {'n_estimators': 49, 'num_leaves': 92, 'colsample_bytree': 0.9071162195612112, 'learning_rate': 0.14397931071399334, 'max_depth': 600}.\n",
      "[I 2019-03-11 21:04:31,856] Finished a trial resulted in value: 0.3925564243671224. Current best value is 0.34431727727673384 with parameters: {'n_estimators': 49, 'num_leaves': 92, 'colsample_bytree': 0.9071162195612112, 'learning_rate': 0.14397931071399334, 'max_depth': 600}.\n"
     ]
    },
    {
     "name": "stderr",
     "output_type": "stream",
     "text": [
      "[I 2019-03-11 21:04:32,230] Finished a trial resulted in value: 0.3768263600541317. Current best value is 0.34431727727673384 with parameters: {'n_estimators': 49, 'num_leaves': 92, 'colsample_bytree': 0.9071162195612112, 'learning_rate': 0.14397931071399334, 'max_depth': 600}.\n",
      "[I 2019-03-11 21:04:32,677] Finished a trial resulted in value: 0.3765818054983744. Current best value is 0.34431727727673384 with parameters: {'n_estimators': 49, 'num_leaves': 92, 'colsample_bytree': 0.9071162195612112, 'learning_rate': 0.14397931071399334, 'max_depth': 600}.\n",
      "[I 2019-03-11 21:04:32,972] Finished a trial resulted in value: 0.8375395912825163. Current best value is 0.34431727727673384 with parameters: {'n_estimators': 49, 'num_leaves': 92, 'colsample_bytree': 0.9071162195612112, 'learning_rate': 0.14397931071399334, 'max_depth': 600}.\n",
      "[I 2019-03-11 21:04:33,315] Finished a trial resulted in value: 0.39186860601080403. Current best value is 0.34431727727673384 with parameters: {'n_estimators': 49, 'num_leaves': 92, 'colsample_bytree': 0.9071162195612112, 'learning_rate': 0.14397931071399334, 'max_depth': 600}.\n",
      "[I 2019-03-11 21:04:33,721] Finished a trial resulted in value: 0.35624394699555334. Current best value is 0.34431727727673384 with parameters: {'n_estimators': 49, 'num_leaves': 92, 'colsample_bytree': 0.9071162195612112, 'learning_rate': 0.14397931071399334, 'max_depth': 600}.\n",
      "[I 2019-03-11 21:04:34,018] Finished a trial resulted in value: 0.366651789536763. Current best value is 0.34431727727673384 with parameters: {'n_estimators': 49, 'num_leaves': 92, 'colsample_bytree': 0.9071162195612112, 'learning_rate': 0.14397931071399334, 'max_depth': 600}.\n",
      "[I 2019-03-11 21:04:34,392] Finished a trial resulted in value: 0.4703639448289241. Current best value is 0.34431727727673384 with parameters: {'n_estimators': 49, 'num_leaves': 92, 'colsample_bytree': 0.9071162195612112, 'learning_rate': 0.14397931071399334, 'max_depth': 600}.\n",
      "[I 2019-03-11 21:04:34,765] Finished a trial resulted in value: 0.3969676833562671. Current best value is 0.34431727727673384 with parameters: {'n_estimators': 49, 'num_leaves': 92, 'colsample_bytree': 0.9071162195612112, 'learning_rate': 0.14397931071399334, 'max_depth': 600}.\n",
      "[I 2019-03-11 21:04:35,578] Finished a trial resulted in value: 1.1105338455990275. Current best value is 0.34431727727673384 with parameters: {'n_estimators': 49, 'num_leaves': 92, 'colsample_bytree': 0.9071162195612112, 'learning_rate': 0.14397931071399334, 'max_depth': 600}.\n",
      "[I 2019-03-11 21:04:36,011] Finished a trial resulted in value: 0.35837486015686154. Current best value is 0.34431727727673384 with parameters: {'n_estimators': 49, 'num_leaves': 92, 'colsample_bytree': 0.9071162195612112, 'learning_rate': 0.14397931071399334, 'max_depth': 600}.\n",
      "[I 2019-03-11 21:04:36,362] Finished a trial resulted in value: 0.37658631132331866. Current best value is 0.34431727727673384 with parameters: {'n_estimators': 49, 'num_leaves': 92, 'colsample_bytree': 0.9071162195612112, 'learning_rate': 0.14397931071399334, 'max_depth': 600}.\n",
      "[I 2019-03-11 21:04:36,596] Finished a trial resulted in value: 0.4086770364388193. Current best value is 0.34431727727673384 with parameters: {'n_estimators': 49, 'num_leaves': 92, 'colsample_bytree': 0.9071162195612112, 'learning_rate': 0.14397931071399334, 'max_depth': 600}.\n",
      "[I 2019-03-11 21:04:37,047] Finished a trial resulted in value: 0.36516309341861397. Current best value is 0.34431727727673384 with parameters: {'n_estimators': 49, 'num_leaves': 92, 'colsample_bytree': 0.9071162195612112, 'learning_rate': 0.14397931071399334, 'max_depth': 600}.\n",
      "[I 2019-03-11 21:04:37,387] Finished a trial resulted in value: 0.6935176873948673. Current best value is 0.34431727727673384 with parameters: {'n_estimators': 49, 'num_leaves': 92, 'colsample_bytree': 0.9071162195612112, 'learning_rate': 0.14397931071399334, 'max_depth': 600}.\n",
      "[I 2019-03-11 21:04:37,661] Finished a trial resulted in value: 0.4094748128850284. Current best value is 0.34431727727673384 with parameters: {'n_estimators': 49, 'num_leaves': 92, 'colsample_bytree': 0.9071162195612112, 'learning_rate': 0.14397931071399334, 'max_depth': 600}.\n",
      "[I 2019-03-11 21:04:38,161] Finished a trial resulted in value: 0.357144816654289. Current best value is 0.34431727727673384 with parameters: {'n_estimators': 49, 'num_leaves': 92, 'colsample_bytree': 0.9071162195612112, 'learning_rate': 0.14397931071399334, 'max_depth': 600}.\n",
      "[I 2019-03-11 21:04:38,639] Finished a trial resulted in value: 0.43818009712544764. Current best value is 0.34431727727673384 with parameters: {'n_estimators': 49, 'num_leaves': 92, 'colsample_bytree': 0.9071162195612112, 'learning_rate': 0.14397931071399334, 'max_depth': 600}.\n",
      "[I 2019-03-11 21:04:39,071] Finished a trial resulted in value: 0.40274137222875694. Current best value is 0.34431727727673384 with parameters: {'n_estimators': 49, 'num_leaves': 92, 'colsample_bytree': 0.9071162195612112, 'learning_rate': 0.14397931071399334, 'max_depth': 600}.\n",
      "[I 2019-03-11 21:04:39,488] Finished a trial resulted in value: 0.5273577545553134. Current best value is 0.34431727727673384 with parameters: {'n_estimators': 49, 'num_leaves': 92, 'colsample_bytree': 0.9071162195612112, 'learning_rate': 0.14397931071399334, 'max_depth': 600}.\n",
      "[I 2019-03-11 21:04:39,917] Finished a trial resulted in value: 1.128809065534377. Current best value is 0.34431727727673384 with parameters: {'n_estimators': 49, 'num_leaves': 92, 'colsample_bytree': 0.9071162195612112, 'learning_rate': 0.14397931071399334, 'max_depth': 600}.\n",
      "[I 2019-03-11 21:04:40,658] Finished a trial resulted in value: 0.38130083629624456. Current best value is 0.34431727727673384 with parameters: {'n_estimators': 49, 'num_leaves': 92, 'colsample_bytree': 0.9071162195612112, 'learning_rate': 0.14397931071399334, 'max_depth': 600}.\n",
      "[I 2019-03-11 21:04:41,369] Finished a trial resulted in value: 0.42052853380615535. Current best value is 0.34431727727673384 with parameters: {'n_estimators': 49, 'num_leaves': 92, 'colsample_bytree': 0.9071162195612112, 'learning_rate': 0.14397931071399334, 'max_depth': 600}.\n",
      "[I 2019-03-11 21:04:42,094] Finished a trial resulted in value: 0.38807900663615225. Current best value is 0.34431727727673384 with parameters: {'n_estimators': 49, 'num_leaves': 92, 'colsample_bytree': 0.9071162195612112, 'learning_rate': 0.14397931071399334, 'max_depth': 600}.\n",
      "[I 2019-03-11 21:04:42,542] Finished a trial resulted in value: 0.37058969725482754. Current best value is 0.34431727727673384 with parameters: {'n_estimators': 49, 'num_leaves': 92, 'colsample_bytree': 0.9071162195612112, 'learning_rate': 0.14397931071399334, 'max_depth': 600}.\n",
      "[I 2019-03-11 21:04:44,786] Finished a trial resulted in value: 0.34501957131089184. Current best value is 0.34431727727673384 with parameters: {'n_estimators': 49, 'num_leaves': 92, 'colsample_bytree': 0.9071162195612112, 'learning_rate': 0.14397931071399334, 'max_depth': 600}.\n",
      "[I 2019-03-11 21:04:45,266] Finished a trial resulted in value: 0.4203744404141883. Current best value is 0.34431727727673384 with parameters: {'n_estimators': 49, 'num_leaves': 92, 'colsample_bytree': 0.9071162195612112, 'learning_rate': 0.14397931071399334, 'max_depth': 600}.\n",
      "[I 2019-03-11 21:04:45,942] Finished a trial resulted in value: 0.5366147180394631. Current best value is 0.34431727727673384 with parameters: {'n_estimators': 49, 'num_leaves': 92, 'colsample_bytree': 0.9071162195612112, 'learning_rate': 0.14397931071399334, 'max_depth': 600}.\n",
      "[I 2019-03-11 21:04:46,133] Finished a trial resulted in value: 0.5143028176628975. Current best value is 0.34431727727673384 with parameters: {'n_estimators': 49, 'num_leaves': 92, 'colsample_bytree': 0.9071162195612112, 'learning_rate': 0.14397931071399334, 'max_depth': 600}.\n",
      "[I 2019-03-11 21:04:46,650] Finished a trial resulted in value: 0.36358231250118167. Current best value is 0.34431727727673384 with parameters: {'n_estimators': 49, 'num_leaves': 92, 'colsample_bytree': 0.9071162195612112, 'learning_rate': 0.14397931071399334, 'max_depth': 600}.\n"
     ]
    },
    {
     "name": "stderr",
     "output_type": "stream",
     "text": [
      "[I 2019-03-11 21:04:47,438] Finished a trial resulted in value: 0.35202742086192224. Current best value is 0.34431727727673384 with parameters: {'n_estimators': 49, 'num_leaves': 92, 'colsample_bytree': 0.9071162195612112, 'learning_rate': 0.14397931071399334, 'max_depth': 600}.\n",
      "[I 2019-03-11 21:04:48,062] Finished a trial resulted in value: 0.5050407038323971. Current best value is 0.34431727727673384 with parameters: {'n_estimators': 49, 'num_leaves': 92, 'colsample_bytree': 0.9071162195612112, 'learning_rate': 0.14397931071399334, 'max_depth': 600}.\n",
      "[I 2019-03-11 21:04:48,750] Finished a trial resulted in value: 0.38530630841714203. Current best value is 0.34431727727673384 with parameters: {'n_estimators': 49, 'num_leaves': 92, 'colsample_bytree': 0.9071162195612112, 'learning_rate': 0.14397931071399334, 'max_depth': 600}.\n",
      "[I 2019-03-11 21:04:49,095] Finished a trial resulted in value: 0.41292475188845607. Current best value is 0.34431727727673384 with parameters: {'n_estimators': 49, 'num_leaves': 92, 'colsample_bytree': 0.9071162195612112, 'learning_rate': 0.14397931071399334, 'max_depth': 600}.\n",
      "[I 2019-03-11 21:04:49,625] Finished a trial resulted in value: 0.364750509475643. Current best value is 0.34431727727673384 with parameters: {'n_estimators': 49, 'num_leaves': 92, 'colsample_bytree': 0.9071162195612112, 'learning_rate': 0.14397931071399334, 'max_depth': 600}.\n",
      "[I 2019-03-11 21:04:49,853] Finished a trial resulted in value: 0.46627120104723746. Current best value is 0.34431727727673384 with parameters: {'n_estimators': 49, 'num_leaves': 92, 'colsample_bytree': 0.9071162195612112, 'learning_rate': 0.14397931071399334, 'max_depth': 600}.\n",
      "[I 2019-03-11 21:04:50,132] Finished a trial resulted in value: 0.48653648322690823. Current best value is 0.34431727727673384 with parameters: {'n_estimators': 49, 'num_leaves': 92, 'colsample_bytree': 0.9071162195612112, 'learning_rate': 0.14397931071399334, 'max_depth': 600}.\n",
      "[I 2019-03-11 21:04:50,290] Finished a trial resulted in value: 0.5613963423384108. Current best value is 0.34431727727673384 with parameters: {'n_estimators': 49, 'num_leaves': 92, 'colsample_bytree': 0.9071162195612112, 'learning_rate': 0.14397931071399334, 'max_depth': 600}.\n",
      "[I 2019-03-11 21:04:52,672] Finished a trial resulted in value: 0.34082967747384174. Current best value is 0.34082967747384174 with parameters: {'n_estimators': 84, 'num_leaves': 86, 'colsample_bytree': 0.9204999724515276, 'learning_rate': 0.14501629968840887, 'max_depth': 991}.\n",
      "[I 2019-03-11 21:04:53,250] Finished a trial resulted in value: 1.0746470603109124. Current best value is 0.34082967747384174 with parameters: {'n_estimators': 84, 'num_leaves': 86, 'colsample_bytree': 0.9204999724515276, 'learning_rate': 0.14501629968840887, 'max_depth': 991}.\n",
      "[I 2019-03-11 21:04:53,750] Finished a trial resulted in value: 0.35717993060309283. Current best value is 0.34082967747384174 with parameters: {'n_estimators': 84, 'num_leaves': 86, 'colsample_bytree': 0.9204999724515276, 'learning_rate': 0.14501629968840887, 'max_depth': 991}.\n",
      "[I 2019-03-11 21:04:53,949] Finished a trial resulted in value: 0.3840667730763887. Current best value is 0.34082967747384174 with parameters: {'n_estimators': 84, 'num_leaves': 86, 'colsample_bytree': 0.9204999724515276, 'learning_rate': 0.14501629968840887, 'max_depth': 991}.\n",
      "[I 2019-03-11 21:04:54,233] Finished a trial resulted in value: 0.8368474584325983. Current best value is 0.34082967747384174 with parameters: {'n_estimators': 84, 'num_leaves': 86, 'colsample_bytree': 0.9204999724515276, 'learning_rate': 0.14501629968840887, 'max_depth': 991}.\n",
      "[I 2019-03-11 21:04:54,703] Finished a trial resulted in value: 0.4831206481010574. Current best value is 0.34082967747384174 with parameters: {'n_estimators': 84, 'num_leaves': 86, 'colsample_bytree': 0.9204999724515276, 'learning_rate': 0.14501629968840887, 'max_depth': 991}.\n",
      "[I 2019-03-11 21:04:55,013] Finished a trial resulted in value: 0.35661423573179035. Current best value is 0.34082967747384174 with parameters: {'n_estimators': 84, 'num_leaves': 86, 'colsample_bytree': 0.9204999724515276, 'learning_rate': 0.14501629968840887, 'max_depth': 991}.\n",
      "[I 2019-03-11 21:04:55,393] Finished a trial resulted in value: 0.34867627714846844. Current best value is 0.34082967747384174 with parameters: {'n_estimators': 84, 'num_leaves': 86, 'colsample_bytree': 0.9204999724515276, 'learning_rate': 0.14501629968840887, 'max_depth': 991}.\n",
      "[I 2019-03-11 21:04:55,790] Finished a trial resulted in value: 0.6840209112152603. Current best value is 0.34082967747384174 with parameters: {'n_estimators': 84, 'num_leaves': 86, 'colsample_bytree': 0.9204999724515276, 'learning_rate': 0.14501629968840887, 'max_depth': 991}.\n",
      "[I 2019-03-11 21:04:56,744] Finished a trial resulted in value: 0.38874576142553197. Current best value is 0.34082967747384174 with parameters: {'n_estimators': 84, 'num_leaves': 86, 'colsample_bytree': 0.9204999724515276, 'learning_rate': 0.14501629968840887, 'max_depth': 991}.\n",
      "[I 2019-03-11 21:04:57,431] Finished a trial resulted in value: 0.3833793578573893. Current best value is 0.34082967747384174 with parameters: {'n_estimators': 84, 'num_leaves': 86, 'colsample_bytree': 0.9204999724515276, 'learning_rate': 0.14501629968840887, 'max_depth': 991}.\n",
      "[I 2019-03-11 21:04:57,917] Finished a trial resulted in value: 0.3697283472214869. Current best value is 0.34082967747384174 with parameters: {'n_estimators': 84, 'num_leaves': 86, 'colsample_bytree': 0.9204999724515276, 'learning_rate': 0.14501629968840887, 'max_depth': 991}.\n",
      "[I 2019-03-11 21:04:58,423] Finished a trial resulted in value: 0.3574511649898887. Current best value is 0.34082967747384174 with parameters: {'n_estimators': 84, 'num_leaves': 86, 'colsample_bytree': 0.9204999724515276, 'learning_rate': 0.14501629968840887, 'max_depth': 991}.\n",
      "[I 2019-03-11 21:04:58,740] Finished a trial resulted in value: 0.3998052537482668. Current best value is 0.34082967747384174 with parameters: {'n_estimators': 84, 'num_leaves': 86, 'colsample_bytree': 0.9204999724515276, 'learning_rate': 0.14501629968840887, 'max_depth': 991}.\n",
      "[I 2019-03-11 21:04:59,269] Finished a trial resulted in value: 0.390734192035316. Current best value is 0.34082967747384174 with parameters: {'n_estimators': 84, 'num_leaves': 86, 'colsample_bytree': 0.9204999724515276, 'learning_rate': 0.14501629968840887, 'max_depth': 991}.\n",
      "[I 2019-03-11 21:05:00,224] Finished a trial resulted in value: 0.34834338200325715. Current best value is 0.34082967747384174 with parameters: {'n_estimators': 84, 'num_leaves': 86, 'colsample_bytree': 0.9204999724515276, 'learning_rate': 0.14501629968840887, 'max_depth': 991}.\n",
      "[I 2019-03-11 21:05:00,898] Finished a trial resulted in value: 0.9430918278675452. Current best value is 0.34082967747384174 with parameters: {'n_estimators': 84, 'num_leaves': 86, 'colsample_bytree': 0.9204999724515276, 'learning_rate': 0.14501629968840887, 'max_depth': 991}.\n",
      "[I 2019-03-11 21:05:01,385] Finished a trial resulted in value: 0.9323417081228638. Current best value is 0.34082967747384174 with parameters: {'n_estimators': 84, 'num_leaves': 86, 'colsample_bytree': 0.9204999724515276, 'learning_rate': 0.14501629968840887, 'max_depth': 991}.\n",
      "[I 2019-03-11 21:05:01,624] Finished a trial resulted in value: 0.458508266418127. Current best value is 0.34082967747384174 with parameters: {'n_estimators': 84, 'num_leaves': 86, 'colsample_bytree': 0.9204999724515276, 'learning_rate': 0.14501629968840887, 'max_depth': 991}.\n",
      "[I 2019-03-11 21:05:02,667] Finished a trial resulted in value: 0.3440637607787439. Current best value is 0.34082967747384174 with parameters: {'n_estimators': 84, 'num_leaves': 86, 'colsample_bytree': 0.9204999724515276, 'learning_rate': 0.14501629968840887, 'max_depth': 991}.\n",
      "[I 2019-03-11 21:05:03,102] Finished a trial resulted in value: 0.38381650698812486. Current best value is 0.34082967747384174 with parameters: {'n_estimators': 84, 'num_leaves': 86, 'colsample_bytree': 0.9204999724515276, 'learning_rate': 0.14501629968840887, 'max_depth': 991}.\n"
     ]
    },
    {
     "name": "stderr",
     "output_type": "stream",
     "text": [
      "[I 2019-03-11 21:05:03,427] Finished a trial resulted in value: 0.3576232627108682. Current best value is 0.34082967747384174 with parameters: {'n_estimators': 84, 'num_leaves': 86, 'colsample_bytree': 0.9204999724515276, 'learning_rate': 0.14501629968840887, 'max_depth': 991}.\n",
      "[I 2019-03-11 21:05:04,148] Finished a trial resulted in value: 0.447538189510738. Current best value is 0.34082967747384174 with parameters: {'n_estimators': 84, 'num_leaves': 86, 'colsample_bytree': 0.9204999724515276, 'learning_rate': 0.14501629968840887, 'max_depth': 991}.\n",
      "[I 2019-03-11 21:05:04,835] Finished a trial resulted in value: 0.5877251081563715. Current best value is 0.34082967747384174 with parameters: {'n_estimators': 84, 'num_leaves': 86, 'colsample_bytree': 0.9204999724515276, 'learning_rate': 0.14501629968840887, 'max_depth': 991}.\n",
      "[I 2019-03-11 21:05:05,286] Finished a trial resulted in value: 0.3882069251537188. Current best value is 0.34082967747384174 with parameters: {'n_estimators': 84, 'num_leaves': 86, 'colsample_bytree': 0.9204999724515276, 'learning_rate': 0.14501629968840887, 'max_depth': 991}.\n",
      "[I 2019-03-11 21:05:05,608] Finished a trial resulted in value: 0.3456857693800317. Current best value is 0.34082967747384174 with parameters: {'n_estimators': 84, 'num_leaves': 86, 'colsample_bytree': 0.9204999724515276, 'learning_rate': 0.14501629968840887, 'max_depth': 991}.\n",
      "[I 2019-03-11 21:05:05,897] Finished a trial resulted in value: 0.384294335667799. Current best value is 0.34082967747384174 with parameters: {'n_estimators': 84, 'num_leaves': 86, 'colsample_bytree': 0.9204999724515276, 'learning_rate': 0.14501629968840887, 'max_depth': 991}.\n",
      "[I 2019-03-11 21:05:06,210] Finished a trial resulted in value: 0.8371926098291843. Current best value is 0.34082967747384174 with parameters: {'n_estimators': 84, 'num_leaves': 86, 'colsample_bytree': 0.9204999724515276, 'learning_rate': 0.14501629968840887, 'max_depth': 991}.\n",
      "[I 2019-03-11 21:05:06,581] Finished a trial resulted in value: 0.3618245952724476. Current best value is 0.34082967747384174 with parameters: {'n_estimators': 84, 'num_leaves': 86, 'colsample_bytree': 0.9204999724515276, 'learning_rate': 0.14501629968840887, 'max_depth': 991}.\n",
      "[I 2019-03-11 21:05:07,321] Finished a trial resulted in value: 0.35494472352689876. Current best value is 0.34082967747384174 with parameters: {'n_estimators': 84, 'num_leaves': 86, 'colsample_bytree': 0.9204999724515276, 'learning_rate': 0.14501629968840887, 'max_depth': 991}.\n",
      "[I 2019-03-11 21:05:07,609] Finished a trial resulted in value: 1.1327757784239594. Current best value is 0.34082967747384174 with parameters: {'n_estimators': 84, 'num_leaves': 86, 'colsample_bytree': 0.9204999724515276, 'learning_rate': 0.14501629968840887, 'max_depth': 991}.\n",
      "[I 2019-03-11 21:05:07,912] Finished a trial resulted in value: 0.3464168317264501. Current best value is 0.34082967747384174 with parameters: {'n_estimators': 84, 'num_leaves': 86, 'colsample_bytree': 0.9204999724515276, 'learning_rate': 0.14501629968840887, 'max_depth': 991}.\n",
      "[I 2019-03-11 21:05:08,983] Finished a trial resulted in value: 0.3429726276377884. Current best value is 0.34082967747384174 with parameters: {'n_estimators': 84, 'num_leaves': 86, 'colsample_bytree': 0.9204999724515276, 'learning_rate': 0.14501629968840887, 'max_depth': 991}.\n",
      "[I 2019-03-11 21:05:09,358] Finished a trial resulted in value: 0.3879540851839885. Current best value is 0.34082967747384174 with parameters: {'n_estimators': 84, 'num_leaves': 86, 'colsample_bytree': 0.9204999724515276, 'learning_rate': 0.14501629968840887, 'max_depth': 991}.\n",
      "[I 2019-03-11 21:05:09,934] Finished a trial resulted in value: 0.34199789995790014. Current best value is 0.34082967747384174 with parameters: {'n_estimators': 84, 'num_leaves': 86, 'colsample_bytree': 0.9204999724515276, 'learning_rate': 0.14501629968840887, 'max_depth': 991}.\n",
      "[I 2019-03-11 21:05:10,337] Finished a trial resulted in value: 0.35202900568122036. Current best value is 0.34082967747384174 with parameters: {'n_estimators': 84, 'num_leaves': 86, 'colsample_bytree': 0.9204999724515276, 'learning_rate': 0.14501629968840887, 'max_depth': 991}.\n",
      "[I 2019-03-11 21:05:10,739] Finished a trial resulted in value: 0.5072329380198392. Current best value is 0.34082967747384174 with parameters: {'n_estimators': 84, 'num_leaves': 86, 'colsample_bytree': 0.9204999724515276, 'learning_rate': 0.14501629968840887, 'max_depth': 991}.\n",
      "[I 2019-03-11 21:05:11,193] Finished a trial resulted in value: 0.3826780880907555. Current best value is 0.34082967747384174 with parameters: {'n_estimators': 84, 'num_leaves': 86, 'colsample_bytree': 0.9204999724515276, 'learning_rate': 0.14501629968840887, 'max_depth': 991}.\n",
      "[I 2019-03-11 21:05:11,605] Finished a trial resulted in value: 0.3460613029774973. Current best value is 0.34082967747384174 with parameters: {'n_estimators': 84, 'num_leaves': 86, 'colsample_bytree': 0.9204999724515276, 'learning_rate': 0.14501629968840887, 'max_depth': 991}.\n",
      "[I 2019-03-11 21:05:11,929] Finished a trial resulted in value: 0.4474518833917586. Current best value is 0.34082967747384174 with parameters: {'n_estimators': 84, 'num_leaves': 86, 'colsample_bytree': 0.9204999724515276, 'learning_rate': 0.14501629968840887, 'max_depth': 991}.\n",
      "[I 2019-03-11 21:05:12,234] Finished a trial resulted in value: 0.4669908436703234. Current best value is 0.34082967747384174 with parameters: {'n_estimators': 84, 'num_leaves': 86, 'colsample_bytree': 0.9204999724515276, 'learning_rate': 0.14501629968840887, 'max_depth': 991}.\n",
      "[I 2019-03-11 21:05:12,540] Finished a trial resulted in value: 0.3644578507798667. Current best value is 0.34082967747384174 with parameters: {'n_estimators': 84, 'num_leaves': 86, 'colsample_bytree': 0.9204999724515276, 'learning_rate': 0.14501629968840887, 'max_depth': 991}.\n",
      "[I 2019-03-11 21:05:12,869] Finished a trial resulted in value: 0.371577662226434. Current best value is 0.34082967747384174 with parameters: {'n_estimators': 84, 'num_leaves': 86, 'colsample_bytree': 0.9204999724515276, 'learning_rate': 0.14501629968840887, 'max_depth': 991}.\n",
      "[I 2019-03-11 21:05:13,257] Finished a trial resulted in value: 0.3595206971287656. Current best value is 0.34082967747384174 with parameters: {'n_estimators': 84, 'num_leaves': 86, 'colsample_bytree': 0.9204999724515276, 'learning_rate': 0.14501629968840887, 'max_depth': 991}.\n",
      "[I 2019-03-11 21:05:13,632] Finished a trial resulted in value: 0.3536460674996815. Current best value is 0.34082967747384174 with parameters: {'n_estimators': 84, 'num_leaves': 86, 'colsample_bytree': 0.9204999724515276, 'learning_rate': 0.14501629968840887, 'max_depth': 991}.\n",
      "[I 2019-03-11 21:05:13,967] Finished a trial resulted in value: 0.5168477462115052. Current best value is 0.34082967747384174 with parameters: {'n_estimators': 84, 'num_leaves': 86, 'colsample_bytree': 0.9204999724515276, 'learning_rate': 0.14501629968840887, 'max_depth': 991}.\n",
      "[I 2019-03-11 21:05:14,260] Finished a trial resulted in value: 0.35409935091210437. Current best value is 0.34082967747384174 with parameters: {'n_estimators': 84, 'num_leaves': 86, 'colsample_bytree': 0.9204999724515276, 'learning_rate': 0.14501629968840887, 'max_depth': 991}.\n",
      "[I 2019-03-11 21:05:14,566] Finished a trial resulted in value: 0.35512673245739795. Current best value is 0.34082967747384174 with parameters: {'n_estimators': 84, 'num_leaves': 86, 'colsample_bytree': 0.9204999724515276, 'learning_rate': 0.14501629968840887, 'max_depth': 991}.\n",
      "[I 2019-03-11 21:05:14,883] Finished a trial resulted in value: 0.35944212884504506. Current best value is 0.34082967747384174 with parameters: {'n_estimators': 84, 'num_leaves': 86, 'colsample_bytree': 0.9204999724515276, 'learning_rate': 0.14501629968840887, 'max_depth': 991}.\n",
      "[I 2019-03-11 21:05:15,247] Finished a trial resulted in value: 0.37260858696570526. Current best value is 0.34082967747384174 with parameters: {'n_estimators': 84, 'num_leaves': 86, 'colsample_bytree': 0.9204999724515276, 'learning_rate': 0.14501629968840887, 'max_depth': 991}.\n"
     ]
    },
    {
     "name": "stderr",
     "output_type": "stream",
     "text": [
      "[I 2019-03-11 21:05:15,656] Finished a trial resulted in value: 0.37670942135595836. Current best value is 0.34082967747384174 with parameters: {'n_estimators': 84, 'num_leaves': 86, 'colsample_bytree': 0.9204999724515276, 'learning_rate': 0.14501629968840887, 'max_depth': 991}.\n",
      "[I 2019-03-11 21:05:16,446] Finished a trial resulted in value: 0.4016204394757548. Current best value is 0.34082967747384174 with parameters: {'n_estimators': 84, 'num_leaves': 86, 'colsample_bytree': 0.9204999724515276, 'learning_rate': 0.14501629968840887, 'max_depth': 991}.\n",
      "[I 2019-03-11 21:05:16,844] Finished a trial resulted in value: 0.3616524667303504. Current best value is 0.34082967747384174 with parameters: {'n_estimators': 84, 'num_leaves': 86, 'colsample_bytree': 0.9204999724515276, 'learning_rate': 0.14501629968840887, 'max_depth': 991}.\n",
      "[I 2019-03-11 21:05:17,860] Finished a trial resulted in value: 0.3416750669614012. Current best value is 0.34082967747384174 with parameters: {'n_estimators': 84, 'num_leaves': 86, 'colsample_bytree': 0.9204999724515276, 'learning_rate': 0.14501629968840887, 'max_depth': 991}.\n",
      "[I 2019-03-11 21:05:18,217] Finished a trial resulted in value: 0.4029183241379164. Current best value is 0.34082967747384174 with parameters: {'n_estimators': 84, 'num_leaves': 86, 'colsample_bytree': 0.9204999724515276, 'learning_rate': 0.14501629968840887, 'max_depth': 991}.\n",
      "[I 2019-03-11 21:05:18,539] Finished a trial resulted in value: 0.352614050377561. Current best value is 0.34082967747384174 with parameters: {'n_estimators': 84, 'num_leaves': 86, 'colsample_bytree': 0.9204999724515276, 'learning_rate': 0.14501629968840887, 'max_depth': 991}.\n",
      "[I 2019-03-11 21:05:18,821] Finished a trial resulted in value: 0.3945835061986985. Current best value is 0.34082967747384174 with parameters: {'n_estimators': 84, 'num_leaves': 86, 'colsample_bytree': 0.9204999724515276, 'learning_rate': 0.14501629968840887, 'max_depth': 991}.\n",
      "[I 2019-03-11 21:05:19,111] Finished a trial resulted in value: 0.3484961617538848. Current best value is 0.34082967747384174 with parameters: {'n_estimators': 84, 'num_leaves': 86, 'colsample_bytree': 0.9204999724515276, 'learning_rate': 0.14501629968840887, 'max_depth': 991}.\n",
      "[I 2019-03-11 21:05:19,414] Finished a trial resulted in value: 0.4244119543972381. Current best value is 0.34082967747384174 with parameters: {'n_estimators': 84, 'num_leaves': 86, 'colsample_bytree': 0.9204999724515276, 'learning_rate': 0.14501629968840887, 'max_depth': 991}.\n",
      "[I 2019-03-11 21:05:19,813] Finished a trial resulted in value: 0.3779253554983422. Current best value is 0.34082967747384174 with parameters: {'n_estimators': 84, 'num_leaves': 86, 'colsample_bytree': 0.9204999724515276, 'learning_rate': 0.14501629968840887, 'max_depth': 991}.\n",
      "[I 2019-03-11 21:05:20,135] Finished a trial resulted in value: 0.5917630164007163. Current best value is 0.34082967747384174 with parameters: {'n_estimators': 84, 'num_leaves': 86, 'colsample_bytree': 0.9204999724515276, 'learning_rate': 0.14501629968840887, 'max_depth': 991}.\n",
      "[I 2019-03-11 21:05:20,436] Finished a trial resulted in value: 0.3776366359197041. Current best value is 0.34082967747384174 with parameters: {'n_estimators': 84, 'num_leaves': 86, 'colsample_bytree': 0.9204999724515276, 'learning_rate': 0.14501629968840887, 'max_depth': 991}.\n",
      "[I 2019-03-11 21:05:20,783] Finished a trial resulted in value: 0.4079044238628114. Current best value is 0.34082967747384174 with parameters: {'n_estimators': 84, 'num_leaves': 86, 'colsample_bytree': 0.9204999724515276, 'learning_rate': 0.14501629968840887, 'max_depth': 991}.\n",
      "[I 2019-03-11 21:05:21,087] Finished a trial resulted in value: 0.42743515821722666. Current best value is 0.34082967747384174 with parameters: {'n_estimators': 84, 'num_leaves': 86, 'colsample_bytree': 0.9204999724515276, 'learning_rate': 0.14501629968840887, 'max_depth': 991}.\n",
      "[I 2019-03-11 21:05:21,357] Finished a trial resulted in value: 0.462446978839355. Current best value is 0.34082967747384174 with parameters: {'n_estimators': 84, 'num_leaves': 86, 'colsample_bytree': 0.9204999724515276, 'learning_rate': 0.14501629968840887, 'max_depth': 991}.\n",
      "[I 2019-03-11 21:05:21,713] Finished a trial resulted in value: 0.3758606943242248. Current best value is 0.34082967747384174 with parameters: {'n_estimators': 84, 'num_leaves': 86, 'colsample_bytree': 0.9204999724515276, 'learning_rate': 0.14501629968840887, 'max_depth': 991}.\n",
      "[I 2019-03-11 21:05:22,018] Finished a trial resulted in value: 0.4792349861478375. Current best value is 0.34082967747384174 with parameters: {'n_estimators': 84, 'num_leaves': 86, 'colsample_bytree': 0.9204999724515276, 'learning_rate': 0.14501629968840887, 'max_depth': 991}.\n",
      "[I 2019-03-11 21:05:22,357] Finished a trial resulted in value: 0.37778478221850526. Current best value is 0.34082967747384174 with parameters: {'n_estimators': 84, 'num_leaves': 86, 'colsample_bytree': 0.9204999724515276, 'learning_rate': 0.14501629968840887, 'max_depth': 991}.\n",
      "[I 2019-03-11 21:05:22,767] Finished a trial resulted in value: 0.37473817527791714. Current best value is 0.34082967747384174 with parameters: {'n_estimators': 84, 'num_leaves': 86, 'colsample_bytree': 0.9204999724515276, 'learning_rate': 0.14501629968840887, 'max_depth': 991}.\n",
      "[I 2019-03-11 21:05:23,270] Finished a trial resulted in value: 0.346040502284682. Current best value is 0.34082967747384174 with parameters: {'n_estimators': 84, 'num_leaves': 86, 'colsample_bytree': 0.9204999724515276, 'learning_rate': 0.14501629968840887, 'max_depth': 991}.\n",
      "[I 2019-03-11 21:05:23,730] Finished a trial resulted in value: 0.3537477741478337. Current best value is 0.34082967747384174 with parameters: {'n_estimators': 84, 'num_leaves': 86, 'colsample_bytree': 0.9204999724515276, 'learning_rate': 0.14501629968840887, 'max_depth': 991}.\n",
      "[I 2019-03-11 21:05:24,300] Finished a trial resulted in value: 0.38226832009790407. Current best value is 0.34082967747384174 with parameters: {'n_estimators': 84, 'num_leaves': 86, 'colsample_bytree': 0.9204999724515276, 'learning_rate': 0.14501629968840887, 'max_depth': 991}.\n",
      "[I 2019-03-11 21:05:24,661] Finished a trial resulted in value: 0.3880477583018077. Current best value is 0.34082967747384174 with parameters: {'n_estimators': 84, 'num_leaves': 86, 'colsample_bytree': 0.9204999724515276, 'learning_rate': 0.14501629968840887, 'max_depth': 991}.\n",
      "[I 2019-03-11 21:05:25,123] Finished a trial resulted in value: 0.37222633492845886. Current best value is 0.34082967747384174 with parameters: {'n_estimators': 84, 'num_leaves': 86, 'colsample_bytree': 0.9204999724515276, 'learning_rate': 0.14501629968840887, 'max_depth': 991}.\n",
      "[I 2019-03-11 21:05:25,530] Finished a trial resulted in value: 0.5634127576626955. Current best value is 0.34082967747384174 with parameters: {'n_estimators': 84, 'num_leaves': 86, 'colsample_bytree': 0.9204999724515276, 'learning_rate': 0.14501629968840887, 'max_depth': 991}.\n",
      "[I 2019-03-11 21:05:26,108] Finished a trial resulted in value: 0.34167433727617996. Current best value is 0.34082967747384174 with parameters: {'n_estimators': 84, 'num_leaves': 86, 'colsample_bytree': 0.9204999724515276, 'learning_rate': 0.14501629968840887, 'max_depth': 991}.\n",
      "[I 2019-03-11 21:05:26,521] Finished a trial resulted in value: 0.3464476629621958. Current best value is 0.34082967747384174 with parameters: {'n_estimators': 84, 'num_leaves': 86, 'colsample_bytree': 0.9204999724515276, 'learning_rate': 0.14501629968840887, 'max_depth': 991}.\n",
      "[I 2019-03-11 21:05:26,787] Finished a trial resulted in value: 0.4881400201020958. Current best value is 0.34082967747384174 with parameters: {'n_estimators': 84, 'num_leaves': 86, 'colsample_bytree': 0.9204999724515276, 'learning_rate': 0.14501629968840887, 'max_depth': 991}.\n",
      "[I 2019-03-11 21:05:27,077] Finished a trial resulted in value: 0.49096111857895686. Current best value is 0.34082967747384174 with parameters: {'n_estimators': 84, 'num_leaves': 86, 'colsample_bytree': 0.9204999724515276, 'learning_rate': 0.14501629968840887, 'max_depth': 991}.\n"
     ]
    },
    {
     "name": "stderr",
     "output_type": "stream",
     "text": [
      "[I 2019-03-11 21:05:27,346] Finished a trial resulted in value: 0.4636588804387277. Current best value is 0.34082967747384174 with parameters: {'n_estimators': 84, 'num_leaves': 86, 'colsample_bytree': 0.9204999724515276, 'learning_rate': 0.14501629968840887, 'max_depth': 991}.\n",
      "[I 2019-03-11 21:05:27,713] Finished a trial resulted in value: 0.3815072626345173. Current best value is 0.34082967747384174 with parameters: {'n_estimators': 84, 'num_leaves': 86, 'colsample_bytree': 0.9204999724515276, 'learning_rate': 0.14501629968840887, 'max_depth': 991}.\n",
      "[I 2019-03-11 21:05:28,485] Finished a trial resulted in value: 0.3734434054391365. Current best value is 0.34082967747384174 with parameters: {'n_estimators': 84, 'num_leaves': 86, 'colsample_bytree': 0.9204999724515276, 'learning_rate': 0.14501629968840887, 'max_depth': 991}.\n",
      "[I 2019-03-11 21:05:28,881] Finished a trial resulted in value: 0.39040104860446045. Current best value is 0.34082967747384174 with parameters: {'n_estimators': 84, 'num_leaves': 86, 'colsample_bytree': 0.9204999724515276, 'learning_rate': 0.14501629968840887, 'max_depth': 991}.\n",
      "[I 2019-03-11 21:05:29,364] Finished a trial resulted in value: 0.35193778423349786. Current best value is 0.34082967747384174 with parameters: {'n_estimators': 84, 'num_leaves': 86, 'colsample_bytree': 0.9204999724515276, 'learning_rate': 0.14501629968840887, 'max_depth': 991}.\n",
      "[I 2019-03-11 21:05:29,796] Finished a trial resulted in value: 1.0303522978168782. Current best value is 0.34082967747384174 with parameters: {'n_estimators': 84, 'num_leaves': 86, 'colsample_bytree': 0.9204999724515276, 'learning_rate': 0.14501629968840887, 'max_depth': 991}.\n",
      "[I 2019-03-11 21:05:30,109] Finished a trial resulted in value: 0.358763160004708. Current best value is 0.34082967747384174 with parameters: {'n_estimators': 84, 'num_leaves': 86, 'colsample_bytree': 0.9204999724515276, 'learning_rate': 0.14501629968840887, 'max_depth': 991}.\n",
      "[I 2019-03-11 21:05:31,091] Finished a trial resulted in value: 0.5294915595941853. Current best value is 0.34082967747384174 with parameters: {'n_estimators': 84, 'num_leaves': 86, 'colsample_bytree': 0.9204999724515276, 'learning_rate': 0.14501629968840887, 'max_depth': 991}.\n",
      "[I 2019-03-11 21:05:31,390] Finished a trial resulted in value: 0.34614225567505724. Current best value is 0.34082967747384174 with parameters: {'n_estimators': 84, 'num_leaves': 86, 'colsample_bytree': 0.9204999724515276, 'learning_rate': 0.14501629968840887, 'max_depth': 991}.\n",
      "[I 2019-03-11 21:05:31,716] Finished a trial resulted in value: 0.5379997393284597. Current best value is 0.34082967747384174 with parameters: {'n_estimators': 84, 'num_leaves': 86, 'colsample_bytree': 0.9204999724515276, 'learning_rate': 0.14501629968840887, 'max_depth': 991}.\n",
      "[I 2019-03-11 21:05:32,757] Finished a trial resulted in value: 0.34378445237013. Current best value is 0.34082967747384174 with parameters: {'n_estimators': 84, 'num_leaves': 86, 'colsample_bytree': 0.9204999724515276, 'learning_rate': 0.14501629968840887, 'max_depth': 991}.\n",
      "[I 2019-03-11 21:05:34,222] Finished a trial resulted in value: 0.33707138998100966. Current best value is 0.33707138998100966 with parameters: {'n_estimators': 58, 'num_leaves': 26, 'colsample_bytree': 0.9887857374798557, 'learning_rate': 0.17920701949476667, 'max_depth': 1000}.\n"
     ]
    }
   ],
   "source": [
    "prun = PrunedCV(12, 0.1, probabilistic_prun=True)\n",
    "\n",
    "def objective_pruned(trial):\n",
    "\n",
    "    n_estimators = trial.suggest_int('n_estimators', 5, 100)\n",
    "    num_leaves = trial.suggest_int('num_leaves', 2, 100)\n",
    "    colsample_bytree = trial.suggest_uniform('colsample_bytree', 0.5, 1.0)\n",
    "    learning_rate = trial.suggest_loguniform('learning_rate', 1e-4, 1e-0)\n",
    "    max_depth = trial.suggest_int('max_depth', 2, 1_000)\n",
    "\n",
    "\n",
    "    params = {        \n",
    "        'n_estimators': n_estimators,\n",
    "        'num_leaves': num_leaves,\n",
    "        'colsample_bytree': colsample_bytree,\n",
    "        'learning_rate': learning_rate,\n",
    "        'max_depth': max_depth\n",
    "    }\n",
    "    \n",
    "    model.set_params(**params)\n",
    "\n",
    "    return prun.cross_val_score(model, x, y)\n",
    "\n",
    "study_pruned = optuna.create_study()\n",
    "\n",
    "study_pruned.optimize(objective_pruned, timeout=120)"
   ]
  },
  {
   "cell_type": "code",
   "execution_count": 8,
   "metadata": {
    "ExecuteTime": {
     "end_time": "2019-03-12T04:05:34.282006Z",
     "start_time": "2019-03-12T04:05:34.229063Z"
    }
   },
   "outputs": [],
   "source": [
    "df_prun = study_pruned.trials_dataframe()\n",
    "df_stan = study_standard.trials_dataframe()"
   ]
  },
  {
   "cell_type": "code",
   "execution_count": 9,
   "metadata": {
    "ExecuteTime": {
     "end_time": "2019-03-12T04:05:34.342395Z",
     "start_time": "2019-03-12T04:05:34.285497Z"
    }
   },
   "outputs": [],
   "source": [
    "df_prun['time'] = (df_prun.datetime_start - df_prun.datetime_start.min()).astype('int') / 1_000_000_000\n",
    "df_stan['time'] = (df_stan.datetime_start - df_stan.datetime_start.min()).astype('int') / 1_000_000_000"
   ]
  },
  {
   "cell_type": "code",
   "execution_count": 10,
   "metadata": {
    "ExecuteTime": {
     "end_time": "2019-03-12T04:05:34.960373Z",
     "start_time": "2019-03-12T04:05:34.348206Z"
    }
   },
   "outputs": [
    {
     "data": {
      "image/png": "[encoded data removed]",
      "text/plain": [
       "<Figure size 432x288 with 1 Axes>"
      ]
     },
     "metadata": {
      "needs_background": "light"
     },
     "output_type": "display_data"
    }
   ],
   "source": [
    "sns.lineplot(x=df_stan.time, y=df_stan.value.cummin());\n",
    "sns.lineplot(x=df_prun.time, y=df_prun.value.cummin());"
   ]
  },
  {
   "cell_type": "code",
   "execution_count": 11,
   "metadata": {
    "ExecuteTime": {
     "end_time": "2019-03-12T04:05:35.444710Z",
     "start_time": "2019-03-12T04:05:34.963149Z"
    }
   },
   "outputs": [
    {
     "data": {
      "image/png": "[encoded data removed]",
      "text/plain": [
       "<Figure size 432x288 with 1 Axes>"
      ]
     },
     "metadata": {
      "needs_background": "light"
     },
     "output_type": "display_data"
    }
   ],
   "source": [
    "sns.lineplot(x=df_stan.index, y=df_stan.value.cummin());\n",
    "sns.lineplot(x=df_prun.index, y=df_prun.value.cummin());"
   ]
  },
  {
   "cell_type": "code",
   "execution_count": 12,
   "metadata": {
    "ExecuteTime": {
     "end_time": "2019-03-12T04:05:35.450444Z",
     "start_time": "2019-03-12T04:05:35.446336Z"
    }
   },
   "outputs": [
    {
     "data": {
      "text/plain": [
       "4.194444444444445"
      ]
     },
     "execution_count": 12,
     "metadata": {},
     "output_type": "execute_result"
    }
   ],
   "source": [
    "df_prun.shape[0] / df_stan.shape[0]"
   ]
  }
 ],
 "metadata": {
  "kernelspec": {
   "display_name": "Python 3",
   "language": "python",
   "name": "python3"
  },
  "language_info": {
   "codemirror_mode": {
    "name": "ipython",
    "version": 3
   },
   "file_extension": ".py",
   "mimetype": "text/x-python",
   "name": "python",
   "nbconvert_exporter": "python",
   "pygments_lexer": "ipython3",
   "version": "3.6.8"
  }
 },
 "nbformat": 4,
 "nbformat_minor": 2
}
