{
 "cells": [
  {
   "cell_type": "code",
   "execution_count": 1,
   "metadata": {
    "ExecuteTime": {
     "end_time": "2019-03-11T15:27:17.940834Z",
     "start_time": "2019-03-11T15:27:16.708542Z"
    }
   },
   "outputs": [
    {
     "name": "stderr",
     "output_type": "stream",
     "text": [
      "/Users/piotrgabrys/.pyenv/versions/miniconda3-4.3.30/lib/python3.6/site-packages/lightgbm/__init__.py:46: UserWarning: Starting from version 2.2.1, the library file in distribution wheels for macOS is built by the Apple Clang (Xcode_8.3.1) compiler.\n",
      "This means that in case of installing LightGBM from PyPI via the ``pip install lightgbm`` command, you don't need to install the gcc compiler anymore.\n",
      "Instead of that, you need to install the OpenMP library, which is required for running LightGBM on the system with the Apple Clang compiler.\n",
      "You can install the OpenMP library by the following command: ``brew install libomp``.\n",
      "  \"You can install the OpenMP library by the following command: ``brew install libomp``.\", UserWarning)\n"
     ]
    }
   ],
   "source": [
    "from lightgbm import LGBMRegressor\n",
    "import optuna\n",
    "from sklearn.datasets import fetch_california_housing\n",
    "from sklearn.model_selection import cross_val_score\n",
    "from prunedcv import PrunedCV\n",
    "import seaborn as sns\n",
    "import numpy as np"
   ]
  },
  {
   "cell_type": "code",
   "execution_count": 2,
   "metadata": {
    "ExecuteTime": {
     "end_time": "2019-03-11T15:27:17.958787Z",
     "start_time": "2019-03-11T15:27:17.943324Z"
    }
   },
   "outputs": [],
   "source": [
    "data = fetch_california_housing()\n",
    "x = data['data']\n",
    "y = data['target']"
   ]
  },
  {
   "cell_type": "code",
   "execution_count": 3,
   "metadata": {
    "ExecuteTime": {
     "end_time": "2019-03-11T15:27:17.964160Z",
     "start_time": "2019-03-11T15:27:17.961423Z"
    }
   },
   "outputs": [],
   "source": [
    "model = LGBMRegressor()"
   ]
  },
  {
   "cell_type": "code",
   "execution_count": 4,
   "metadata": {
    "ExecuteTime": {
     "end_time": "2019-03-11T15:29:18.447520Z",
     "start_time": "2019-03-11T15:27:17.966278Z"
    }
   },
   "outputs": [
    {
     "name": "stderr",
     "output_type": "stream",
     "text": [
      "[I 2019-03-11 08:27:18,377] Finished a trial resulted in value: 0.4991890402874952. Current best value is 0.4991890402874952 with parameters: {'n_estimators': 41, 'num_leaves': 8, 'colsample_bytree': 0.5087248517567818, 'learning_rate': 0.09311281345586668, 'max_depth': 53}.\n",
      "[I 2019-03-11 08:27:18,693] Finished a trial resulted in value: 0.8173053674796743. Current best value is 0.4991890402874952 with parameters: {'n_estimators': 41, 'num_leaves': 8, 'colsample_bytree': 0.5087248517567818, 'learning_rate': 0.09311281345586668, 'max_depth': 53}.\n",
      "[I 2019-03-11 08:27:21,621] Finished a trial resulted in value: 0.4689128437837984. Current best value is 0.4689128437837984 with parameters: {'n_estimators': 99, 'num_leaves': 90, 'colsample_bytree': 0.5037384850393685, 'learning_rate': 0.5367716309941282, 'max_depth': 118}.\n",
      "[I 2019-03-11 08:27:23,295] Finished a trial resulted in value: 0.47244621238885065. Current best value is 0.4689128437837984 with parameters: {'n_estimators': 99, 'num_leaves': 90, 'colsample_bytree': 0.5037384850393685, 'learning_rate': 0.5367716309941282, 'max_depth': 118}.\n",
      "[I 2019-03-11 08:27:23,623] Finished a trial resulted in value: 0.6853605867499417. Current best value is 0.4689128437837984 with parameters: {'n_estimators': 99, 'num_leaves': 90, 'colsample_bytree': 0.5037384850393685, 'learning_rate': 0.5367716309941282, 'max_depth': 118}.\n",
      "[I 2019-03-11 08:27:24,012] Finished a trial resulted in value: 1.3495244066146632. Current best value is 0.4689128437837984 with parameters: {'n_estimators': 99, 'num_leaves': 90, 'colsample_bytree': 0.5037384850393685, 'learning_rate': 0.5367716309941282, 'max_depth': 118}.\n",
      "[I 2019-03-11 08:27:25,025] Finished a trial resulted in value: 0.6838347932234168. Current best value is 0.4689128437837984 with parameters: {'n_estimators': 99, 'num_leaves': 90, 'colsample_bytree': 0.5037384850393685, 'learning_rate': 0.5367716309941282, 'max_depth': 118}.\n",
      "[I 2019-03-11 08:27:26,575] Finished a trial resulted in value: 1.3684019601914967. Current best value is 0.4689128437837984 with parameters: {'n_estimators': 99, 'num_leaves': 90, 'colsample_bytree': 0.5037384850393685, 'learning_rate': 0.5367716309941282, 'max_depth': 118}.\n",
      "[I 2019-03-11 08:27:27,258] Finished a trial resulted in value: 0.40393907449527977. Current best value is 0.40393907449527977 with parameters: {'n_estimators': 38, 'num_leaves': 40, 'colsample_bytree': 0.513831942206346, 'learning_rate': 0.12192005427366308, 'max_depth': 19}.\n",
      "[I 2019-03-11 08:27:28,121] Finished a trial resulted in value: 0.4712564336555977. Current best value is 0.40393907449527977 with parameters: {'n_estimators': 38, 'num_leaves': 40, 'colsample_bytree': 0.513831942206346, 'learning_rate': 0.12192005427366308, 'max_depth': 19}.\n",
      "[I 2019-03-11 08:27:29,018] Finished a trial resulted in value: 1.2440554267882329. Current best value is 0.40393907449527977 with parameters: {'n_estimators': 38, 'num_leaves': 40, 'colsample_bytree': 0.513831942206346, 'learning_rate': 0.12192005427366308, 'max_depth': 19}.\n",
      "[I 2019-03-11 08:27:29,876] Finished a trial resulted in value: 1.2593376749154463. Current best value is 0.40393907449527977 with parameters: {'n_estimators': 38, 'num_leaves': 40, 'colsample_bytree': 0.513831942206346, 'learning_rate': 0.12192005427366308, 'max_depth': 19}.\n",
      "[I 2019-03-11 08:27:30,674] Finished a trial resulted in value: 1.358580798537024. Current best value is 0.40393907449527977 with parameters: {'n_estimators': 38, 'num_leaves': 40, 'colsample_bytree': 0.513831942206346, 'learning_rate': 0.12192005427366308, 'max_depth': 19}.\n",
      "[I 2019-03-11 08:27:31,285] Finished a trial resulted in value: 1.176144591549515. Current best value is 0.40393907449527977 with parameters: {'n_estimators': 38, 'num_leaves': 40, 'colsample_bytree': 0.513831942206346, 'learning_rate': 0.12192005427366308, 'max_depth': 19}.\n",
      "[I 2019-03-11 08:27:32,136] Finished a trial resulted in value: 0.3886298970194932. Current best value is 0.3886298970194932 with parameters: {'n_estimators': 43, 'num_leaves': 45, 'colsample_bytree': 0.6786199683960867, 'learning_rate': 0.17161983382636153, 'max_depth': 397}.\n",
      "[I 2019-03-11 08:27:34,170] Finished a trial resulted in value: 0.6344759811027408. Current best value is 0.3886298970194932 with parameters: {'n_estimators': 43, 'num_leaves': 45, 'colsample_bytree': 0.6786199683960867, 'learning_rate': 0.17161983382636153, 'max_depth': 397}.\n",
      "[I 2019-03-11 08:27:34,852] Finished a trial resulted in value: 0.3862871919169452. Current best value is 0.3862871919169452 with parameters: {'n_estimators': 47, 'num_leaves': 17, 'colsample_bytree': 0.6919481197104462, 'learning_rate': 0.2684512908037619, 'max_depth': 354}.\n",
      "[I 2019-03-11 08:27:35,306] Finished a trial resulted in value: 0.3764806005457482. Current best value is 0.3764806005457482 with parameters: {'n_estimators': 44, 'num_leaves': 15, 'colsample_bytree': 0.6940473394819813, 'learning_rate': 0.31541597361576845, 'max_depth': 372}.\n",
      "[I 2019-03-11 08:27:35,893] Finished a trial resulted in value: 0.3559204363946929. Current best value is 0.3559204363946929 with parameters: {'n_estimators': 51, 'num_leaves': 18, 'colsample_bytree': 0.8318042539338023, 'learning_rate': 0.2414540267457485, 'max_depth': 353}.\n",
      "[I 2019-03-11 08:27:36,498] Finished a trial resulted in value: 0.49761743141485165. Current best value is 0.3559204363946929 with parameters: {'n_estimators': 51, 'num_leaves': 18, 'colsample_bytree': 0.8318042539338023, 'learning_rate': 0.2414540267457485, 'max_depth': 353}.\n",
      "[I 2019-03-11 08:27:36,887] Finished a trial resulted in value: 0.4781969829830673. Current best value is 0.3559204363946929 with parameters: {'n_estimators': 51, 'num_leaves': 18, 'colsample_bytree': 0.8318042539338023, 'learning_rate': 0.2414540267457485, 'max_depth': 353}.\n",
      "[I 2019-03-11 08:27:37,244] Finished a trial resulted in value: 0.3953593375099109. Current best value is 0.3559204363946929 with parameters: {'n_estimators': 51, 'num_leaves': 18, 'colsample_bytree': 0.8318042539338023, 'learning_rate': 0.2414540267457485, 'max_depth': 353}.\n",
      "[I 2019-03-11 08:27:37,683] Finished a trial resulted in value: 0.560092578723013. Current best value is 0.3559204363946929 with parameters: {'n_estimators': 51, 'num_leaves': 18, 'colsample_bytree': 0.8318042539338023, 'learning_rate': 0.2414540267457485, 'max_depth': 353}.\n",
      "[I 2019-03-11 08:27:38,442] Finished a trial resulted in value: 0.35603725456076113. Current best value is 0.3559204363946929 with parameters: {'n_estimators': 51, 'num_leaves': 18, 'colsample_bytree': 0.8318042539338023, 'learning_rate': 0.2414540267457485, 'max_depth': 353}.\n",
      "[I 2019-03-11 08:27:40,022] Finished a trial resulted in value: 0.6532545731054757. Current best value is 0.3559204363946929 with parameters: {'n_estimators': 51, 'num_leaves': 18, 'colsample_bytree': 0.8318042539338023, 'learning_rate': 0.2414540267457485, 'max_depth': 353}.\n",
      "[I 2019-03-11 08:27:40,731] Finished a trial resulted in value: 0.486202390016228. Current best value is 0.3559204363946929 with parameters: {'n_estimators': 51, 'num_leaves': 18, 'colsample_bytree': 0.8318042539338023, 'learning_rate': 0.2414540267457485, 'max_depth': 353}.\n",
      "[I 2019-03-11 08:27:41,723] Finished a trial resulted in value: 0.33895707604359826. Current best value is 0.33895707604359826 with parameters: {'n_estimators': 82, 'num_leaves': 29, 'colsample_bytree': 0.8944563466175337, 'learning_rate': 0.16218105311187478, 'max_depth': 309}.\n",
      "[I 2019-03-11 08:27:42,915] Finished a trial resulted in value: 0.36742747315463226. Current best value is 0.33895707604359826 with parameters: {'n_estimators': 82, 'num_leaves': 29, 'colsample_bytree': 0.8944563466175337, 'learning_rate': 0.16218105311187478, 'max_depth': 309}.\n",
      "[I 2019-03-11 08:27:44,074] Finished a trial resulted in value: 0.3515610943509013. Current best value is 0.33895707604359826 with parameters: {'n_estimators': 82, 'num_leaves': 29, 'colsample_bytree': 0.8944563466175337, 'learning_rate': 0.16218105311187478, 'max_depth': 309}.\n"
     ]
    },
    {
     "name": "stderr",
     "output_type": "stream",
     "text": [
      "[I 2019-03-11 08:27:46,079] Finished a trial resulted in value: 0.3400678893324869. Current best value is 0.33895707604359826 with parameters: {'n_estimators': 82, 'num_leaves': 29, 'colsample_bytree': 0.8944563466175337, 'learning_rate': 0.16218105311187478, 'max_depth': 309}.\n",
      "[I 2019-03-11 08:27:48,174] Finished a trial resulted in value: 0.48698865386995793. Current best value is 0.33895707604359826 with parameters: {'n_estimators': 82, 'num_leaves': 29, 'colsample_bytree': 0.8944563466175337, 'learning_rate': 0.16218105311187478, 'max_depth': 309}.\n",
      "[I 2019-03-11 08:27:51,282] Finished a trial resulted in value: 0.8111842468867647. Current best value is 0.33895707604359826 with parameters: {'n_estimators': 82, 'num_leaves': 29, 'colsample_bytree': 0.8944563466175337, 'learning_rate': 0.16218105311187478, 'max_depth': 309}.\n",
      "[I 2019-03-11 08:27:53,688] Finished a trial resulted in value: 0.35002736644630655. Current best value is 0.33895707604359826 with parameters: {'n_estimators': 82, 'num_leaves': 29, 'colsample_bytree': 0.8944563466175337, 'learning_rate': 0.16218105311187478, 'max_depth': 309}.\n",
      "[I 2019-03-11 08:27:55,335] Finished a trial resulted in value: 0.42066217344832685. Current best value is 0.33895707604359826 with parameters: {'n_estimators': 82, 'num_leaves': 29, 'colsample_bytree': 0.8944563466175337, 'learning_rate': 0.16218105311187478, 'max_depth': 309}.\n",
      "[I 2019-03-11 08:27:56,826] Finished a trial resulted in value: 0.3577075390553573. Current best value is 0.33895707604359826 with parameters: {'n_estimators': 82, 'num_leaves': 29, 'colsample_bytree': 0.8944563466175337, 'learning_rate': 0.16218105311187478, 'max_depth': 309}.\n",
      "[I 2019-03-11 08:27:59,430] Finished a trial resulted in value: 1.3074538365442645. Current best value is 0.33895707604359826 with parameters: {'n_estimators': 82, 'num_leaves': 29, 'colsample_bytree': 0.8944563466175337, 'learning_rate': 0.16218105311187478, 'max_depth': 309}.\n",
      "[I 2019-03-11 08:28:01,495] Finished a trial resulted in value: 0.44989942120290877. Current best value is 0.33895707604359826 with parameters: {'n_estimators': 82, 'num_leaves': 29, 'colsample_bytree': 0.8944563466175337, 'learning_rate': 0.16218105311187478, 'max_depth': 309}.\n",
      "[I 2019-03-11 08:28:03,635] Finished a trial resulted in value: 0.3596877358957376. Current best value is 0.33895707604359826 with parameters: {'n_estimators': 82, 'num_leaves': 29, 'colsample_bytree': 0.8944563466175337, 'learning_rate': 0.16218105311187478, 'max_depth': 309}.\n",
      "[I 2019-03-11 08:28:04,961] Finished a trial resulted in value: 0.3720648519083689. Current best value is 0.33895707604359826 with parameters: {'n_estimators': 82, 'num_leaves': 29, 'colsample_bytree': 0.8944563466175337, 'learning_rate': 0.16218105311187478, 'max_depth': 309}.\n",
      "[I 2019-03-11 08:28:05,300] Finished a trial resulted in value: 0.6243451629912279. Current best value is 0.33895707604359826 with parameters: {'n_estimators': 82, 'num_leaves': 29, 'colsample_bytree': 0.8944563466175337, 'learning_rate': 0.16218105311187478, 'max_depth': 309}.\n",
      "[I 2019-03-11 08:28:06,685] Finished a trial resulted in value: 0.3513184922166512. Current best value is 0.33895707604359826 with parameters: {'n_estimators': 82, 'num_leaves': 29, 'colsample_bytree': 0.8944563466175337, 'learning_rate': 0.16218105311187478, 'max_depth': 309}.\n",
      "[I 2019-03-11 08:28:07,104] Finished a trial resulted in value: 1.1795103639383837. Current best value is 0.33895707604359826 with parameters: {'n_estimators': 82, 'num_leaves': 29, 'colsample_bytree': 0.8944563466175337, 'learning_rate': 0.16218105311187478, 'max_depth': 309}.\n",
      "[I 2019-03-11 08:28:08,318] Finished a trial resulted in value: 0.4807946727060326. Current best value is 0.33895707604359826 with parameters: {'n_estimators': 82, 'num_leaves': 29, 'colsample_bytree': 0.8944563466175337, 'learning_rate': 0.16218105311187478, 'max_depth': 309}.\n",
      "[I 2019-03-11 08:28:10,239] Finished a trial resulted in value: 0.6989805580648802. Current best value is 0.33895707604359826 with parameters: {'n_estimators': 82, 'num_leaves': 29, 'colsample_bytree': 0.8944563466175337, 'learning_rate': 0.16218105311187478, 'max_depth': 309}.\n",
      "[I 2019-03-11 08:28:11,885] Finished a trial resulted in value: 1.16555412289267. Current best value is 0.33895707604359826 with parameters: {'n_estimators': 82, 'num_leaves': 29, 'colsample_bytree': 0.8944563466175337, 'learning_rate': 0.16218105311187478, 'max_depth': 309}.\n",
      "[I 2019-03-11 08:28:13,129] Finished a trial resulted in value: 1.2919776835043957. Current best value is 0.33895707604359826 with parameters: {'n_estimators': 82, 'num_leaves': 29, 'colsample_bytree': 0.8944563466175337, 'learning_rate': 0.16218105311187478, 'max_depth': 309}.\n",
      "[I 2019-03-11 08:28:13,956] Finished a trial resulted in value: 0.4992060128270088. Current best value is 0.33895707604359826 with parameters: {'n_estimators': 82, 'num_leaves': 29, 'colsample_bytree': 0.8944563466175337, 'learning_rate': 0.16218105311187478, 'max_depth': 309}.\n",
      "[I 2019-03-11 08:28:15,201] Finished a trial resulted in value: 0.4282447120295037. Current best value is 0.33895707604359826 with parameters: {'n_estimators': 82, 'num_leaves': 29, 'colsample_bytree': 0.8944563466175337, 'learning_rate': 0.16218105311187478, 'max_depth': 309}.\n",
      "[I 2019-03-11 08:28:15,705] Finished a trial resulted in value: 0.3611125000270348. Current best value is 0.33895707604359826 with parameters: {'n_estimators': 82, 'num_leaves': 29, 'colsample_bytree': 0.8944563466175337, 'learning_rate': 0.16218105311187478, 'max_depth': 309}.\n",
      "[I 2019-03-11 08:28:17,819] Finished a trial resulted in value: 0.3594352315101406. Current best value is 0.33895707604359826 with parameters: {'n_estimators': 82, 'num_leaves': 29, 'colsample_bytree': 0.8944563466175337, 'learning_rate': 0.16218105311187478, 'max_depth': 309}.\n",
      "[I 2019-03-11 08:28:19,332] Finished a trial resulted in value: 1.35932108081296. Current best value is 0.33895707604359826 with parameters: {'n_estimators': 82, 'num_leaves': 29, 'colsample_bytree': 0.8944563466175337, 'learning_rate': 0.16218105311187478, 'max_depth': 309}.\n",
      "[I 2019-03-11 08:28:20,421] Finished a trial resulted in value: 0.5988708378820823. Current best value is 0.33895707604359826 with parameters: {'n_estimators': 82, 'num_leaves': 29, 'colsample_bytree': 0.8944563466175337, 'learning_rate': 0.16218105311187478, 'max_depth': 309}.\n",
      "[I 2019-03-11 08:28:22,582] Finished a trial resulted in value: 0.3615436971476444. Current best value is 0.33895707604359826 with parameters: {'n_estimators': 82, 'num_leaves': 29, 'colsample_bytree': 0.8944563466175337, 'learning_rate': 0.16218105311187478, 'max_depth': 309}.\n",
      "[I 2019-03-11 08:28:23,697] Finished a trial resulted in value: 0.383883322879177. Current best value is 0.33895707604359826 with parameters: {'n_estimators': 82, 'num_leaves': 29, 'colsample_bytree': 0.8944563466175337, 'learning_rate': 0.16218105311187478, 'max_depth': 309}.\n",
      "[I 2019-03-11 08:28:24,923] Finished a trial resulted in value: 0.3709566779944357. Current best value is 0.33895707604359826 with parameters: {'n_estimators': 82, 'num_leaves': 29, 'colsample_bytree': 0.8944563466175337, 'learning_rate': 0.16218105311187478, 'max_depth': 309}.\n",
      "[I 2019-03-11 08:28:26,029] Finished a trial resulted in value: 0.46430503686508146. Current best value is 0.33895707604359826 with parameters: {'n_estimators': 82, 'num_leaves': 29, 'colsample_bytree': 0.8944563466175337, 'learning_rate': 0.16218105311187478, 'max_depth': 309}.\n",
      "[I 2019-03-11 08:28:26,863] Finished a trial resulted in value: 0.48727020122822956. Current best value is 0.33895707604359826 with parameters: {'n_estimators': 82, 'num_leaves': 29, 'colsample_bytree': 0.8944563466175337, 'learning_rate': 0.16218105311187478, 'max_depth': 309}.\n",
      "[I 2019-03-11 08:28:27,945] Finished a trial resulted in value: 1.2190520232519484. Current best value is 0.33895707604359826 with parameters: {'n_estimators': 82, 'num_leaves': 29, 'colsample_bytree': 0.8944563466175337, 'learning_rate': 0.16218105311187478, 'max_depth': 309}.\n"
     ]
    },
    {
     "name": "stderr",
     "output_type": "stream",
     "text": [
      "[I 2019-03-11 08:28:28,831] Finished a trial resulted in value: 0.3822523863730984. Current best value is 0.33895707604359826 with parameters: {'n_estimators': 82, 'num_leaves': 29, 'colsample_bytree': 0.8944563466175337, 'learning_rate': 0.16218105311187478, 'max_depth': 309}.\n",
      "[I 2019-03-11 08:28:29,523] Finished a trial resulted in value: 1.3746114899268302. Current best value is 0.33895707604359826 with parameters: {'n_estimators': 82, 'num_leaves': 29, 'colsample_bytree': 0.8944563466175337, 'learning_rate': 0.16218105311187478, 'max_depth': 309}.\n",
      "[I 2019-03-11 08:28:30,298] Finished a trial resulted in value: 1.0960573207848634. Current best value is 0.33895707604359826 with parameters: {'n_estimators': 82, 'num_leaves': 29, 'colsample_bytree': 0.8944563466175337, 'learning_rate': 0.16218105311187478, 'max_depth': 309}.\n",
      "[I 2019-03-11 08:28:30,590] Finished a trial resulted in value: 1.149774374669996. Current best value is 0.33895707604359826 with parameters: {'n_estimators': 82, 'num_leaves': 29, 'colsample_bytree': 0.8944563466175337, 'learning_rate': 0.16218105311187478, 'max_depth': 309}.\n",
      "[I 2019-03-11 08:28:30,909] Finished a trial resulted in value: 0.8676983807924485. Current best value is 0.33895707604359826 with parameters: {'n_estimators': 82, 'num_leaves': 29, 'colsample_bytree': 0.8944563466175337, 'learning_rate': 0.16218105311187478, 'max_depth': 309}.\n",
      "[I 2019-03-11 08:28:32,748] Finished a trial resulted in value: 0.38811868654702275. Current best value is 0.33895707604359826 with parameters: {'n_estimators': 82, 'num_leaves': 29, 'colsample_bytree': 0.8944563466175337, 'learning_rate': 0.16218105311187478, 'max_depth': 309}.\n",
      "[I 2019-03-11 08:28:33,814] Finished a trial resulted in value: 0.395197363620107. Current best value is 0.33895707604359826 with parameters: {'n_estimators': 82, 'num_leaves': 29, 'colsample_bytree': 0.8944563466175337, 'learning_rate': 0.16218105311187478, 'max_depth': 309}.\n",
      "[I 2019-03-11 08:28:36,593] Finished a trial resulted in value: 0.3517152930447523. Current best value is 0.33895707604359826 with parameters: {'n_estimators': 82, 'num_leaves': 29, 'colsample_bytree': 0.8944563466175337, 'learning_rate': 0.16218105311187478, 'max_depth': 309}.\n",
      "[I 2019-03-11 08:28:38,761] Finished a trial resulted in value: 0.3556843447703279. Current best value is 0.33895707604359826 with parameters: {'n_estimators': 82, 'num_leaves': 29, 'colsample_bytree': 0.8944563466175337, 'learning_rate': 0.16218105311187478, 'max_depth': 309}.\n",
      "[I 2019-03-11 08:28:41,602] Finished a trial resulted in value: 0.44088600773972964. Current best value is 0.33895707604359826 with parameters: {'n_estimators': 82, 'num_leaves': 29, 'colsample_bytree': 0.8944563466175337, 'learning_rate': 0.16218105311187478, 'max_depth': 309}.\n",
      "[I 2019-03-11 08:28:44,248] Finished a trial resulted in value: 0.37355198028231235. Current best value is 0.33895707604359826 with parameters: {'n_estimators': 82, 'num_leaves': 29, 'colsample_bytree': 0.8944563466175337, 'learning_rate': 0.16218105311187478, 'max_depth': 309}.\n",
      "[I 2019-03-11 08:28:46,016] Finished a trial resulted in value: 0.35465789591587144. Current best value is 0.33895707604359826 with parameters: {'n_estimators': 82, 'num_leaves': 29, 'colsample_bytree': 0.8944563466175337, 'learning_rate': 0.16218105311187478, 'max_depth': 309}.\n",
      "[I 2019-03-11 08:28:48,036] Finished a trial resulted in value: 0.5763654949080204. Current best value is 0.33895707604359826 with parameters: {'n_estimators': 82, 'num_leaves': 29, 'colsample_bytree': 0.8944563466175337, 'learning_rate': 0.16218105311187478, 'max_depth': 309}.\n",
      "[I 2019-03-11 08:28:50,072] Finished a trial resulted in value: 0.46768364687197694. Current best value is 0.33895707604359826 with parameters: {'n_estimators': 82, 'num_leaves': 29, 'colsample_bytree': 0.8944563466175337, 'learning_rate': 0.16218105311187478, 'max_depth': 309}.\n",
      "[I 2019-03-11 08:28:51,931] Finished a trial resulted in value: 0.368555050064236. Current best value is 0.33895707604359826 with parameters: {'n_estimators': 82, 'num_leaves': 29, 'colsample_bytree': 0.8944563466175337, 'learning_rate': 0.16218105311187478, 'max_depth': 309}.\n",
      "[I 2019-03-11 08:28:53,860] Finished a trial resulted in value: 0.6070258526588111. Current best value is 0.33895707604359826 with parameters: {'n_estimators': 82, 'num_leaves': 29, 'colsample_bytree': 0.8944563466175337, 'learning_rate': 0.16218105311187478, 'max_depth': 309}.\n",
      "[I 2019-03-11 08:28:55,011] Finished a trial resulted in value: 0.33904173561807244. Current best value is 0.33895707604359826 with parameters: {'n_estimators': 82, 'num_leaves': 29, 'colsample_bytree': 0.8944563466175337, 'learning_rate': 0.16218105311187478, 'max_depth': 309}.\n",
      "[I 2019-03-11 08:28:56,099] Finished a trial resulted in value: 0.352607425989822. Current best value is 0.33895707604359826 with parameters: {'n_estimators': 82, 'num_leaves': 29, 'colsample_bytree': 0.8944563466175337, 'learning_rate': 0.16218105311187478, 'max_depth': 309}.\n",
      "[I 2019-03-11 08:28:57,142] Finished a trial resulted in value: 0.39755733466974535. Current best value is 0.33895707604359826 with parameters: {'n_estimators': 82, 'num_leaves': 29, 'colsample_bytree': 0.8944563466175337, 'learning_rate': 0.16218105311187478, 'max_depth': 309}.\n",
      "[I 2019-03-11 08:28:58,084] Finished a trial resulted in value: 0.3479532240542547. Current best value is 0.33895707604359826 with parameters: {'n_estimators': 82, 'num_leaves': 29, 'colsample_bytree': 0.8944563466175337, 'learning_rate': 0.16218105311187478, 'max_depth': 309}.\n",
      "[I 2019-03-11 08:28:58,747] Finished a trial resulted in value: 0.3553535524834542. Current best value is 0.33895707604359826 with parameters: {'n_estimators': 82, 'num_leaves': 29, 'colsample_bytree': 0.8944563466175337, 'learning_rate': 0.16218105311187478, 'max_depth': 309}.\n",
      "[I 2019-03-11 08:29:00,398] Finished a trial resulted in value: 0.4052270872061787. Current best value is 0.33895707604359826 with parameters: {'n_estimators': 82, 'num_leaves': 29, 'colsample_bytree': 0.8944563466175337, 'learning_rate': 0.16218105311187478, 'max_depth': 309}.\n",
      "[I 2019-03-11 08:29:01,351] Finished a trial resulted in value: 0.5625819687954962. Current best value is 0.33895707604359826 with parameters: {'n_estimators': 82, 'num_leaves': 29, 'colsample_bytree': 0.8944563466175337, 'learning_rate': 0.16218105311187478, 'max_depth': 309}.\n",
      "[I 2019-03-11 08:29:02,015] Finished a trial resulted in value: 0.35961962505939665. Current best value is 0.33895707604359826 with parameters: {'n_estimators': 82, 'num_leaves': 29, 'colsample_bytree': 0.8944563466175337, 'learning_rate': 0.16218105311187478, 'max_depth': 309}.\n",
      "[I 2019-03-11 08:29:03,707] Finished a trial resulted in value: 0.344275035191218. Current best value is 0.33895707604359826 with parameters: {'n_estimators': 82, 'num_leaves': 29, 'colsample_bytree': 0.8944563466175337, 'learning_rate': 0.16218105311187478, 'max_depth': 309}.\n",
      "[I 2019-03-11 08:29:04,183] Finished a trial resulted in value: 0.38199474869705247. Current best value is 0.33895707604359826 with parameters: {'n_estimators': 82, 'num_leaves': 29, 'colsample_bytree': 0.8944563466175337, 'learning_rate': 0.16218105311187478, 'max_depth': 309}.\n",
      "[I 2019-03-11 08:29:05,234] Finished a trial resulted in value: 0.3566500379491974. Current best value is 0.33895707604359826 with parameters: {'n_estimators': 82, 'num_leaves': 29, 'colsample_bytree': 0.8944563466175337, 'learning_rate': 0.16218105311187478, 'max_depth': 309}.\n",
      "[I 2019-03-11 08:29:06,368] Finished a trial resulted in value: 0.3824869754270223. Current best value is 0.33895707604359826 with parameters: {'n_estimators': 82, 'num_leaves': 29, 'colsample_bytree': 0.8944563466175337, 'learning_rate': 0.16218105311187478, 'max_depth': 309}.\n",
      "[I 2019-03-11 08:29:07,167] Finished a trial resulted in value: 0.5458667717521185. Current best value is 0.33895707604359826 with parameters: {'n_estimators': 82, 'num_leaves': 29, 'colsample_bytree': 0.8944563466175337, 'learning_rate': 0.16218105311187478, 'max_depth': 309}.\n"
     ]
    },
    {
     "name": "stderr",
     "output_type": "stream",
     "text": [
      "[I 2019-03-11 08:29:08,110] Finished a trial resulted in value: 0.36674136352546766. Current best value is 0.33895707604359826 with parameters: {'n_estimators': 82, 'num_leaves': 29, 'colsample_bytree': 0.8944563466175337, 'learning_rate': 0.16218105311187478, 'max_depth': 309}.\n",
      "[I 2019-03-11 08:29:08,780] Finished a trial resulted in value: 0.4027322312446581. Current best value is 0.33895707604359826 with parameters: {'n_estimators': 82, 'num_leaves': 29, 'colsample_bytree': 0.8944563466175337, 'learning_rate': 0.16218105311187478, 'max_depth': 309}.\n",
      "[I 2019-03-11 08:29:10,396] Finished a trial resulted in value: 0.9051937224019238. Current best value is 0.33895707604359826 with parameters: {'n_estimators': 82, 'num_leaves': 29, 'colsample_bytree': 0.8944563466175337, 'learning_rate': 0.16218105311187478, 'max_depth': 309}.\n",
      "[I 2019-03-11 08:29:10,930] Finished a trial resulted in value: 1.2060556015047859. Current best value is 0.33895707604359826 with parameters: {'n_estimators': 82, 'num_leaves': 29, 'colsample_bytree': 0.8944563466175337, 'learning_rate': 0.16218105311187478, 'max_depth': 309}.\n",
      "[I 2019-03-11 08:29:12,380] Finished a trial resulted in value: 0.3500945492782403. Current best value is 0.33895707604359826 with parameters: {'n_estimators': 82, 'num_leaves': 29, 'colsample_bytree': 0.8944563466175337, 'learning_rate': 0.16218105311187478, 'max_depth': 309}.\n",
      "[I 2019-03-11 08:29:13,461] Finished a trial resulted in value: 0.3584934245799846. Current best value is 0.33895707604359826 with parameters: {'n_estimators': 82, 'num_leaves': 29, 'colsample_bytree': 0.8944563466175337, 'learning_rate': 0.16218105311187478, 'max_depth': 309}.\n",
      "[I 2019-03-11 08:29:14,439] Finished a trial resulted in value: 0.8420917294617299. Current best value is 0.33895707604359826 with parameters: {'n_estimators': 82, 'num_leaves': 29, 'colsample_bytree': 0.8944563466175337, 'learning_rate': 0.16218105311187478, 'max_depth': 309}.\n",
      "[I 2019-03-11 08:29:15,676] Finished a trial resulted in value: 0.39542100884605585. Current best value is 0.33895707604359826 with parameters: {'n_estimators': 82, 'num_leaves': 29, 'colsample_bytree': 0.8944563466175337, 'learning_rate': 0.16218105311187478, 'max_depth': 309}.\n",
      "[I 2019-03-11 08:29:16,826] Finished a trial resulted in value: 1.1589007640827693. Current best value is 0.33895707604359826 with parameters: {'n_estimators': 82, 'num_leaves': 29, 'colsample_bytree': 0.8944563466175337, 'learning_rate': 0.16218105311187478, 'max_depth': 309}.\n",
      "[I 2019-03-11 08:29:18,443] Finished a trial resulted in value: 0.5386855682310024. Current best value is 0.33895707604359826 with parameters: {'n_estimators': 82, 'num_leaves': 29, 'colsample_bytree': 0.8944563466175337, 'learning_rate': 0.16218105311187478, 'max_depth': 309}.\n"
     ]
    }
   ],
   "source": [
    "def obejctive_standard(trial):\n",
    "    \n",
    "    n_estimators = trial.suggest_int('n_estimators', 5, 100)\n",
    "    num_leaves = trial.suggest_int('num_leaves', 2, 100)\n",
    "    colsample_bytree = trial.suggest_uniform('colsample_bytree', 0.5, 1.0)\n",
    "    learning_rate = trial.suggest_loguniform('learning_rate', 1e-4, 1e-0)\n",
    "    max_depth = trial.suggest_int('max_depth', 2, 500)\n",
    "\n",
    "\n",
    "    params = {        \n",
    "        'n_estimators': n_estimators,\n",
    "        'num_leaves': num_leaves,\n",
    "        'colsample_bytree': colsample_bytree,\n",
    "        'learning_rate': learning_rate,\n",
    "        'max_depth': max_depth\n",
    "    }\n",
    "    \n",
    "    model.set_params(**params)\n",
    "\n",
    "    return - np.mean(cross_val_score(model, x, y, cv=12, scoring='neg_mean_squared_error'))\n",
    "\n",
    "study_standard = optuna.create_study()\n",
    "\n",
    "study_standard.optimize(obejctive_standard, timeout=120)"
   ]
  },
  {
   "cell_type": "code",
   "execution_count": 5,
   "metadata": {
    "ExecuteTime": {
     "end_time": "2019-03-11T15:31:18.633679Z",
     "start_time": "2019-03-11T15:29:18.449646Z"
    }
   },
   "outputs": [
    {
     "name": "stderr",
     "output_type": "stream",
     "text": [
      "[I 2019-03-11 08:29:19,607] Finished a trial resulted in value: 1.370454447574005. Current best value is 1.370454447574005 with parameters: {'n_estimators': 38, 'num_leaves': 63, 'colsample_bytree': 0.7090227997589819, 'learning_rate': 0.0002503267449605633, 'max_depth': 98}.\n",
      "[I 2019-03-11 08:29:21,189] Finished a trial resulted in value: 0.7142694230248722. Current best value is 0.7142694230248722 with parameters: {'n_estimators': 76, 'num_leaves': 48, 'colsample_bytree': 0.923154254825297, 'learning_rate': 0.00946246241945376, 'max_depth': 411}.\n",
      "[I 2019-03-11 08:29:21,413] Finished a trial resulted in value: 1.3203663204520573. Current best value is 0.7142694230248722 with parameters: {'n_estimators': 76, 'num_leaves': 48, 'colsample_bytree': 0.923154254825297, 'learning_rate': 0.00946246241945376, 'max_depth': 411}.\n",
      "[I 2019-03-11 08:29:21,701] Finished a trial resulted in value: 0.41676818242042746. Current best value is 0.41676818242042746 with parameters: {'n_estimators': 38, 'num_leaves': 6, 'colsample_bytree': 0.800073755377971, 'learning_rate': 0.2614268091515146, 'max_depth': 433}.\n",
      "[I 2019-03-11 08:29:21,773] Finished a trial resulted in value: 0.863806692907991. Current best value is 0.41676818242042746 with parameters: {'n_estimators': 38, 'num_leaves': 6, 'colsample_bytree': 0.800073755377971, 'learning_rate': 0.2614268091515146, 'max_depth': 433}.\n",
      "[I 2019-03-11 08:29:21,862] Finished a trial resulted in value: 1.1176166661312668. Current best value is 0.41676818242042746 with parameters: {'n_estimators': 38, 'num_leaves': 6, 'colsample_bytree': 0.800073755377971, 'learning_rate': 0.2614268091515146, 'max_depth': 433}.\n",
      "[I 2019-03-11 08:29:21,945] Finished a trial resulted in value: 1.1142767947309984. Current best value is 0.41676818242042746 with parameters: {'n_estimators': 38, 'num_leaves': 6, 'colsample_bytree': 0.800073755377971, 'learning_rate': 0.2614268091515146, 'max_depth': 433}.\n",
      "[I 2019-03-11 08:29:22,772] Finished a trial resulted in value: 0.41814778995410873. Current best value is 0.41676818242042746 with parameters: {'n_estimators': 38, 'num_leaves': 6, 'colsample_bytree': 0.800073755377971, 'learning_rate': 0.2614268091515146, 'max_depth': 433}.\n",
      "[I 2019-03-11 08:29:22,928] Finished a trial resulted in value: 1.052002208734689. Current best value is 0.41676818242042746 with parameters: {'n_estimators': 38, 'num_leaves': 6, 'colsample_bytree': 0.800073755377971, 'learning_rate': 0.2614268091515146, 'max_depth': 433}.\n",
      "[I 2019-03-11 08:29:23,172] Finished a trial resulted in value: 0.42716496867339576. Current best value is 0.41676818242042746 with parameters: {'n_estimators': 38, 'num_leaves': 6, 'colsample_bytree': 0.800073755377971, 'learning_rate': 0.2614268091515146, 'max_depth': 433}.\n",
      "[I 2019-03-11 08:29:23,458] Finished a trial resulted in value: 0.4170468792878956. Current best value is 0.41676818242042746 with parameters: {'n_estimators': 38, 'num_leaves': 6, 'colsample_bytree': 0.800073755377971, 'learning_rate': 0.2614268091515146, 'max_depth': 433}.\n",
      "[I 2019-03-11 08:29:24,597] Finished a trial resulted in value: 0.3530064041053169. Current best value is 0.3530064041053169 with parameters: {'n_estimators': 96, 'num_leaves': 31, 'colsample_bytree': 0.8275113377536553, 'learning_rate': 0.10959018679111462, 'max_depth': 492}.\n",
      "[I 2019-03-11 08:29:24,981] Finished a trial resulted in value: 0.3553208967167604. Current best value is 0.3530064041053169 with parameters: {'n_estimators': 96, 'num_leaves': 31, 'colsample_bytree': 0.8275113377536553, 'learning_rate': 0.10959018679111462, 'max_depth': 492}.\n",
      "[I 2019-03-11 08:29:25,153] Finished a trial resulted in value: 0.38192825931088153. Current best value is 0.3530064041053169 with parameters: {'n_estimators': 96, 'num_leaves': 31, 'colsample_bytree': 0.8275113377536553, 'learning_rate': 0.10959018679111462, 'max_depth': 492}.\n",
      "[I 2019-03-11 08:29:25,362] Finished a trial resulted in value: 0.42368874828337044. Current best value is 0.3530064041053169 with parameters: {'n_estimators': 96, 'num_leaves': 31, 'colsample_bytree': 0.8275113377536553, 'learning_rate': 0.10959018679111462, 'max_depth': 492}.\n",
      "[I 2019-03-11 08:29:25,701] Finished a trial resulted in value: 0.36241723830696193. Current best value is 0.3530064041053169 with parameters: {'n_estimators': 96, 'num_leaves': 31, 'colsample_bytree': 0.8275113377536553, 'learning_rate': 0.10959018679111462, 'max_depth': 492}.\n",
      "[I 2019-03-11 08:29:25,822] Finished a trial resulted in value: 1.0749920161255513. Current best value is 0.3530064041053169 with parameters: {'n_estimators': 96, 'num_leaves': 31, 'colsample_bytree': 0.8275113377536553, 'learning_rate': 0.10959018679111462, 'max_depth': 492}.\n",
      "[I 2019-03-11 08:29:28,509] Finished a trial resulted in value: 0.34589933589259286. Current best value is 0.34589933589259286 with parameters: {'n_estimators': 99, 'num_leaves': 86, 'colsample_bytree': 0.8775413305219955, 'learning_rate': 0.08517113055043324, 'max_depth': 94}.\n",
      "[I 2019-03-11 08:29:29,647] Finished a trial resulted in value: 0.3459820637876524. Current best value is 0.34589933589259286 with parameters: {'n_estimators': 99, 'num_leaves': 86, 'colsample_bytree': 0.8775413305219955, 'learning_rate': 0.08517113055043324, 'max_depth': 94}.\n",
      "[I 2019-03-11 08:29:30,075] Finished a trial resulted in value: 0.3677547598110586. Current best value is 0.34589933589259286 with parameters: {'n_estimators': 99, 'num_leaves': 86, 'colsample_bytree': 0.8775413305219955, 'learning_rate': 0.08517113055043324, 'max_depth': 94}.\n",
      "[I 2019-03-11 08:29:30,281] Finished a trial resulted in value: 0.8235848929957837. Current best value is 0.34589933589259286 with parameters: {'n_estimators': 99, 'num_leaves': 86, 'colsample_bytree': 0.8775413305219955, 'learning_rate': 0.08517113055043324, 'max_depth': 94}.\n",
      "[I 2019-03-11 08:29:30,754] Finished a trial resulted in value: 0.5293368695998042. Current best value is 0.34589933589259286 with parameters: {'n_estimators': 99, 'num_leaves': 86, 'colsample_bytree': 0.8775413305219955, 'learning_rate': 0.08517113055043324, 'max_depth': 94}.\n",
      "[I 2019-03-11 08:29:31,134] Finished a trial resulted in value: 0.34858852204560825. Current best value is 0.34589933589259286 with parameters: {'n_estimators': 99, 'num_leaves': 86, 'colsample_bytree': 0.8775413305219955, 'learning_rate': 0.08517113055043324, 'max_depth': 94}.\n",
      "[I 2019-03-11 08:29:31,512] Finished a trial resulted in value: 0.36193388513122104. Current best value is 0.34589933589259286 with parameters: {'n_estimators': 99, 'num_leaves': 86, 'colsample_bytree': 0.8775413305219955, 'learning_rate': 0.08517113055043324, 'max_depth': 94}.\n",
      "[I 2019-03-11 08:29:32,256] Finished a trial resulted in value: 0.37614188287890193. Current best value is 0.34589933589259286 with parameters: {'n_estimators': 99, 'num_leaves': 86, 'colsample_bytree': 0.8775413305219955, 'learning_rate': 0.08517113055043324, 'max_depth': 94}.\n",
      "[I 2019-03-11 08:29:34,402] Finished a trial resulted in value: 0.34168683235833425. Current best value is 0.34168683235833425 with parameters: {'n_estimators': 92, 'num_leaves': 73, 'colsample_bytree': 0.8743834157153579, 'learning_rate': 0.10310833426440745, 'max_depth': 261}.\n",
      "[I 2019-03-11 08:29:35,128] Finished a trial resulted in value: 0.34232285634389087. Current best value is 0.34168683235833425 with parameters: {'n_estimators': 92, 'num_leaves': 73, 'colsample_bytree': 0.8743834157153579, 'learning_rate': 0.10310833426440745, 'max_depth': 261}.\n",
      "[I 2019-03-11 08:29:35,326] Finished a trial resulted in value: 0.5421394820728339. Current best value is 0.34168683235833425 with parameters: {'n_estimators': 92, 'num_leaves': 73, 'colsample_bytree': 0.8743834157153579, 'learning_rate': 0.10310833426440745, 'max_depth': 261}.\n",
      "[I 2019-03-11 08:29:35,539] Finished a trial resulted in value: 0.440216241480384. Current best value is 0.34168683235833425 with parameters: {'n_estimators': 92, 'num_leaves': 73, 'colsample_bytree': 0.8743834157153579, 'learning_rate': 0.10310833426440745, 'max_depth': 261}.\n"
     ]
    },
    {
     "name": "stderr",
     "output_type": "stream",
     "text": [
      "[I 2019-03-11 08:29:35,639] Finished a trial resulted in value: 0.3441245866654745. Current best value is 0.34168683235833425 with parameters: {'n_estimators': 92, 'num_leaves': 73, 'colsample_bytree': 0.8743834157153579, 'learning_rate': 0.10310833426440745, 'max_depth': 261}.\n",
      "[I 2019-03-11 08:29:35,970] Finished a trial resulted in value: 0.5096344239911031. Current best value is 0.34168683235833425 with parameters: {'n_estimators': 92, 'num_leaves': 73, 'colsample_bytree': 0.8743834157153579, 'learning_rate': 0.10310833426440745, 'max_depth': 261}.\n",
      "[I 2019-03-11 08:29:36,397] Finished a trial resulted in value: 0.3992773084325727. Current best value is 0.34168683235833425 with parameters: {'n_estimators': 92, 'num_leaves': 73, 'colsample_bytree': 0.8743834157153579, 'learning_rate': 0.10310833426440745, 'max_depth': 261}.\n",
      "[I 2019-03-11 08:29:36,872] Finished a trial resulted in value: 0.6477657400973085. Current best value is 0.34168683235833425 with parameters: {'n_estimators': 92, 'num_leaves': 73, 'colsample_bytree': 0.8743834157153579, 'learning_rate': 0.10310833426440745, 'max_depth': 261}.\n",
      "[I 2019-03-11 08:29:37,258] Finished a trial resulted in value: 0.36299736711607217. Current best value is 0.34168683235833425 with parameters: {'n_estimators': 92, 'num_leaves': 73, 'colsample_bytree': 0.8743834157153579, 'learning_rate': 0.10310833426440745, 'max_depth': 261}.\n",
      "[I 2019-03-11 08:29:37,504] Finished a trial resulted in value: 0.8589853324784288. Current best value is 0.34168683235833425 with parameters: {'n_estimators': 92, 'num_leaves': 73, 'colsample_bytree': 0.8743834157153579, 'learning_rate': 0.10310833426440745, 'max_depth': 261}.\n",
      "[I 2019-03-11 08:29:37,703] Finished a trial resulted in value: 0.45066945387635765. Current best value is 0.34168683235833425 with parameters: {'n_estimators': 92, 'num_leaves': 73, 'colsample_bytree': 0.8743834157153579, 'learning_rate': 0.10310833426440745, 'max_depth': 261}.\n",
      "[I 2019-03-11 08:29:37,866] Finished a trial resulted in value: 1.1671621934041605. Current best value is 0.34168683235833425 with parameters: {'n_estimators': 92, 'num_leaves': 73, 'colsample_bytree': 0.8743834157153579, 'learning_rate': 0.10310833426440745, 'max_depth': 261}.\n",
      "[I 2019-03-11 08:29:38,128] Finished a trial resulted in value: 0.418110961760465. Current best value is 0.34168683235833425 with parameters: {'n_estimators': 92, 'num_leaves': 73, 'colsample_bytree': 0.8743834157153579, 'learning_rate': 0.10310833426440745, 'max_depth': 261}.\n",
      "[I 2019-03-11 08:29:38,332] Finished a trial resulted in value: 0.4387563754276642. Current best value is 0.34168683235833425 with parameters: {'n_estimators': 92, 'num_leaves': 73, 'colsample_bytree': 0.8743834157153579, 'learning_rate': 0.10310833426440745, 'max_depth': 261}.\n",
      "[I 2019-03-11 08:29:38,962] Finished a trial resulted in value: 0.33658532945692415. Current best value is 0.33658532945692415 with parameters: {'n_estimators': 71, 'num_leaves': 14, 'colsample_bytree': 0.901363112863797, 'learning_rate': 0.17139165297863015, 'max_depth': 384}.\n",
      "[I 2019-03-11 08:29:39,048] Finished a trial resulted in value: 0.5587714607756457. Current best value is 0.33658532945692415 with parameters: {'n_estimators': 71, 'num_leaves': 14, 'colsample_bytree': 0.901363112863797, 'learning_rate': 0.17139165297863015, 'max_depth': 384}.\n",
      "[I 2019-03-11 08:29:39,203] Finished a trial resulted in value: 1.1717628723379079. Current best value is 0.33658532945692415 with parameters: {'n_estimators': 71, 'num_leaves': 14, 'colsample_bytree': 0.901363112863797, 'learning_rate': 0.17139165297863015, 'max_depth': 384}.\n",
      "[I 2019-03-11 08:29:39,322] Finished a trial resulted in value: 0.8066577486590758. Current best value is 0.33658532945692415 with parameters: {'n_estimators': 71, 'num_leaves': 14, 'colsample_bytree': 0.901363112863797, 'learning_rate': 0.17139165297863015, 'max_depth': 384}.\n",
      "[I 2019-03-11 08:29:39,446] Finished a trial resulted in value: 0.48923630969215887. Current best value is 0.33658532945692415 with parameters: {'n_estimators': 71, 'num_leaves': 14, 'colsample_bytree': 0.901363112863797, 'learning_rate': 0.17139165297863015, 'max_depth': 384}.\n",
      "[I 2019-03-11 08:29:39,627] Finished a trial resulted in value: 1.030305784441039. Current best value is 0.33658532945692415 with parameters: {'n_estimators': 71, 'num_leaves': 14, 'colsample_bytree': 0.901363112863797, 'learning_rate': 0.17139165297863015, 'max_depth': 384}.\n",
      "[I 2019-03-11 08:29:39,727] Finished a trial resulted in value: 0.5724023208074615. Current best value is 0.33658532945692415 with parameters: {'n_estimators': 71, 'num_leaves': 14, 'colsample_bytree': 0.901363112863797, 'learning_rate': 0.17139165297863015, 'max_depth': 384}.\n",
      "[I 2019-03-11 08:29:40,066] Finished a trial resulted in value: 1.2222435300347645. Current best value is 0.33658532945692415 with parameters: {'n_estimators': 71, 'num_leaves': 14, 'colsample_bytree': 0.901363112863797, 'learning_rate': 0.17139165297863015, 'max_depth': 384}.\n",
      "[I 2019-03-11 08:29:40,237] Finished a trial resulted in value: 0.4573399767624808. Current best value is 0.33658532945692415 with parameters: {'n_estimators': 71, 'num_leaves': 14, 'colsample_bytree': 0.901363112863797, 'learning_rate': 0.17139165297863015, 'max_depth': 384}.\n",
      "[I 2019-03-11 08:29:40,349] Finished a trial resulted in value: 0.5155135298982618. Current best value is 0.33658532945692415 with parameters: {'n_estimators': 71, 'num_leaves': 14, 'colsample_bytree': 0.901363112863797, 'learning_rate': 0.17139165297863015, 'max_depth': 384}.\n",
      "[I 2019-03-11 08:29:40,553] Finished a trial resulted in value: 0.43022859412223496. Current best value is 0.33658532945692415 with parameters: {'n_estimators': 71, 'num_leaves': 14, 'colsample_bytree': 0.901363112863797, 'learning_rate': 0.17139165297863015, 'max_depth': 384}.\n",
      "[I 2019-03-11 08:29:40,646] Finished a trial resulted in value: 0.5371544809949018. Current best value is 0.33658532945692415 with parameters: {'n_estimators': 71, 'num_leaves': 14, 'colsample_bytree': 0.901363112863797, 'learning_rate': 0.17139165297863015, 'max_depth': 384}.\n",
      "[I 2019-03-11 08:29:40,772] Finished a trial resulted in value: 0.8541297488137412. Current best value is 0.33658532945692415 with parameters: {'n_estimators': 71, 'num_leaves': 14, 'colsample_bytree': 0.901363112863797, 'learning_rate': 0.17139165297863015, 'max_depth': 384}.\n",
      "[I 2019-03-11 08:29:40,938] Finished a trial resulted in value: 0.43253167773321644. Current best value is 0.33658532945692415 with parameters: {'n_estimators': 71, 'num_leaves': 14, 'colsample_bytree': 0.901363112863797, 'learning_rate': 0.17139165297863015, 'max_depth': 384}.\n",
      "[I 2019-03-11 08:29:41,155] Finished a trial resulted in value: 0.3819570786916743. Current best value is 0.33658532945692415 with parameters: {'n_estimators': 71, 'num_leaves': 14, 'colsample_bytree': 0.901363112863797, 'learning_rate': 0.17139165297863015, 'max_depth': 384}.\n",
      "[I 2019-03-11 08:29:41,324] Finished a trial resulted in value: 0.6449921219491545. Current best value is 0.33658532945692415 with parameters: {'n_estimators': 71, 'num_leaves': 14, 'colsample_bytree': 0.901363112863797, 'learning_rate': 0.17139165297863015, 'max_depth': 384}.\n",
      "[I 2019-03-11 08:29:41,406] Finished a trial resulted in value: 0.5467497193389504. Current best value is 0.33658532945692415 with parameters: {'n_estimators': 71, 'num_leaves': 14, 'colsample_bytree': 0.901363112863797, 'learning_rate': 0.17139165297863015, 'max_depth': 384}.\n",
      "[I 2019-03-11 08:29:41,775] Finished a trial resulted in value: 1.2210500979875196. Current best value is 0.33658532945692415 with parameters: {'n_estimators': 71, 'num_leaves': 14, 'colsample_bytree': 0.901363112863797, 'learning_rate': 0.17139165297863015, 'max_depth': 384}.\n",
      "[I 2019-03-11 08:29:42,032] Finished a trial resulted in value: 0.45266354635488965. Current best value is 0.33658532945692415 with parameters: {'n_estimators': 71, 'num_leaves': 14, 'colsample_bytree': 0.901363112863797, 'learning_rate': 0.17139165297863015, 'max_depth': 384}.\n"
     ]
    },
    {
     "name": "stderr",
     "output_type": "stream",
     "text": [
      "[I 2019-03-11 08:29:42,256] Finished a trial resulted in value: 0.4264595177367139. Current best value is 0.33658532945692415 with parameters: {'n_estimators': 71, 'num_leaves': 14, 'colsample_bytree': 0.901363112863797, 'learning_rate': 0.17139165297863015, 'max_depth': 384}.\n",
      "[I 2019-03-11 08:29:42,736] Finished a trial resulted in value: 0.4265669152628623. Current best value is 0.33658532945692415 with parameters: {'n_estimators': 71, 'num_leaves': 14, 'colsample_bytree': 0.901363112863797, 'learning_rate': 0.17139165297863015, 'max_depth': 384}.\n",
      "[I 2019-03-11 08:29:42,969] Finished a trial resulted in value: 0.4168055670867043. Current best value is 0.33658532945692415 with parameters: {'n_estimators': 71, 'num_leaves': 14, 'colsample_bytree': 0.901363112863797, 'learning_rate': 0.17139165297863015, 'max_depth': 384}.\n",
      "[I 2019-03-11 08:29:43,133] Finished a trial resulted in value: 0.3870215161034703. Current best value is 0.33658532945692415 with parameters: {'n_estimators': 71, 'num_leaves': 14, 'colsample_bytree': 0.901363112863797, 'learning_rate': 0.17139165297863015, 'max_depth': 384}.\n",
      "[I 2019-03-11 08:29:43,435] Finished a trial resulted in value: 0.7682959805447621. Current best value is 0.33658532945692415 with parameters: {'n_estimators': 71, 'num_leaves': 14, 'colsample_bytree': 0.901363112863797, 'learning_rate': 0.17139165297863015, 'max_depth': 384}.\n",
      "[I 2019-03-11 08:29:43,610] Finished a trial resulted in value: 0.43517057630078343. Current best value is 0.33658532945692415 with parameters: {'n_estimators': 71, 'num_leaves': 14, 'colsample_bytree': 0.901363112863797, 'learning_rate': 0.17139165297863015, 'max_depth': 384}.\n",
      "[I 2019-03-11 08:29:43,828] Finished a trial resulted in value: 0.4945769360653805. Current best value is 0.33658532945692415 with parameters: {'n_estimators': 71, 'num_leaves': 14, 'colsample_bytree': 0.901363112863797, 'learning_rate': 0.17139165297863015, 'max_depth': 384}.\n",
      "[I 2019-03-11 08:29:44,156] Finished a trial resulted in value: 0.35055323807594946. Current best value is 0.33658532945692415 with parameters: {'n_estimators': 71, 'num_leaves': 14, 'colsample_bytree': 0.901363112863797, 'learning_rate': 0.17139165297863015, 'max_depth': 384}.\n",
      "[I 2019-03-11 08:29:44,578] Finished a trial resulted in value: 0.41081802915483673. Current best value is 0.33658532945692415 with parameters: {'n_estimators': 71, 'num_leaves': 14, 'colsample_bytree': 0.901363112863797, 'learning_rate': 0.17139165297863015, 'max_depth': 384}.\n",
      "[I 2019-03-11 08:29:44,861] Finished a trial resulted in value: 0.47030627907291495. Current best value is 0.33658532945692415 with parameters: {'n_estimators': 71, 'num_leaves': 14, 'colsample_bytree': 0.901363112863797, 'learning_rate': 0.17139165297863015, 'max_depth': 384}.\n",
      "[I 2019-03-11 08:29:45,121] Finished a trial resulted in value: 0.4216654870414734. Current best value is 0.33658532945692415 with parameters: {'n_estimators': 71, 'num_leaves': 14, 'colsample_bytree': 0.901363112863797, 'learning_rate': 0.17139165297863015, 'max_depth': 384}.\n",
      "[I 2019-03-11 08:29:45,485] Finished a trial resulted in value: 0.44298013460444563. Current best value is 0.33658532945692415 with parameters: {'n_estimators': 71, 'num_leaves': 14, 'colsample_bytree': 0.901363112863797, 'learning_rate': 0.17139165297863015, 'max_depth': 384}.\n",
      "[I 2019-03-11 08:29:45,907] Finished a trial resulted in value: 0.4051980932813101. Current best value is 0.33658532945692415 with parameters: {'n_estimators': 71, 'num_leaves': 14, 'colsample_bytree': 0.901363112863797, 'learning_rate': 0.17139165297863015, 'max_depth': 384}.\n",
      "[I 2019-03-11 08:29:46,211] Finished a trial resulted in value: 0.41713574330674696. Current best value is 0.33658532945692415 with parameters: {'n_estimators': 71, 'num_leaves': 14, 'colsample_bytree': 0.901363112863797, 'learning_rate': 0.17139165297863015, 'max_depth': 384}.\n",
      "[I 2019-03-11 08:29:46,528] Finished a trial resulted in value: 0.3902389904687791. Current best value is 0.33658532945692415 with parameters: {'n_estimators': 71, 'num_leaves': 14, 'colsample_bytree': 0.901363112863797, 'learning_rate': 0.17139165297863015, 'max_depth': 384}.\n",
      "[I 2019-03-11 08:29:46,934] Finished a trial resulted in value: 0.43687251020382556. Current best value is 0.33658532945692415 with parameters: {'n_estimators': 71, 'num_leaves': 14, 'colsample_bytree': 0.901363112863797, 'learning_rate': 0.17139165297863015, 'max_depth': 384}.\n",
      "[I 2019-03-11 08:29:47,345] Finished a trial resulted in value: 0.4043819485083903. Current best value is 0.33658532945692415 with parameters: {'n_estimators': 71, 'num_leaves': 14, 'colsample_bytree': 0.901363112863797, 'learning_rate': 0.17139165297863015, 'max_depth': 384}.\n",
      "[I 2019-03-11 08:29:47,462] Finished a trial resulted in value: 0.9718403811571241. Current best value is 0.33658532945692415 with parameters: {'n_estimators': 71, 'num_leaves': 14, 'colsample_bytree': 0.901363112863797, 'learning_rate': 0.17139165297863015, 'max_depth': 384}.\n",
      "[I 2019-03-11 08:29:47,704] Finished a trial resulted in value: 0.3724970138993215. Current best value is 0.33658532945692415 with parameters: {'n_estimators': 71, 'num_leaves': 14, 'colsample_bytree': 0.901363112863797, 'learning_rate': 0.17139165297863015, 'max_depth': 384}.\n",
      "[I 2019-03-11 08:29:47,896] Finished a trial resulted in value: 1.0718311117401336. Current best value is 0.33658532945692415 with parameters: {'n_estimators': 71, 'num_leaves': 14, 'colsample_bytree': 0.901363112863797, 'learning_rate': 0.17139165297863015, 'max_depth': 384}.\n",
      "[I 2019-03-11 08:29:48,283] Finished a trial resulted in value: 0.546515254227316. Current best value is 0.33658532945692415 with parameters: {'n_estimators': 71, 'num_leaves': 14, 'colsample_bytree': 0.901363112863797, 'learning_rate': 0.17139165297863015, 'max_depth': 384}.\n",
      "[I 2019-03-11 08:29:48,553] Finished a trial resulted in value: 0.5258690811506758. Current best value is 0.33658532945692415 with parameters: {'n_estimators': 71, 'num_leaves': 14, 'colsample_bytree': 0.901363112863797, 'learning_rate': 0.17139165297863015, 'max_depth': 384}.\n",
      "[I 2019-03-11 08:29:48,864] Finished a trial resulted in value: 0.42176898353731906. Current best value is 0.33658532945692415 with parameters: {'n_estimators': 71, 'num_leaves': 14, 'colsample_bytree': 0.901363112863797, 'learning_rate': 0.17139165297863015, 'max_depth': 384}.\n",
      "[I 2019-03-11 08:29:49,141] Finished a trial resulted in value: 0.3688049358906709. Current best value is 0.33658532945692415 with parameters: {'n_estimators': 71, 'num_leaves': 14, 'colsample_bytree': 0.901363112863797, 'learning_rate': 0.17139165297863015, 'max_depth': 384}.\n",
      "[I 2019-03-11 08:29:49,376] Finished a trial resulted in value: 0.33896909492270033. Current best value is 0.33658532945692415 with parameters: {'n_estimators': 71, 'num_leaves': 14, 'colsample_bytree': 0.901363112863797, 'learning_rate': 0.17139165297863015, 'max_depth': 384}.\n",
      "[I 2019-03-11 08:29:49,525] Finished a trial resulted in value: 0.3800296352971081. Current best value is 0.33658532945692415 with parameters: {'n_estimators': 71, 'num_leaves': 14, 'colsample_bytree': 0.901363112863797, 'learning_rate': 0.17139165297863015, 'max_depth': 384}.\n",
      "[I 2019-03-11 08:29:49,634] Finished a trial resulted in value: 0.35896344542766684. Current best value is 0.33658532945692415 with parameters: {'n_estimators': 71, 'num_leaves': 14, 'colsample_bytree': 0.901363112863797, 'learning_rate': 0.17139165297863015, 'max_depth': 384}.\n",
      "[I 2019-03-11 08:29:49,766] Finished a trial resulted in value: 0.3719512911035049. Current best value is 0.33658532945692415 with parameters: {'n_estimators': 71, 'num_leaves': 14, 'colsample_bytree': 0.901363112863797, 'learning_rate': 0.17139165297863015, 'max_depth': 384}.\n",
      "[I 2019-03-11 08:29:49,914] Finished a trial resulted in value: 0.39861551177791904. Current best value is 0.33658532945692415 with parameters: {'n_estimators': 71, 'num_leaves': 14, 'colsample_bytree': 0.901363112863797, 'learning_rate': 0.17139165297863015, 'max_depth': 384}.\n"
     ]
    },
    {
     "name": "stderr",
     "output_type": "stream",
     "text": [
      "[I 2019-03-11 08:29:50,044] Finished a trial resulted in value: 0.4905102590664455. Current best value is 0.33658532945692415 with parameters: {'n_estimators': 71, 'num_leaves': 14, 'colsample_bytree': 0.901363112863797, 'learning_rate': 0.17139165297863015, 'max_depth': 384}.\n",
      "[I 2019-03-11 08:29:50,169] Finished a trial resulted in value: 0.4783594305608995. Current best value is 0.33658532945692415 with parameters: {'n_estimators': 71, 'num_leaves': 14, 'colsample_bytree': 0.901363112863797, 'learning_rate': 0.17139165297863015, 'max_depth': 384}.\n",
      "[I 2019-03-11 08:29:50,268] Finished a trial resulted in value: 0.39578912111383646. Current best value is 0.33658532945692415 with parameters: {'n_estimators': 71, 'num_leaves': 14, 'colsample_bytree': 0.901363112863797, 'learning_rate': 0.17139165297863015, 'max_depth': 384}.\n",
      "[I 2019-03-11 08:29:50,476] Finished a trial resulted in value: 0.4013781281324039. Current best value is 0.33658532945692415 with parameters: {'n_estimators': 71, 'num_leaves': 14, 'colsample_bytree': 0.901363112863797, 'learning_rate': 0.17139165297863015, 'max_depth': 384}.\n",
      "[I 2019-03-11 08:29:50,653] Finished a trial resulted in value: 0.49899284986048714. Current best value is 0.33658532945692415 with parameters: {'n_estimators': 71, 'num_leaves': 14, 'colsample_bytree': 0.901363112863797, 'learning_rate': 0.17139165297863015, 'max_depth': 384}.\n",
      "[I 2019-03-11 08:29:50,825] Finished a trial resulted in value: 1.2031331980285247. Current best value is 0.33658532945692415 with parameters: {'n_estimators': 71, 'num_leaves': 14, 'colsample_bytree': 0.901363112863797, 'learning_rate': 0.17139165297863015, 'max_depth': 384}.\n",
      "[I 2019-03-11 08:29:50,993] Finished a trial resulted in value: 0.3791850147590092. Current best value is 0.33658532945692415 with parameters: {'n_estimators': 71, 'num_leaves': 14, 'colsample_bytree': 0.901363112863797, 'learning_rate': 0.17139165297863015, 'max_depth': 384}.\n",
      "[I 2019-03-11 08:29:51,161] Finished a trial resulted in value: 0.57557296818284. Current best value is 0.33658532945692415 with parameters: {'n_estimators': 71, 'num_leaves': 14, 'colsample_bytree': 0.901363112863797, 'learning_rate': 0.17139165297863015, 'max_depth': 384}.\n",
      "[I 2019-03-11 08:29:51,424] Finished a trial resulted in value: 0.605114752614928. Current best value is 0.33658532945692415 with parameters: {'n_estimators': 71, 'num_leaves': 14, 'colsample_bytree': 0.901363112863797, 'learning_rate': 0.17139165297863015, 'max_depth': 384}.\n",
      "[I 2019-03-11 08:29:51,565] Finished a trial resulted in value: 0.3992798395996716. Current best value is 0.33658532945692415 with parameters: {'n_estimators': 71, 'num_leaves': 14, 'colsample_bytree': 0.901363112863797, 'learning_rate': 0.17139165297863015, 'max_depth': 384}.\n",
      "[I 2019-03-11 08:29:51,804] Finished a trial resulted in value: 0.4297393032574834. Current best value is 0.33658532945692415 with parameters: {'n_estimators': 71, 'num_leaves': 14, 'colsample_bytree': 0.901363112863797, 'learning_rate': 0.17139165297863015, 'max_depth': 384}.\n",
      "[I 2019-03-11 08:29:51,933] Finished a trial resulted in value: 0.47592193942326466. Current best value is 0.33658532945692415 with parameters: {'n_estimators': 71, 'num_leaves': 14, 'colsample_bytree': 0.901363112863797, 'learning_rate': 0.17139165297863015, 'max_depth': 384}.\n",
      "[I 2019-03-11 08:29:52,153] Finished a trial resulted in value: 1.2567336076487434. Current best value is 0.33658532945692415 with parameters: {'n_estimators': 71, 'num_leaves': 14, 'colsample_bytree': 0.901363112863797, 'learning_rate': 0.17139165297863015, 'max_depth': 384}.\n",
      "[I 2019-03-11 08:29:52,552] Finished a trial resulted in value: 0.7117079714031622. Current best value is 0.33658532945692415 with parameters: {'n_estimators': 71, 'num_leaves': 14, 'colsample_bytree': 0.901363112863797, 'learning_rate': 0.17139165297863015, 'max_depth': 384}.\n",
      "[I 2019-03-11 08:29:52,645] Finished a trial resulted in value: 1.004141355641099. Current best value is 0.33658532945692415 with parameters: {'n_estimators': 71, 'num_leaves': 14, 'colsample_bytree': 0.901363112863797, 'learning_rate': 0.17139165297863015, 'max_depth': 384}.\n",
      "[I 2019-03-11 08:29:52,888] Finished a trial resulted in value: 0.3736077344797976. Current best value is 0.33658532945692415 with parameters: {'n_estimators': 71, 'num_leaves': 14, 'colsample_bytree': 0.901363112863797, 'learning_rate': 0.17139165297863015, 'max_depth': 384}.\n",
      "[I 2019-03-11 08:29:53,440] Finished a trial resulted in value: 0.39950296989184525. Current best value is 0.33658532945692415 with parameters: {'n_estimators': 71, 'num_leaves': 14, 'colsample_bytree': 0.901363112863797, 'learning_rate': 0.17139165297863015, 'max_depth': 384}.\n",
      "[I 2019-03-11 08:29:53,864] Finished a trial resulted in value: 0.3854886660086714. Current best value is 0.33658532945692415 with parameters: {'n_estimators': 71, 'num_leaves': 14, 'colsample_bytree': 0.901363112863797, 'learning_rate': 0.17139165297863015, 'max_depth': 384}.\n",
      "[I 2019-03-11 08:29:54,149] Finished a trial resulted in value: 0.4099876110361605. Current best value is 0.33658532945692415 with parameters: {'n_estimators': 71, 'num_leaves': 14, 'colsample_bytree': 0.901363112863797, 'learning_rate': 0.17139165297863015, 'max_depth': 384}.\n",
      "[I 2019-03-11 08:29:54,285] Finished a trial resulted in value: 0.4450334739805828. Current best value is 0.33658532945692415 with parameters: {'n_estimators': 71, 'num_leaves': 14, 'colsample_bytree': 0.901363112863797, 'learning_rate': 0.17139165297863015, 'max_depth': 384}.\n",
      "[I 2019-03-11 08:29:54,626] Finished a trial resulted in value: 0.4310924490757781. Current best value is 0.33658532945692415 with parameters: {'n_estimators': 71, 'num_leaves': 14, 'colsample_bytree': 0.901363112863797, 'learning_rate': 0.17139165297863015, 'max_depth': 384}.\n",
      "[I 2019-03-11 08:29:54,849] Finished a trial resulted in value: 0.9672325589599947. Current best value is 0.33658532945692415 with parameters: {'n_estimators': 71, 'num_leaves': 14, 'colsample_bytree': 0.901363112863797, 'learning_rate': 0.17139165297863015, 'max_depth': 384}.\n",
      "[I 2019-03-11 08:29:55,026] Finished a trial resulted in value: 0.4310282966593672. Current best value is 0.33658532945692415 with parameters: {'n_estimators': 71, 'num_leaves': 14, 'colsample_bytree': 0.901363112863797, 'learning_rate': 0.17139165297863015, 'max_depth': 384}.\n",
      "[I 2019-03-11 08:29:55,500] Finished a trial resulted in value: 0.4269335173941911. Current best value is 0.33658532945692415 with parameters: {'n_estimators': 71, 'num_leaves': 14, 'colsample_bytree': 0.901363112863797, 'learning_rate': 0.17139165297863015, 'max_depth': 384}.\n",
      "[I 2019-03-11 08:29:55,837] Finished a trial resulted in value: 1.221925050198615. Current best value is 0.33658532945692415 with parameters: {'n_estimators': 71, 'num_leaves': 14, 'colsample_bytree': 0.901363112863797, 'learning_rate': 0.17139165297863015, 'max_depth': 384}.\n",
      "[I 2019-03-11 08:29:56,173] Finished a trial resulted in value: 0.4314068284825556. Current best value is 0.33658532945692415 with parameters: {'n_estimators': 71, 'num_leaves': 14, 'colsample_bytree': 0.901363112863797, 'learning_rate': 0.17139165297863015, 'max_depth': 384}.\n",
      "[I 2019-03-11 08:29:56,333] Finished a trial resulted in value: 0.5715448967304007. Current best value is 0.33658532945692415 with parameters: {'n_estimators': 71, 'num_leaves': 14, 'colsample_bytree': 0.901363112863797, 'learning_rate': 0.17139165297863015, 'max_depth': 384}.\n",
      "[I 2019-03-11 08:29:56,736] Finished a trial resulted in value: 0.365585583531266. Current best value is 0.33658532945692415 with parameters: {'n_estimators': 71, 'num_leaves': 14, 'colsample_bytree': 0.901363112863797, 'learning_rate': 0.17139165297863015, 'max_depth': 384}.\n",
      "[I 2019-03-11 08:29:56,935] Finished a trial resulted in value: 1.0894902378393758. Current best value is 0.33658532945692415 with parameters: {'n_estimators': 71, 'num_leaves': 14, 'colsample_bytree': 0.901363112863797, 'learning_rate': 0.17139165297863015, 'max_depth': 384}.\n"
     ]
    },
    {
     "name": "stderr",
     "output_type": "stream",
     "text": [
      "[I 2019-03-11 08:29:57,089] Finished a trial resulted in value: 1.1421064459850083. Current best value is 0.33658532945692415 with parameters: {'n_estimators': 71, 'num_leaves': 14, 'colsample_bytree': 0.901363112863797, 'learning_rate': 0.17139165297863015, 'max_depth': 384}.\n",
      "[I 2019-03-11 08:29:57,212] Finished a trial resulted in value: 0.5298002975480329. Current best value is 0.33658532945692415 with parameters: {'n_estimators': 71, 'num_leaves': 14, 'colsample_bytree': 0.901363112863797, 'learning_rate': 0.17139165297863015, 'max_depth': 384}.\n",
      "[I 2019-03-11 08:29:57,456] Finished a trial resulted in value: 0.4775219913474356. Current best value is 0.33658532945692415 with parameters: {'n_estimators': 71, 'num_leaves': 14, 'colsample_bytree': 0.901363112863797, 'learning_rate': 0.17139165297863015, 'max_depth': 384}.\n",
      "[I 2019-03-11 08:29:57,784] Finished a trial resulted in value: 0.7366499288717249. Current best value is 0.33658532945692415 with parameters: {'n_estimators': 71, 'num_leaves': 14, 'colsample_bytree': 0.901363112863797, 'learning_rate': 0.17139165297863015, 'max_depth': 384}.\n",
      "[I 2019-03-11 08:29:58,060] Finished a trial resulted in value: 0.46417507041008577. Current best value is 0.33658532945692415 with parameters: {'n_estimators': 71, 'num_leaves': 14, 'colsample_bytree': 0.901363112863797, 'learning_rate': 0.17139165297863015, 'max_depth': 384}.\n",
      "[I 2019-03-11 08:29:58,334] Finished a trial resulted in value: 0.6035387771812067. Current best value is 0.33658532945692415 with parameters: {'n_estimators': 71, 'num_leaves': 14, 'colsample_bytree': 0.901363112863797, 'learning_rate': 0.17139165297863015, 'max_depth': 384}.\n",
      "[I 2019-03-11 08:29:58,629] Finished a trial resulted in value: 0.4642443871669879. Current best value is 0.33658532945692415 with parameters: {'n_estimators': 71, 'num_leaves': 14, 'colsample_bytree': 0.901363112863797, 'learning_rate': 0.17139165297863015, 'max_depth': 384}.\n",
      "[I 2019-03-11 08:29:58,848] Finished a trial resulted in value: 0.750004159114269. Current best value is 0.33658532945692415 with parameters: {'n_estimators': 71, 'num_leaves': 14, 'colsample_bytree': 0.901363112863797, 'learning_rate': 0.17139165297863015, 'max_depth': 384}.\n",
      "[I 2019-03-11 08:29:59,368] Finished a trial resulted in value: 0.43039513873671453. Current best value is 0.33658532945692415 with parameters: {'n_estimators': 71, 'num_leaves': 14, 'colsample_bytree': 0.901363112863797, 'learning_rate': 0.17139165297863015, 'max_depth': 384}.\n",
      "[I 2019-03-11 08:29:59,763] Finished a trial resulted in value: 0.43936670938563205. Current best value is 0.33658532945692415 with parameters: {'n_estimators': 71, 'num_leaves': 14, 'colsample_bytree': 0.901363112863797, 'learning_rate': 0.17139165297863015, 'max_depth': 384}.\n",
      "[I 2019-03-11 08:29:59,972] Finished a trial resulted in value: 1.2220449178292714. Current best value is 0.33658532945692415 with parameters: {'n_estimators': 71, 'num_leaves': 14, 'colsample_bytree': 0.901363112863797, 'learning_rate': 0.17139165297863015, 'max_depth': 384}.\n",
      "[I 2019-03-11 08:30:00,366] Finished a trial resulted in value: 1.2183151942760635. Current best value is 0.33658532945692415 with parameters: {'n_estimators': 71, 'num_leaves': 14, 'colsample_bytree': 0.901363112863797, 'learning_rate': 0.17139165297863015, 'max_depth': 384}.\n",
      "[I 2019-03-11 08:30:00,700] Finished a trial resulted in value: 0.4068201886167497. Current best value is 0.33658532945692415 with parameters: {'n_estimators': 71, 'num_leaves': 14, 'colsample_bytree': 0.901363112863797, 'learning_rate': 0.17139165297863015, 'max_depth': 384}.\n",
      "[I 2019-03-11 08:30:00,921] Finished a trial resulted in value: 0.5258976945001734. Current best value is 0.33658532945692415 with parameters: {'n_estimators': 71, 'num_leaves': 14, 'colsample_bytree': 0.901363112863797, 'learning_rate': 0.17139165297863015, 'max_depth': 384}.\n",
      "[I 2019-03-11 08:30:01,121] Finished a trial resulted in value: 0.5575998533544716. Current best value is 0.33658532945692415 with parameters: {'n_estimators': 71, 'num_leaves': 14, 'colsample_bytree': 0.901363112863797, 'learning_rate': 0.17139165297863015, 'max_depth': 384}.\n",
      "[I 2019-03-11 08:30:01,380] Finished a trial resulted in value: 0.39259130425173205. Current best value is 0.33658532945692415 with parameters: {'n_estimators': 71, 'num_leaves': 14, 'colsample_bytree': 0.901363112863797, 'learning_rate': 0.17139165297863015, 'max_depth': 384}.\n",
      "[I 2019-03-11 08:30:01,625] Finished a trial resulted in value: 0.37615092068849004. Current best value is 0.33658532945692415 with parameters: {'n_estimators': 71, 'num_leaves': 14, 'colsample_bytree': 0.901363112863797, 'learning_rate': 0.17139165297863015, 'max_depth': 384}.\n",
      "[I 2019-03-11 08:30:01,788] Finished a trial resulted in value: 0.34544242022056965. Current best value is 0.33658532945692415 with parameters: {'n_estimators': 71, 'num_leaves': 14, 'colsample_bytree': 0.901363112863797, 'learning_rate': 0.17139165297863015, 'max_depth': 384}.\n",
      "[I 2019-03-11 08:30:02,099] Finished a trial resulted in value: 0.41640823402226046. Current best value is 0.33658532945692415 with parameters: {'n_estimators': 71, 'num_leaves': 14, 'colsample_bytree': 0.901363112863797, 'learning_rate': 0.17139165297863015, 'max_depth': 384}.\n",
      "[I 2019-03-11 08:30:02,363] Finished a trial resulted in value: 0.4122055404314797. Current best value is 0.33658532945692415 with parameters: {'n_estimators': 71, 'num_leaves': 14, 'colsample_bytree': 0.901363112863797, 'learning_rate': 0.17139165297863015, 'max_depth': 384}.\n",
      "[I 2019-03-11 08:30:03,079] Finished a trial resulted in value: 0.8262907671909135. Current best value is 0.33658532945692415 with parameters: {'n_estimators': 71, 'num_leaves': 14, 'colsample_bytree': 0.901363112863797, 'learning_rate': 0.17139165297863015, 'max_depth': 384}.\n",
      "[I 2019-03-11 08:30:03,358] Finished a trial resulted in value: 0.38447569978338086. Current best value is 0.33658532945692415 with parameters: {'n_estimators': 71, 'num_leaves': 14, 'colsample_bytree': 0.901363112863797, 'learning_rate': 0.17139165297863015, 'max_depth': 384}.\n",
      "[I 2019-03-11 08:30:03,572] Finished a trial resulted in value: 0.45976625361512613. Current best value is 0.33658532945692415 with parameters: {'n_estimators': 71, 'num_leaves': 14, 'colsample_bytree': 0.901363112863797, 'learning_rate': 0.17139165297863015, 'max_depth': 384}.\n",
      "[I 2019-03-11 08:30:04,154] Finished a trial resulted in value: 0.5660743162569123. Current best value is 0.33658532945692415 with parameters: {'n_estimators': 71, 'num_leaves': 14, 'colsample_bytree': 0.901363112863797, 'learning_rate': 0.17139165297863015, 'max_depth': 384}.\n",
      "[I 2019-03-11 08:30:04,449] Finished a trial resulted in value: 0.5112529197339017. Current best value is 0.33658532945692415 with parameters: {'n_estimators': 71, 'num_leaves': 14, 'colsample_bytree': 0.901363112863797, 'learning_rate': 0.17139165297863015, 'max_depth': 384}.\n",
      "[I 2019-03-11 08:30:04,586] Finished a trial resulted in value: 0.5867964781720992. Current best value is 0.33658532945692415 with parameters: {'n_estimators': 71, 'num_leaves': 14, 'colsample_bytree': 0.901363112863797, 'learning_rate': 0.17139165297863015, 'max_depth': 384}.\n",
      "[I 2019-03-11 08:30:04,760] Finished a trial resulted in value: 0.815790799713675. Current best value is 0.33658532945692415 with parameters: {'n_estimators': 71, 'num_leaves': 14, 'colsample_bytree': 0.901363112863797, 'learning_rate': 0.17139165297863015, 'max_depth': 384}.\n",
      "[I 2019-03-11 08:30:04,932] Finished a trial resulted in value: 0.47914190338193297. Current best value is 0.33658532945692415 with parameters: {'n_estimators': 71, 'num_leaves': 14, 'colsample_bytree': 0.901363112863797, 'learning_rate': 0.17139165297863015, 'max_depth': 384}.\n",
      "[I 2019-03-11 08:30:05,083] Finished a trial resulted in value: 0.6718735797666542. Current best value is 0.33658532945692415 with parameters: {'n_estimators': 71, 'num_leaves': 14, 'colsample_bytree': 0.901363112863797, 'learning_rate': 0.17139165297863015, 'max_depth': 384}.\n"
     ]
    },
    {
     "name": "stderr",
     "output_type": "stream",
     "text": [
      "[I 2019-03-11 08:30:05,476] Finished a trial resulted in value: 0.3943787744320263. Current best value is 0.33658532945692415 with parameters: {'n_estimators': 71, 'num_leaves': 14, 'colsample_bytree': 0.901363112863797, 'learning_rate': 0.17139165297863015, 'max_depth': 384}.\n",
      "[I 2019-03-11 08:30:05,956] Finished a trial resulted in value: 0.3613810074142407. Current best value is 0.33658532945692415 with parameters: {'n_estimators': 71, 'num_leaves': 14, 'colsample_bytree': 0.901363112863797, 'learning_rate': 0.17139165297863015, 'max_depth': 384}.\n",
      "[I 2019-03-11 08:30:06,427] Finished a trial resulted in value: 0.44684970591302514. Current best value is 0.33658532945692415 with parameters: {'n_estimators': 71, 'num_leaves': 14, 'colsample_bytree': 0.901363112863797, 'learning_rate': 0.17139165297863015, 'max_depth': 384}.\n",
      "[I 2019-03-11 08:30:07,034] Finished a trial resulted in value: 0.3450524806810163. Current best value is 0.33658532945692415 with parameters: {'n_estimators': 71, 'num_leaves': 14, 'colsample_bytree': 0.901363112863797, 'learning_rate': 0.17139165297863015, 'max_depth': 384}.\n",
      "[I 2019-03-11 08:30:07,684] Finished a trial resulted in value: 0.36889893473166874. Current best value is 0.33658532945692415 with parameters: {'n_estimators': 71, 'num_leaves': 14, 'colsample_bytree': 0.901363112863797, 'learning_rate': 0.17139165297863015, 'max_depth': 384}.\n",
      "[I 2019-03-11 08:30:08,214] Finished a trial resulted in value: 0.42285822769262954. Current best value is 0.33658532945692415 with parameters: {'n_estimators': 71, 'num_leaves': 14, 'colsample_bytree': 0.901363112863797, 'learning_rate': 0.17139165297863015, 'max_depth': 384}.\n",
      "[I 2019-03-11 08:30:08,552] Finished a trial resulted in value: 0.3929991381133083. Current best value is 0.33658532945692415 with parameters: {'n_estimators': 71, 'num_leaves': 14, 'colsample_bytree': 0.901363112863797, 'learning_rate': 0.17139165297863015, 'max_depth': 384}.\n",
      "[I 2019-03-11 08:30:08,886] Finished a trial resulted in value: 0.4713676739448721. Current best value is 0.33658532945692415 with parameters: {'n_estimators': 71, 'num_leaves': 14, 'colsample_bytree': 0.901363112863797, 'learning_rate': 0.17139165297863015, 'max_depth': 384}.\n",
      "[I 2019-03-11 08:30:09,247] Finished a trial resulted in value: 0.4133671446906373. Current best value is 0.33658532945692415 with parameters: {'n_estimators': 71, 'num_leaves': 14, 'colsample_bytree': 0.901363112863797, 'learning_rate': 0.17139165297863015, 'max_depth': 384}.\n",
      "[I 2019-03-11 08:30:09,647] Finished a trial resulted in value: 0.42377735714045695. Current best value is 0.33658532945692415 with parameters: {'n_estimators': 71, 'num_leaves': 14, 'colsample_bytree': 0.901363112863797, 'learning_rate': 0.17139165297863015, 'max_depth': 384}.\n",
      "[I 2019-03-11 08:30:09,938] Finished a trial resulted in value: 0.3997752715729399. Current best value is 0.33658532945692415 with parameters: {'n_estimators': 71, 'num_leaves': 14, 'colsample_bytree': 0.901363112863797, 'learning_rate': 0.17139165297863015, 'max_depth': 384}.\n",
      "[I 2019-03-11 08:30:10,426] Finished a trial resulted in value: 0.38455956127299684. Current best value is 0.33658532945692415 with parameters: {'n_estimators': 71, 'num_leaves': 14, 'colsample_bytree': 0.901363112863797, 'learning_rate': 0.17139165297863015, 'max_depth': 384}.\n",
      "[I 2019-03-11 08:30:10,802] Finished a trial resulted in value: 0.48130971413353024. Current best value is 0.33658532945692415 with parameters: {'n_estimators': 71, 'num_leaves': 14, 'colsample_bytree': 0.901363112863797, 'learning_rate': 0.17139165297863015, 'max_depth': 384}.\n",
      "[I 2019-03-11 08:30:11,160] Finished a trial resulted in value: 0.4025956397762343. Current best value is 0.33658532945692415 with parameters: {'n_estimators': 71, 'num_leaves': 14, 'colsample_bytree': 0.901363112863797, 'learning_rate': 0.17139165297863015, 'max_depth': 384}.\n",
      "[I 2019-03-11 08:30:11,377] Finished a trial resulted in value: 0.43914659950158946. Current best value is 0.33658532945692415 with parameters: {'n_estimators': 71, 'num_leaves': 14, 'colsample_bytree': 0.901363112863797, 'learning_rate': 0.17139165297863015, 'max_depth': 384}.\n",
      "[I 2019-03-11 08:30:11,872] Finished a trial resulted in value: 0.4175295949821493. Current best value is 0.33658532945692415 with parameters: {'n_estimators': 71, 'num_leaves': 14, 'colsample_bytree': 0.901363112863797, 'learning_rate': 0.17139165297863015, 'max_depth': 384}.\n",
      "[I 2019-03-11 08:30:12,047] Finished a trial resulted in value: 0.3610768463080681. Current best value is 0.33658532945692415 with parameters: {'n_estimators': 71, 'num_leaves': 14, 'colsample_bytree': 0.901363112863797, 'learning_rate': 0.17139165297863015, 'max_depth': 384}.\n",
      "[I 2019-03-11 08:30:12,377] Finished a trial resulted in value: 0.8588082171716948. Current best value is 0.33658532945692415 with parameters: {'n_estimators': 71, 'num_leaves': 14, 'colsample_bytree': 0.901363112863797, 'learning_rate': 0.17139165297863015, 'max_depth': 384}.\n",
      "[I 2019-03-11 08:30:12,654] Finished a trial resulted in value: 0.41542321706960456. Current best value is 0.33658532945692415 with parameters: {'n_estimators': 71, 'num_leaves': 14, 'colsample_bytree': 0.901363112863797, 'learning_rate': 0.17139165297863015, 'max_depth': 384}.\n",
      "[I 2019-03-11 08:30:12,794] Finished a trial resulted in value: 0.5802166877877286. Current best value is 0.33658532945692415 with parameters: {'n_estimators': 71, 'num_leaves': 14, 'colsample_bytree': 0.901363112863797, 'learning_rate': 0.17139165297863015, 'max_depth': 384}.\n",
      "[I 2019-03-11 08:30:13,252] Finished a trial resulted in value: 0.4185220102627245. Current best value is 0.33658532945692415 with parameters: {'n_estimators': 71, 'num_leaves': 14, 'colsample_bytree': 0.901363112863797, 'learning_rate': 0.17139165297863015, 'max_depth': 384}.\n",
      "[I 2019-03-11 08:30:13,544] Finished a trial resulted in value: 0.4366295744302045. Current best value is 0.33658532945692415 with parameters: {'n_estimators': 71, 'num_leaves': 14, 'colsample_bytree': 0.901363112863797, 'learning_rate': 0.17139165297863015, 'max_depth': 384}.\n",
      "[I 2019-03-11 08:30:13,744] Finished a trial resulted in value: 0.5143698478228131. Current best value is 0.33658532945692415 with parameters: {'n_estimators': 71, 'num_leaves': 14, 'colsample_bytree': 0.901363112863797, 'learning_rate': 0.17139165297863015, 'max_depth': 384}.\n",
      "[I 2019-03-11 08:30:13,906] Finished a trial resulted in value: 0.5357800731923062. Current best value is 0.33658532945692415 with parameters: {'n_estimators': 71, 'num_leaves': 14, 'colsample_bytree': 0.901363112863797, 'learning_rate': 0.17139165297863015, 'max_depth': 384}.\n",
      "[I 2019-03-11 08:30:14,309] Finished a trial resulted in value: 0.4371925194155762. Current best value is 0.33658532945692415 with parameters: {'n_estimators': 71, 'num_leaves': 14, 'colsample_bytree': 0.901363112863797, 'learning_rate': 0.17139165297863015, 'max_depth': 384}.\n",
      "[I 2019-03-11 08:30:14,567] Finished a trial resulted in value: 0.40145820756612133. Current best value is 0.33658532945692415 with parameters: {'n_estimators': 71, 'num_leaves': 14, 'colsample_bytree': 0.901363112863797, 'learning_rate': 0.17139165297863015, 'max_depth': 384}.\n",
      "[I 2019-03-11 08:30:14,893] Finished a trial resulted in value: 0.7208122873810355. Current best value is 0.33658532945692415 with parameters: {'n_estimators': 71, 'num_leaves': 14, 'colsample_bytree': 0.901363112863797, 'learning_rate': 0.17139165297863015, 'max_depth': 384}.\n",
      "[I 2019-03-11 08:30:15,187] Finished a trial resulted in value: 0.38874207558004226. Current best value is 0.33658532945692415 with parameters: {'n_estimators': 71, 'num_leaves': 14, 'colsample_bytree': 0.901363112863797, 'learning_rate': 0.17139165297863015, 'max_depth': 384}.\n",
      "[I 2019-03-11 08:30:15,410] Finished a trial resulted in value: 1.264218825860874. Current best value is 0.33658532945692415 with parameters: {'n_estimators': 71, 'num_leaves': 14, 'colsample_bytree': 0.901363112863797, 'learning_rate': 0.17139165297863015, 'max_depth': 384}.\n"
     ]
    },
    {
     "name": "stderr",
     "output_type": "stream",
     "text": [
      "[I 2019-03-11 08:30:15,796] Finished a trial resulted in value: 0.5222300526796935. Current best value is 0.33658532945692415 with parameters: {'n_estimators': 71, 'num_leaves': 14, 'colsample_bytree': 0.901363112863797, 'learning_rate': 0.17139165297863015, 'max_depth': 384}.\n",
      "[I 2019-03-11 08:30:16,148] Finished a trial resulted in value: 0.38784478640980774. Current best value is 0.33658532945692415 with parameters: {'n_estimators': 71, 'num_leaves': 14, 'colsample_bytree': 0.901363112863797, 'learning_rate': 0.17139165297863015, 'max_depth': 384}.\n",
      "[I 2019-03-11 08:30:16,407] Finished a trial resulted in value: 0.4408864762885221. Current best value is 0.33658532945692415 with parameters: {'n_estimators': 71, 'num_leaves': 14, 'colsample_bytree': 0.901363112863797, 'learning_rate': 0.17139165297863015, 'max_depth': 384}.\n",
      "[I 2019-03-11 08:30:16,904] Finished a trial resulted in value: 0.5357158330806181. Current best value is 0.33658532945692415 with parameters: {'n_estimators': 71, 'num_leaves': 14, 'colsample_bytree': 0.901363112863797, 'learning_rate': 0.17139165297863015, 'max_depth': 384}.\n",
      "[I 2019-03-11 08:30:17,087] Finished a trial resulted in value: 0.444482163123048. Current best value is 0.33658532945692415 with parameters: {'n_estimators': 71, 'num_leaves': 14, 'colsample_bytree': 0.901363112863797, 'learning_rate': 0.17139165297863015, 'max_depth': 384}.\n",
      "[I 2019-03-11 08:30:17,260] Finished a trial resulted in value: 0.9138166164919573. Current best value is 0.33658532945692415 with parameters: {'n_estimators': 71, 'num_leaves': 14, 'colsample_bytree': 0.901363112863797, 'learning_rate': 0.17139165297863015, 'max_depth': 384}.\n",
      "[I 2019-03-11 08:30:17,598] Finished a trial resulted in value: 0.5894896749974832. Current best value is 0.33658532945692415 with parameters: {'n_estimators': 71, 'num_leaves': 14, 'colsample_bytree': 0.901363112863797, 'learning_rate': 0.17139165297863015, 'max_depth': 384}.\n",
      "[I 2019-03-11 08:30:17,814] Finished a trial resulted in value: 0.4259501354404983. Current best value is 0.33658532945692415 with parameters: {'n_estimators': 71, 'num_leaves': 14, 'colsample_bytree': 0.901363112863797, 'learning_rate': 0.17139165297863015, 'max_depth': 384}.\n",
      "[I 2019-03-11 08:30:18,172] Finished a trial resulted in value: 0.44200799156970766. Current best value is 0.33658532945692415 with parameters: {'n_estimators': 71, 'num_leaves': 14, 'colsample_bytree': 0.901363112863797, 'learning_rate': 0.17139165297863015, 'max_depth': 384}.\n",
      "[I 2019-03-11 08:30:18,394] Finished a trial resulted in value: 1.1457972070021063. Current best value is 0.33658532945692415 with parameters: {'n_estimators': 71, 'num_leaves': 14, 'colsample_bytree': 0.901363112863797, 'learning_rate': 0.17139165297863015, 'max_depth': 384}.\n",
      "[I 2019-03-11 08:30:18,931] Finished a trial resulted in value: 0.4238969636186594. Current best value is 0.33658532945692415 with parameters: {'n_estimators': 71, 'num_leaves': 14, 'colsample_bytree': 0.901363112863797, 'learning_rate': 0.17139165297863015, 'max_depth': 384}.\n",
      "[I 2019-03-11 08:30:19,203] Finished a trial resulted in value: 0.5559429676207595. Current best value is 0.33658532945692415 with parameters: {'n_estimators': 71, 'num_leaves': 14, 'colsample_bytree': 0.901363112863797, 'learning_rate': 0.17139165297863015, 'max_depth': 384}.\n",
      "[I 2019-03-11 08:30:19,446] Finished a trial resulted in value: 0.4535464083699755. Current best value is 0.33658532945692415 with parameters: {'n_estimators': 71, 'num_leaves': 14, 'colsample_bytree': 0.901363112863797, 'learning_rate': 0.17139165297863015, 'max_depth': 384}.\n",
      "[I 2019-03-11 08:30:19,850] Finished a trial resulted in value: 0.43562418010854465. Current best value is 0.33658532945692415 with parameters: {'n_estimators': 71, 'num_leaves': 14, 'colsample_bytree': 0.901363112863797, 'learning_rate': 0.17139165297863015, 'max_depth': 384}.\n",
      "[I 2019-03-11 08:30:20,085] Finished a trial resulted in value: 0.4347650269575435. Current best value is 0.33658532945692415 with parameters: {'n_estimators': 71, 'num_leaves': 14, 'colsample_bytree': 0.901363112863797, 'learning_rate': 0.17139165297863015, 'max_depth': 384}.\n",
      "[I 2019-03-11 08:30:20,327] Finished a trial resulted in value: 0.43920081757168744. Current best value is 0.33658532945692415 with parameters: {'n_estimators': 71, 'num_leaves': 14, 'colsample_bytree': 0.901363112863797, 'learning_rate': 0.17139165297863015, 'max_depth': 384}.\n",
      "[I 2019-03-11 08:30:20,527] Finished a trial resulted in value: 0.3535619641158852. Current best value is 0.33658532945692415 with parameters: {'n_estimators': 71, 'num_leaves': 14, 'colsample_bytree': 0.901363112863797, 'learning_rate': 0.17139165297863015, 'max_depth': 384}.\n",
      "[I 2019-03-11 08:30:20,751] Finished a trial resulted in value: 1.2033321723702737. Current best value is 0.33658532945692415 with parameters: {'n_estimators': 71, 'num_leaves': 14, 'colsample_bytree': 0.901363112863797, 'learning_rate': 0.17139165297863015, 'max_depth': 384}.\n",
      "[I 2019-03-11 08:30:21,060] Finished a trial resulted in value: 0.3902835325722933. Current best value is 0.33658532945692415 with parameters: {'n_estimators': 71, 'num_leaves': 14, 'colsample_bytree': 0.901363112863797, 'learning_rate': 0.17139165297863015, 'max_depth': 384}.\n",
      "[I 2019-03-11 08:30:21,271] Finished a trial resulted in value: 0.5542345467060236. Current best value is 0.33658532945692415 with parameters: {'n_estimators': 71, 'num_leaves': 14, 'colsample_bytree': 0.901363112863797, 'learning_rate': 0.17139165297863015, 'max_depth': 384}.\n",
      "[I 2019-03-11 08:30:21,541] Finished a trial resulted in value: 0.6905022566874781. Current best value is 0.33658532945692415 with parameters: {'n_estimators': 71, 'num_leaves': 14, 'colsample_bytree': 0.901363112863797, 'learning_rate': 0.17139165297863015, 'max_depth': 384}.\n",
      "[I 2019-03-11 08:30:21,832] Finished a trial resulted in value: 0.40721035326632665. Current best value is 0.33658532945692415 with parameters: {'n_estimators': 71, 'num_leaves': 14, 'colsample_bytree': 0.901363112863797, 'learning_rate': 0.17139165297863015, 'max_depth': 384}.\n",
      "[I 2019-03-11 08:30:22,395] Finished a trial resulted in value: 0.41892041094668686. Current best value is 0.33658532945692415 with parameters: {'n_estimators': 71, 'num_leaves': 14, 'colsample_bytree': 0.901363112863797, 'learning_rate': 0.17139165297863015, 'max_depth': 384}.\n",
      "[I 2019-03-11 08:30:22,708] Finished a trial resulted in value: 0.46096037739762397. Current best value is 0.33658532945692415 with parameters: {'n_estimators': 71, 'num_leaves': 14, 'colsample_bytree': 0.901363112863797, 'learning_rate': 0.17139165297863015, 'max_depth': 384}.\n",
      "[I 2019-03-11 08:30:23,014] Finished a trial resulted in value: 0.4272551086973822. Current best value is 0.33658532945692415 with parameters: {'n_estimators': 71, 'num_leaves': 14, 'colsample_bytree': 0.901363112863797, 'learning_rate': 0.17139165297863015, 'max_depth': 384}.\n",
      "[I 2019-03-11 08:30:23,346] Finished a trial resulted in value: 0.41166838482368134. Current best value is 0.33658532945692415 with parameters: {'n_estimators': 71, 'num_leaves': 14, 'colsample_bytree': 0.901363112863797, 'learning_rate': 0.17139165297863015, 'max_depth': 384}.\n",
      "[I 2019-03-11 08:30:23,572] Finished a trial resulted in value: 0.40143033299550573. Current best value is 0.33658532945692415 with parameters: {'n_estimators': 71, 'num_leaves': 14, 'colsample_bytree': 0.901363112863797, 'learning_rate': 0.17139165297863015, 'max_depth': 384}.\n",
      "[I 2019-03-11 08:30:23,969] Finished a trial resulted in value: 0.4066160100306216. Current best value is 0.33658532945692415 with parameters: {'n_estimators': 71, 'num_leaves': 14, 'colsample_bytree': 0.901363112863797, 'learning_rate': 0.17139165297863015, 'max_depth': 384}.\n",
      "[I 2019-03-11 08:30:24,268] Finished a trial resulted in value: 0.37175029519759606. Current best value is 0.33658532945692415 with parameters: {'n_estimators': 71, 'num_leaves': 14, 'colsample_bytree': 0.901363112863797, 'learning_rate': 0.17139165297863015, 'max_depth': 384}.\n"
     ]
    },
    {
     "name": "stderr",
     "output_type": "stream",
     "text": [
      "[I 2019-03-11 08:30:24,658] Finished a trial resulted in value: 0.362884071689511. Current best value is 0.33658532945692415 with parameters: {'n_estimators': 71, 'num_leaves': 14, 'colsample_bytree': 0.901363112863797, 'learning_rate': 0.17139165297863015, 'max_depth': 384}.\n",
      "[I 2019-03-11 08:30:25,390] Finished a trial resulted in value: 0.4254353941621966. Current best value is 0.33658532945692415 with parameters: {'n_estimators': 71, 'num_leaves': 14, 'colsample_bytree': 0.901363112863797, 'learning_rate': 0.17139165297863015, 'max_depth': 384}.\n",
      "[I 2019-03-11 08:30:25,693] Finished a trial resulted in value: 0.4634213936024788. Current best value is 0.33658532945692415 with parameters: {'n_estimators': 71, 'num_leaves': 14, 'colsample_bytree': 0.901363112863797, 'learning_rate': 0.17139165297863015, 'max_depth': 384}.\n",
      "[I 2019-03-11 08:30:26,116] Finished a trial resulted in value: 1.2400745859134943. Current best value is 0.33658532945692415 with parameters: {'n_estimators': 71, 'num_leaves': 14, 'colsample_bytree': 0.901363112863797, 'learning_rate': 0.17139165297863015, 'max_depth': 384}.\n",
      "[I 2019-03-11 08:30:26,335] Finished a trial resulted in value: 0.4594851653538726. Current best value is 0.33658532945692415 with parameters: {'n_estimators': 71, 'num_leaves': 14, 'colsample_bytree': 0.901363112863797, 'learning_rate': 0.17139165297863015, 'max_depth': 384}.\n",
      "[I 2019-03-11 08:30:26,523] Finished a trial resulted in value: 1.0038923087046396. Current best value is 0.33658532945692415 with parameters: {'n_estimators': 71, 'num_leaves': 14, 'colsample_bytree': 0.901363112863797, 'learning_rate': 0.17139165297863015, 'max_depth': 384}.\n",
      "[I 2019-03-11 08:30:26,728] Finished a trial resulted in value: 0.3815053505338859. Current best value is 0.33658532945692415 with parameters: {'n_estimators': 71, 'num_leaves': 14, 'colsample_bytree': 0.901363112863797, 'learning_rate': 0.17139165297863015, 'max_depth': 384}.\n",
      "[I 2019-03-11 08:30:26,989] Finished a trial resulted in value: 0.38092576881069246. Current best value is 0.33658532945692415 with parameters: {'n_estimators': 71, 'num_leaves': 14, 'colsample_bytree': 0.901363112863797, 'learning_rate': 0.17139165297863015, 'max_depth': 384}.\n",
      "[I 2019-03-11 08:30:27,251] Finished a trial resulted in value: 0.5768168434891549. Current best value is 0.33658532945692415 with parameters: {'n_estimators': 71, 'num_leaves': 14, 'colsample_bytree': 0.901363112863797, 'learning_rate': 0.17139165297863015, 'max_depth': 384}.\n",
      "[I 2019-03-11 08:30:27,668] Finished a trial resulted in value: 0.43381284455768204. Current best value is 0.33658532945692415 with parameters: {'n_estimators': 71, 'num_leaves': 14, 'colsample_bytree': 0.901363112863797, 'learning_rate': 0.17139165297863015, 'max_depth': 384}.\n",
      "[I 2019-03-11 08:30:27,992] Finished a trial resulted in value: 0.46062394197753254. Current best value is 0.33658532945692415 with parameters: {'n_estimators': 71, 'num_leaves': 14, 'colsample_bytree': 0.901363112863797, 'learning_rate': 0.17139165297863015, 'max_depth': 384}.\n",
      "[I 2019-03-11 08:30:28,242] Finished a trial resulted in value: 0.4264337729036193. Current best value is 0.33658532945692415 with parameters: {'n_estimators': 71, 'num_leaves': 14, 'colsample_bytree': 0.901363112863797, 'learning_rate': 0.17139165297863015, 'max_depth': 384}.\n",
      "[I 2019-03-11 08:30:28,777] Finished a trial resulted in value: 1.0342779229493. Current best value is 0.33658532945692415 with parameters: {'n_estimators': 71, 'num_leaves': 14, 'colsample_bytree': 0.901363112863797, 'learning_rate': 0.17139165297863015, 'max_depth': 384}.\n",
      "[I 2019-03-11 08:30:28,959] Finished a trial resulted in value: 0.5534438851101409. Current best value is 0.33658532945692415 with parameters: {'n_estimators': 71, 'num_leaves': 14, 'colsample_bytree': 0.901363112863797, 'learning_rate': 0.17139165297863015, 'max_depth': 384}.\n",
      "[I 2019-03-11 08:30:29,195] Finished a trial resulted in value: 0.3849900394671318. Current best value is 0.33658532945692415 with parameters: {'n_estimators': 71, 'num_leaves': 14, 'colsample_bytree': 0.901363112863797, 'learning_rate': 0.17139165297863015, 'max_depth': 384}.\n",
      "[I 2019-03-11 08:30:29,393] Finished a trial resulted in value: 1.111027570381896. Current best value is 0.33658532945692415 with parameters: {'n_estimators': 71, 'num_leaves': 14, 'colsample_bytree': 0.901363112863797, 'learning_rate': 0.17139165297863015, 'max_depth': 384}.\n",
      "[I 2019-03-11 08:30:29,813] Finished a trial resulted in value: 0.42779785851155605. Current best value is 0.33658532945692415 with parameters: {'n_estimators': 71, 'num_leaves': 14, 'colsample_bytree': 0.901363112863797, 'learning_rate': 0.17139165297863015, 'max_depth': 384}.\n",
      "[I 2019-03-11 08:30:30,262] Finished a trial resulted in value: 1.2142316230544927. Current best value is 0.33658532945692415 with parameters: {'n_estimators': 71, 'num_leaves': 14, 'colsample_bytree': 0.901363112863797, 'learning_rate': 0.17139165297863015, 'max_depth': 384}.\n",
      "[I 2019-03-11 08:30:30,534] Finished a trial resulted in value: 0.47465029800205993. Current best value is 0.33658532945692415 with parameters: {'n_estimators': 71, 'num_leaves': 14, 'colsample_bytree': 0.901363112863797, 'learning_rate': 0.17139165297863015, 'max_depth': 384}.\n",
      "[I 2019-03-11 08:30:30,765] Finished a trial resulted in value: 0.3772347390599472. Current best value is 0.33658532945692415 with parameters: {'n_estimators': 71, 'num_leaves': 14, 'colsample_bytree': 0.901363112863797, 'learning_rate': 0.17139165297863015, 'max_depth': 384}.\n",
      "[I 2019-03-11 08:30:31,048] Finished a trial resulted in value: 0.39031745730774464. Current best value is 0.33658532945692415 with parameters: {'n_estimators': 71, 'num_leaves': 14, 'colsample_bytree': 0.901363112863797, 'learning_rate': 0.17139165297863015, 'max_depth': 384}.\n",
      "[I 2019-03-11 08:30:31,330] Finished a trial resulted in value: 0.5527083531571324. Current best value is 0.33658532945692415 with parameters: {'n_estimators': 71, 'num_leaves': 14, 'colsample_bytree': 0.901363112863797, 'learning_rate': 0.17139165297863015, 'max_depth': 384}.\n",
      "[I 2019-03-11 08:30:31,681] Finished a trial resulted in value: 0.3990072677126263. Current best value is 0.33658532945692415 with parameters: {'n_estimators': 71, 'num_leaves': 14, 'colsample_bytree': 0.901363112863797, 'learning_rate': 0.17139165297863015, 'max_depth': 384}.\n",
      "[I 2019-03-11 08:30:31,846] Finished a trial resulted in value: 0.5314955298519494. Current best value is 0.33658532945692415 with parameters: {'n_estimators': 71, 'num_leaves': 14, 'colsample_bytree': 0.901363112863797, 'learning_rate': 0.17139165297863015, 'max_depth': 384}.\n",
      "[I 2019-03-11 08:30:32,217] Finished a trial resulted in value: 0.5427580856159913. Current best value is 0.33658532945692415 with parameters: {'n_estimators': 71, 'num_leaves': 14, 'colsample_bytree': 0.901363112863797, 'learning_rate': 0.17139165297863015, 'max_depth': 384}.\n",
      "[I 2019-03-11 08:30:32,420] Finished a trial resulted in value: 0.3805295775217549. Current best value is 0.33658532945692415 with parameters: {'n_estimators': 71, 'num_leaves': 14, 'colsample_bytree': 0.901363112863797, 'learning_rate': 0.17139165297863015, 'max_depth': 384}.\n",
      "[I 2019-03-11 08:30:32,705] Finished a trial resulted in value: 0.3798537791950772. Current best value is 0.33658532945692415 with parameters: {'n_estimators': 71, 'num_leaves': 14, 'colsample_bytree': 0.901363112863797, 'learning_rate': 0.17139165297863015, 'max_depth': 384}.\n",
      "[I 2019-03-11 08:30:33,150] Finished a trial resulted in value: 0.4001764297843102. Current best value is 0.33658532945692415 with parameters: {'n_estimators': 71, 'num_leaves': 14, 'colsample_bytree': 0.901363112863797, 'learning_rate': 0.17139165297863015, 'max_depth': 384}.\n",
      "[I 2019-03-11 08:30:33,331] Finished a trial resulted in value: 1.0420311170328214. Current best value is 0.33658532945692415 with parameters: {'n_estimators': 71, 'num_leaves': 14, 'colsample_bytree': 0.901363112863797, 'learning_rate': 0.17139165297863015, 'max_depth': 384}.\n"
     ]
    },
    {
     "name": "stderr",
     "output_type": "stream",
     "text": [
      "[I 2019-03-11 08:30:33,872] Finished a trial resulted in value: 1.147628229658617. Current best value is 0.33658532945692415 with parameters: {'n_estimators': 71, 'num_leaves': 14, 'colsample_bytree': 0.901363112863797, 'learning_rate': 0.17139165297863015, 'max_depth': 384}.\n",
      "[I 2019-03-11 08:30:34,212] Finished a trial resulted in value: 0.35018509465351355. Current best value is 0.33658532945692415 with parameters: {'n_estimators': 71, 'num_leaves': 14, 'colsample_bytree': 0.901363112863797, 'learning_rate': 0.17139165297863015, 'max_depth': 384}.\n",
      "[I 2019-03-11 08:30:34,766] Finished a trial resulted in value: 1.257577412072765. Current best value is 0.33658532945692415 with parameters: {'n_estimators': 71, 'num_leaves': 14, 'colsample_bytree': 0.901363112863797, 'learning_rate': 0.17139165297863015, 'max_depth': 384}.\n",
      "[I 2019-03-11 08:30:35,098] Finished a trial resulted in value: 0.42882798118709453. Current best value is 0.33658532945692415 with parameters: {'n_estimators': 71, 'num_leaves': 14, 'colsample_bytree': 0.901363112863797, 'learning_rate': 0.17139165297863015, 'max_depth': 384}.\n",
      "[I 2019-03-11 08:30:35,329] Finished a trial resulted in value: 0.3424476333929518. Current best value is 0.33658532945692415 with parameters: {'n_estimators': 71, 'num_leaves': 14, 'colsample_bytree': 0.901363112863797, 'learning_rate': 0.17139165297863015, 'max_depth': 384}.\n",
      "[I 2019-03-11 08:30:35,733] Finished a trial resulted in value: 0.6927483410183876. Current best value is 0.33658532945692415 with parameters: {'n_estimators': 71, 'num_leaves': 14, 'colsample_bytree': 0.901363112863797, 'learning_rate': 0.17139165297863015, 'max_depth': 384}.\n",
      "[I 2019-03-11 08:30:36,163] Finished a trial resulted in value: 0.40688402050503397. Current best value is 0.33658532945692415 with parameters: {'n_estimators': 71, 'num_leaves': 14, 'colsample_bytree': 0.901363112863797, 'learning_rate': 0.17139165297863015, 'max_depth': 384}.\n",
      "[I 2019-03-11 08:30:36,440] Finished a trial resulted in value: 0.5270526652620203. Current best value is 0.33658532945692415 with parameters: {'n_estimators': 71, 'num_leaves': 14, 'colsample_bytree': 0.901363112863797, 'learning_rate': 0.17139165297863015, 'max_depth': 384}.\n",
      "[I 2019-03-11 08:30:36,847] Finished a trial resulted in value: 0.4170849180830999. Current best value is 0.33658532945692415 with parameters: {'n_estimators': 71, 'num_leaves': 14, 'colsample_bytree': 0.901363112863797, 'learning_rate': 0.17139165297863015, 'max_depth': 384}.\n",
      "[I 2019-03-11 08:30:37,112] Finished a trial resulted in value: 0.4494007260675762. Current best value is 0.33658532945692415 with parameters: {'n_estimators': 71, 'num_leaves': 14, 'colsample_bytree': 0.901363112863797, 'learning_rate': 0.17139165297863015, 'max_depth': 384}.\n",
      "[I 2019-03-11 08:30:37,350] Finished a trial resulted in value: 0.4353477146655614. Current best value is 0.33658532945692415 with parameters: {'n_estimators': 71, 'num_leaves': 14, 'colsample_bytree': 0.901363112863797, 'learning_rate': 0.17139165297863015, 'max_depth': 384}.\n",
      "[I 2019-03-11 08:30:37,648] Finished a trial resulted in value: 0.4104264452422746. Current best value is 0.33658532945692415 with parameters: {'n_estimators': 71, 'num_leaves': 14, 'colsample_bytree': 0.901363112863797, 'learning_rate': 0.17139165297863015, 'max_depth': 384}.\n",
      "[I 2019-03-11 08:30:38,118] Finished a trial resulted in value: 0.42445988940783497. Current best value is 0.33658532945692415 with parameters: {'n_estimators': 71, 'num_leaves': 14, 'colsample_bytree': 0.901363112863797, 'learning_rate': 0.17139165297863015, 'max_depth': 384}.\n",
      "[I 2019-03-11 08:30:38,390] Finished a trial resulted in value: 0.40998357762930493. Current best value is 0.33658532945692415 with parameters: {'n_estimators': 71, 'num_leaves': 14, 'colsample_bytree': 0.901363112863797, 'learning_rate': 0.17139165297863015, 'max_depth': 384}.\n",
      "[I 2019-03-11 08:30:38,710] Finished a trial resulted in value: 0.49330055824399155. Current best value is 0.33658532945692415 with parameters: {'n_estimators': 71, 'num_leaves': 14, 'colsample_bytree': 0.901363112863797, 'learning_rate': 0.17139165297863015, 'max_depth': 384}.\n",
      "[I 2019-03-11 08:30:38,957] Finished a trial resulted in value: 0.4202426923900105. Current best value is 0.33658532945692415 with parameters: {'n_estimators': 71, 'num_leaves': 14, 'colsample_bytree': 0.901363112863797, 'learning_rate': 0.17139165297863015, 'max_depth': 384}.\n",
      "[I 2019-03-11 08:30:39,262] Finished a trial resulted in value: 0.4103125636084582. Current best value is 0.33658532945692415 with parameters: {'n_estimators': 71, 'num_leaves': 14, 'colsample_bytree': 0.901363112863797, 'learning_rate': 0.17139165297863015, 'max_depth': 384}.\n",
      "[I 2019-03-11 08:30:39,589] Finished a trial resulted in value: 0.4611333970238386. Current best value is 0.33658532945692415 with parameters: {'n_estimators': 71, 'num_leaves': 14, 'colsample_bytree': 0.901363112863797, 'learning_rate': 0.17139165297863015, 'max_depth': 384}.\n",
      "[I 2019-03-11 08:30:40,005] Finished a trial resulted in value: 0.5589393711241307. Current best value is 0.33658532945692415 with parameters: {'n_estimators': 71, 'num_leaves': 14, 'colsample_bytree': 0.901363112863797, 'learning_rate': 0.17139165297863015, 'max_depth': 384}.\n",
      "[I 2019-03-11 08:30:40,243] Finished a trial resulted in value: 0.3749877666324117. Current best value is 0.33658532945692415 with parameters: {'n_estimators': 71, 'num_leaves': 14, 'colsample_bytree': 0.901363112863797, 'learning_rate': 0.17139165297863015, 'max_depth': 384}.\n",
      "[I 2019-03-11 08:30:40,619] Finished a trial resulted in value: 0.43442493286702744. Current best value is 0.33658532945692415 with parameters: {'n_estimators': 71, 'num_leaves': 14, 'colsample_bytree': 0.901363112863797, 'learning_rate': 0.17139165297863015, 'max_depth': 384}.\n",
      "[I 2019-03-11 08:30:40,872] Finished a trial resulted in value: 0.4248093863704562. Current best value is 0.33658532945692415 with parameters: {'n_estimators': 71, 'num_leaves': 14, 'colsample_bytree': 0.901363112863797, 'learning_rate': 0.17139165297863015, 'max_depth': 384}.\n",
      "[I 2019-03-11 08:30:41,088] Finished a trial resulted in value: 0.5725164188452491. Current best value is 0.33658532945692415 with parameters: {'n_estimators': 71, 'num_leaves': 14, 'colsample_bytree': 0.901363112863797, 'learning_rate': 0.17139165297863015, 'max_depth': 384}.\n",
      "[I 2019-03-11 08:30:41,448] Finished a trial resulted in value: 0.39654373017261973. Current best value is 0.33658532945692415 with parameters: {'n_estimators': 71, 'num_leaves': 14, 'colsample_bytree': 0.901363112863797, 'learning_rate': 0.17139165297863015, 'max_depth': 384}.\n",
      "[I 2019-03-11 08:30:41,837] Finished a trial resulted in value: 0.8998571385584303. Current best value is 0.33658532945692415 with parameters: {'n_estimators': 71, 'num_leaves': 14, 'colsample_bytree': 0.901363112863797, 'learning_rate': 0.17139165297863015, 'max_depth': 384}.\n",
      "[I 2019-03-11 08:30:42,087] Finished a trial resulted in value: 0.3731891773136509. Current best value is 0.33658532945692415 with parameters: {'n_estimators': 71, 'num_leaves': 14, 'colsample_bytree': 0.901363112863797, 'learning_rate': 0.17139165297863015, 'max_depth': 384}.\n",
      "[I 2019-03-11 08:30:42,361] Finished a trial resulted in value: 0.4047815844615427. Current best value is 0.33658532945692415 with parameters: {'n_estimators': 71, 'num_leaves': 14, 'colsample_bytree': 0.901363112863797, 'learning_rate': 0.17139165297863015, 'max_depth': 384}.\n",
      "[I 2019-03-11 08:30:42,638] Finished a trial resulted in value: 0.43287745281996287. Current best value is 0.33658532945692415 with parameters: {'n_estimators': 71, 'num_leaves': 14, 'colsample_bytree': 0.901363112863797, 'learning_rate': 0.17139165297863015, 'max_depth': 384}.\n",
      "[I 2019-03-11 08:30:42,904] Finished a trial resulted in value: 0.3758761210702224. Current best value is 0.33658532945692415 with parameters: {'n_estimators': 71, 'num_leaves': 14, 'colsample_bytree': 0.901363112863797, 'learning_rate': 0.17139165297863015, 'max_depth': 384}.\n"
     ]
    },
    {
     "name": "stderr",
     "output_type": "stream",
     "text": [
      "[I 2019-03-11 08:30:43,130] Finished a trial resulted in value: 0.43233004197405883. Current best value is 0.33658532945692415 with parameters: {'n_estimators': 71, 'num_leaves': 14, 'colsample_bytree': 0.901363112863797, 'learning_rate': 0.17139165297863015, 'max_depth': 384}.\n",
      "[I 2019-03-11 08:30:43,358] Finished a trial resulted in value: 0.37640070016518734. Current best value is 0.33658532945692415 with parameters: {'n_estimators': 71, 'num_leaves': 14, 'colsample_bytree': 0.901363112863797, 'learning_rate': 0.17139165297863015, 'max_depth': 384}.\n",
      "[I 2019-03-11 08:30:43,710] Finished a trial resulted in value: 0.39442755893440384. Current best value is 0.33658532945692415 with parameters: {'n_estimators': 71, 'num_leaves': 14, 'colsample_bytree': 0.901363112863797, 'learning_rate': 0.17139165297863015, 'max_depth': 384}.\n",
      "[I 2019-03-11 08:30:44,025] Finished a trial resulted in value: 0.39884690973880654. Current best value is 0.33658532945692415 with parameters: {'n_estimators': 71, 'num_leaves': 14, 'colsample_bytree': 0.901363112863797, 'learning_rate': 0.17139165297863015, 'max_depth': 384}.\n",
      "[I 2019-03-11 08:30:44,211] Finished a trial resulted in value: 0.5638379458928966. Current best value is 0.33658532945692415 with parameters: {'n_estimators': 71, 'num_leaves': 14, 'colsample_bytree': 0.901363112863797, 'learning_rate': 0.17139165297863015, 'max_depth': 384}.\n",
      "[I 2019-03-11 08:30:44,651] Finished a trial resulted in value: 0.41320076956494906. Current best value is 0.33658532945692415 with parameters: {'n_estimators': 71, 'num_leaves': 14, 'colsample_bytree': 0.901363112863797, 'learning_rate': 0.17139165297863015, 'max_depth': 384}.\n",
      "[I 2019-03-11 08:30:44,946] Finished a trial resulted in value: 0.3986862306456815. Current best value is 0.33658532945692415 with parameters: {'n_estimators': 71, 'num_leaves': 14, 'colsample_bytree': 0.901363112863797, 'learning_rate': 0.17139165297863015, 'max_depth': 384}.\n",
      "[I 2019-03-11 08:30:45,390] Finished a trial resulted in value: 0.38125418495600355. Current best value is 0.33658532945692415 with parameters: {'n_estimators': 71, 'num_leaves': 14, 'colsample_bytree': 0.901363112863797, 'learning_rate': 0.17139165297863015, 'max_depth': 384}.\n",
      "[I 2019-03-11 08:30:45,678] Finished a trial resulted in value: 0.4360088083997309. Current best value is 0.33658532945692415 with parameters: {'n_estimators': 71, 'num_leaves': 14, 'colsample_bytree': 0.901363112863797, 'learning_rate': 0.17139165297863015, 'max_depth': 384}.\n",
      "[I 2019-03-11 08:30:46,024] Finished a trial resulted in value: 0.4193926975317922. Current best value is 0.33658532945692415 with parameters: {'n_estimators': 71, 'num_leaves': 14, 'colsample_bytree': 0.901363112863797, 'learning_rate': 0.17139165297863015, 'max_depth': 384}.\n",
      "[I 2019-03-11 08:30:46,534] Finished a trial resulted in value: 0.37799862117858124. Current best value is 0.33658532945692415 with parameters: {'n_estimators': 71, 'num_leaves': 14, 'colsample_bytree': 0.901363112863797, 'learning_rate': 0.17139165297863015, 'max_depth': 384}.\n",
      "[I 2019-03-11 08:30:46,937] Finished a trial resulted in value: 0.3409389302745917. Current best value is 0.33658532945692415 with parameters: {'n_estimators': 71, 'num_leaves': 14, 'colsample_bytree': 0.901363112863797, 'learning_rate': 0.17139165297863015, 'max_depth': 384}.\n",
      "[I 2019-03-11 08:30:47,205] Finished a trial resulted in value: 0.39575599426208996. Current best value is 0.33658532945692415 with parameters: {'n_estimators': 71, 'num_leaves': 14, 'colsample_bytree': 0.901363112863797, 'learning_rate': 0.17139165297863015, 'max_depth': 384}.\n",
      "[I 2019-03-11 08:30:47,475] Finished a trial resulted in value: 0.4746285620075312. Current best value is 0.33658532945692415 with parameters: {'n_estimators': 71, 'num_leaves': 14, 'colsample_bytree': 0.901363112863797, 'learning_rate': 0.17139165297863015, 'max_depth': 384}.\n",
      "[I 2019-03-11 08:30:47,763] Finished a trial resulted in value: 0.415065059740181. Current best value is 0.33658532945692415 with parameters: {'n_estimators': 71, 'num_leaves': 14, 'colsample_bytree': 0.901363112863797, 'learning_rate': 0.17139165297863015, 'max_depth': 384}.\n",
      "[I 2019-03-11 08:30:48,029] Finished a trial resulted in value: 0.4094069541181258. Current best value is 0.33658532945692415 with parameters: {'n_estimators': 71, 'num_leaves': 14, 'colsample_bytree': 0.901363112863797, 'learning_rate': 0.17139165297863015, 'max_depth': 384}.\n",
      "[I 2019-03-11 08:30:48,213] Finished a trial resulted in value: 0.5653192179709576. Current best value is 0.33658532945692415 with parameters: {'n_estimators': 71, 'num_leaves': 14, 'colsample_bytree': 0.901363112863797, 'learning_rate': 0.17139165297863015, 'max_depth': 384}.\n",
      "[I 2019-03-11 08:30:48,469] Finished a trial resulted in value: 0.38302556656676046. Current best value is 0.33658532945692415 with parameters: {'n_estimators': 71, 'num_leaves': 14, 'colsample_bytree': 0.901363112863797, 'learning_rate': 0.17139165297863015, 'max_depth': 384}.\n",
      "[I 2019-03-11 08:30:48,750] Finished a trial resulted in value: 0.555194257993182. Current best value is 0.33658532945692415 with parameters: {'n_estimators': 71, 'num_leaves': 14, 'colsample_bytree': 0.901363112863797, 'learning_rate': 0.17139165297863015, 'max_depth': 384}.\n",
      "[I 2019-03-11 08:30:48,988] Finished a trial resulted in value: 0.42086308838775066. Current best value is 0.33658532945692415 with parameters: {'n_estimators': 71, 'num_leaves': 14, 'colsample_bytree': 0.901363112863797, 'learning_rate': 0.17139165297863015, 'max_depth': 384}.\n",
      "[I 2019-03-11 08:30:49,274] Finished a trial resulted in value: 0.4074875054584385. Current best value is 0.33658532945692415 with parameters: {'n_estimators': 71, 'num_leaves': 14, 'colsample_bytree': 0.901363112863797, 'learning_rate': 0.17139165297863015, 'max_depth': 384}.\n",
      "[I 2019-03-11 08:30:49,556] Finished a trial resulted in value: 0.420430638810929. Current best value is 0.33658532945692415 with parameters: {'n_estimators': 71, 'num_leaves': 14, 'colsample_bytree': 0.901363112863797, 'learning_rate': 0.17139165297863015, 'max_depth': 384}.\n",
      "[I 2019-03-11 08:30:49,862] Finished a trial resulted in value: 0.3743145358815749. Current best value is 0.33658532945692415 with parameters: {'n_estimators': 71, 'num_leaves': 14, 'colsample_bytree': 0.901363112863797, 'learning_rate': 0.17139165297863015, 'max_depth': 384}.\n",
      "[I 2019-03-11 08:30:50,153] Finished a trial resulted in value: 0.49150816065231706. Current best value is 0.33658532945692415 with parameters: {'n_estimators': 71, 'num_leaves': 14, 'colsample_bytree': 0.901363112863797, 'learning_rate': 0.17139165297863015, 'max_depth': 384}.\n",
      "[I 2019-03-11 08:30:50,456] Finished a trial resulted in value: 0.4335459172551522. Current best value is 0.33658532945692415 with parameters: {'n_estimators': 71, 'num_leaves': 14, 'colsample_bytree': 0.901363112863797, 'learning_rate': 0.17139165297863015, 'max_depth': 384}.\n",
      "[I 2019-03-11 08:30:50,712] Finished a trial resulted in value: 0.5728733828181323. Current best value is 0.33658532945692415 with parameters: {'n_estimators': 71, 'num_leaves': 14, 'colsample_bytree': 0.901363112863797, 'learning_rate': 0.17139165297863015, 'max_depth': 384}.\n",
      "[I 2019-03-11 08:30:50,987] Finished a trial resulted in value: 0.4467719061699114. Current best value is 0.33658532945692415 with parameters: {'n_estimators': 71, 'num_leaves': 14, 'colsample_bytree': 0.901363112863797, 'learning_rate': 0.17139165297863015, 'max_depth': 384}.\n",
      "[I 2019-03-11 08:30:51,376] Finished a trial resulted in value: 0.4403000613181071. Current best value is 0.33658532945692415 with parameters: {'n_estimators': 71, 'num_leaves': 14, 'colsample_bytree': 0.901363112863797, 'learning_rate': 0.17139165297863015, 'max_depth': 384}.\n",
      "[I 2019-03-11 08:30:51,709] Finished a trial resulted in value: 0.39640170089783794. Current best value is 0.33658532945692415 with parameters: {'n_estimators': 71, 'num_leaves': 14, 'colsample_bytree': 0.901363112863797, 'learning_rate': 0.17139165297863015, 'max_depth': 384}.\n"
     ]
    },
    {
     "name": "stderr",
     "output_type": "stream",
     "text": [
      "[I 2019-03-11 08:30:51,958] Finished a trial resulted in value: 0.4541180738236262. Current best value is 0.33658532945692415 with parameters: {'n_estimators': 71, 'num_leaves': 14, 'colsample_bytree': 0.901363112863797, 'learning_rate': 0.17139165297863015, 'max_depth': 384}.\n",
      "[I 2019-03-11 08:30:52,322] Finished a trial resulted in value: 0.40956152639705284. Current best value is 0.33658532945692415 with parameters: {'n_estimators': 71, 'num_leaves': 14, 'colsample_bytree': 0.901363112863797, 'learning_rate': 0.17139165297863015, 'max_depth': 384}.\n",
      "[I 2019-03-11 08:30:52,595] Finished a trial resulted in value: 0.5811857696548768. Current best value is 0.33658532945692415 with parameters: {'n_estimators': 71, 'num_leaves': 14, 'colsample_bytree': 0.901363112863797, 'learning_rate': 0.17139165297863015, 'max_depth': 384}.\n",
      "[I 2019-03-11 08:30:52,877] Finished a trial resulted in value: 0.3895341567290609. Current best value is 0.33658532945692415 with parameters: {'n_estimators': 71, 'num_leaves': 14, 'colsample_bytree': 0.901363112863797, 'learning_rate': 0.17139165297863015, 'max_depth': 384}.\n",
      "[I 2019-03-11 08:30:53,228] Finished a trial resulted in value: 1.1910950146840134. Current best value is 0.33658532945692415 with parameters: {'n_estimators': 71, 'num_leaves': 14, 'colsample_bytree': 0.901363112863797, 'learning_rate': 0.17139165297863015, 'max_depth': 384}.\n",
      "[I 2019-03-11 08:30:53,670] Finished a trial resulted in value: 0.43078777214046454. Current best value is 0.33658532945692415 with parameters: {'n_estimators': 71, 'num_leaves': 14, 'colsample_bytree': 0.901363112863797, 'learning_rate': 0.17139165297863015, 'max_depth': 384}.\n",
      "[I 2019-03-11 08:30:54,056] Finished a trial resulted in value: 1.2362585197569007. Current best value is 0.33658532945692415 with parameters: {'n_estimators': 71, 'num_leaves': 14, 'colsample_bytree': 0.901363112863797, 'learning_rate': 0.17139165297863015, 'max_depth': 384}.\n",
      "[I 2019-03-11 08:30:54,509] Finished a trial resulted in value: 0.48147436852867. Current best value is 0.33658532945692415 with parameters: {'n_estimators': 71, 'num_leaves': 14, 'colsample_bytree': 0.901363112863797, 'learning_rate': 0.17139165297863015, 'max_depth': 384}.\n",
      "[I 2019-03-11 08:30:54,761] Finished a trial resulted in value: 0.3561625151791662. Current best value is 0.33658532945692415 with parameters: {'n_estimators': 71, 'num_leaves': 14, 'colsample_bytree': 0.901363112863797, 'learning_rate': 0.17139165297863015, 'max_depth': 384}.\n",
      "[I 2019-03-11 08:30:55,113] Finished a trial resulted in value: 0.4012558229389377. Current best value is 0.33658532945692415 with parameters: {'n_estimators': 71, 'num_leaves': 14, 'colsample_bytree': 0.901363112863797, 'learning_rate': 0.17139165297863015, 'max_depth': 384}.\n",
      "[I 2019-03-11 08:30:55,377] Finished a trial resulted in value: 0.5092515332436347. Current best value is 0.33658532945692415 with parameters: {'n_estimators': 71, 'num_leaves': 14, 'colsample_bytree': 0.901363112863797, 'learning_rate': 0.17139165297863015, 'max_depth': 384}.\n",
      "[I 2019-03-11 08:30:55,660] Finished a trial resulted in value: 0.4840766049485912. Current best value is 0.33658532945692415 with parameters: {'n_estimators': 71, 'num_leaves': 14, 'colsample_bytree': 0.901363112863797, 'learning_rate': 0.17139165297863015, 'max_depth': 384}.\n",
      "[I 2019-03-11 08:30:55,895] Finished a trial resulted in value: 0.41102563199948156. Current best value is 0.33658532945692415 with parameters: {'n_estimators': 71, 'num_leaves': 14, 'colsample_bytree': 0.901363112863797, 'learning_rate': 0.17139165297863015, 'max_depth': 384}.\n",
      "[I 2019-03-11 08:30:56,201] Finished a trial resulted in value: 0.39025617574069077. Current best value is 0.33658532945692415 with parameters: {'n_estimators': 71, 'num_leaves': 14, 'colsample_bytree': 0.901363112863797, 'learning_rate': 0.17139165297863015, 'max_depth': 384}.\n",
      "[I 2019-03-11 08:30:56,539] Finished a trial resulted in value: 0.4212490552088841. Current best value is 0.33658532945692415 with parameters: {'n_estimators': 71, 'num_leaves': 14, 'colsample_bytree': 0.901363112863797, 'learning_rate': 0.17139165297863015, 'max_depth': 384}.\n",
      "[I 2019-03-11 08:30:56,871] Finished a trial resulted in value: 0.3907604217182922. Current best value is 0.33658532945692415 with parameters: {'n_estimators': 71, 'num_leaves': 14, 'colsample_bytree': 0.901363112863797, 'learning_rate': 0.17139165297863015, 'max_depth': 384}.\n",
      "[I 2019-03-11 08:30:57,409] Finished a trial resulted in value: 0.4311297434067588. Current best value is 0.33658532945692415 with parameters: {'n_estimators': 71, 'num_leaves': 14, 'colsample_bytree': 0.901363112863797, 'learning_rate': 0.17139165297863015, 'max_depth': 384}.\n",
      "[I 2019-03-11 08:30:57,638] Finished a trial resulted in value: 0.46600525421107486. Current best value is 0.33658532945692415 with parameters: {'n_estimators': 71, 'num_leaves': 14, 'colsample_bytree': 0.901363112863797, 'learning_rate': 0.17139165297863015, 'max_depth': 384}.\n",
      "[I 2019-03-11 08:30:58,092] Finished a trial resulted in value: 0.5557853648607107. Current best value is 0.33658532945692415 with parameters: {'n_estimators': 71, 'num_leaves': 14, 'colsample_bytree': 0.901363112863797, 'learning_rate': 0.17139165297863015, 'max_depth': 384}.\n",
      "[I 2019-03-11 08:30:58,429] Finished a trial resulted in value: 0.44960003548986666. Current best value is 0.33658532945692415 with parameters: {'n_estimators': 71, 'num_leaves': 14, 'colsample_bytree': 0.901363112863797, 'learning_rate': 0.17139165297863015, 'max_depth': 384}.\n",
      "[I 2019-03-11 08:30:58,694] Finished a trial resulted in value: 0.5033958368483153. Current best value is 0.33658532945692415 with parameters: {'n_estimators': 71, 'num_leaves': 14, 'colsample_bytree': 0.901363112863797, 'learning_rate': 0.17139165297863015, 'max_depth': 384}.\n",
      "[I 2019-03-11 08:30:59,054] Finished a trial resulted in value: 0.4277657084383834. Current best value is 0.33658532945692415 with parameters: {'n_estimators': 71, 'num_leaves': 14, 'colsample_bytree': 0.901363112863797, 'learning_rate': 0.17139165297863015, 'max_depth': 384}.\n",
      "[I 2019-03-11 08:30:59,461] Finished a trial resulted in value: 0.4305172143716544. Current best value is 0.33658532945692415 with parameters: {'n_estimators': 71, 'num_leaves': 14, 'colsample_bytree': 0.901363112863797, 'learning_rate': 0.17139165297863015, 'max_depth': 384}.\n",
      "[I 2019-03-11 08:30:59,669] Finished a trial resulted in value: 0.5570351543943374. Current best value is 0.33658532945692415 with parameters: {'n_estimators': 71, 'num_leaves': 14, 'colsample_bytree': 0.901363112863797, 'learning_rate': 0.17139165297863015, 'max_depth': 384}.\n",
      "[I 2019-03-11 08:31:00,113] Finished a trial resulted in value: 0.4305133213277233. Current best value is 0.33658532945692415 with parameters: {'n_estimators': 71, 'num_leaves': 14, 'colsample_bytree': 0.901363112863797, 'learning_rate': 0.17139165297863015, 'max_depth': 384}.\n",
      "[I 2019-03-11 08:31:00,336] Finished a trial resulted in value: 0.46840406532547. Current best value is 0.33658532945692415 with parameters: {'n_estimators': 71, 'num_leaves': 14, 'colsample_bytree': 0.901363112863797, 'learning_rate': 0.17139165297863015, 'max_depth': 384}.\n",
      "[I 2019-03-11 08:31:00,647] Finished a trial resulted in value: 0.4401929348373151. Current best value is 0.33658532945692415 with parameters: {'n_estimators': 71, 'num_leaves': 14, 'colsample_bytree': 0.901363112863797, 'learning_rate': 0.17139165297863015, 'max_depth': 384}.\n",
      "[I 2019-03-11 08:31:01,038] Finished a trial resulted in value: 0.4164663922189293. Current best value is 0.33658532945692415 with parameters: {'n_estimators': 71, 'num_leaves': 14, 'colsample_bytree': 0.901363112863797, 'learning_rate': 0.17139165297863015, 'max_depth': 384}.\n",
      "[I 2019-03-11 08:31:01,320] Finished a trial resulted in value: 0.8768425397551762. Current best value is 0.33658532945692415 with parameters: {'n_estimators': 71, 'num_leaves': 14, 'colsample_bytree': 0.901363112863797, 'learning_rate': 0.17139165297863015, 'max_depth': 384}.\n"
     ]
    },
    {
     "name": "stderr",
     "output_type": "stream",
     "text": [
      "[I 2019-03-11 08:31:01,794] Finished a trial resulted in value: 0.46622725263610293. Current best value is 0.33658532945692415 with parameters: {'n_estimators': 71, 'num_leaves': 14, 'colsample_bytree': 0.901363112863797, 'learning_rate': 0.17139165297863015, 'max_depth': 384}.\n",
      "[I 2019-03-11 08:31:02,083] Finished a trial resulted in value: 0.4233225899321927. Current best value is 0.33658532945692415 with parameters: {'n_estimators': 71, 'num_leaves': 14, 'colsample_bytree': 0.901363112863797, 'learning_rate': 0.17139165297863015, 'max_depth': 384}.\n",
      "[I 2019-03-11 08:31:02,612] Finished a trial resulted in value: 0.5460155820422697. Current best value is 0.33658532945692415 with parameters: {'n_estimators': 71, 'num_leaves': 14, 'colsample_bytree': 0.901363112863797, 'learning_rate': 0.17139165297863015, 'max_depth': 384}.\n",
      "[I 2019-03-11 08:31:02,934] Finished a trial resulted in value: 0.45643802878847645. Current best value is 0.33658532945692415 with parameters: {'n_estimators': 71, 'num_leaves': 14, 'colsample_bytree': 0.901363112863797, 'learning_rate': 0.17139165297863015, 'max_depth': 384}.\n",
      "[I 2019-03-11 08:31:03,193] Finished a trial resulted in value: 0.3872343795108126. Current best value is 0.33658532945692415 with parameters: {'n_estimators': 71, 'num_leaves': 14, 'colsample_bytree': 0.901363112863797, 'learning_rate': 0.17139165297863015, 'max_depth': 384}.\n",
      "[I 2019-03-11 08:31:03,611] Finished a trial resulted in value: 0.4167672582002784. Current best value is 0.33658532945692415 with parameters: {'n_estimators': 71, 'num_leaves': 14, 'colsample_bytree': 0.901363112863797, 'learning_rate': 0.17139165297863015, 'max_depth': 384}.\n",
      "[I 2019-03-11 08:31:04,044] Finished a trial resulted in value: 0.5356007350592008. Current best value is 0.33658532945692415 with parameters: {'n_estimators': 71, 'num_leaves': 14, 'colsample_bytree': 0.901363112863797, 'learning_rate': 0.17139165297863015, 'max_depth': 384}.\n",
      "[I 2019-03-11 08:31:04,441] Finished a trial resulted in value: 0.42241402223996977. Current best value is 0.33658532945692415 with parameters: {'n_estimators': 71, 'num_leaves': 14, 'colsample_bytree': 0.901363112863797, 'learning_rate': 0.17139165297863015, 'max_depth': 384}.\n",
      "[I 2019-03-11 08:31:04,758] Finished a trial resulted in value: 0.6357705885578638. Current best value is 0.33658532945692415 with parameters: {'n_estimators': 71, 'num_leaves': 14, 'colsample_bytree': 0.901363112863797, 'learning_rate': 0.17139165297863015, 'max_depth': 384}.\n",
      "[I 2019-03-11 08:31:05,062] Finished a trial resulted in value: 0.4384199205914188. Current best value is 0.33658532945692415 with parameters: {'n_estimators': 71, 'num_leaves': 14, 'colsample_bytree': 0.901363112863797, 'learning_rate': 0.17139165297863015, 'max_depth': 384}.\n",
      "[I 2019-03-11 08:31:05,496] Finished a trial resulted in value: 1.2159470504486138. Current best value is 0.33658532945692415 with parameters: {'n_estimators': 71, 'num_leaves': 14, 'colsample_bytree': 0.901363112863797, 'learning_rate': 0.17139165297863015, 'max_depth': 384}.\n",
      "[I 2019-03-11 08:31:05,749] Finished a trial resulted in value: 0.504762629352019. Current best value is 0.33658532945692415 with parameters: {'n_estimators': 71, 'num_leaves': 14, 'colsample_bytree': 0.901363112863797, 'learning_rate': 0.17139165297863015, 'max_depth': 384}.\n",
      "[I 2019-03-11 08:31:05,985] Finished a trial resulted in value: 0.4109081676375129. Current best value is 0.33658532945692415 with parameters: {'n_estimators': 71, 'num_leaves': 14, 'colsample_bytree': 0.901363112863797, 'learning_rate': 0.17139165297863015, 'max_depth': 384}.\n",
      "[I 2019-03-11 08:31:06,343] Finished a trial resulted in value: 1.1584589673141197. Current best value is 0.33658532945692415 with parameters: {'n_estimators': 71, 'num_leaves': 14, 'colsample_bytree': 0.901363112863797, 'learning_rate': 0.17139165297863015, 'max_depth': 384}.\n",
      "[I 2019-03-11 08:31:06,768] Finished a trial resulted in value: 0.4215414733587819. Current best value is 0.33658532945692415 with parameters: {'n_estimators': 71, 'num_leaves': 14, 'colsample_bytree': 0.901363112863797, 'learning_rate': 0.17139165297863015, 'max_depth': 384}.\n",
      "[I 2019-03-11 08:31:07,215] Finished a trial resulted in value: 1.2543698538334445. Current best value is 0.33658532945692415 with parameters: {'n_estimators': 71, 'num_leaves': 14, 'colsample_bytree': 0.901363112863797, 'learning_rate': 0.17139165297863015, 'max_depth': 384}.\n",
      "[I 2019-03-11 08:31:07,589] Finished a trial resulted in value: 0.43763372669553485. Current best value is 0.33658532945692415 with parameters: {'n_estimators': 71, 'num_leaves': 14, 'colsample_bytree': 0.901363112863797, 'learning_rate': 0.17139165297863015, 'max_depth': 384}.\n",
      "[I 2019-03-11 08:31:08,118] Finished a trial resulted in value: 0.36556293863094985. Current best value is 0.33658532945692415 with parameters: {'n_estimators': 71, 'num_leaves': 14, 'colsample_bytree': 0.901363112863797, 'learning_rate': 0.17139165297863015, 'max_depth': 384}.\n",
      "[I 2019-03-11 08:31:08,534] Finished a trial resulted in value: 0.46510959888671694. Current best value is 0.33658532945692415 with parameters: {'n_estimators': 71, 'num_leaves': 14, 'colsample_bytree': 0.901363112863797, 'learning_rate': 0.17139165297863015, 'max_depth': 384}.\n",
      "[I 2019-03-11 08:31:09,250] Finished a trial resulted in value: 0.4182300196966866. Current best value is 0.33658532945692415 with parameters: {'n_estimators': 71, 'num_leaves': 14, 'colsample_bytree': 0.901363112863797, 'learning_rate': 0.17139165297863015, 'max_depth': 384}.\n",
      "[I 2019-03-11 08:31:09,538] Finished a trial resulted in value: 0.41640362311145923. Current best value is 0.33658532945692415 with parameters: {'n_estimators': 71, 'num_leaves': 14, 'colsample_bytree': 0.901363112863797, 'learning_rate': 0.17139165297863015, 'max_depth': 384}.\n",
      "[I 2019-03-11 08:31:09,928] Finished a trial resulted in value: 0.4695774961371848. Current best value is 0.33658532945692415 with parameters: {'n_estimators': 71, 'num_leaves': 14, 'colsample_bytree': 0.901363112863797, 'learning_rate': 0.17139165297863015, 'max_depth': 384}.\n",
      "[I 2019-03-11 08:31:10,389] Finished a trial resulted in value: 0.3960447708628154. Current best value is 0.33658532945692415 with parameters: {'n_estimators': 71, 'num_leaves': 14, 'colsample_bytree': 0.901363112863797, 'learning_rate': 0.17139165297863015, 'max_depth': 384}.\n",
      "[I 2019-03-11 08:31:10,864] Finished a trial resulted in value: 0.4199588103574654. Current best value is 0.33658532945692415 with parameters: {'n_estimators': 71, 'num_leaves': 14, 'colsample_bytree': 0.901363112863797, 'learning_rate': 0.17139165297863015, 'max_depth': 384}.\n",
      "[I 2019-03-11 08:31:11,147] Finished a trial resulted in value: 0.728573121983839. Current best value is 0.33658532945692415 with parameters: {'n_estimators': 71, 'num_leaves': 14, 'colsample_bytree': 0.901363112863797, 'learning_rate': 0.17139165297863015, 'max_depth': 384}.\n",
      "[I 2019-03-11 08:31:11,395] Finished a trial resulted in value: 0.38876557933944195. Current best value is 0.33658532945692415 with parameters: {'n_estimators': 71, 'num_leaves': 14, 'colsample_bytree': 0.901363112863797, 'learning_rate': 0.17139165297863015, 'max_depth': 384}.\n",
      "[I 2019-03-11 08:31:11,853] Finished a trial resulted in value: 0.36450006514593264. Current best value is 0.33658532945692415 with parameters: {'n_estimators': 71, 'num_leaves': 14, 'colsample_bytree': 0.901363112863797, 'learning_rate': 0.17139165297863015, 'max_depth': 384}.\n",
      "[I 2019-03-11 08:31:12,214] Finished a trial resulted in value: 0.8416622025481896. Current best value is 0.33658532945692415 with parameters: {'n_estimators': 71, 'num_leaves': 14, 'colsample_bytree': 0.901363112863797, 'learning_rate': 0.17139165297863015, 'max_depth': 384}.\n",
      "[I 2019-03-11 08:31:12,504] Finished a trial resulted in value: 0.44947750496265254. Current best value is 0.33658532945692415 with parameters: {'n_estimators': 71, 'num_leaves': 14, 'colsample_bytree': 0.901363112863797, 'learning_rate': 0.17139165297863015, 'max_depth': 384}.\n"
     ]
    },
    {
     "name": "stderr",
     "output_type": "stream",
     "text": [
      "[I 2019-03-11 08:31:12,720] Finished a trial resulted in value: 0.582460620587682. Current best value is 0.33658532945692415 with parameters: {'n_estimators': 71, 'num_leaves': 14, 'colsample_bytree': 0.901363112863797, 'learning_rate': 0.17139165297863015, 'max_depth': 384}.\n",
      "[I 2019-03-11 08:31:13,221] Finished a trial resulted in value: 0.4285504772841465. Current best value is 0.33658532945692415 with parameters: {'n_estimators': 71, 'num_leaves': 14, 'colsample_bytree': 0.901363112863797, 'learning_rate': 0.17139165297863015, 'max_depth': 384}.\n",
      "[I 2019-03-11 08:31:13,652] Finished a trial resulted in value: 0.4267228301199037. Current best value is 0.33658532945692415 with parameters: {'n_estimators': 71, 'num_leaves': 14, 'colsample_bytree': 0.901363112863797, 'learning_rate': 0.17139165297863015, 'max_depth': 384}.\n",
      "[I 2019-03-11 08:31:13,996] Finished a trial resulted in value: 0.3924831985942002. Current best value is 0.33658532945692415 with parameters: {'n_estimators': 71, 'num_leaves': 14, 'colsample_bytree': 0.901363112863797, 'learning_rate': 0.17139165297863015, 'max_depth': 384}.\n",
      "[I 2019-03-11 08:31:14,350] Finished a trial resulted in value: 0.5319468772074674. Current best value is 0.33658532945692415 with parameters: {'n_estimators': 71, 'num_leaves': 14, 'colsample_bytree': 0.901363112863797, 'learning_rate': 0.17139165297863015, 'max_depth': 384}.\n",
      "[I 2019-03-11 08:31:14,844] Finished a trial resulted in value: 0.4249479193158572. Current best value is 0.33658532945692415 with parameters: {'n_estimators': 71, 'num_leaves': 14, 'colsample_bytree': 0.901363112863797, 'learning_rate': 0.17139165297863015, 'max_depth': 384}.\n",
      "[I 2019-03-11 08:31:15,642] Finished a trial resulted in value: 0.34187880818137667. Current best value is 0.33658532945692415 with parameters: {'n_estimators': 71, 'num_leaves': 14, 'colsample_bytree': 0.901363112863797, 'learning_rate': 0.17139165297863015, 'max_depth': 384}.\n",
      "[I 2019-03-11 08:31:15,931] Finished a trial resulted in value: 0.43351762791848597. Current best value is 0.33658532945692415 with parameters: {'n_estimators': 71, 'num_leaves': 14, 'colsample_bytree': 0.901363112863797, 'learning_rate': 0.17139165297863015, 'max_depth': 384}.\n",
      "[I 2019-03-11 08:31:16,294] Finished a trial resulted in value: 0.3694315466489636. Current best value is 0.33658532945692415 with parameters: {'n_estimators': 71, 'num_leaves': 14, 'colsample_bytree': 0.901363112863797, 'learning_rate': 0.17139165297863015, 'max_depth': 384}.\n",
      "[I 2019-03-11 08:31:16,602] Finished a trial resulted in value: 0.3624640189739654. Current best value is 0.33658532945692415 with parameters: {'n_estimators': 71, 'num_leaves': 14, 'colsample_bytree': 0.901363112863797, 'learning_rate': 0.17139165297863015, 'max_depth': 384}.\n",
      "[I 2019-03-11 08:31:16,857] Finished a trial resulted in value: 0.4010296918705662. Current best value is 0.33658532945692415 with parameters: {'n_estimators': 71, 'num_leaves': 14, 'colsample_bytree': 0.901363112863797, 'learning_rate': 0.17139165297863015, 'max_depth': 384}.\n",
      "[I 2019-03-11 08:31:17,128] Finished a trial resulted in value: 0.4027995476323474. Current best value is 0.33658532945692415 with parameters: {'n_estimators': 71, 'num_leaves': 14, 'colsample_bytree': 0.901363112863797, 'learning_rate': 0.17139165297863015, 'max_depth': 384}.\n",
      "[I 2019-03-11 08:31:17,452] Finished a trial resulted in value: 0.39725424881538624. Current best value is 0.33658532945692415 with parameters: {'n_estimators': 71, 'num_leaves': 14, 'colsample_bytree': 0.901363112863797, 'learning_rate': 0.17139165297863015, 'max_depth': 384}.\n",
      "[I 2019-03-11 08:31:17,757] Finished a trial resulted in value: 0.3448632778123256. Current best value is 0.33658532945692415 with parameters: {'n_estimators': 71, 'num_leaves': 14, 'colsample_bytree': 0.901363112863797, 'learning_rate': 0.17139165297863015, 'max_depth': 384}.\n",
      "[I 2019-03-11 08:31:18,120] Finished a trial resulted in value: 0.36357867470970884. Current best value is 0.33658532945692415 with parameters: {'n_estimators': 71, 'num_leaves': 14, 'colsample_bytree': 0.901363112863797, 'learning_rate': 0.17139165297863015, 'max_depth': 384}.\n",
      "[I 2019-03-11 08:31:18,629] Finished a trial resulted in value: 0.5367472121381239. Current best value is 0.33658532945692415 with parameters: {'n_estimators': 71, 'num_leaves': 14, 'colsample_bytree': 0.901363112863797, 'learning_rate': 0.17139165297863015, 'max_depth': 384}.\n"
     ]
    }
   ],
   "source": [
    "prun = PrunedCV(12, 0.1, probabilistic_prun=True)\n",
    "\n",
    "def objective_pruned(trial):\n",
    "\n",
    "    n_estimators = trial.suggest_int('n_estimators', 5, 100)\n",
    "    num_leaves = trial.suggest_int('num_leaves', 2, 100)\n",
    "    colsample_bytree = trial.suggest_uniform('colsample_bytree', 0.5, 1.0)\n",
    "    learning_rate = trial.suggest_loguniform('learning_rate', 1e-4, 1e-0)\n",
    "    max_depth = trial.suggest_int('max_depth', 2, 500)\n",
    "\n",
    "\n",
    "    params = {        \n",
    "        'n_estimators': n_estimators,\n",
    "        'num_leaves': num_leaves,\n",
    "        'colsample_bytree': colsample_bytree,\n",
    "        'learning_rate': learning_rate,\n",
    "        'max_depth': max_depth\n",
    "    }\n",
    "    \n",
    "    model.set_params(**params)\n",
    "\n",
    "    return prun.cross_val_score(model, x, y)\n",
    "\n",
    "study_pruned = optuna.create_study()\n",
    "\n",
    "study_pruned.optimize(objective_pruned, timeout=120)"
   ]
  },
  {
   "cell_type": "code",
   "execution_count": 6,
   "metadata": {
    "ExecuteTime": {
     "end_time": "2019-03-11T15:31:18.677931Z",
     "start_time": "2019-03-11T15:31:18.635731Z"
    }
   },
   "outputs": [],
   "source": [
    "df_prun = study_pruned.trials_dataframe()\n",
    "df_stan = study_standard.trials_dataframe()"
   ]
  },
  {
   "cell_type": "code",
   "execution_count": 7,
   "metadata": {
    "ExecuteTime": {
     "end_time": "2019-03-11T15:31:18.699271Z",
     "start_time": "2019-03-11T15:31:18.680173Z"
    }
   },
   "outputs": [],
   "source": [
    "df_prun['time'] = (df_prun.datetime_start - df_prun.datetime_start.min()).astype('int') / 1_000_000_000\n",
    "df_stan['time'] = (df_stan.datetime_start - df_stan.datetime_start.min()).astype('int') / 1_000_000_000"
   ]
  },
  {
   "cell_type": "code",
   "execution_count": 8,
   "metadata": {
    "ExecuteTime": {
     "end_time": "2019-03-11T15:31:18.960888Z",
     "start_time": "2019-03-11T15:31:18.702080Z"
    }
   },
   "outputs": [
    {
     "data": {
      "image/png": "[encoded data removed]",
      "text/plain": [
       "<Figure size 432x288 with 1 Axes>"
      ]
     },
     "metadata": {
      "needs_background": "light"
     },
     "output_type": "display_data"
    }
   ],
   "source": [
    "sns.lineplot(x=df_stan.time, y=df_stan.value.cummin());\n",
    "sns.lineplot(x=df_prun.time, y=df_prun.value.cummin());"
   ]
  },
  {
   "cell_type": "code",
   "execution_count": 9,
   "metadata": {
    "ExecuteTime": {
     "end_time": "2019-03-11T15:31:19.197429Z",
     "start_time": "2019-03-11T15:31:18.963816Z"
    }
   },
   "outputs": [
    {
     "data": {
      "image/png": "[encoded data removed]",
      "text/plain": [
       "<Figure size 432x288 with 1 Axes>"
      ]
     },
     "metadata": {
      "needs_background": "light"
     },
     "output_type": "display_data"
    }
   ],
   "source": [
    "sns.lineplot(x=df_stan.index, y=df_stan.value.cummin());\n",
    "sns.lineplot(x=df_prun.index, y=df_prun.value.cummin());"
   ]
  },
  {
   "cell_type": "code",
   "execution_count": 10,
   "metadata": {
    "ExecuteTime": {
     "end_time": "2019-03-11T15:31:19.205551Z",
     "start_time": "2019-03-11T15:31:19.200490Z"
    }
   },
   "outputs": [
    {
     "data": {
      "text/plain": [
       "3.752577319587629"
      ]
     },
     "execution_count": 10,
     "metadata": {},
     "output_type": "execute_result"
    }
   ],
   "source": [
    "df_prun.shape[0] / df_stan.shape[0]"
   ]
  },
  {
   "cell_type": "code",
   "execution_count": null,
   "metadata": {},
   "outputs": [],
   "source": []
  }
 ],
 "metadata": {
  "kernelspec": {
   "display_name": "Python 3",
   "language": "python",
   "name": "python3"
  },
  "language_info": {
   "codemirror_mode": {
    "name": "ipython",
    "version": 3
   },
   "file_extension": ".py",
   "mimetype": "text/x-python",
   "name": "python",
   "nbconvert_exporter": "python",
   "pygments_lexer": "ipython3",
   "version": "3.6.8"
  }
 },
 "nbformat": 4,
 "nbformat_minor": 2
}
