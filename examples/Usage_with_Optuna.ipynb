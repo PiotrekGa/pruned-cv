{
 "cells": [
  {
   "cell_type": "code",
   "execution_count": 2,
   "metadata": {
    "ExecuteTime": {
     "end_time": "2019-03-14T03:53:05.628011Z",
     "start_time": "2019-03-14T03:53:05.624503Z"
    }
   },
   "outputs": [],
   "source": [
    "from lightgbm import LGBMRegressor\n",
    "import optuna\n",
    "from sklearn.datasets import fetch_california_housing\n",
    "from sklearn.model_selection import cross_val_score\n",
    "from prunedcv import PrunedCV\n",
    "import seaborn as sns\n",
    "import numpy as np"
   ]
  },
  {
   "cell_type": "code",
   "execution_count": 3,
   "metadata": {
    "ExecuteTime": {
     "end_time": "2019-03-14T03:53:06.403255Z",
     "start_time": "2019-03-14T03:53:06.378030Z"
    }
   },
   "outputs": [],
   "source": [
    "data = fetch_california_housing()\n",
    "x = data['data']\n",
    "y = data['target']"
   ]
  },
  {
   "cell_type": "code",
   "execution_count": 4,
   "metadata": {
    "ExecuteTime": {
     "end_time": "2019-03-14T03:53:06.643895Z",
     "start_time": "2019-03-14T03:53:06.639039Z"
    }
   },
   "outputs": [],
   "source": [
    "model = LGBMRegressor()"
   ]
  },
  {
   "cell_type": "code",
   "execution_count": 5,
   "metadata": {
    "ExecuteTime": {
     "end_time": "2019-03-14T03:55:12.048333Z",
     "start_time": "2019-03-14T03:53:06.822510Z"
    }
   },
   "outputs": [
    {
     "name": "stderr",
     "output_type": "stream",
     "text": [
      "[I 2019-03-13 20:53:07,419] Finished a trial resulted in value: 0.4000153077456145. Current best value is 0.4000153077456145 with parameters: {'n_estimators': 35, 'num_leaves': 16, 'colsample_bytree': 0.577143800983531, 'learning_rate': 0.17623081506183247, 'max_depth': 473}.\n",
      "[I 2019-03-13 20:53:07,928] Finished a trial resulted in value: 1.3366198959502713. Current best value is 0.4000153077456145 with parameters: {'n_estimators': 35, 'num_leaves': 16, 'colsample_bytree': 0.577143800983531, 'learning_rate': 0.17623081506183247, 'max_depth': 473}.\n",
      "[I 2019-03-13 20:53:10,316] Finished a trial resulted in value: 1.3680570703896209. Current best value is 0.4000153077456145 with parameters: {'n_estimators': 35, 'num_leaves': 16, 'colsample_bytree': 0.577143800983531, 'learning_rate': 0.17623081506183247, 'max_depth': 473}.\n",
      "[I 2019-03-13 20:53:11,468] Finished a trial resulted in value: 0.38603764501187937. Current best value is 0.38603764501187937 with parameters: {'n_estimators': 55, 'num_leaves': 55, 'colsample_bytree': 0.621723307477015, 'learning_rate': 0.1412831623368312, 'max_depth': 825}.\n",
      "[I 2019-03-13 20:53:11,997] Finished a trial resulted in value: 0.3845655096820389. Current best value is 0.3845655096820389 with parameters: {'n_estimators': 92, 'num_leaves': 6, 'colsample_bytree': 0.5178829142361967, 'learning_rate': 0.17895386872046584, 'max_depth': 733}.\n",
      "[I 2019-03-13 20:53:12,863] Finished a trial resulted in value: 0.3525757978304221. Current best value is 0.3525757978304221 with parameters: {'n_estimators': 85, 'num_leaves': 12, 'colsample_bytree': 0.926216132529257, 'learning_rate': 0.3171618141340888, 'max_depth': 776}.\n",
      "[I 2019-03-13 20:53:14,585] Finished a trial resulted in value: 0.41341956186543966. Current best value is 0.3525757978304221 with parameters: {'n_estimators': 85, 'num_leaves': 12, 'colsample_bytree': 0.926216132529257, 'learning_rate': 0.3171618141340888, 'max_depth': 776}.\n",
      "[I 2019-03-13 20:53:16,659] Finished a trial resulted in value: 0.36087577018963984. Current best value is 0.3525757978304221 with parameters: {'n_estimators': 85, 'num_leaves': 12, 'colsample_bytree': 0.926216132529257, 'learning_rate': 0.3171618141340888, 'max_depth': 776}.\n",
      "[I 2019-03-13 20:53:17,573] Finished a trial resulted in value: 1.2433012915247972. Current best value is 0.3525757978304221 with parameters: {'n_estimators': 85, 'num_leaves': 12, 'colsample_bytree': 0.926216132529257, 'learning_rate': 0.3171618141340888, 'max_depth': 776}.\n",
      "[I 2019-03-13 20:53:18,930] Finished a trial resulted in value: 0.3579344708000589. Current best value is 0.3525757978304221 with parameters: {'n_estimators': 85, 'num_leaves': 12, 'colsample_bytree': 0.926216132529257, 'learning_rate': 0.3171618141340888, 'max_depth': 776}.\n",
      "[I 2019-03-13 20:53:20,254] Finished a trial resulted in value: 1.1300283421714739. Current best value is 0.3525757978304221 with parameters: {'n_estimators': 85, 'num_leaves': 12, 'colsample_bytree': 0.926216132529257, 'learning_rate': 0.3171618141340888, 'max_depth': 776}.\n",
      "[I 2019-03-13 20:53:21,055] Finished a trial resulted in value: 0.4268293132136784. Current best value is 0.3525757978304221 with parameters: {'n_estimators': 85, 'num_leaves': 12, 'colsample_bytree': 0.926216132529257, 'learning_rate': 0.3171618141340888, 'max_depth': 776}.\n",
      "[I 2019-03-13 20:53:21,348] Finished a trial resulted in value: 0.5499216674907542. Current best value is 0.3525757978304221 with parameters: {'n_estimators': 85, 'num_leaves': 12, 'colsample_bytree': 0.926216132529257, 'learning_rate': 0.3171618141340888, 'max_depth': 776}.\n",
      "[I 2019-03-13 20:53:21,641] Finished a trial resulted in value: 1.3781370730850575. Current best value is 0.3525757978304221 with parameters: {'n_estimators': 85, 'num_leaves': 12, 'colsample_bytree': 0.926216132529257, 'learning_rate': 0.3171618141340888, 'max_depth': 776}.\n",
      "[I 2019-03-13 20:53:23,382] Finished a trial resulted in value: 0.7253004374145773. Current best value is 0.3525757978304221 with parameters: {'n_estimators': 85, 'num_leaves': 12, 'colsample_bytree': 0.926216132529257, 'learning_rate': 0.3171618141340888, 'max_depth': 776}.\n",
      "[I 2019-03-13 20:53:24,204] Finished a trial resulted in value: 0.47092096720229254. Current best value is 0.3525757978304221 with parameters: {'n_estimators': 85, 'num_leaves': 12, 'colsample_bytree': 0.926216132529257, 'learning_rate': 0.3171618141340888, 'max_depth': 776}.\n",
      "[I 2019-03-13 20:53:25,043] Finished a trial resulted in value: 1.3452435495346773. Current best value is 0.3525757978304221 with parameters: {'n_estimators': 85, 'num_leaves': 12, 'colsample_bytree': 0.926216132529257, 'learning_rate': 0.3171618141340888, 'max_depth': 776}.\n",
      "[I 2019-03-13 20:53:26,192] Finished a trial resulted in value: 0.366772081188828. Current best value is 0.3525757978304221 with parameters: {'n_estimators': 85, 'num_leaves': 12, 'colsample_bytree': 0.926216132529257, 'learning_rate': 0.3171618141340888, 'max_depth': 776}.\n",
      "[I 2019-03-13 20:53:27,664] Finished a trial resulted in value: 0.4072441956856978. Current best value is 0.3525757978304221 with parameters: {'n_estimators': 85, 'num_leaves': 12, 'colsample_bytree': 0.926216132529257, 'learning_rate': 0.3171618141340888, 'max_depth': 776}.\n",
      "[I 2019-03-13 20:53:29,698] Finished a trial resulted in value: 0.39695128194798796. Current best value is 0.3525757978304221 with parameters: {'n_estimators': 85, 'num_leaves': 12, 'colsample_bytree': 0.926216132529257, 'learning_rate': 0.3171618141340888, 'max_depth': 776}.\n",
      "[I 2019-03-13 20:53:30,900] Finished a trial resulted in value: 0.36833037811079605. Current best value is 0.3525757978304221 with parameters: {'n_estimators': 85, 'num_leaves': 12, 'colsample_bytree': 0.926216132529257, 'learning_rate': 0.3171618141340888, 'max_depth': 776}.\n",
      "[I 2019-03-13 20:53:34,133] Finished a trial resulted in value: 0.4233670236329699. Current best value is 0.3525757978304221 with parameters: {'n_estimators': 85, 'num_leaves': 12, 'colsample_bytree': 0.926216132529257, 'learning_rate': 0.3171618141340888, 'max_depth': 776}.\n",
      "[I 2019-03-13 20:53:35,340] Finished a trial resulted in value: 0.39143390981674386. Current best value is 0.3525757978304221 with parameters: {'n_estimators': 85, 'num_leaves': 12, 'colsample_bytree': 0.926216132529257, 'learning_rate': 0.3171618141340888, 'max_depth': 776}.\n",
      "[I 2019-03-13 20:53:39,060] Finished a trial resulted in value: 0.8955890913216799. Current best value is 0.3525757978304221 with parameters: {'n_estimators': 85, 'num_leaves': 12, 'colsample_bytree': 0.926216132529257, 'learning_rate': 0.3171618141340888, 'max_depth': 776}.\n",
      "[I 2019-03-13 20:53:41,512] Finished a trial resulted in value: 0.4105494401242133. Current best value is 0.3525757978304221 with parameters: {'n_estimators': 85, 'num_leaves': 12, 'colsample_bytree': 0.926216132529257, 'learning_rate': 0.3171618141340888, 'max_depth': 776}.\n",
      "[I 2019-03-13 20:53:44,232] Finished a trial resulted in value: 0.4878523545125419. Current best value is 0.3525757978304221 with parameters: {'n_estimators': 85, 'num_leaves': 12, 'colsample_bytree': 0.926216132529257, 'learning_rate': 0.3171618141340888, 'max_depth': 776}.\n",
      "[I 2019-03-13 20:53:45,212] Finished a trial resulted in value: 0.3854009839934029. Current best value is 0.3525757978304221 with parameters: {'n_estimators': 85, 'num_leaves': 12, 'colsample_bytree': 0.926216132529257, 'learning_rate': 0.3171618141340888, 'max_depth': 776}.\n",
      "[I 2019-03-13 20:53:49,378] Finished a trial resulted in value: 1.1288765023575442. Current best value is 0.3525757978304221 with parameters: {'n_estimators': 85, 'num_leaves': 12, 'colsample_bytree': 0.926216132529257, 'learning_rate': 0.3171618141340888, 'max_depth': 776}.\n",
      "[I 2019-03-13 20:53:50,577] Finished a trial resulted in value: 0.44191528589512125. Current best value is 0.3525757978304221 with parameters: {'n_estimators': 85, 'num_leaves': 12, 'colsample_bytree': 0.926216132529257, 'learning_rate': 0.3171618141340888, 'max_depth': 776}.\n"
     ]
    },
    {
     "name": "stderr",
     "output_type": "stream",
     "text": [
      "[I 2019-03-13 20:53:50,943] Finished a trial resulted in value: 0.3822140889249293. Current best value is 0.3525757978304221 with parameters: {'n_estimators': 85, 'num_leaves': 12, 'colsample_bytree': 0.926216132529257, 'learning_rate': 0.3171618141340888, 'max_depth': 776}.\n",
      "[I 2019-03-13 20:53:52,870] Finished a trial resulted in value: 0.35355567022681034. Current best value is 0.3525757978304221 with parameters: {'n_estimators': 85, 'num_leaves': 12, 'colsample_bytree': 0.926216132529257, 'learning_rate': 0.3171618141340888, 'max_depth': 776}.\n",
      "[I 2019-03-13 20:53:57,459] Finished a trial resulted in value: 0.3659554428459713. Current best value is 0.3525757978304221 with parameters: {'n_estimators': 85, 'num_leaves': 12, 'colsample_bytree': 0.926216132529257, 'learning_rate': 0.3171618141340888, 'max_depth': 776}.\n",
      "[I 2019-03-13 20:53:57,947] Finished a trial resulted in value: 0.8427365203523721. Current best value is 0.3525757978304221 with parameters: {'n_estimators': 85, 'num_leaves': 12, 'colsample_bytree': 0.926216132529257, 'learning_rate': 0.3171618141340888, 'max_depth': 776}.\n",
      "[I 2019-03-13 20:53:58,632] Finished a trial resulted in value: 0.457643740137897. Current best value is 0.3525757978304221 with parameters: {'n_estimators': 85, 'num_leaves': 12, 'colsample_bytree': 0.926216132529257, 'learning_rate': 0.3171618141340888, 'max_depth': 776}.\n",
      "[I 2019-03-13 20:53:59,100] Finished a trial resulted in value: 0.37997423182885975. Current best value is 0.3525757978304221 with parameters: {'n_estimators': 85, 'num_leaves': 12, 'colsample_bytree': 0.926216132529257, 'learning_rate': 0.3171618141340888, 'max_depth': 776}.\n",
      "[I 2019-03-13 20:54:00,952] Finished a trial resulted in value: 0.3631171656727142. Current best value is 0.3525757978304221 with parameters: {'n_estimators': 85, 'num_leaves': 12, 'colsample_bytree': 0.926216132529257, 'learning_rate': 0.3171618141340888, 'max_depth': 776}.\n",
      "[I 2019-03-13 20:54:02,402] Finished a trial resulted in value: 0.41774179381910437. Current best value is 0.3525757978304221 with parameters: {'n_estimators': 85, 'num_leaves': 12, 'colsample_bytree': 0.926216132529257, 'learning_rate': 0.3171618141340888, 'max_depth': 776}.\n",
      "[I 2019-03-13 20:54:03,374] Finished a trial resulted in value: 1.3683214018106586. Current best value is 0.3525757978304221 with parameters: {'n_estimators': 85, 'num_leaves': 12, 'colsample_bytree': 0.926216132529257, 'learning_rate': 0.3171618141340888, 'max_depth': 776}.\n",
      "[I 2019-03-13 20:54:04,073] Finished a trial resulted in value: 1.0416309901007805. Current best value is 0.3525757978304221 with parameters: {'n_estimators': 85, 'num_leaves': 12, 'colsample_bytree': 0.926216132529257, 'learning_rate': 0.3171618141340888, 'max_depth': 776}.\n",
      "[I 2019-03-13 20:54:05,080] Finished a trial resulted in value: 0.3659572410161795. Current best value is 0.3525757978304221 with parameters: {'n_estimators': 85, 'num_leaves': 12, 'colsample_bytree': 0.926216132529257, 'learning_rate': 0.3171618141340888, 'max_depth': 776}.\n",
      "[I 2019-03-13 20:54:06,486] Finished a trial resulted in value: 0.3554620929340424. Current best value is 0.3525757978304221 with parameters: {'n_estimators': 85, 'num_leaves': 12, 'colsample_bytree': 0.926216132529257, 'learning_rate': 0.3171618141340888, 'max_depth': 776}.\n",
      "[I 2019-03-13 20:54:07,427] Finished a trial resulted in value: 0.38752135968614726. Current best value is 0.3525757978304221 with parameters: {'n_estimators': 85, 'num_leaves': 12, 'colsample_bytree': 0.926216132529257, 'learning_rate': 0.3171618141340888, 'max_depth': 776}.\n",
      "[I 2019-03-13 20:54:07,716] Finished a trial resulted in value: 1.314308493062805. Current best value is 0.3525757978304221 with parameters: {'n_estimators': 85, 'num_leaves': 12, 'colsample_bytree': 0.926216132529257, 'learning_rate': 0.3171618141340888, 'max_depth': 776}.\n",
      "[I 2019-03-13 20:54:08,679] Finished a trial resulted in value: 0.6287993164088842. Current best value is 0.3525757978304221 with parameters: {'n_estimators': 85, 'num_leaves': 12, 'colsample_bytree': 0.926216132529257, 'learning_rate': 0.3171618141340888, 'max_depth': 776}.\n",
      "[I 2019-03-13 20:54:10,387] Finished a trial resulted in value: 0.5457237636790793. Current best value is 0.3525757978304221 with parameters: {'n_estimators': 85, 'num_leaves': 12, 'colsample_bytree': 0.926216132529257, 'learning_rate': 0.3171618141340888, 'max_depth': 776}.\n",
      "[I 2019-03-13 20:54:12,217] Finished a trial resulted in value: 0.40518167707503533. Current best value is 0.3525757978304221 with parameters: {'n_estimators': 85, 'num_leaves': 12, 'colsample_bytree': 0.926216132529257, 'learning_rate': 0.3171618141340888, 'max_depth': 776}.\n",
      "[I 2019-03-13 20:54:13,900] Finished a trial resulted in value: 0.35098676701625003. Current best value is 0.35098676701625003 with parameters: {'n_estimators': 73, 'num_leaves': 79, 'colsample_bytree': 0.8554001305754471, 'learning_rate': 0.16239982563379135, 'max_depth': 721}.\n",
      "[I 2019-03-13 20:54:15,737] Finished a trial resulted in value: 0.6002221113477294. Current best value is 0.35098676701625003 with parameters: {'n_estimators': 73, 'num_leaves': 79, 'colsample_bytree': 0.8554001305754471, 'learning_rate': 0.16239982563379135, 'max_depth': 721}.\n",
      "[I 2019-03-13 20:54:17,306] Finished a trial resulted in value: 0.34913815131320697. Current best value is 0.34913815131320697 with parameters: {'n_estimators': 83, 'num_leaves': 62, 'colsample_bytree': 0.9493617264940929, 'learning_rate': 0.1623219056241081, 'max_depth': 722}.\n",
      "[I 2019-03-13 20:54:18,936] Finished a trial resulted in value: 0.8325834332134567. Current best value is 0.34913815131320697 with parameters: {'n_estimators': 83, 'num_leaves': 62, 'colsample_bytree': 0.9493617264940929, 'learning_rate': 0.1623219056241081, 'max_depth': 722}.\n",
      "[I 2019-03-13 20:54:20,832] Finished a trial resulted in value: 0.34710761915984073. Current best value is 0.34710761915984073 with parameters: {'n_estimators': 83, 'num_leaves': 79, 'colsample_bytree': 0.9055652287892654, 'learning_rate': 0.1433496304829235, 'max_depth': 439}.\n",
      "[I 2019-03-13 20:54:23,026] Finished a trial resulted in value: 1.3606180782236568. Current best value is 0.34710761915984073 with parameters: {'n_estimators': 83, 'num_leaves': 79, 'colsample_bytree': 0.9055652287892654, 'learning_rate': 0.1433496304829235, 'max_depth': 439}.\n",
      "[I 2019-03-13 20:54:24,826] Finished a trial resulted in value: 1.2614827916260432. Current best value is 0.34710761915984073 with parameters: {'n_estimators': 83, 'num_leaves': 79, 'colsample_bytree': 0.9055652287892654, 'learning_rate': 0.1433496304829235, 'max_depth': 439}.\n",
      "[I 2019-03-13 20:54:26,784] Finished a trial resulted in value: 0.4109786030787399. Current best value is 0.34710761915984073 with parameters: {'n_estimators': 83, 'num_leaves': 79, 'colsample_bytree': 0.9055652287892654, 'learning_rate': 0.1433496304829235, 'max_depth': 439}.\n",
      "[I 2019-03-13 20:54:28,431] Finished a trial resulted in value: 1.2340006240767005. Current best value is 0.34710761915984073 with parameters: {'n_estimators': 83, 'num_leaves': 79, 'colsample_bytree': 0.9055652287892654, 'learning_rate': 0.1433496304829235, 'max_depth': 439}.\n",
      "[I 2019-03-13 20:54:29,949] Finished a trial resulted in value: 0.395189832271103. Current best value is 0.34710761915984073 with parameters: {'n_estimators': 83, 'num_leaves': 79, 'colsample_bytree': 0.9055652287892654, 'learning_rate': 0.1433496304829235, 'max_depth': 439}.\n",
      "[I 2019-03-13 20:54:31,154] Finished a trial resulted in value: 0.3480335179828961. Current best value is 0.34710761915984073 with parameters: {'n_estimators': 83, 'num_leaves': 79, 'colsample_bytree': 0.9055652287892654, 'learning_rate': 0.1433496304829235, 'max_depth': 439}.\n",
      "[I 2019-03-13 20:54:32,565] Finished a trial resulted in value: 0.34842844980652155. Current best value is 0.34710761915984073 with parameters: {'n_estimators': 83, 'num_leaves': 79, 'colsample_bytree': 0.9055652287892654, 'learning_rate': 0.1433496304829235, 'max_depth': 439}.\n"
     ]
    },
    {
     "name": "stderr",
     "output_type": "stream",
     "text": [
      "[I 2019-03-13 20:54:33,859] Finished a trial resulted in value: 0.5076385999429428. Current best value is 0.34710761915984073 with parameters: {'n_estimators': 83, 'num_leaves': 79, 'colsample_bytree': 0.9055652287892654, 'learning_rate': 0.1433496304829235, 'max_depth': 439}.\n",
      "[I 2019-03-13 20:54:35,708] Finished a trial resulted in value: 0.5432125676351237. Current best value is 0.34710761915984073 with parameters: {'n_estimators': 83, 'num_leaves': 79, 'colsample_bytree': 0.9055652287892654, 'learning_rate': 0.1433496304829235, 'max_depth': 439}.\n",
      "[I 2019-03-13 20:54:36,540] Finished a trial resulted in value: 1.1398090544575177. Current best value is 0.34710761915984073 with parameters: {'n_estimators': 83, 'num_leaves': 79, 'colsample_bytree': 0.9055652287892654, 'learning_rate': 0.1433496304829235, 'max_depth': 439}.\n",
      "[I 2019-03-13 20:54:37,757] Finished a trial resulted in value: 0.8233406774383036. Current best value is 0.34710761915984073 with parameters: {'n_estimators': 83, 'num_leaves': 79, 'colsample_bytree': 0.9055652287892654, 'learning_rate': 0.1433496304829235, 'max_depth': 439}.\n",
      "[I 2019-03-13 20:54:39,785] Finished a trial resulted in value: 0.4044470144019167. Current best value is 0.34710761915984073 with parameters: {'n_estimators': 83, 'num_leaves': 79, 'colsample_bytree': 0.9055652287892654, 'learning_rate': 0.1433496304829235, 'max_depth': 439}.\n",
      "[I 2019-03-13 20:54:40,188] Finished a trial resulted in value: 1.3578206227653566. Current best value is 0.34710761915984073 with parameters: {'n_estimators': 83, 'num_leaves': 79, 'colsample_bytree': 0.9055652287892654, 'learning_rate': 0.1433496304829235, 'max_depth': 439}.\n",
      "[I 2019-03-13 20:54:41,650] Finished a trial resulted in value: 0.5622342149890934. Current best value is 0.34710761915984073 with parameters: {'n_estimators': 83, 'num_leaves': 79, 'colsample_bytree': 0.9055652287892654, 'learning_rate': 0.1433496304829235, 'max_depth': 439}.\n",
      "[I 2019-03-13 20:54:42,734] Finished a trial resulted in value: 0.34479828751166597. Current best value is 0.34479828751166597 with parameters: {'n_estimators': 82, 'num_leaves': 30, 'colsample_bytree': 0.969137054590618, 'learning_rate': 0.08312994336688728, 'max_depth': 361}.\n",
      "[I 2019-03-13 20:54:43,862] Finished a trial resulted in value: 0.34636535634714777. Current best value is 0.34479828751166597 with parameters: {'n_estimators': 82, 'num_leaves': 30, 'colsample_bytree': 0.969137054590618, 'learning_rate': 0.08312994336688728, 'max_depth': 361}.\n",
      "[I 2019-03-13 20:54:45,764] Finished a trial resulted in value: 0.34243621156837817. Current best value is 0.34243621156837817 with parameters: {'n_estimators': 100, 'num_leaves': 21, 'colsample_bytree': 0.9626582924306291, 'learning_rate': 0.20944755045351413, 'max_depth': 352}.\n",
      "[I 2019-03-13 20:54:47,326] Finished a trial resulted in value: 0.3499512550559996. Current best value is 0.34243621156837817 with parameters: {'n_estimators': 100, 'num_leaves': 21, 'colsample_bytree': 0.9626582924306291, 'learning_rate': 0.20944755045351413, 'max_depth': 352}.\n",
      "[I 2019-03-13 20:54:49,286] Finished a trial resulted in value: 0.342323682184492. Current best value is 0.342323682184492 with parameters: {'n_estimators': 92, 'num_leaves': 31, 'colsample_bytree': 0.9227450962689812, 'learning_rate': 0.1985956574029098, 'max_depth': 335}.\n",
      "[I 2019-03-13 20:54:50,803] Finished a trial resulted in value: 0.3339499770536607. Current best value is 0.3339499770536607 with parameters: {'n_estimators': 97, 'num_leaves': 31, 'colsample_bytree': 0.9249790357425343, 'learning_rate': 0.10994987818912746, 'max_depth': 354}.\n",
      "[I 2019-03-13 20:54:51,967] Finished a trial resulted in value: 0.3541576629470111. Current best value is 0.3339499770536607 with parameters: {'n_estimators': 97, 'num_leaves': 31, 'colsample_bytree': 0.9249790357425343, 'learning_rate': 0.10994987818912746, 'max_depth': 354}.\n",
      "[I 2019-03-13 20:54:52,861] Finished a trial resulted in value: 0.35572530571423083. Current best value is 0.3339499770536607 with parameters: {'n_estimators': 97, 'num_leaves': 31, 'colsample_bytree': 0.9249790357425343, 'learning_rate': 0.10994987818912746, 'max_depth': 354}.\n",
      "[I 2019-03-13 20:54:53,138] Finished a trial resulted in value: 0.47620408075582166. Current best value is 0.3339499770536607 with parameters: {'n_estimators': 97, 'num_leaves': 31, 'colsample_bytree': 0.9249790357425343, 'learning_rate': 0.10994987818912746, 'max_depth': 354}.\n",
      "[I 2019-03-13 20:54:54,321] Finished a trial resulted in value: 0.4041843605925231. Current best value is 0.3339499770536607 with parameters: {'n_estimators': 97, 'num_leaves': 31, 'colsample_bytree': 0.9249790357425343, 'learning_rate': 0.10994987818912746, 'max_depth': 354}.\n",
      "[I 2019-03-13 20:54:56,276] Finished a trial resulted in value: 0.3735797910805794. Current best value is 0.3339499770536607 with parameters: {'n_estimators': 97, 'num_leaves': 31, 'colsample_bytree': 0.9249790357425343, 'learning_rate': 0.10994987818912746, 'max_depth': 354}.\n",
      "[I 2019-03-13 20:54:58,085] Finished a trial resulted in value: 0.38962666347374025. Current best value is 0.3339499770536607 with parameters: {'n_estimators': 97, 'num_leaves': 31, 'colsample_bytree': 0.9249790357425343, 'learning_rate': 0.10994987818912746, 'max_depth': 354}.\n",
      "[I 2019-03-13 20:54:58,525] Finished a trial resulted in value: 0.8464612483531165. Current best value is 0.3339499770536607 with parameters: {'n_estimators': 97, 'num_leaves': 31, 'colsample_bytree': 0.9249790357425343, 'learning_rate': 0.10994987818912746, 'max_depth': 354}.\n",
      "[I 2019-03-13 20:55:00,629] Finished a trial resulted in value: 0.39491348791879055. Current best value is 0.3339499770536607 with parameters: {'n_estimators': 97, 'num_leaves': 31, 'colsample_bytree': 0.9249790357425343, 'learning_rate': 0.10994987818912746, 'max_depth': 354}.\n",
      "[I 2019-03-13 20:55:01,269] Finished a trial resulted in value: 0.5409365838967598. Current best value is 0.3339499770536607 with parameters: {'n_estimators': 97, 'num_leaves': 31, 'colsample_bytree': 0.9249790357425343, 'learning_rate': 0.10994987818912746, 'max_depth': 354}.\n",
      "[I 2019-03-13 20:55:04,341] Finished a trial resulted in value: 0.34712359085981936. Current best value is 0.3339499770536607 with parameters: {'n_estimators': 97, 'num_leaves': 31, 'colsample_bytree': 0.9249790357425343, 'learning_rate': 0.10994987818912746, 'max_depth': 354}.\n",
      "[I 2019-03-13 20:55:12,044] Finished a trial resulted in value: 0.3414638202024573. Current best value is 0.3339499770536607 with parameters: {'n_estimators': 97, 'num_leaves': 31, 'colsample_bytree': 0.9249790357425343, 'learning_rate': 0.10994987818912746, 'max_depth': 354}.\n"
     ]
    }
   ],
   "source": [
    "def obejctive_standard(trial):\n",
    "    \n",
    "    n_estimators = trial.suggest_int('n_estimators', 5, 100)\n",
    "    num_leaves = trial.suggest_int('num_leaves', 2, 100)\n",
    "    colsample_bytree = trial.suggest_uniform('colsample_bytree', 0.5, 1.0)\n",
    "    learning_rate = trial.suggest_loguniform('learning_rate', 1e-4, 1e-0)\n",
    "    max_depth = trial.suggest_int('max_depth', 2, 1_000)\n",
    "\n",
    "\n",
    "    params = {        \n",
    "        'n_estimators': n_estimators,\n",
    "        'num_leaves': num_leaves,\n",
    "        'colsample_bytree': colsample_bytree,\n",
    "        'learning_rate': learning_rate,\n",
    "        'max_depth': max_depth\n",
    "    }\n",
    "    \n",
    "    model.set_params(**params)\n",
    "\n",
    "    return - np.mean(cross_val_score(model, x, y, cv=12, scoring='neg_mean_squared_error'))\n",
    "\n",
    "study_standard = optuna.create_study()\n",
    "\n",
    "study_standard.optimize(obejctive_standard, timeout=120)"
   ]
  },
  {
   "cell_type": "markdown",
   "metadata": {},
   "source": [
    "For probabilistic search methods like Bayesian Optimization you should use probabilistic pruning:"
   ]
  },
  {
   "cell_type": "code",
   "execution_count": 6,
   "metadata": {
    "ExecuteTime": {
     "end_time": "2019-03-14T03:57:12.332076Z",
     "start_time": "2019-03-14T03:55:12.051141Z"
    }
   },
   "outputs": [
    {
     "name": "stderr",
     "output_type": "stream",
     "text": [
      "[I 2019-03-13 20:55:12,652] Finished a trial resulted in value: 1.3722372566563739. Current best value is 1.3722372566563739 with parameters: {'n_estimators': 10, 'num_leaves': 20, 'colsample_bytree': 0.6483391168115308, 'learning_rate': 0.0008370615809837335, 'max_depth': 134}.\n",
      "[I 2019-03-13 20:55:12,752] Finished a trial resulted in value: 1.3809050028210956. Current best value is 1.3722372566563739 with parameters: {'n_estimators': 10, 'num_leaves': 20, 'colsample_bytree': 0.6483391168115308, 'learning_rate': 0.0008370615809837335, 'max_depth': 134}.\n",
      "[I 2019-03-13 20:55:13,108] Finished a trial resulted in value: 0.5310406716442527. Current best value is 0.5310406716442527 with parameters: {'n_estimators': 31, 'num_leaves': 58, 'colsample_bytree': 0.7283544708095447, 'learning_rate': 0.11210913027712305, 'max_depth': 3}.\n",
      "[I 2019-03-13 20:55:15,436] Finished a trial resulted in value: 0.35771592560290294. Current best value is 0.35771592560290294 with parameters: {'n_estimators': 97, 'num_leaves': 44, 'colsample_bytree': 0.6310538515064109, 'learning_rate': 0.08505373308124427, 'max_depth': 68}.\n",
      "[I 2019-03-13 20:55:15,875] Finished a trial resulted in value: 1.1010246911445385. Current best value is 0.35771592560290294 with parameters: {'n_estimators': 97, 'num_leaves': 44, 'colsample_bytree': 0.6310538515064109, 'learning_rate': 0.08505373308124427, 'max_depth': 68}.\n",
      "[I 2019-03-13 20:55:16,046] Finished a trial resulted in value: 0.3962141682106831. Current best value is 0.35771592560290294 with parameters: {'n_estimators': 97, 'num_leaves': 44, 'colsample_bytree': 0.6310538515064109, 'learning_rate': 0.08505373308124427, 'max_depth': 68}.\n",
      "[I 2019-03-13 20:55:16,342] Finished a trial resulted in value: 1.093190761400588. Current best value is 0.35771592560290294 with parameters: {'n_estimators': 97, 'num_leaves': 44, 'colsample_bytree': 0.6310538515064109, 'learning_rate': 0.08505373308124427, 'max_depth': 68}.\n",
      "[I 2019-03-13 20:55:16,605] Finished a trial resulted in value: 0.4178193427728413. Current best value is 0.35771592560290294 with parameters: {'n_estimators': 97, 'num_leaves': 44, 'colsample_bytree': 0.6310538515064109, 'learning_rate': 0.08505373308124427, 'max_depth': 68}.\n",
      "[I 2019-03-13 20:55:17,279] Finished a trial resulted in value: 1.0529417956093803. Current best value is 0.35771592560290294 with parameters: {'n_estimators': 97, 'num_leaves': 44, 'colsample_bytree': 0.6310538515064109, 'learning_rate': 0.08505373308124427, 'max_depth': 68}.\n",
      "[I 2019-03-13 20:55:18,626] Finished a trial resulted in value: 0.477278206261576. Current best value is 0.35771592560290294 with parameters: {'n_estimators': 97, 'num_leaves': 44, 'colsample_bytree': 0.6310538515064109, 'learning_rate': 0.08505373308124427, 'max_depth': 68}.\n",
      "[I 2019-03-13 20:55:18,933] Finished a trial resulted in value: 0.44123809110830775. Current best value is 0.35771592560290294 with parameters: {'n_estimators': 97, 'num_leaves': 44, 'colsample_bytree': 0.6310538515064109, 'learning_rate': 0.08505373308124427, 'max_depth': 68}.\n",
      "[I 2019-03-13 20:55:19,296] Finished a trial resulted in value: 0.8238969742096183. Current best value is 0.35771592560290294 with parameters: {'n_estimators': 97, 'num_leaves': 44, 'colsample_bytree': 0.6310538515064109, 'learning_rate': 0.08505373308124427, 'max_depth': 68}.\n",
      "[I 2019-03-13 20:55:19,862] Finished a trial resulted in value: 0.42969601733223256. Current best value is 0.35771592560290294 with parameters: {'n_estimators': 97, 'num_leaves': 44, 'colsample_bytree': 0.6310538515064109, 'learning_rate': 0.08505373308124427, 'max_depth': 68}.\n",
      "[I 2019-03-13 20:55:20,455] Finished a trial resulted in value: 0.7660782934237532. Current best value is 0.35771592560290294 with parameters: {'n_estimators': 97, 'num_leaves': 44, 'colsample_bytree': 0.6310538515064109, 'learning_rate': 0.08505373308124427, 'max_depth': 68}.\n",
      "[I 2019-03-13 20:55:20,667] Finished a trial resulted in value: 0.36150354537263224. Current best value is 0.35771592560290294 with parameters: {'n_estimators': 97, 'num_leaves': 44, 'colsample_bytree': 0.6310538515064109, 'learning_rate': 0.08505373308124427, 'max_depth': 68}.\n",
      "[I 2019-03-13 20:55:21,120] Finished a trial resulted in value: 0.42682027466929506. Current best value is 0.35771592560290294 with parameters: {'n_estimators': 97, 'num_leaves': 44, 'colsample_bytree': 0.6310538515064109, 'learning_rate': 0.08505373308124427, 'max_depth': 68}.\n",
      "[I 2019-03-13 20:55:21,239] Finished a trial resulted in value: 1.0463620297639356. Current best value is 0.35771592560290294 with parameters: {'n_estimators': 97, 'num_leaves': 44, 'colsample_bytree': 0.6310538515064109, 'learning_rate': 0.08505373308124427, 'max_depth': 68}.\n",
      "[I 2019-03-13 20:55:21,853] Finished a trial resulted in value: 0.4045876447535957. Current best value is 0.35771592560290294 with parameters: {'n_estimators': 97, 'num_leaves': 44, 'colsample_bytree': 0.6310538515064109, 'learning_rate': 0.08505373308124427, 'max_depth': 68}.\n",
      "[I 2019-03-13 20:55:22,000] Finished a trial resulted in value: 0.3967843543278355. Current best value is 0.35771592560290294 with parameters: {'n_estimators': 97, 'num_leaves': 44, 'colsample_bytree': 0.6310538515064109, 'learning_rate': 0.08505373308124427, 'max_depth': 68}.\n",
      "[I 2019-03-13 20:55:22,367] Finished a trial resulted in value: 0.3956758132466328. Current best value is 0.35771592560290294 with parameters: {'n_estimators': 97, 'num_leaves': 44, 'colsample_bytree': 0.6310538515064109, 'learning_rate': 0.08505373308124427, 'max_depth': 68}.\n",
      "[I 2019-03-13 20:55:22,829] Finished a trial resulted in value: 0.35923191636695956. Current best value is 0.35771592560290294 with parameters: {'n_estimators': 97, 'num_leaves': 44, 'colsample_bytree': 0.6310538515064109, 'learning_rate': 0.08505373308124427, 'max_depth': 68}.\n",
      "[I 2019-03-13 20:55:23,277] Finished a trial resulted in value: 0.3690386025383303. Current best value is 0.35771592560290294 with parameters: {'n_estimators': 97, 'num_leaves': 44, 'colsample_bytree': 0.6310538515064109, 'learning_rate': 0.08505373308124427, 'max_depth': 68}.\n",
      "[I 2019-03-13 20:55:23,379] Finished a trial resulted in value: 0.4459928470314457. Current best value is 0.35771592560290294 with parameters: {'n_estimators': 97, 'num_leaves': 44, 'colsample_bytree': 0.6310538515064109, 'learning_rate': 0.08505373308124427, 'max_depth': 68}.\n",
      "[I 2019-03-13 20:55:23,765] Finished a trial resulted in value: 0.42942816630431974. Current best value is 0.35771592560290294 with parameters: {'n_estimators': 97, 'num_leaves': 44, 'colsample_bytree': 0.6310538515064109, 'learning_rate': 0.08505373308124427, 'max_depth': 68}.\n",
      "[I 2019-03-13 20:55:24,114] Finished a trial resulted in value: 0.39006046404335154. Current best value is 0.35771592560290294 with parameters: {'n_estimators': 97, 'num_leaves': 44, 'colsample_bytree': 0.6310538515064109, 'learning_rate': 0.08505373308124427, 'max_depth': 68}.\n",
      "[I 2019-03-13 20:55:25,024] Finished a trial resulted in value: 0.3625137127087627. Current best value is 0.35771592560290294 with parameters: {'n_estimators': 97, 'num_leaves': 44, 'colsample_bytree': 0.6310538515064109, 'learning_rate': 0.08505373308124427, 'max_depth': 68}.\n",
      "[I 2019-03-13 20:55:25,125] Finished a trial resulted in value: 0.42406216780240713. Current best value is 0.35771592560290294 with parameters: {'n_estimators': 97, 'num_leaves': 44, 'colsample_bytree': 0.6310538515064109, 'learning_rate': 0.08505373308124427, 'max_depth': 68}.\n",
      "[I 2019-03-13 20:55:25,419] Finished a trial resulted in value: 0.3640069934724053. Current best value is 0.35771592560290294 with parameters: {'n_estimators': 97, 'num_leaves': 44, 'colsample_bytree': 0.6310538515064109, 'learning_rate': 0.08505373308124427, 'max_depth': 68}.\n",
      "[I 2019-03-13 20:55:25,555] Finished a trial resulted in value: 0.7628560346827931. Current best value is 0.35771592560290294 with parameters: {'n_estimators': 97, 'num_leaves': 44, 'colsample_bytree': 0.6310538515064109, 'learning_rate': 0.08505373308124427, 'max_depth': 68}.\n"
     ]
    },
    {
     "name": "stderr",
     "output_type": "stream",
     "text": [
      "[I 2019-03-13 20:55:25,668] Finished a trial resulted in value: 0.9370578941824822. Current best value is 0.35771592560290294 with parameters: {'n_estimators': 97, 'num_leaves': 44, 'colsample_bytree': 0.6310538515064109, 'learning_rate': 0.08505373308124427, 'max_depth': 68}.\n",
      "[I 2019-03-13 20:55:25,891] Finished a trial resulted in value: 1.0475643435660955. Current best value is 0.35771592560290294 with parameters: {'n_estimators': 97, 'num_leaves': 44, 'colsample_bytree': 0.6310538515064109, 'learning_rate': 0.08505373308124427, 'max_depth': 68}.\n",
      "[I 2019-03-13 20:55:26,539] Finished a trial resulted in value: 0.39376894391418704. Current best value is 0.35771592560290294 with parameters: {'n_estimators': 97, 'num_leaves': 44, 'colsample_bytree': 0.6310538515064109, 'learning_rate': 0.08505373308124427, 'max_depth': 68}.\n",
      "[I 2019-03-13 20:55:27,026] Finished a trial resulted in value: 0.3630079740202865. Current best value is 0.35771592560290294 with parameters: {'n_estimators': 97, 'num_leaves': 44, 'colsample_bytree': 0.6310538515064109, 'learning_rate': 0.08505373308124427, 'max_depth': 68}.\n",
      "[I 2019-03-13 20:55:27,199] Finished a trial resulted in value: 0.7329129875773995. Current best value is 0.35771592560290294 with parameters: {'n_estimators': 97, 'num_leaves': 44, 'colsample_bytree': 0.6310538515064109, 'learning_rate': 0.08505373308124427, 'max_depth': 68}.\n",
      "[I 2019-03-13 20:55:27,435] Finished a trial resulted in value: 0.4233437613340608. Current best value is 0.35771592560290294 with parameters: {'n_estimators': 97, 'num_leaves': 44, 'colsample_bytree': 0.6310538515064109, 'learning_rate': 0.08505373308124427, 'max_depth': 68}.\n",
      "[I 2019-03-13 20:55:27,873] Finished a trial resulted in value: 0.36084908046477976. Current best value is 0.35771592560290294 with parameters: {'n_estimators': 97, 'num_leaves': 44, 'colsample_bytree': 0.6310538515064109, 'learning_rate': 0.08505373308124427, 'max_depth': 68}.\n",
      "[I 2019-03-13 20:55:27,942] Finished a trial resulted in value: 0.7039227045418952. Current best value is 0.35771592560290294 with parameters: {'n_estimators': 97, 'num_leaves': 44, 'colsample_bytree': 0.6310538515064109, 'learning_rate': 0.08505373308124427, 'max_depth': 68}.\n",
      "[I 2019-03-13 20:55:28,229] Finished a trial resulted in value: 0.369516968583115. Current best value is 0.35771592560290294 with parameters: {'n_estimators': 97, 'num_leaves': 44, 'colsample_bytree': 0.6310538515064109, 'learning_rate': 0.08505373308124427, 'max_depth': 68}.\n",
      "[I 2019-03-13 20:55:28,347] Finished a trial resulted in value: 1.0939766295229678. Current best value is 0.35771592560290294 with parameters: {'n_estimators': 97, 'num_leaves': 44, 'colsample_bytree': 0.6310538515064109, 'learning_rate': 0.08505373308124427, 'max_depth': 68}.\n",
      "[I 2019-03-13 20:55:28,539] Finished a trial resulted in value: 0.3894275788250446. Current best value is 0.35771592560290294 with parameters: {'n_estimators': 97, 'num_leaves': 44, 'colsample_bytree': 0.6310538515064109, 'learning_rate': 0.08505373308124427, 'max_depth': 68}.\n",
      "[I 2019-03-13 20:55:28,732] Finished a trial resulted in value: 1.1028161074274674. Current best value is 0.35771592560290294 with parameters: {'n_estimators': 97, 'num_leaves': 44, 'colsample_bytree': 0.6310538515064109, 'learning_rate': 0.08505373308124427, 'max_depth': 68}.\n",
      "[I 2019-03-13 20:55:29,003] Finished a trial resulted in value: 0.39226315821685376. Current best value is 0.35771592560290294 with parameters: {'n_estimators': 97, 'num_leaves': 44, 'colsample_bytree': 0.6310538515064109, 'learning_rate': 0.08505373308124427, 'max_depth': 68}.\n",
      "[I 2019-03-13 20:55:29,317] Finished a trial resulted in value: 0.3848694067242899. Current best value is 0.35771592560290294 with parameters: {'n_estimators': 97, 'num_leaves': 44, 'colsample_bytree': 0.6310538515064109, 'learning_rate': 0.08505373308124427, 'max_depth': 68}.\n",
      "[I 2019-03-13 20:55:29,664] Finished a trial resulted in value: 0.4435757473431811. Current best value is 0.35771592560290294 with parameters: {'n_estimators': 97, 'num_leaves': 44, 'colsample_bytree': 0.6310538515064109, 'learning_rate': 0.08505373308124427, 'max_depth': 68}.\n",
      "[I 2019-03-13 20:55:29,799] Finished a trial resulted in value: 0.42438488061072155. Current best value is 0.35771592560290294 with parameters: {'n_estimators': 97, 'num_leaves': 44, 'colsample_bytree': 0.6310538515064109, 'learning_rate': 0.08505373308124427, 'max_depth': 68}.\n",
      "[I 2019-03-13 20:55:30,024] Finished a trial resulted in value: 0.4089784875087946. Current best value is 0.35771592560290294 with parameters: {'n_estimators': 97, 'num_leaves': 44, 'colsample_bytree': 0.6310538515064109, 'learning_rate': 0.08505373308124427, 'max_depth': 68}.\n",
      "[I 2019-03-13 20:55:30,778] Finished a trial resulted in value: 0.5167418773516527. Current best value is 0.35771592560290294 with parameters: {'n_estimators': 97, 'num_leaves': 44, 'colsample_bytree': 0.6310538515064109, 'learning_rate': 0.08505373308124427, 'max_depth': 68}.\n",
      "[I 2019-03-13 20:55:31,080] Finished a trial resulted in value: 0.7732081326856656. Current best value is 0.35771592560290294 with parameters: {'n_estimators': 97, 'num_leaves': 44, 'colsample_bytree': 0.6310538515064109, 'learning_rate': 0.08505373308124427, 'max_depth': 68}.\n",
      "[I 2019-03-13 20:55:31,325] Finished a trial resulted in value: 0.49370580990601526. Current best value is 0.35771592560290294 with parameters: {'n_estimators': 97, 'num_leaves': 44, 'colsample_bytree': 0.6310538515064109, 'learning_rate': 0.08505373308124427, 'max_depth': 68}.\n",
      "[I 2019-03-13 20:55:31,937] Finished a trial resulted in value: 0.8125162867398812. Current best value is 0.35771592560290294 with parameters: {'n_estimators': 97, 'num_leaves': 44, 'colsample_bytree': 0.6310538515064109, 'learning_rate': 0.08505373308124427, 'max_depth': 68}.\n",
      "[I 2019-03-13 20:55:34,234] Finished a trial resulted in value: 0.3490936466548886. Current best value is 0.3490936466548886 with parameters: {'n_estimators': 65, 'num_leaves': 66, 'colsample_bytree': 0.82390485408849, 'learning_rate': 0.10274985481566598, 'max_depth': 584}.\n",
      "[I 2019-03-13 20:55:34,562] Finished a trial resulted in value: 1.0496235476715532. Current best value is 0.3490936466548886 with parameters: {'n_estimators': 65, 'num_leaves': 66, 'colsample_bytree': 0.82390485408849, 'learning_rate': 0.10274985481566598, 'max_depth': 584}.\n",
      "[I 2019-03-13 20:55:34,709] Finished a trial resulted in value: 0.47150365084680307. Current best value is 0.3490936466548886 with parameters: {'n_estimators': 65, 'num_leaves': 66, 'colsample_bytree': 0.82390485408849, 'learning_rate': 0.10274985481566598, 'max_depth': 584}.\n",
      "[I 2019-03-13 20:55:34,899] Finished a trial resulted in value: 0.4836725035033102. Current best value is 0.3490936466548886 with parameters: {'n_estimators': 65, 'num_leaves': 66, 'colsample_bytree': 0.82390485408849, 'learning_rate': 0.10274985481566598, 'max_depth': 584}.\n",
      "[I 2019-03-13 20:55:35,210] Finished a trial resulted in value: 0.3671340840170633. Current best value is 0.3490936466548886 with parameters: {'n_estimators': 65, 'num_leaves': 66, 'colsample_bytree': 0.82390485408849, 'learning_rate': 0.10274985481566598, 'max_depth': 584}.\n",
      "[I 2019-03-13 20:55:35,720] Finished a trial resulted in value: 0.8598215380180009. Current best value is 0.3490936466548886 with parameters: {'n_estimators': 65, 'num_leaves': 66, 'colsample_bytree': 0.82390485408849, 'learning_rate': 0.10274985481566598, 'max_depth': 584}.\n",
      "[I 2019-03-13 20:55:36,694] Finished a trial resulted in value: 0.3739371111959433. Current best value is 0.3490936466548886 with parameters: {'n_estimators': 65, 'num_leaves': 66, 'colsample_bytree': 0.82390485408849, 'learning_rate': 0.10274985481566598, 'max_depth': 584}.\n",
      "[I 2019-03-13 20:55:37,297] Finished a trial resulted in value: 0.37558789366750395. Current best value is 0.3490936466548886 with parameters: {'n_estimators': 65, 'num_leaves': 66, 'colsample_bytree': 0.82390485408849, 'learning_rate': 0.10274985481566598, 'max_depth': 584}.\n"
     ]
    },
    {
     "name": "stderr",
     "output_type": "stream",
     "text": [
      "[I 2019-03-13 20:55:38,282] Finished a trial resulted in value: 1.142873641839353. Current best value is 0.3490936466548886 with parameters: {'n_estimators': 65, 'num_leaves': 66, 'colsample_bytree': 0.82390485408849, 'learning_rate': 0.10274985481566598, 'max_depth': 584}.\n",
      "[I 2019-03-13 20:55:38,476] Finished a trial resulted in value: 0.4262167849419327. Current best value is 0.3490936466548886 with parameters: {'n_estimators': 65, 'num_leaves': 66, 'colsample_bytree': 0.82390485408849, 'learning_rate': 0.10274985481566598, 'max_depth': 584}.\n",
      "[I 2019-03-13 20:55:38,771] Finished a trial resulted in value: 0.5820314640916397. Current best value is 0.3490936466548886 with parameters: {'n_estimators': 65, 'num_leaves': 66, 'colsample_bytree': 0.82390485408849, 'learning_rate': 0.10274985481566598, 'max_depth': 584}.\n",
      "[I 2019-03-13 20:55:38,881] Finished a trial resulted in value: 1.1186877113003473. Current best value is 0.3490936466548886 with parameters: {'n_estimators': 65, 'num_leaves': 66, 'colsample_bytree': 0.82390485408849, 'learning_rate': 0.10274985481566598, 'max_depth': 584}.\n",
      "[I 2019-03-13 20:55:39,945] Finished a trial resulted in value: 0.5424116587101633. Current best value is 0.3490936466548886 with parameters: {'n_estimators': 65, 'num_leaves': 66, 'colsample_bytree': 0.82390485408849, 'learning_rate': 0.10274985481566598, 'max_depth': 584}.\n",
      "[I 2019-03-13 20:55:40,081] Finished a trial resulted in value: 0.4379642640533071. Current best value is 0.3490936466548886 with parameters: {'n_estimators': 65, 'num_leaves': 66, 'colsample_bytree': 0.82390485408849, 'learning_rate': 0.10274985481566598, 'max_depth': 584}.\n",
      "[I 2019-03-13 20:55:40,384] Finished a trial resulted in value: 0.38752225100204646. Current best value is 0.3490936466548886 with parameters: {'n_estimators': 65, 'num_leaves': 66, 'colsample_bytree': 0.82390485408849, 'learning_rate': 0.10274985481566598, 'max_depth': 584}.\n",
      "[I 2019-03-13 20:55:40,583] Finished a trial resulted in value: 0.40514805046553287. Current best value is 0.3490936466548886 with parameters: {'n_estimators': 65, 'num_leaves': 66, 'colsample_bytree': 0.82390485408849, 'learning_rate': 0.10274985481566598, 'max_depth': 584}.\n",
      "[I 2019-03-13 20:55:40,806] Finished a trial resulted in value: 0.4046640811305595. Current best value is 0.3490936466548886 with parameters: {'n_estimators': 65, 'num_leaves': 66, 'colsample_bytree': 0.82390485408849, 'learning_rate': 0.10274985481566598, 'max_depth': 584}.\n",
      "[I 2019-03-13 20:55:41,182] Finished a trial resulted in value: 0.4022897141429891. Current best value is 0.3490936466548886 with parameters: {'n_estimators': 65, 'num_leaves': 66, 'colsample_bytree': 0.82390485408849, 'learning_rate': 0.10274985481566598, 'max_depth': 584}.\n",
      "[I 2019-03-13 20:55:41,350] Finished a trial resulted in value: 0.6024332729756776. Current best value is 0.3490936466548886 with parameters: {'n_estimators': 65, 'num_leaves': 66, 'colsample_bytree': 0.82390485408849, 'learning_rate': 0.10274985481566598, 'max_depth': 584}.\n",
      "[I 2019-03-13 20:55:41,604] Finished a trial resulted in value: 0.41480404447160946. Current best value is 0.3490936466548886 with parameters: {'n_estimators': 65, 'num_leaves': 66, 'colsample_bytree': 0.82390485408849, 'learning_rate': 0.10274985481566598, 'max_depth': 584}.\n",
      "[I 2019-03-13 20:55:41,833] Finished a trial resulted in value: 0.37889017244448925. Current best value is 0.3490936466548886 with parameters: {'n_estimators': 65, 'num_leaves': 66, 'colsample_bytree': 0.82390485408849, 'learning_rate': 0.10274985481566598, 'max_depth': 584}.\n",
      "[I 2019-03-13 20:55:42,083] Finished a trial resulted in value: 0.40416862731666836. Current best value is 0.3490936466548886 with parameters: {'n_estimators': 65, 'num_leaves': 66, 'colsample_bytree': 0.82390485408849, 'learning_rate': 0.10274985481566598, 'max_depth': 584}.\n",
      "[I 2019-03-13 20:55:43,155] Finished a trial resulted in value: 0.35240701422241943. Current best value is 0.3490936466548886 with parameters: {'n_estimators': 65, 'num_leaves': 66, 'colsample_bytree': 0.82390485408849, 'learning_rate': 0.10274985481566598, 'max_depth': 584}.\n",
      "[I 2019-03-13 20:55:43,691] Finished a trial resulted in value: 0.407507300492012. Current best value is 0.3490936466548886 with parameters: {'n_estimators': 65, 'num_leaves': 66, 'colsample_bytree': 0.82390485408849, 'learning_rate': 0.10274985481566598, 'max_depth': 584}.\n",
      "[I 2019-03-13 20:55:43,790] Finished a trial resulted in value: 0.44426720261248775. Current best value is 0.3490936466548886 with parameters: {'n_estimators': 65, 'num_leaves': 66, 'colsample_bytree': 0.82390485408849, 'learning_rate': 0.10274985481566598, 'max_depth': 584}.\n",
      "[I 2019-03-13 20:55:44,802] Finished a trial resulted in value: 0.38017428464327185. Current best value is 0.3490936466548886 with parameters: {'n_estimators': 65, 'num_leaves': 66, 'colsample_bytree': 0.82390485408849, 'learning_rate': 0.10274985481566598, 'max_depth': 584}.\n",
      "[I 2019-03-13 20:55:45,270] Finished a trial resulted in value: 0.3755955905451853. Current best value is 0.3490936466548886 with parameters: {'n_estimators': 65, 'num_leaves': 66, 'colsample_bytree': 0.82390485408849, 'learning_rate': 0.10274985481566598, 'max_depth': 584}.\n",
      "[I 2019-03-13 20:55:45,990] Finished a trial resulted in value: 0.4016755785892268. Current best value is 0.3490936466548886 with parameters: {'n_estimators': 65, 'num_leaves': 66, 'colsample_bytree': 0.82390485408849, 'learning_rate': 0.10274985481566598, 'max_depth': 584}.\n",
      "[I 2019-03-13 20:55:46,400] Finished a trial resulted in value: 0.35828944253165695. Current best value is 0.3490936466548886 with parameters: {'n_estimators': 65, 'num_leaves': 66, 'colsample_bytree': 0.82390485408849, 'learning_rate': 0.10274985481566598, 'max_depth': 584}.\n",
      "[I 2019-03-13 20:55:47,014] Finished a trial resulted in value: 0.35618081144443225. Current best value is 0.3490936466548886 with parameters: {'n_estimators': 65, 'num_leaves': 66, 'colsample_bytree': 0.82390485408849, 'learning_rate': 0.10274985481566598, 'max_depth': 584}.\n",
      "[I 2019-03-13 20:55:47,312] Finished a trial resulted in value: 0.35699131916419835. Current best value is 0.3490936466548886 with parameters: {'n_estimators': 65, 'num_leaves': 66, 'colsample_bytree': 0.82390485408849, 'learning_rate': 0.10274985481566598, 'max_depth': 584}.\n",
      "[I 2019-03-13 20:55:47,632] Finished a trial resulted in value: 0.4364150197249473. Current best value is 0.3490936466548886 with parameters: {'n_estimators': 65, 'num_leaves': 66, 'colsample_bytree': 0.82390485408849, 'learning_rate': 0.10274985481566598, 'max_depth': 584}.\n",
      "[I 2019-03-13 20:55:47,819] Finished a trial resulted in value: 0.35568868222790784. Current best value is 0.3490936466548886 with parameters: {'n_estimators': 65, 'num_leaves': 66, 'colsample_bytree': 0.82390485408849, 'learning_rate': 0.10274985481566598, 'max_depth': 584}.\n",
      "[I 2019-03-13 20:55:48,690] Finished a trial resulted in value: 0.34914393770162006. Current best value is 0.3490936466548886 with parameters: {'n_estimators': 65, 'num_leaves': 66, 'colsample_bytree': 0.82390485408849, 'learning_rate': 0.10274985481566598, 'max_depth': 584}.\n",
      "[I 2019-03-13 20:55:48,956] Finished a trial resulted in value: 0.39018410604391646. Current best value is 0.3490936466548886 with parameters: {'n_estimators': 65, 'num_leaves': 66, 'colsample_bytree': 0.82390485408849, 'learning_rate': 0.10274985481566598, 'max_depth': 584}.\n",
      "[I 2019-03-13 20:55:49,484] Finished a trial resulted in value: 0.3908577603056075. Current best value is 0.3490936466548886 with parameters: {'n_estimators': 65, 'num_leaves': 66, 'colsample_bytree': 0.82390485408849, 'learning_rate': 0.10274985481566598, 'max_depth': 584}.\n",
      "[I 2019-03-13 20:55:49,829] Finished a trial resulted in value: 0.8859420207041535. Current best value is 0.3490936466548886 with parameters: {'n_estimators': 65, 'num_leaves': 66, 'colsample_bytree': 0.82390485408849, 'learning_rate': 0.10274985481566598, 'max_depth': 584}.\n"
     ]
    },
    {
     "name": "stderr",
     "output_type": "stream",
     "text": [
      "[I 2019-03-13 20:55:50,083] Finished a trial resulted in value: 0.6829665456529052. Current best value is 0.3490936466548886 with parameters: {'n_estimators': 65, 'num_leaves': 66, 'colsample_bytree': 0.82390485408849, 'learning_rate': 0.10274985481566598, 'max_depth': 584}.\n",
      "[I 2019-03-13 20:55:50,986] Finished a trial resulted in value: 0.4222123476217407. Current best value is 0.3490936466548886 with parameters: {'n_estimators': 65, 'num_leaves': 66, 'colsample_bytree': 0.82390485408849, 'learning_rate': 0.10274985481566598, 'max_depth': 584}.\n",
      "[I 2019-03-13 20:55:52,036] Finished a trial resulted in value: 0.3738572928133543. Current best value is 0.3490936466548886 with parameters: {'n_estimators': 65, 'num_leaves': 66, 'colsample_bytree': 0.82390485408849, 'learning_rate': 0.10274985481566598, 'max_depth': 584}.\n",
      "[I 2019-03-13 20:55:52,143] Finished a trial resulted in value: 0.5309365789924786. Current best value is 0.3490936466548886 with parameters: {'n_estimators': 65, 'num_leaves': 66, 'colsample_bytree': 0.82390485408849, 'learning_rate': 0.10274985481566598, 'max_depth': 584}.\n",
      "[I 2019-03-13 20:55:52,377] Finished a trial resulted in value: 0.3686987267569734. Current best value is 0.3490936466548886 with parameters: {'n_estimators': 65, 'num_leaves': 66, 'colsample_bytree': 0.82390485408849, 'learning_rate': 0.10274985481566598, 'max_depth': 584}.\n",
      "[I 2019-03-13 20:55:52,574] Finished a trial resulted in value: 0.659112030340092. Current best value is 0.3490936466548886 with parameters: {'n_estimators': 65, 'num_leaves': 66, 'colsample_bytree': 0.82390485408849, 'learning_rate': 0.10274985481566598, 'max_depth': 584}.\n",
      "[I 2019-03-13 20:55:52,804] Finished a trial resulted in value: 0.4465590644637963. Current best value is 0.3490936466548886 with parameters: {'n_estimators': 65, 'num_leaves': 66, 'colsample_bytree': 0.82390485408849, 'learning_rate': 0.10274985481566598, 'max_depth': 584}.\n",
      "[I 2019-03-13 20:55:52,973] Finished a trial resulted in value: 0.5166657071065333. Current best value is 0.3490936466548886 with parameters: {'n_estimators': 65, 'num_leaves': 66, 'colsample_bytree': 0.82390485408849, 'learning_rate': 0.10274985481566598, 'max_depth': 584}.\n",
      "[I 2019-03-13 20:55:53,371] Finished a trial resulted in value: 1.157335996598546. Current best value is 0.3490936466548886 with parameters: {'n_estimators': 65, 'num_leaves': 66, 'colsample_bytree': 0.82390485408849, 'learning_rate': 0.10274985481566598, 'max_depth': 584}.\n",
      "[I 2019-03-13 20:55:53,796] Finished a trial resulted in value: 0.7711595751345761. Current best value is 0.3490936466548886 with parameters: {'n_estimators': 65, 'num_leaves': 66, 'colsample_bytree': 0.82390485408849, 'learning_rate': 0.10274985481566598, 'max_depth': 584}.\n",
      "[I 2019-03-13 20:55:54,364] Finished a trial resulted in value: 0.3943577850772014. Current best value is 0.3490936466548886 with parameters: {'n_estimators': 65, 'num_leaves': 66, 'colsample_bytree': 0.82390485408849, 'learning_rate': 0.10274985481566598, 'max_depth': 584}.\n",
      "[I 2019-03-13 20:55:54,621] Finished a trial resulted in value: 0.3924814066156377. Current best value is 0.3490936466548886 with parameters: {'n_estimators': 65, 'num_leaves': 66, 'colsample_bytree': 0.82390485408849, 'learning_rate': 0.10274985481566598, 'max_depth': 584}.\n",
      "[I 2019-03-13 20:55:56,232] Finished a trial resulted in value: 0.43650125581820104. Current best value is 0.3490936466548886 with parameters: {'n_estimators': 65, 'num_leaves': 66, 'colsample_bytree': 0.82390485408849, 'learning_rate': 0.10274985481566598, 'max_depth': 584}.\n",
      "[I 2019-03-13 20:55:59,400] Finished a trial resulted in value: 0.47031785959704103. Current best value is 0.3490936466548886 with parameters: {'n_estimators': 65, 'num_leaves': 66, 'colsample_bytree': 0.82390485408849, 'learning_rate': 0.10274985481566598, 'max_depth': 584}.\n",
      "[I 2019-03-13 20:55:59,625] Finished a trial resulted in value: 0.41760437218434876. Current best value is 0.3490936466548886 with parameters: {'n_estimators': 65, 'num_leaves': 66, 'colsample_bytree': 0.82390485408849, 'learning_rate': 0.10274985481566598, 'max_depth': 584}.\n",
      "[I 2019-03-13 20:56:00,662] Finished a trial resulted in value: 0.3520416281434952. Current best value is 0.3490936466548886 with parameters: {'n_estimators': 65, 'num_leaves': 66, 'colsample_bytree': 0.82390485408849, 'learning_rate': 0.10274985481566598, 'max_depth': 584}.\n",
      "[I 2019-03-13 20:56:03,010] Finished a trial resulted in value: 1.0837067803947014. Current best value is 0.3490936466548886 with parameters: {'n_estimators': 65, 'num_leaves': 66, 'colsample_bytree': 0.82390485408849, 'learning_rate': 0.10274985481566598, 'max_depth': 584}.\n",
      "[I 2019-03-13 20:56:03,583] Finished a trial resulted in value: 0.9163034400493227. Current best value is 0.3490936466548886 with parameters: {'n_estimators': 65, 'num_leaves': 66, 'colsample_bytree': 0.82390485408849, 'learning_rate': 0.10274985481566598, 'max_depth': 584}.\n",
      "[I 2019-03-13 20:56:04,021] Finished a trial resulted in value: 0.9249083381007409. Current best value is 0.3490936466548886 with parameters: {'n_estimators': 65, 'num_leaves': 66, 'colsample_bytree': 0.82390485408849, 'learning_rate': 0.10274985481566598, 'max_depth': 584}.\n",
      "[I 2019-03-13 20:56:04,783] Finished a trial resulted in value: 0.39074090627947505. Current best value is 0.3490936466548886 with parameters: {'n_estimators': 65, 'num_leaves': 66, 'colsample_bytree': 0.82390485408849, 'learning_rate': 0.10274985481566598, 'max_depth': 584}.\n",
      "[I 2019-03-13 20:56:06,266] Finished a trial resulted in value: 0.3861457297689516. Current best value is 0.3490936466548886 with parameters: {'n_estimators': 65, 'num_leaves': 66, 'colsample_bytree': 0.82390485408849, 'learning_rate': 0.10274985481566598, 'max_depth': 584}.\n",
      "[I 2019-03-13 20:56:07,169] Finished a trial resulted in value: 0.40132011589129246. Current best value is 0.3490936466548886 with parameters: {'n_estimators': 65, 'num_leaves': 66, 'colsample_bytree': 0.82390485408849, 'learning_rate': 0.10274985481566598, 'max_depth': 584}.\n",
      "[I 2019-03-13 20:56:08,265] Finished a trial resulted in value: 0.8854836235082186. Current best value is 0.3490936466548886 with parameters: {'n_estimators': 65, 'num_leaves': 66, 'colsample_bytree': 0.82390485408849, 'learning_rate': 0.10274985481566598, 'max_depth': 584}.\n",
      "[I 2019-03-13 20:56:08,807] Finished a trial resulted in value: 0.42370234138826973. Current best value is 0.3490936466548886 with parameters: {'n_estimators': 65, 'num_leaves': 66, 'colsample_bytree': 0.82390485408849, 'learning_rate': 0.10274985481566598, 'max_depth': 584}.\n",
      "[I 2019-03-13 20:56:10,523] Finished a trial resulted in value: 0.35093263824177023. Current best value is 0.3490936466548886 with parameters: {'n_estimators': 65, 'num_leaves': 66, 'colsample_bytree': 0.82390485408849, 'learning_rate': 0.10274985481566598, 'max_depth': 584}.\n",
      "[I 2019-03-13 20:56:11,228] Finished a trial resulted in value: 0.48096884039860316. Current best value is 0.3490936466548886 with parameters: {'n_estimators': 65, 'num_leaves': 66, 'colsample_bytree': 0.82390485408849, 'learning_rate': 0.10274985481566598, 'max_depth': 584}.\n",
      "[I 2019-03-13 20:56:12,357] Finished a trial resulted in value: 0.4070733536512888. Current best value is 0.3490936466548886 with parameters: {'n_estimators': 65, 'num_leaves': 66, 'colsample_bytree': 0.82390485408849, 'learning_rate': 0.10274985481566598, 'max_depth': 584}.\n",
      "[I 2019-03-13 20:56:12,687] Finished a trial resulted in value: 0.3586451081782743. Current best value is 0.3490936466548886 with parameters: {'n_estimators': 65, 'num_leaves': 66, 'colsample_bytree': 0.82390485408849, 'learning_rate': 0.10274985481566598, 'max_depth': 584}.\n",
      "[I 2019-03-13 20:56:12,988] Finished a trial resulted in value: 0.3860275853650911. Current best value is 0.3490936466548886 with parameters: {'n_estimators': 65, 'num_leaves': 66, 'colsample_bytree': 0.82390485408849, 'learning_rate': 0.10274985481566598, 'max_depth': 584}.\n"
     ]
    },
    {
     "name": "stderr",
     "output_type": "stream",
     "text": [
      "[I 2019-03-13 20:56:13,255] Finished a trial resulted in value: 0.3497118779278401. Current best value is 0.3490936466548886 with parameters: {'n_estimators': 65, 'num_leaves': 66, 'colsample_bytree': 0.82390485408849, 'learning_rate': 0.10274985481566598, 'max_depth': 584}.\n",
      "[I 2019-03-13 20:56:13,401] Finished a trial resulted in value: 0.4777541317476401. Current best value is 0.3490936466548886 with parameters: {'n_estimators': 65, 'num_leaves': 66, 'colsample_bytree': 0.82390485408849, 'learning_rate': 0.10274985481566598, 'max_depth': 584}.\n",
      "[I 2019-03-13 20:56:14,279] Finished a trial resulted in value: 0.35023409105931824. Current best value is 0.3490936466548886 with parameters: {'n_estimators': 65, 'num_leaves': 66, 'colsample_bytree': 0.82390485408849, 'learning_rate': 0.10274985481566598, 'max_depth': 584}.\n",
      "[I 2019-03-13 20:56:14,393] Finished a trial resulted in value: 0.45664819151241814. Current best value is 0.3490936466548886 with parameters: {'n_estimators': 65, 'num_leaves': 66, 'colsample_bytree': 0.82390485408849, 'learning_rate': 0.10274985481566598, 'max_depth': 584}.\n",
      "[I 2019-03-13 20:56:14,526] Finished a trial resulted in value: 0.5430243258189092. Current best value is 0.3490936466548886 with parameters: {'n_estimators': 65, 'num_leaves': 66, 'colsample_bytree': 0.82390485408849, 'learning_rate': 0.10274985481566598, 'max_depth': 584}.\n",
      "[I 2019-03-13 20:56:14,817] Finished a trial resulted in value: 0.39843817120356156. Current best value is 0.3490936466548886 with parameters: {'n_estimators': 65, 'num_leaves': 66, 'colsample_bytree': 0.82390485408849, 'learning_rate': 0.10274985481566598, 'max_depth': 584}.\n",
      "[I 2019-03-13 20:56:15,110] Finished a trial resulted in value: 0.498276669919336. Current best value is 0.3490936466548886 with parameters: {'n_estimators': 65, 'num_leaves': 66, 'colsample_bytree': 0.82390485408849, 'learning_rate': 0.10274985481566598, 'max_depth': 584}.\n",
      "[I 2019-03-13 20:56:15,404] Finished a trial resulted in value: 0.5065532347022499. Current best value is 0.3490936466548886 with parameters: {'n_estimators': 65, 'num_leaves': 66, 'colsample_bytree': 0.82390485408849, 'learning_rate': 0.10274985481566598, 'max_depth': 584}.\n",
      "[I 2019-03-13 20:56:15,813] Finished a trial resulted in value: 0.4204495634995834. Current best value is 0.3490936466548886 with parameters: {'n_estimators': 65, 'num_leaves': 66, 'colsample_bytree': 0.82390485408849, 'learning_rate': 0.10274985481566598, 'max_depth': 584}.\n",
      "[I 2019-03-13 20:56:16,003] Finished a trial resulted in value: 0.6789817262939651. Current best value is 0.3490936466548886 with parameters: {'n_estimators': 65, 'num_leaves': 66, 'colsample_bytree': 0.82390485408849, 'learning_rate': 0.10274985481566598, 'max_depth': 584}.\n",
      "[I 2019-03-13 20:56:16,189] Finished a trial resulted in value: 0.5672018363137692. Current best value is 0.3490936466548886 with parameters: {'n_estimators': 65, 'num_leaves': 66, 'colsample_bytree': 0.82390485408849, 'learning_rate': 0.10274985481566598, 'max_depth': 584}.\n",
      "[I 2019-03-13 20:56:16,360] Finished a trial resulted in value: 0.48502976873237086. Current best value is 0.3490936466548886 with parameters: {'n_estimators': 65, 'num_leaves': 66, 'colsample_bytree': 0.82390485408849, 'learning_rate': 0.10274985481566598, 'max_depth': 584}.\n",
      "[I 2019-03-13 20:56:17,179] Finished a trial resulted in value: 1.0635166411700654. Current best value is 0.3490936466548886 with parameters: {'n_estimators': 65, 'num_leaves': 66, 'colsample_bytree': 0.82390485408849, 'learning_rate': 0.10274985481566598, 'max_depth': 584}.\n",
      "[I 2019-03-13 20:56:17,310] Finished a trial resulted in value: 1.1737057891338072. Current best value is 0.3490936466548886 with parameters: {'n_estimators': 65, 'num_leaves': 66, 'colsample_bytree': 0.82390485408849, 'learning_rate': 0.10274985481566598, 'max_depth': 584}.\n",
      "[I 2019-03-13 20:56:17,466] Finished a trial resulted in value: 0.47838723365356495. Current best value is 0.3490936466548886 with parameters: {'n_estimators': 65, 'num_leaves': 66, 'colsample_bytree': 0.82390485408849, 'learning_rate': 0.10274985481566598, 'max_depth': 584}.\n",
      "[I 2019-03-13 20:56:18,299] Finished a trial resulted in value: 0.3793359992086419. Current best value is 0.3490936466548886 with parameters: {'n_estimators': 65, 'num_leaves': 66, 'colsample_bytree': 0.82390485408849, 'learning_rate': 0.10274985481566598, 'max_depth': 584}.\n",
      "[I 2019-03-13 20:56:18,777] Finished a trial resulted in value: 0.4038497774435871. Current best value is 0.3490936466548886 with parameters: {'n_estimators': 65, 'num_leaves': 66, 'colsample_bytree': 0.82390485408849, 'learning_rate': 0.10274985481566598, 'max_depth': 584}.\n",
      "[I 2019-03-13 20:56:18,920] Finished a trial resulted in value: 0.45610504327534773. Current best value is 0.3490936466548886 with parameters: {'n_estimators': 65, 'num_leaves': 66, 'colsample_bytree': 0.82390485408849, 'learning_rate': 0.10274985481566598, 'max_depth': 584}.\n",
      "[I 2019-03-13 20:56:19,379] Finished a trial resulted in value: 0.7047960771433863. Current best value is 0.3490936466548886 with parameters: {'n_estimators': 65, 'num_leaves': 66, 'colsample_bytree': 0.82390485408849, 'learning_rate': 0.10274985481566598, 'max_depth': 584}.\n",
      "[I 2019-03-13 20:56:20,179] Finished a trial resulted in value: 0.3728218286692462. Current best value is 0.3490936466548886 with parameters: {'n_estimators': 65, 'num_leaves': 66, 'colsample_bytree': 0.82390485408849, 'learning_rate': 0.10274985481566598, 'max_depth': 584}.\n",
      "[I 2019-03-13 20:56:20,585] Finished a trial resulted in value: 0.7989065342609135. Current best value is 0.3490936466548886 with parameters: {'n_estimators': 65, 'num_leaves': 66, 'colsample_bytree': 0.82390485408849, 'learning_rate': 0.10274985481566598, 'max_depth': 584}.\n",
      "[I 2019-03-13 20:56:20,941] Finished a trial resulted in value: 0.3776194286498541. Current best value is 0.3490936466548886 with parameters: {'n_estimators': 65, 'num_leaves': 66, 'colsample_bytree': 0.82390485408849, 'learning_rate': 0.10274985481566598, 'max_depth': 584}.\n",
      "[I 2019-03-13 20:56:21,130] Finished a trial resulted in value: 0.3769345246638993. Current best value is 0.3490936466548886 with parameters: {'n_estimators': 65, 'num_leaves': 66, 'colsample_bytree': 0.82390485408849, 'learning_rate': 0.10274985481566598, 'max_depth': 584}.\n",
      "[I 2019-03-13 20:56:21,269] Finished a trial resulted in value: 0.9795039818728875. Current best value is 0.3490936466548886 with parameters: {'n_estimators': 65, 'num_leaves': 66, 'colsample_bytree': 0.82390485408849, 'learning_rate': 0.10274985481566598, 'max_depth': 584}.\n",
      "[I 2019-03-13 20:56:21,598] Finished a trial resulted in value: 1.1725291965811313. Current best value is 0.3490936466548886 with parameters: {'n_estimators': 65, 'num_leaves': 66, 'colsample_bytree': 0.82390485408849, 'learning_rate': 0.10274985481566598, 'max_depth': 584}.\n",
      "[I 2019-03-13 20:56:21,850] Finished a trial resulted in value: 0.41982954171829406. Current best value is 0.3490936466548886 with parameters: {'n_estimators': 65, 'num_leaves': 66, 'colsample_bytree': 0.82390485408849, 'learning_rate': 0.10274985481566598, 'max_depth': 584}.\n",
      "[I 2019-03-13 20:56:22,083] Finished a trial resulted in value: 0.4208046690744889. Current best value is 0.3490936466548886 with parameters: {'n_estimators': 65, 'num_leaves': 66, 'colsample_bytree': 0.82390485408849, 'learning_rate': 0.10274985481566598, 'max_depth': 584}.\n",
      "[I 2019-03-13 20:56:22,220] Finished a trial resulted in value: 0.5098155346408138. Current best value is 0.3490936466548886 with parameters: {'n_estimators': 65, 'num_leaves': 66, 'colsample_bytree': 0.82390485408849, 'learning_rate': 0.10274985481566598, 'max_depth': 584}.\n",
      "[I 2019-03-13 20:56:22,408] Finished a trial resulted in value: 0.4609436948815197. Current best value is 0.3490936466548886 with parameters: {'n_estimators': 65, 'num_leaves': 66, 'colsample_bytree': 0.82390485408849, 'learning_rate': 0.10274985481566598, 'max_depth': 584}.\n"
     ]
    },
    {
     "name": "stderr",
     "output_type": "stream",
     "text": [
      "[I 2019-03-13 20:56:22,589] Finished a trial resulted in value: 0.36604894388891895. Current best value is 0.3490936466548886 with parameters: {'n_estimators': 65, 'num_leaves': 66, 'colsample_bytree': 0.82390485408849, 'learning_rate': 0.10274985481566598, 'max_depth': 584}.\n",
      "[I 2019-03-13 20:56:22,749] Finished a trial resulted in value: 0.44059216511920596. Current best value is 0.3490936466548886 with parameters: {'n_estimators': 65, 'num_leaves': 66, 'colsample_bytree': 0.82390485408849, 'learning_rate': 0.10274985481566598, 'max_depth': 584}.\n",
      "[I 2019-03-13 20:56:22,976] Finished a trial resulted in value: 0.5394743124626508. Current best value is 0.3490936466548886 with parameters: {'n_estimators': 65, 'num_leaves': 66, 'colsample_bytree': 0.82390485408849, 'learning_rate': 0.10274985481566598, 'max_depth': 584}.\n",
      "[I 2019-03-13 20:56:23,191] Finished a trial resulted in value: 0.4111479612160024. Current best value is 0.3490936466548886 with parameters: {'n_estimators': 65, 'num_leaves': 66, 'colsample_bytree': 0.82390485408849, 'learning_rate': 0.10274985481566598, 'max_depth': 584}.\n",
      "[I 2019-03-13 20:56:23,385] Finished a trial resulted in value: 0.35486165061978475. Current best value is 0.3490936466548886 with parameters: {'n_estimators': 65, 'num_leaves': 66, 'colsample_bytree': 0.82390485408849, 'learning_rate': 0.10274985481566598, 'max_depth': 584}.\n",
      "[I 2019-03-13 20:56:23,574] Finished a trial resulted in value: 0.38236443454755464. Current best value is 0.3490936466548886 with parameters: {'n_estimators': 65, 'num_leaves': 66, 'colsample_bytree': 0.82390485408849, 'learning_rate': 0.10274985481566598, 'max_depth': 584}.\n",
      "[I 2019-03-13 20:56:23,802] Finished a trial resulted in value: 0.3802903156787271. Current best value is 0.3490936466548886 with parameters: {'n_estimators': 65, 'num_leaves': 66, 'colsample_bytree': 0.82390485408849, 'learning_rate': 0.10274985481566598, 'max_depth': 584}.\n",
      "[I 2019-03-13 20:56:23,957] Finished a trial resulted in value: 0.43970322403227596. Current best value is 0.3490936466548886 with parameters: {'n_estimators': 65, 'num_leaves': 66, 'colsample_bytree': 0.82390485408849, 'learning_rate': 0.10274985481566598, 'max_depth': 584}.\n",
      "[I 2019-03-13 20:56:24,163] Finished a trial resulted in value: 0.38644953666460335. Current best value is 0.3490936466548886 with parameters: {'n_estimators': 65, 'num_leaves': 66, 'colsample_bytree': 0.82390485408849, 'learning_rate': 0.10274985481566598, 'max_depth': 584}.\n",
      "[I 2019-03-13 20:56:24,477] Finished a trial resulted in value: 0.40570375814927534. Current best value is 0.3490936466548886 with parameters: {'n_estimators': 65, 'num_leaves': 66, 'colsample_bytree': 0.82390485408849, 'learning_rate': 0.10274985481566598, 'max_depth': 584}.\n",
      "[I 2019-03-13 20:56:24,622] Finished a trial resulted in value: 0.37143761778408496. Current best value is 0.3490936466548886 with parameters: {'n_estimators': 65, 'num_leaves': 66, 'colsample_bytree': 0.82390485408849, 'learning_rate': 0.10274985481566598, 'max_depth': 584}.\n",
      "[I 2019-03-13 20:56:24,867] Finished a trial resulted in value: 0.42141339020999674. Current best value is 0.3490936466548886 with parameters: {'n_estimators': 65, 'num_leaves': 66, 'colsample_bytree': 0.82390485408849, 'learning_rate': 0.10274985481566598, 'max_depth': 584}.\n",
      "[I 2019-03-13 20:56:25,072] Finished a trial resulted in value: 0.4179525331663575. Current best value is 0.3490936466548886 with parameters: {'n_estimators': 65, 'num_leaves': 66, 'colsample_bytree': 0.82390485408849, 'learning_rate': 0.10274985481566598, 'max_depth': 584}.\n",
      "[I 2019-03-13 20:56:25,201] Finished a trial resulted in value: 0.4923184150722583. Current best value is 0.3490936466548886 with parameters: {'n_estimators': 65, 'num_leaves': 66, 'colsample_bytree': 0.82390485408849, 'learning_rate': 0.10274985481566598, 'max_depth': 584}.\n",
      "[I 2019-03-13 20:56:25,367] Finished a trial resulted in value: 0.48170374442458325. Current best value is 0.3490936466548886 with parameters: {'n_estimators': 65, 'num_leaves': 66, 'colsample_bytree': 0.82390485408849, 'learning_rate': 0.10274985481566598, 'max_depth': 584}.\n",
      "[I 2019-03-13 20:56:25,735] Finished a trial resulted in value: 0.3829674342854856. Current best value is 0.3490936466548886 with parameters: {'n_estimators': 65, 'num_leaves': 66, 'colsample_bytree': 0.82390485408849, 'learning_rate': 0.10274985481566598, 'max_depth': 584}.\n",
      "[I 2019-03-13 20:56:25,865] Finished a trial resulted in value: 0.6989892299841943. Current best value is 0.3490936466548886 with parameters: {'n_estimators': 65, 'num_leaves': 66, 'colsample_bytree': 0.82390485408849, 'learning_rate': 0.10274985481566598, 'max_depth': 584}.\n",
      "[I 2019-03-13 20:56:26,117] Finished a trial resulted in value: 0.40112644132232234. Current best value is 0.3490936466548886 with parameters: {'n_estimators': 65, 'num_leaves': 66, 'colsample_bytree': 0.82390485408849, 'learning_rate': 0.10274985481566598, 'max_depth': 584}.\n",
      "[I 2019-03-13 20:56:26,289] Finished a trial resulted in value: 0.5315160419063172. Current best value is 0.3490936466548886 with parameters: {'n_estimators': 65, 'num_leaves': 66, 'colsample_bytree': 0.82390485408849, 'learning_rate': 0.10274985481566598, 'max_depth': 584}.\n",
      "[I 2019-03-13 20:56:26,588] Finished a trial resulted in value: 0.3765047394780431. Current best value is 0.3490936466548886 with parameters: {'n_estimators': 65, 'num_leaves': 66, 'colsample_bytree': 0.82390485408849, 'learning_rate': 0.10274985481566598, 'max_depth': 584}.\n",
      "[I 2019-03-13 20:56:26,787] Finished a trial resulted in value: 0.4608637249740092. Current best value is 0.3490936466548886 with parameters: {'n_estimators': 65, 'num_leaves': 66, 'colsample_bytree': 0.82390485408849, 'learning_rate': 0.10274985481566598, 'max_depth': 584}.\n",
      "[I 2019-03-13 20:56:27,044] Finished a trial resulted in value: 0.4480684835197602. Current best value is 0.3490936466548886 with parameters: {'n_estimators': 65, 'num_leaves': 66, 'colsample_bytree': 0.82390485408849, 'learning_rate': 0.10274985481566598, 'max_depth': 584}.\n",
      "[I 2019-03-13 20:56:27,401] Finished a trial resulted in value: 0.3584804900460714. Current best value is 0.3490936466548886 with parameters: {'n_estimators': 65, 'num_leaves': 66, 'colsample_bytree': 0.82390485408849, 'learning_rate': 0.10274985481566598, 'max_depth': 584}.\n",
      "[I 2019-03-13 20:56:27,645] Finished a trial resulted in value: 0.39702052400219173. Current best value is 0.3490936466548886 with parameters: {'n_estimators': 65, 'num_leaves': 66, 'colsample_bytree': 0.82390485408849, 'learning_rate': 0.10274985481566598, 'max_depth': 584}.\n",
      "[I 2019-03-13 20:56:27,812] Finished a trial resulted in value: 0.4266701137653122. Current best value is 0.3490936466548886 with parameters: {'n_estimators': 65, 'num_leaves': 66, 'colsample_bytree': 0.82390485408849, 'learning_rate': 0.10274985481566598, 'max_depth': 584}.\n",
      "[I 2019-03-13 20:56:27,991] Finished a trial resulted in value: 0.7828079813772041. Current best value is 0.3490936466548886 with parameters: {'n_estimators': 65, 'num_leaves': 66, 'colsample_bytree': 0.82390485408849, 'learning_rate': 0.10274985481566598, 'max_depth': 584}.\n",
      "[I 2019-03-13 20:56:28,231] Finished a trial resulted in value: 0.3954364174912806. Current best value is 0.3490936466548886 with parameters: {'n_estimators': 65, 'num_leaves': 66, 'colsample_bytree': 0.82390485408849, 'learning_rate': 0.10274985481566598, 'max_depth': 584}.\n",
      "[I 2019-03-13 20:56:28,446] Finished a trial resulted in value: 0.3625668754930256. Current best value is 0.3490936466548886 with parameters: {'n_estimators': 65, 'num_leaves': 66, 'colsample_bytree': 0.82390485408849, 'learning_rate': 0.10274985481566598, 'max_depth': 584}.\n",
      "[I 2019-03-13 20:56:28,854] Finished a trial resulted in value: 0.39289835182215604. Current best value is 0.3490936466548886 with parameters: {'n_estimators': 65, 'num_leaves': 66, 'colsample_bytree': 0.82390485408849, 'learning_rate': 0.10274985481566598, 'max_depth': 584}.\n"
     ]
    },
    {
     "name": "stderr",
     "output_type": "stream",
     "text": [
      "[I 2019-03-13 20:56:29,066] Finished a trial resulted in value: 0.5313134300744089. Current best value is 0.3490936466548886 with parameters: {'n_estimators': 65, 'num_leaves': 66, 'colsample_bytree': 0.82390485408849, 'learning_rate': 0.10274985481566598, 'max_depth': 584}.\n",
      "[I 2019-03-13 20:56:29,284] Finished a trial resulted in value: 1.1329213748463218. Current best value is 0.3490936466548886 with parameters: {'n_estimators': 65, 'num_leaves': 66, 'colsample_bytree': 0.82390485408849, 'learning_rate': 0.10274985481566598, 'max_depth': 584}.\n",
      "[I 2019-03-13 20:56:29,631] Finished a trial resulted in value: 0.6813572317100569. Current best value is 0.3490936466548886 with parameters: {'n_estimators': 65, 'num_leaves': 66, 'colsample_bytree': 0.82390485408849, 'learning_rate': 0.10274985481566598, 'max_depth': 584}.\n",
      "[I 2019-03-13 20:56:29,783] Finished a trial resulted in value: 1.0859578015322215. Current best value is 0.3490936466548886 with parameters: {'n_estimators': 65, 'num_leaves': 66, 'colsample_bytree': 0.82390485408849, 'learning_rate': 0.10274985481566598, 'max_depth': 584}.\n",
      "[I 2019-03-13 20:56:29,967] Finished a trial resulted in value: 0.426371159035557. Current best value is 0.3490936466548886 with parameters: {'n_estimators': 65, 'num_leaves': 66, 'colsample_bytree': 0.82390485408849, 'learning_rate': 0.10274985481566598, 'max_depth': 584}.\n",
      "[I 2019-03-13 20:56:30,230] Finished a trial resulted in value: 0.5510056608748543. Current best value is 0.3490936466548886 with parameters: {'n_estimators': 65, 'num_leaves': 66, 'colsample_bytree': 0.82390485408849, 'learning_rate': 0.10274985481566598, 'max_depth': 584}.\n",
      "[I 2019-03-13 20:56:31,972] Finished a trial resulted in value: 0.3360714885951674. Current best value is 0.3360714885951674 with parameters: {'n_estimators': 85, 'num_leaves': 27, 'colsample_bytree': 0.8816959192073436, 'learning_rate': 0.1526588158335217, 'max_depth': 531}.\n",
      "[I 2019-03-13 20:56:32,452] Finished a trial resulted in value: 0.3866283060940996. Current best value is 0.3360714885951674 with parameters: {'n_estimators': 85, 'num_leaves': 27, 'colsample_bytree': 0.8816959192073436, 'learning_rate': 0.1526588158335217, 'max_depth': 531}.\n",
      "[I 2019-03-13 20:56:32,976] Finished a trial resulted in value: 0.3412189203135522. Current best value is 0.3360714885951674 with parameters: {'n_estimators': 85, 'num_leaves': 27, 'colsample_bytree': 0.8816959192073436, 'learning_rate': 0.1526588158335217, 'max_depth': 531}.\n",
      "[I 2019-03-13 20:56:33,202] Finished a trial resulted in value: 0.4593625225795383. Current best value is 0.3360714885951674 with parameters: {'n_estimators': 85, 'num_leaves': 27, 'colsample_bytree': 0.8816959192073436, 'learning_rate': 0.1526588158335217, 'max_depth': 531}.\n",
      "[I 2019-03-13 20:56:33,438] Finished a trial resulted in value: 0.34091977921613864. Current best value is 0.3360714885951674 with parameters: {'n_estimators': 85, 'num_leaves': 27, 'colsample_bytree': 0.8816959192073436, 'learning_rate': 0.1526588158335217, 'max_depth': 531}.\n",
      "[I 2019-03-13 20:56:33,773] Finished a trial resulted in value: 0.4018625060040512. Current best value is 0.3360714885951674 with parameters: {'n_estimators': 85, 'num_leaves': 27, 'colsample_bytree': 0.8816959192073436, 'learning_rate': 0.1526588158335217, 'max_depth': 531}.\n",
      "[I 2019-03-13 20:56:34,152] Finished a trial resulted in value: 0.4465430015115633. Current best value is 0.3360714885951674 with parameters: {'n_estimators': 85, 'num_leaves': 27, 'colsample_bytree': 0.8816959192073436, 'learning_rate': 0.1526588158335217, 'max_depth': 531}.\n",
      "[I 2019-03-13 20:56:34,336] Finished a trial resulted in value: 0.6994423574309552. Current best value is 0.3360714885951674 with parameters: {'n_estimators': 85, 'num_leaves': 27, 'colsample_bytree': 0.8816959192073436, 'learning_rate': 0.1526588158335217, 'max_depth': 531}.\n",
      "[I 2019-03-13 20:56:34,608] Finished a trial resulted in value: 0.3798530587179625. Current best value is 0.3360714885951674 with parameters: {'n_estimators': 85, 'num_leaves': 27, 'colsample_bytree': 0.8816959192073436, 'learning_rate': 0.1526588158335217, 'max_depth': 531}.\n",
      "[I 2019-03-13 20:56:34,775] Finished a trial resulted in value: 0.5284090340142709. Current best value is 0.3360714885951674 with parameters: {'n_estimators': 85, 'num_leaves': 27, 'colsample_bytree': 0.8816959192073436, 'learning_rate': 0.1526588158335217, 'max_depth': 531}.\n",
      "[I 2019-03-13 20:56:35,046] Finished a trial resulted in value: 0.6570930293302746. Current best value is 0.3360714885951674 with parameters: {'n_estimators': 85, 'num_leaves': 27, 'colsample_bytree': 0.8816959192073436, 'learning_rate': 0.1526588158335217, 'max_depth': 531}.\n",
      "[I 2019-03-13 20:56:35,630] Finished a trial resulted in value: 0.47951364309408556. Current best value is 0.3360714885951674 with parameters: {'n_estimators': 85, 'num_leaves': 27, 'colsample_bytree': 0.8816959192073436, 'learning_rate': 0.1526588158335217, 'max_depth': 531}.\n",
      "[I 2019-03-13 20:56:35,947] Finished a trial resulted in value: 0.7398200921555469. Current best value is 0.3360714885951674 with parameters: {'n_estimators': 85, 'num_leaves': 27, 'colsample_bytree': 0.8816959192073436, 'learning_rate': 0.1526588158335217, 'max_depth': 531}.\n",
      "[I 2019-03-13 20:56:36,196] Finished a trial resulted in value: 0.40062771380036033. Current best value is 0.3360714885951674 with parameters: {'n_estimators': 85, 'num_leaves': 27, 'colsample_bytree': 0.8816959192073436, 'learning_rate': 0.1526588158335217, 'max_depth': 531}.\n",
      "[I 2019-03-13 20:56:36,714] Finished a trial resulted in value: 0.39975824731896453. Current best value is 0.3360714885951674 with parameters: {'n_estimators': 85, 'num_leaves': 27, 'colsample_bytree': 0.8816959192073436, 'learning_rate': 0.1526588158335217, 'max_depth': 531}.\n",
      "[I 2019-03-13 20:56:37,077] Finished a trial resulted in value: 0.4291205333950217. Current best value is 0.3360714885951674 with parameters: {'n_estimators': 85, 'num_leaves': 27, 'colsample_bytree': 0.8816959192073436, 'learning_rate': 0.1526588158335217, 'max_depth': 531}.\n",
      "[I 2019-03-13 20:56:37,299] Finished a trial resulted in value: 0.36886914727610337. Current best value is 0.3360714885951674 with parameters: {'n_estimators': 85, 'num_leaves': 27, 'colsample_bytree': 0.8816959192073436, 'learning_rate': 0.1526588158335217, 'max_depth': 531}.\n",
      "[I 2019-03-13 20:56:37,503] Finished a trial resulted in value: 0.506530206161465. Current best value is 0.3360714885951674 with parameters: {'n_estimators': 85, 'num_leaves': 27, 'colsample_bytree': 0.8816959192073436, 'learning_rate': 0.1526588158335217, 'max_depth': 531}.\n",
      "[I 2019-03-13 20:56:37,758] Finished a trial resulted in value: 0.44117885724776335. Current best value is 0.3360714885951674 with parameters: {'n_estimators': 85, 'num_leaves': 27, 'colsample_bytree': 0.8816959192073436, 'learning_rate': 0.1526588158335217, 'max_depth': 531}.\n",
      "[I 2019-03-13 20:56:38,237] Finished a trial resulted in value: 0.5881220518057354. Current best value is 0.3360714885951674 with parameters: {'n_estimators': 85, 'num_leaves': 27, 'colsample_bytree': 0.8816959192073436, 'learning_rate': 0.1526588158335217, 'max_depth': 531}.\n",
      "[I 2019-03-13 20:56:38,557] Finished a trial resulted in value: 0.42605859724007955. Current best value is 0.3360714885951674 with parameters: {'n_estimators': 85, 'num_leaves': 27, 'colsample_bytree': 0.8816959192073436, 'learning_rate': 0.1526588158335217, 'max_depth': 531}.\n",
      "[I 2019-03-13 20:56:39,196] Finished a trial resulted in value: 0.35710306198249364. Current best value is 0.3360714885951674 with parameters: {'n_estimators': 85, 'num_leaves': 27, 'colsample_bytree': 0.8816959192073436, 'learning_rate': 0.1526588158335217, 'max_depth': 531}.\n",
      "[I 2019-03-13 20:56:39,462] Finished a trial resulted in value: 0.4288740048093941. Current best value is 0.3360714885951674 with parameters: {'n_estimators': 85, 'num_leaves': 27, 'colsample_bytree': 0.8816959192073436, 'learning_rate': 0.1526588158335217, 'max_depth': 531}.\n"
     ]
    },
    {
     "name": "stderr",
     "output_type": "stream",
     "text": [
      "[I 2019-03-13 20:56:39,810] Finished a trial resulted in value: 0.35600354757979386. Current best value is 0.3360714885951674 with parameters: {'n_estimators': 85, 'num_leaves': 27, 'colsample_bytree': 0.8816959192073436, 'learning_rate': 0.1526588158335217, 'max_depth': 531}.\n",
      "[I 2019-03-13 20:56:40,598] Finished a trial resulted in value: 0.5641751073390242. Current best value is 0.3360714885951674 with parameters: {'n_estimators': 85, 'num_leaves': 27, 'colsample_bytree': 0.8816959192073436, 'learning_rate': 0.1526588158335217, 'max_depth': 531}.\n",
      "[I 2019-03-13 20:56:40,874] Finished a trial resulted in value: 0.3952044934861316. Current best value is 0.3360714885951674 with parameters: {'n_estimators': 85, 'num_leaves': 27, 'colsample_bytree': 0.8816959192073436, 'learning_rate': 0.1526588158335217, 'max_depth': 531}.\n",
      "[I 2019-03-13 20:56:41,172] Finished a trial resulted in value: 0.8597368356509562. Current best value is 0.3360714885951674 with parameters: {'n_estimators': 85, 'num_leaves': 27, 'colsample_bytree': 0.8816959192073436, 'learning_rate': 0.1526588158335217, 'max_depth': 531}.\n",
      "[I 2019-03-13 20:56:41,523] Finished a trial resulted in value: 0.386219525599636. Current best value is 0.3360714885951674 with parameters: {'n_estimators': 85, 'num_leaves': 27, 'colsample_bytree': 0.8816959192073436, 'learning_rate': 0.1526588158335217, 'max_depth': 531}.\n",
      "[I 2019-03-13 20:56:42,157] Finished a trial resulted in value: 0.37766032383589365. Current best value is 0.3360714885951674 with parameters: {'n_estimators': 85, 'num_leaves': 27, 'colsample_bytree': 0.8816959192073436, 'learning_rate': 0.1526588158335217, 'max_depth': 531}.\n",
      "[I 2019-03-13 20:56:42,501] Finished a trial resulted in value: 0.9202705109782643. Current best value is 0.3360714885951674 with parameters: {'n_estimators': 85, 'num_leaves': 27, 'colsample_bytree': 0.8816959192073436, 'learning_rate': 0.1526588158335217, 'max_depth': 531}.\n",
      "[I 2019-03-13 20:56:42,697] Finished a trial resulted in value: 0.6439969908672499. Current best value is 0.3360714885951674 with parameters: {'n_estimators': 85, 'num_leaves': 27, 'colsample_bytree': 0.8816959192073436, 'learning_rate': 0.1526588158335217, 'max_depth': 531}.\n",
      "[I 2019-03-13 20:56:43,167] Finished a trial resulted in value: 0.3588262854440182. Current best value is 0.3360714885951674 with parameters: {'n_estimators': 85, 'num_leaves': 27, 'colsample_bytree': 0.8816959192073436, 'learning_rate': 0.1526588158335217, 'max_depth': 531}.\n",
      "[I 2019-03-13 20:56:43,905] Finished a trial resulted in value: 0.3479174137538821. Current best value is 0.3360714885951674 with parameters: {'n_estimators': 85, 'num_leaves': 27, 'colsample_bytree': 0.8816959192073436, 'learning_rate': 0.1526588158335217, 'max_depth': 531}.\n",
      "[I 2019-03-13 20:56:44,327] Finished a trial resulted in value: 0.3532187014926932. Current best value is 0.3360714885951674 with parameters: {'n_estimators': 85, 'num_leaves': 27, 'colsample_bytree': 0.8816959192073436, 'learning_rate': 0.1526588158335217, 'max_depth': 531}.\n",
      "[I 2019-03-13 20:56:44,641] Finished a trial resulted in value: 0.38057415213987766. Current best value is 0.3360714885951674 with parameters: {'n_estimators': 85, 'num_leaves': 27, 'colsample_bytree': 0.8816959192073436, 'learning_rate': 0.1526588158335217, 'max_depth': 531}.\n",
      "[I 2019-03-13 20:56:45,034] Finished a trial resulted in value: 0.3416699637624807. Current best value is 0.3360714885951674 with parameters: {'n_estimators': 85, 'num_leaves': 27, 'colsample_bytree': 0.8816959192073436, 'learning_rate': 0.1526588158335217, 'max_depth': 531}.\n",
      "[I 2019-03-13 20:56:46,206] Finished a trial resulted in value: 0.3427460078363203. Current best value is 0.3360714885951674 with parameters: {'n_estimators': 85, 'num_leaves': 27, 'colsample_bytree': 0.8816959192073436, 'learning_rate': 0.1526588158335217, 'max_depth': 531}.\n",
      "[I 2019-03-13 20:56:46,428] Finished a trial resulted in value: 0.3476734808292858. Current best value is 0.3360714885951674 with parameters: {'n_estimators': 85, 'num_leaves': 27, 'colsample_bytree': 0.8816959192073436, 'learning_rate': 0.1526588158335217, 'max_depth': 531}.\n",
      "[I 2019-03-13 20:56:46,922] Finished a trial resulted in value: 0.3414554412307698. Current best value is 0.3360714885951674 with parameters: {'n_estimators': 85, 'num_leaves': 27, 'colsample_bytree': 0.8816959192073436, 'learning_rate': 0.1526588158335217, 'max_depth': 531}.\n",
      "[I 2019-03-13 20:56:47,272] Finished a trial resulted in value: 0.3450703037912538. Current best value is 0.3360714885951674 with parameters: {'n_estimators': 85, 'num_leaves': 27, 'colsample_bytree': 0.8816959192073436, 'learning_rate': 0.1526588158335217, 'max_depth': 531}.\n",
      "[I 2019-03-13 20:56:47,804] Finished a trial resulted in value: 0.3364475961241629. Current best value is 0.3360714885951674 with parameters: {'n_estimators': 85, 'num_leaves': 27, 'colsample_bytree': 0.8816959192073436, 'learning_rate': 0.1526588158335217, 'max_depth': 531}.\n",
      "[I 2019-03-13 20:56:48,114] Finished a trial resulted in value: 0.3850666786700787. Current best value is 0.3360714885951674 with parameters: {'n_estimators': 85, 'num_leaves': 27, 'colsample_bytree': 0.8816959192073436, 'learning_rate': 0.1526588158335217, 'max_depth': 531}.\n",
      "[I 2019-03-13 20:56:48,357] Finished a trial resulted in value: 0.43452778778087425. Current best value is 0.3360714885951674 with parameters: {'n_estimators': 85, 'num_leaves': 27, 'colsample_bytree': 0.8816959192073436, 'learning_rate': 0.1526588158335217, 'max_depth': 531}.\n",
      "[I 2019-03-13 20:56:48,549] Finished a trial resulted in value: 0.4910010238182717. Current best value is 0.3360714885951674 with parameters: {'n_estimators': 85, 'num_leaves': 27, 'colsample_bytree': 0.8816959192073436, 'learning_rate': 0.1526588158335217, 'max_depth': 531}.\n",
      "[I 2019-03-13 20:56:48,781] Finished a trial resulted in value: 1.1353163503782553. Current best value is 0.3360714885951674 with parameters: {'n_estimators': 85, 'num_leaves': 27, 'colsample_bytree': 0.8816959192073436, 'learning_rate': 0.1526588158335217, 'max_depth': 531}.\n",
      "[I 2019-03-13 20:56:49,012] Finished a trial resulted in value: 0.35893456590049394. Current best value is 0.3360714885951674 with parameters: {'n_estimators': 85, 'num_leaves': 27, 'colsample_bytree': 0.8816959192073436, 'learning_rate': 0.1526588158335217, 'max_depth': 531}.\n",
      "[I 2019-03-13 20:56:49,286] Finished a trial resulted in value: 0.39829492088183144. Current best value is 0.3360714885951674 with parameters: {'n_estimators': 85, 'num_leaves': 27, 'colsample_bytree': 0.8816959192073436, 'learning_rate': 0.1526588158335217, 'max_depth': 531}.\n",
      "[I 2019-03-13 20:56:49,660] Finished a trial resulted in value: 0.35512630630670455. Current best value is 0.3360714885951674 with parameters: {'n_estimators': 85, 'num_leaves': 27, 'colsample_bytree': 0.8816959192073436, 'learning_rate': 0.1526588158335217, 'max_depth': 531}.\n",
      "[I 2019-03-13 20:56:49,901] Finished a trial resulted in value: 0.36306302701489085. Current best value is 0.3360714885951674 with parameters: {'n_estimators': 85, 'num_leaves': 27, 'colsample_bytree': 0.8816959192073436, 'learning_rate': 0.1526588158335217, 'max_depth': 531}.\n",
      "[I 2019-03-13 20:56:50,235] Finished a trial resulted in value: 0.3810138759024304. Current best value is 0.3360714885951674 with parameters: {'n_estimators': 85, 'num_leaves': 27, 'colsample_bytree': 0.8816959192073436, 'learning_rate': 0.1526588158335217, 'max_depth': 531}.\n",
      "[I 2019-03-13 20:56:50,624] Finished a trial resulted in value: 0.40348280362129113. Current best value is 0.3360714885951674 with parameters: {'n_estimators': 85, 'num_leaves': 27, 'colsample_bytree': 0.8816959192073436, 'learning_rate': 0.1526588158335217, 'max_depth': 531}.\n",
      "[I 2019-03-13 20:56:51,099] Finished a trial resulted in value: 0.38254153800127055. Current best value is 0.3360714885951674 with parameters: {'n_estimators': 85, 'num_leaves': 27, 'colsample_bytree': 0.8816959192073436, 'learning_rate': 0.1526588158335217, 'max_depth': 531}.\n"
     ]
    },
    {
     "name": "stderr",
     "output_type": "stream",
     "text": [
      "[I 2019-03-13 20:56:51,658] Finished a trial resulted in value: 0.5918493158348788. Current best value is 0.3360714885951674 with parameters: {'n_estimators': 85, 'num_leaves': 27, 'colsample_bytree': 0.8816959192073436, 'learning_rate': 0.1526588158335217, 'max_depth': 531}.\n",
      "[I 2019-03-13 20:56:51,994] Finished a trial resulted in value: 0.5909454771888754. Current best value is 0.3360714885951674 with parameters: {'n_estimators': 85, 'num_leaves': 27, 'colsample_bytree': 0.8816959192073436, 'learning_rate': 0.1526588158335217, 'max_depth': 531}.\n",
      "[I 2019-03-13 20:56:52,343] Finished a trial resulted in value: 1.0882287810871754. Current best value is 0.3360714885951674 with parameters: {'n_estimators': 85, 'num_leaves': 27, 'colsample_bytree': 0.8816959192073436, 'learning_rate': 0.1526588158335217, 'max_depth': 531}.\n",
      "[I 2019-03-13 20:56:52,703] Finished a trial resulted in value: 0.3863903248282353. Current best value is 0.3360714885951674 with parameters: {'n_estimators': 85, 'num_leaves': 27, 'colsample_bytree': 0.8816959192073436, 'learning_rate': 0.1526588158335217, 'max_depth': 531}.\n",
      "[I 2019-03-13 20:56:52,980] Finished a trial resulted in value: 0.4639756555359073. Current best value is 0.3360714885951674 with parameters: {'n_estimators': 85, 'num_leaves': 27, 'colsample_bytree': 0.8816959192073436, 'learning_rate': 0.1526588158335217, 'max_depth': 531}.\n",
      "[I 2019-03-13 20:56:53,184] Finished a trial resulted in value: 0.5041625814385334. Current best value is 0.3360714885951674 with parameters: {'n_estimators': 85, 'num_leaves': 27, 'colsample_bytree': 0.8816959192073436, 'learning_rate': 0.1526588158335217, 'max_depth': 531}.\n",
      "[I 2019-03-13 20:56:53,405] Finished a trial resulted in value: 0.9555779215469327. Current best value is 0.3360714885951674 with parameters: {'n_estimators': 85, 'num_leaves': 27, 'colsample_bytree': 0.8816959192073436, 'learning_rate': 0.1526588158335217, 'max_depth': 531}.\n",
      "[I 2019-03-13 20:56:53,695] Finished a trial resulted in value: 0.37615084989301595. Current best value is 0.3360714885951674 with parameters: {'n_estimators': 85, 'num_leaves': 27, 'colsample_bytree': 0.8816959192073436, 'learning_rate': 0.1526588158335217, 'max_depth': 531}.\n",
      "[I 2019-03-13 20:56:54,092] Finished a trial resulted in value: 0.3645525019335977. Current best value is 0.3360714885951674 with parameters: {'n_estimators': 85, 'num_leaves': 27, 'colsample_bytree': 0.8816959192073436, 'learning_rate': 0.1526588158335217, 'max_depth': 531}.\n",
      "[I 2019-03-13 20:56:54,292] Finished a trial resulted in value: 0.4788970101099812. Current best value is 0.3360714885951674 with parameters: {'n_estimators': 85, 'num_leaves': 27, 'colsample_bytree': 0.8816959192073436, 'learning_rate': 0.1526588158335217, 'max_depth': 531}.\n",
      "[I 2019-03-13 20:56:54,564] Finished a trial resulted in value: 0.3598589380193402. Current best value is 0.3360714885951674 with parameters: {'n_estimators': 85, 'num_leaves': 27, 'colsample_bytree': 0.8816959192073436, 'learning_rate': 0.1526588158335217, 'max_depth': 531}.\n",
      "[I 2019-03-13 20:56:55,684] Finished a trial resulted in value: 0.34021244409542895. Current best value is 0.3360714885951674 with parameters: {'n_estimators': 85, 'num_leaves': 27, 'colsample_bytree': 0.8816959192073436, 'learning_rate': 0.1526588158335217, 'max_depth': 531}.\n",
      "[I 2019-03-13 20:56:55,942] Finished a trial resulted in value: 0.351957005275601. Current best value is 0.3360714885951674 with parameters: {'n_estimators': 85, 'num_leaves': 27, 'colsample_bytree': 0.8816959192073436, 'learning_rate': 0.1526588158335217, 'max_depth': 531}.\n",
      "[I 2019-03-13 20:56:56,227] Finished a trial resulted in value: 0.4050406730115243. Current best value is 0.3360714885951674 with parameters: {'n_estimators': 85, 'num_leaves': 27, 'colsample_bytree': 0.8816959192073436, 'learning_rate': 0.1526588158335217, 'max_depth': 531}.\n",
      "[I 2019-03-13 20:56:56,560] Finished a trial resulted in value: 0.7879584682198822. Current best value is 0.3360714885951674 with parameters: {'n_estimators': 85, 'num_leaves': 27, 'colsample_bytree': 0.8816959192073436, 'learning_rate': 0.1526588158335217, 'max_depth': 531}.\n",
      "[I 2019-03-13 20:56:56,846] Finished a trial resulted in value: 0.37142441738134857. Current best value is 0.3360714885951674 with parameters: {'n_estimators': 85, 'num_leaves': 27, 'colsample_bytree': 0.8816959192073436, 'learning_rate': 0.1526588158335217, 'max_depth': 531}.\n",
      "[I 2019-03-13 20:56:57,105] Finished a trial resulted in value: 0.34130885740605005. Current best value is 0.3360714885951674 with parameters: {'n_estimators': 85, 'num_leaves': 27, 'colsample_bytree': 0.8816959192073436, 'learning_rate': 0.1526588158335217, 'max_depth': 531}.\n",
      "[I 2019-03-13 20:56:57,422] Finished a trial resulted in value: 0.3445459658270692. Current best value is 0.3360714885951674 with parameters: {'n_estimators': 85, 'num_leaves': 27, 'colsample_bytree': 0.8816959192073436, 'learning_rate': 0.1526588158335217, 'max_depth': 531}.\n",
      "[I 2019-03-13 20:56:57,806] Finished a trial resulted in value: 0.34263929358711087. Current best value is 0.3360714885951674 with parameters: {'n_estimators': 85, 'num_leaves': 27, 'colsample_bytree': 0.8816959192073436, 'learning_rate': 0.1526588158335217, 'max_depth': 531}.\n",
      "[I 2019-03-13 20:56:58,207] Finished a trial resulted in value: 0.4306055345394191. Current best value is 0.3360714885951674 with parameters: {'n_estimators': 85, 'num_leaves': 27, 'colsample_bytree': 0.8816959192073436, 'learning_rate': 0.1526588158335217, 'max_depth': 531}.\n",
      "[I 2019-03-13 20:56:58,755] Finished a trial resulted in value: 0.33758026587901. Current best value is 0.3360714885951674 with parameters: {'n_estimators': 85, 'num_leaves': 27, 'colsample_bytree': 0.8816959192073436, 'learning_rate': 0.1526588158335217, 'max_depth': 531}.\n",
      "[I 2019-03-13 20:56:59,453] Finished a trial resulted in value: 0.35288159642817024. Current best value is 0.3360714885951674 with parameters: {'n_estimators': 85, 'num_leaves': 27, 'colsample_bytree': 0.8816959192073436, 'learning_rate': 0.1526588158335217, 'max_depth': 531}.\n",
      "[I 2019-03-13 20:56:59,973] Finished a trial resulted in value: 0.49189562450318863. Current best value is 0.3360714885951674 with parameters: {'n_estimators': 85, 'num_leaves': 27, 'colsample_bytree': 0.8816959192073436, 'learning_rate': 0.1526588158335217, 'max_depth': 531}.\n",
      "[I 2019-03-13 20:57:00,321] Finished a trial resulted in value: 0.357785035268394. Current best value is 0.3360714885951674 with parameters: {'n_estimators': 85, 'num_leaves': 27, 'colsample_bytree': 0.8816959192073436, 'learning_rate': 0.1526588158335217, 'max_depth': 531}.\n",
      "[I 2019-03-13 20:57:00,644] Finished a trial resulted in value: 0.3893134928933434. Current best value is 0.3360714885951674 with parameters: {'n_estimators': 85, 'num_leaves': 27, 'colsample_bytree': 0.8816959192073436, 'learning_rate': 0.1526588158335217, 'max_depth': 531}.\n",
      "[I 2019-03-13 20:57:00,936] Finished a trial resulted in value: 0.36869853641111894. Current best value is 0.3360714885951674 with parameters: {'n_estimators': 85, 'num_leaves': 27, 'colsample_bytree': 0.8816959192073436, 'learning_rate': 0.1526588158335217, 'max_depth': 531}.\n",
      "[I 2019-03-13 20:57:01,293] Finished a trial resulted in value: 0.3378607515095582. Current best value is 0.3360714885951674 with parameters: {'n_estimators': 85, 'num_leaves': 27, 'colsample_bytree': 0.8816959192073436, 'learning_rate': 0.1526588158335217, 'max_depth': 531}.\n",
      "[I 2019-03-13 20:57:01,664] Finished a trial resulted in value: 0.33872729330259765. Current best value is 0.3360714885951674 with parameters: {'n_estimators': 85, 'num_leaves': 27, 'colsample_bytree': 0.8816959192073436, 'learning_rate': 0.1526588158335217, 'max_depth': 531}.\n",
      "[I 2019-03-13 20:57:01,924] Finished a trial resulted in value: 0.34819719992575865. Current best value is 0.3360714885951674 with parameters: {'n_estimators': 85, 'num_leaves': 27, 'colsample_bytree': 0.8816959192073436, 'learning_rate': 0.1526588158335217, 'max_depth': 531}.\n"
     ]
    },
    {
     "name": "stderr",
     "output_type": "stream",
     "text": [
      "[I 2019-03-13 20:57:02,188] Finished a trial resulted in value: 0.3610400159092851. Current best value is 0.3360714885951674 with parameters: {'n_estimators': 85, 'num_leaves': 27, 'colsample_bytree': 0.8816959192073436, 'learning_rate': 0.1526588158335217, 'max_depth': 531}.\n",
      "[I 2019-03-13 20:57:02,479] Finished a trial resulted in value: 0.43783367782326404. Current best value is 0.3360714885951674 with parameters: {'n_estimators': 85, 'num_leaves': 27, 'colsample_bytree': 0.8816959192073436, 'learning_rate': 0.1526588158335217, 'max_depth': 531}.\n",
      "[I 2019-03-13 20:57:03,084] Finished a trial resulted in value: 0.3370194325507997. Current best value is 0.3360714885951674 with parameters: {'n_estimators': 85, 'num_leaves': 27, 'colsample_bytree': 0.8816959192073436, 'learning_rate': 0.1526588158335217, 'max_depth': 531}.\n",
      "[I 2019-03-13 20:57:03,330] Finished a trial resulted in value: 0.411730693766804. Current best value is 0.3360714885951674 with parameters: {'n_estimators': 85, 'num_leaves': 27, 'colsample_bytree': 0.8816959192073436, 'learning_rate': 0.1526588158335217, 'max_depth': 531}.\n",
      "[I 2019-03-13 20:57:03,591] Finished a trial resulted in value: 0.3398697875695853. Current best value is 0.3360714885951674 with parameters: {'n_estimators': 85, 'num_leaves': 27, 'colsample_bytree': 0.8816959192073436, 'learning_rate': 0.1526588158335217, 'max_depth': 531}.\n",
      "[I 2019-03-13 20:57:03,806] Finished a trial resulted in value: 0.4378907775963523. Current best value is 0.3360714885951674 with parameters: {'n_estimators': 85, 'num_leaves': 27, 'colsample_bytree': 0.8816959192073436, 'learning_rate': 0.1526588158335217, 'max_depth': 531}.\n",
      "[I 2019-03-13 20:57:04,007] Finished a trial resulted in value: 0.4309198750946574. Current best value is 0.3360714885951674 with parameters: {'n_estimators': 85, 'num_leaves': 27, 'colsample_bytree': 0.8816959192073436, 'learning_rate': 0.1526588158335217, 'max_depth': 531}.\n",
      "[I 2019-03-13 20:57:04,253] Finished a trial resulted in value: 0.34814029296154636. Current best value is 0.3360714885951674 with parameters: {'n_estimators': 85, 'num_leaves': 27, 'colsample_bytree': 0.8816959192073436, 'learning_rate': 0.1526588158335217, 'max_depth': 531}.\n",
      "[I 2019-03-13 20:57:04,446] Finished a trial resulted in value: 0.49825447055261535. Current best value is 0.3360714885951674 with parameters: {'n_estimators': 85, 'num_leaves': 27, 'colsample_bytree': 0.8816959192073436, 'learning_rate': 0.1526588158335217, 'max_depth': 531}.\n",
      "[I 2019-03-13 20:57:04,679] Finished a trial resulted in value: 0.5507059505223497. Current best value is 0.3360714885951674 with parameters: {'n_estimators': 85, 'num_leaves': 27, 'colsample_bytree': 0.8816959192073436, 'learning_rate': 0.1526588158335217, 'max_depth': 531}.\n",
      "[I 2019-03-13 20:57:04,987] Finished a trial resulted in value: 0.346146829795641. Current best value is 0.3360714885951674 with parameters: {'n_estimators': 85, 'num_leaves': 27, 'colsample_bytree': 0.8816959192073436, 'learning_rate': 0.1526588158335217, 'max_depth': 531}.\n",
      "[I 2019-03-13 20:57:05,821] Finished a trial resulted in value: 0.34061275953616366. Current best value is 0.3360714885951674 with parameters: {'n_estimators': 85, 'num_leaves': 27, 'colsample_bytree': 0.8816959192073436, 'learning_rate': 0.1526588158335217, 'max_depth': 531}.\n",
      "[I 2019-03-13 20:57:06,035] Finished a trial resulted in value: 0.38655065183591025. Current best value is 0.3360714885951674 with parameters: {'n_estimators': 85, 'num_leaves': 27, 'colsample_bytree': 0.8816959192073436, 'learning_rate': 0.1526588158335217, 'max_depth': 531}.\n",
      "[I 2019-03-13 20:57:06,813] Finished a trial resulted in value: 0.3383621861163569. Current best value is 0.3360714885951674 with parameters: {'n_estimators': 85, 'num_leaves': 27, 'colsample_bytree': 0.8816959192073436, 'learning_rate': 0.1526588158335217, 'max_depth': 531}.\n",
      "[I 2019-03-13 20:57:07,066] Finished a trial resulted in value: 0.3498787762627798. Current best value is 0.3360714885951674 with parameters: {'n_estimators': 85, 'num_leaves': 27, 'colsample_bytree': 0.8816959192073436, 'learning_rate': 0.1526588158335217, 'max_depth': 531}.\n",
      "[I 2019-03-13 20:57:07,272] Finished a trial resulted in value: 0.5098108899010481. Current best value is 0.3360714885951674 with parameters: {'n_estimators': 85, 'num_leaves': 27, 'colsample_bytree': 0.8816959192073436, 'learning_rate': 0.1526588158335217, 'max_depth': 531}.\n",
      "[I 2019-03-13 20:57:07,553] Finished a trial resulted in value: 0.3890073324279369. Current best value is 0.3360714885951674 with parameters: {'n_estimators': 85, 'num_leaves': 27, 'colsample_bytree': 0.8816959192073436, 'learning_rate': 0.1526588158335217, 'max_depth': 531}.\n",
      "[I 2019-03-13 20:57:08,326] Finished a trial resulted in value: 0.33681820930804585. Current best value is 0.3360714885951674 with parameters: {'n_estimators': 85, 'num_leaves': 27, 'colsample_bytree': 0.8816959192073436, 'learning_rate': 0.1526588158335217, 'max_depth': 531}.\n",
      "[I 2019-03-13 20:57:08,625] Finished a trial resulted in value: 0.33920057482082755. Current best value is 0.3360714885951674 with parameters: {'n_estimators': 85, 'num_leaves': 27, 'colsample_bytree': 0.8816959192073436, 'learning_rate': 0.1526588158335217, 'max_depth': 531}.\n",
      "[I 2019-03-13 20:57:08,947] Finished a trial resulted in value: 0.34519125775674414. Current best value is 0.3360714885951674 with parameters: {'n_estimators': 85, 'num_leaves': 27, 'colsample_bytree': 0.8816959192073436, 'learning_rate': 0.1526588158335217, 'max_depth': 531}.\n",
      "[I 2019-03-13 20:57:09,324] Finished a trial resulted in value: 0.3765290403809729. Current best value is 0.3360714885951674 with parameters: {'n_estimators': 85, 'num_leaves': 27, 'colsample_bytree': 0.8816959192073436, 'learning_rate': 0.1526588158335217, 'max_depth': 531}.\n",
      "[I 2019-03-13 20:57:10,207] Finished a trial resulted in value: 0.33765371095363006. Current best value is 0.3360714885951674 with parameters: {'n_estimators': 85, 'num_leaves': 27, 'colsample_bytree': 0.8816959192073436, 'learning_rate': 0.1526588158335217, 'max_depth': 531}.\n",
      "[I 2019-03-13 20:57:11,025] Finished a trial resulted in value: 0.33607308870229086. Current best value is 0.3360714885951674 with parameters: {'n_estimators': 85, 'num_leaves': 27, 'colsample_bytree': 0.8816959192073436, 'learning_rate': 0.1526588158335217, 'max_depth': 531}.\n",
      "[I 2019-03-13 20:57:11,351] Finished a trial resulted in value: 0.3691228948978797. Current best value is 0.3360714885951674 with parameters: {'n_estimators': 85, 'num_leaves': 27, 'colsample_bytree': 0.8816959192073436, 'learning_rate': 0.1526588158335217, 'max_depth': 531}.\n",
      "[I 2019-03-13 20:57:11,721] Finished a trial resulted in value: 0.3420900529452124. Current best value is 0.3360714885951674 with parameters: {'n_estimators': 85, 'num_leaves': 27, 'colsample_bytree': 0.8816959192073436, 'learning_rate': 0.1526588158335217, 'max_depth': 531}.\n",
      "[I 2019-03-13 20:57:12,024] Finished a trial resulted in value: 0.36791487890746083. Current best value is 0.3360714885951674 with parameters: {'n_estimators': 85, 'num_leaves': 27, 'colsample_bytree': 0.8816959192073436, 'learning_rate': 0.1526588158335217, 'max_depth': 531}.\n",
      "[I 2019-03-13 20:57:12,328] Finished a trial resulted in value: 0.3498140765741949. Current best value is 0.3360714885951674 with parameters: {'n_estimators': 85, 'num_leaves': 27, 'colsample_bytree': 0.8816959192073436, 'learning_rate': 0.1526588158335217, 'max_depth': 531}.\n"
     ]
    }
   ],
   "source": [
    "prun = PrunedCV(12, probabilistic_prun=True)\n",
    "\n",
    "def objective_pruned(trial):\n",
    "\n",
    "    n_estimators = trial.suggest_int('n_estimators', 5, 100)\n",
    "    num_leaves = trial.suggest_int('num_leaves', 2, 100)\n",
    "    colsample_bytree = trial.suggest_uniform('colsample_bytree', 0.5, 1.0)\n",
    "    learning_rate = trial.suggest_loguniform('learning_rate', 1e-4, 1e-0)\n",
    "    max_depth = trial.suggest_int('max_depth', 2, 1_000)\n",
    "\n",
    "\n",
    "    params = {        \n",
    "        'n_estimators': n_estimators,\n",
    "        'num_leaves': num_leaves,\n",
    "        'colsample_bytree': colsample_bytree,\n",
    "        'learning_rate': learning_rate,\n",
    "        'max_depth': max_depth\n",
    "    }\n",
    "    \n",
    "    model.set_params(**params)\n",
    "\n",
    "    return prun.cross_val_score(model, x, y)\n",
    "\n",
    "study_pruned = optuna.create_study()\n",
    "\n",
    "study_pruned.optimize(objective_pruned, timeout=120)"
   ]
  },
  {
   "cell_type": "code",
   "execution_count": 7,
   "metadata": {
    "ExecuteTime": {
     "end_time": "2019-03-14T03:57:12.373558Z",
     "start_time": "2019-03-14T03:57:12.334639Z"
    }
   },
   "outputs": [],
   "source": [
    "df_prun = study_pruned.trials_dataframe()\n",
    "df_stan = study_standard.trials_dataframe()"
   ]
  },
  {
   "cell_type": "code",
   "execution_count": 8,
   "metadata": {
    "ExecuteTime": {
     "end_time": "2019-03-14T03:57:12.399646Z",
     "start_time": "2019-03-14T03:57:12.376933Z"
    }
   },
   "outputs": [],
   "source": [
    "df_prun['time'] = (df_prun.datetime_start - df_prun.datetime_start.min()).astype('int') / 1_000_000_000\n",
    "df_stan['time'] = (df_stan.datetime_start - df_stan.datetime_start.min()).astype('int') / 1_000_000_000"
   ]
  },
  {
   "cell_type": "code",
   "execution_count": 9,
   "metadata": {
    "ExecuteTime": {
     "end_time": "2019-03-14T03:57:12.962425Z",
     "start_time": "2019-03-14T03:57:12.401997Z"
    }
   },
   "outputs": [
    {
     "data": {
      "image/png": "[encoded data removed]",
      "text/plain": [
       "<Figure size 432x288 with 1 Axes>"
      ]
     },
     "metadata": {
      "needs_background": "light"
     },
     "output_type": "display_data"
    }
   ],
   "source": [
    "sns.lineplot(x=df_stan.time, y=df_stan.value.cummin());\n",
    "sns.lineplot(x=df_prun.time, y=df_prun.value.cummin());"
   ]
  },
  {
   "cell_type": "code",
   "execution_count": 10,
   "metadata": {
    "ExecuteTime": {
     "end_time": "2019-03-14T03:57:13.243528Z",
     "start_time": "2019-03-14T03:57:12.964413Z"
    }
   },
   "outputs": [
    {
     "data": {
      "image/png": "[encoded data removed]",
      "text/plain": [
       "<Figure size 432x288 with 1 Axes>"
      ]
     },
     "metadata": {
      "needs_background": "light"
     },
     "output_type": "display_data"
    }
   ],
   "source": [
    "sns.lineplot(x=df_stan.index, y=df_stan.value.cummin());\n",
    "sns.lineplot(x=df_prun.index, y=df_prun.value.cummin());"
   ]
  },
  {
   "cell_type": "code",
   "execution_count": 11,
   "metadata": {
    "ExecuteTime": {
     "end_time": "2019-03-14T03:57:13.249833Z",
     "start_time": "2019-03-14T03:57:13.245204Z"
    }
   },
   "outputs": [
    {
     "data": {
      "text/plain": [
       "3.5121951219512195"
      ]
     },
     "execution_count": 11,
     "metadata": {},
     "output_type": "execute_result"
    }
   ],
   "source": [
    "df_prun.shape[0] / df_stan.shape[0]"
   ]
  }
 ],
 "metadata": {
  "kernelspec": {
   "display_name": "Python 3",
   "language": "python",
   "name": "python3"
  },
  "language_info": {
   "codemirror_mode": {
    "name": "ipython",
    "version": 3
   },
   "file_extension": ".py",
   "mimetype": "text/x-python",
   "name": "python",
   "nbconvert_exporter": "python",
   "pygments_lexer": "ipython3",
   "version": "3.6.8"
  }
 },
 "nbformat": 4,
 "nbformat_minor": 2
}
