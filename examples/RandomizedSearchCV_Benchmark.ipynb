{
 "cells": [
  {
   "cell_type": "code",
   "execution_count": 2,
   "metadata": {
    "ExecuteTime": {
     "end_time": "2019-03-14T02:43:13.598092Z",
     "start_time": "2019-03-14T02:43:13.591612Z"
    }
   },
   "outputs": [],
   "source": [
    "from sklearn.model_selection import RandomizedSearchCV\n",
    "from scipy.stats.distributions import uniform, randint\n",
    "from sklearn.datasets import fetch_california_housing\n",
    "from prunedcv import PrunedRandomizedSearchCV\n",
    "from lightgbm import LGBMRegressor"
   ]
  },
  {
   "cell_type": "code",
   "execution_count": null,
   "metadata": {},
   "outputs": [],
   "source": [
    "PrunedRandomizedSearchCV()"
   ]
  },
  {
   "cell_type": "code",
   "execution_count": 2,
   "metadata": {
    "ExecuteTime": {
     "end_time": "2019-03-09T23:31:39.166564Z",
     "start_time": "2019-03-09T23:31:39.151420Z"
    }
   },
   "outputs": [],
   "source": [
    "data = fetch_california_housing()\n",
    "x = data['data']\n",
    "y = data['target']"
   ]
  },
  {
   "cell_type": "code",
   "execution_count": 3,
   "metadata": {
    "ExecuteTime": {
     "end_time": "2019-03-09T23:31:39.175262Z",
     "start_time": "2019-03-09T23:31:39.169890Z"
    }
   },
   "outputs": [],
   "source": [
    "model = LGBMRegressor()\n",
    "\n",
    "params_grid = {'n_estimators': randint(2,100),\n",
    "                'max_depth': randint(2,200),\n",
    "                'learning_rate': uniform(.001, .2)}"
   ]
  },
  {
   "cell_type": "code",
   "execution_count": 4,
   "metadata": {
    "ExecuteTime": {
     "end_time": "2019-03-09T23:31:39.181738Z",
     "start_time": "2019-03-09T23:31:39.177959Z"
    }
   },
   "outputs": [],
   "source": [
    "rs = RandomizedSearchCV(model, \n",
    "                        param_distributions=params_grid, \n",
    "                        n_iter=100, \n",
    "                        cv=12, \n",
    "                        refit=False, \n",
    "                        random_state=42,\n",
    "                        scoring=\"neg_mean_squared_error\")"
   ]
  },
  {
   "cell_type": "code",
   "execution_count": 5,
   "metadata": {
    "ExecuteTime": {
     "end_time": "2019-03-09T23:33:00.673707Z",
     "start_time": "2019-03-09T23:31:39.187059Z"
    }
   },
   "outputs": [
    {
     "name": "stdout",
     "output_type": "stream",
     "text": [
      "CPU times: user 10min 41s, sys: 4.17 s, total: 10min 45s\n",
      "Wall time: 1min 21s\n"
     ]
    },
    {
     "data": {
      "text/plain": [
       "RandomizedSearchCV(cv=12, error_score='raise-deprecating',\n",
       "          estimator=LGBMRegressor(boosting_type='gbdt', class_weight=None, colsample_bytree=1.0,\n",
       "       importance_type='split', learning_rate=0.1, max_depth=-1,\n",
       "       min_child_samples=20, min_child_weight=0.001, min_split_gain=0.0,\n",
       "       n_estimators=100, n_jobs=-1, num_leaves=31, objective=None,\n",
       "       random_state=None, reg_alpha=0.0, reg_lambda=0.0, silent=True,\n",
       "       subsample=1.0, subsample_for_bin=200000, subsample_freq=0),\n",
       "          fit_params=None, iid='warn', n_iter=100, n_jobs=None,\n",
       "          param_distributions={'n_estimators': <scipy.stats._distn_infrastructure.rv_frozen object at 0x1a21564518>, 'max_depth': <scipy.stats._distn_infrastructure.rv_frozen object at 0x1a21564588>, 'learning_rate': <scipy.stats._distn_infrastructure.rv_frozen object at 0x1a21564860>},\n",
       "          pre_dispatch='2*n_jobs', random_state=42, refit=False,\n",
       "          return_train_score='warn', scoring='neg_mean_squared_error',\n",
       "          verbose=0)"
      ]
     },
     "execution_count": 5,
     "metadata": {},
     "output_type": "execute_result"
    }
   ],
   "source": [
    "%time rs.fit(x, y)"
   ]
  },
  {
   "cell_type": "code",
   "execution_count": 6,
   "metadata": {
    "ExecuteTime": {
     "end_time": "2019-03-09T23:33:00.679278Z",
     "start_time": "2019-03-09T23:33:00.675829Z"
    }
   },
   "outputs": [],
   "source": [
    "prs = PrunedRandomizedSearchCV(model, \n",
    "                               param_distributions=params_grid, \n",
    "                               n_iter=100, \n",
    "                               cv=12, \n",
    "                               tolerance=0.1, \n",
    "                               random_state=42)"
   ]
  },
  {
   "cell_type": "code",
   "execution_count": 7,
   "metadata": {
    "ExecuteTime": {
     "end_time": "2019-03-09T23:33:30.021020Z",
     "start_time": "2019-03-09T23:33:00.681511Z"
    }
   },
   "outputs": [
    {
     "name": "stdout",
     "output_type": "stream",
     "text": [
      "CPU times: user 3min 48s, sys: 1.83 s, total: 3min 50s\n",
      "Wall time: 29.3 s\n"
     ]
    }
   ],
   "source": [
    "%time prs.fit(x, y)"
   ]
  },
  {
   "cell_type": "code",
   "execution_count": 8,
   "metadata": {
    "ExecuteTime": {
     "end_time": "2019-03-09T23:33:30.027565Z",
     "start_time": "2019-03-09T23:33:30.023020Z"
    }
   },
   "outputs": [
    {
     "data": {
      "text/plain": [
       "{'learning_rate': 0.1015358046457723, 'max_depth': 55, 'n_estimators': 88}"
      ]
     },
     "execution_count": 8,
     "metadata": {},
     "output_type": "execute_result"
    }
   ],
   "source": [
    "rs.best_params_"
   ]
  },
  {
   "cell_type": "code",
   "execution_count": 9,
   "metadata": {
    "ExecuteTime": {
     "end_time": "2019-03-09T23:33:30.034864Z",
     "start_time": "2019-03-09T23:33:30.029834Z"
    }
   },
   "outputs": [
    {
     "data": {
      "text/plain": [
       "{'learning_rate': 0.1015358046457723, 'max_depth': 55, 'n_estimators': 88}"
      ]
     },
     "execution_count": 9,
     "metadata": {},
     "output_type": "execute_result"
    }
   ],
   "source": [
    "prs.best_params"
   ]
  }
 ],
 "metadata": {
  "kernelspec": {
   "display_name": "Python 3",
   "language": "python",
   "name": "python3"
  },
  "language_info": {
   "codemirror_mode": {
    "name": "ipython",
    "version": 3
   },
   "file_extension": ".py",
   "mimetype": "text/x-python",
   "name": "python",
   "nbconvert_exporter": "python",
   "pygments_lexer": "ipython3",
   "version": "3.6.8"
  }
 },
 "nbformat": 4,
 "nbformat_minor": 2
}
