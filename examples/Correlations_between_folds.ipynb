{
 "cells": [
  {
   "cell_type": "code",
   "execution_count": 3,
   "metadata": {
    "ExecuteTime": {
     "end_time": "2019-03-19T05:00:24.681653Z",
     "start_time": "2019-03-19T05:00:24.670700Z"
    }
   },
   "outputs": [],
   "source": [
    "from lightgbm import LGBMRegressor, LGBMClassifier\n",
    "from sklearn.datasets import fetch_california_housing, load_iris, load_wine, load_boston\n",
    "from sklearn.model_selection import cross_val_score, ParameterSampler\n",
    "from scipy.stats.distributions import uniform, randint\n",
    "import seaborn as sns\n",
    "import numpy as np\n",
    "import pandas as pd\n",
    "from tqdm import tqdm_notebook\n",
    "\n",
    "sns.set(style=\"whitegrid\")"
   ]
  },
  {
   "cell_type": "code",
   "execution_count": 4,
   "metadata": {
    "ExecuteTime": {
     "end_time": "2019-03-19T05:00:25.533781Z",
     "start_time": "2019-03-19T05:00:25.513175Z"
    }
   },
   "outputs": [],
   "source": [
    "data = fetch_california_housing()\n",
    "x = pd.DataFrame(data['data'])\n",
    "y = pd.DataFrame(data['target'])"
   ]
  },
  {
   "cell_type": "code",
   "execution_count": null,
   "metadata": {
    "ExecuteTime": {
     "start_time": "2019-03-19T05:00:26.056Z"
    }
   },
   "outputs": [
    {
     "data": {
      "application/vnd.jupyter.widget-view+json": {
       "model_id": "1e996744d40340db869467aaddae8d18",
       "version_major": 2,
       "version_minor": 0
      },
      "text/plain": [
       "HBox(children=(IntProgress(value=0), HTML(value='')))"
      ]
     },
     "metadata": {},
     "output_type": "display_data"
    }
   ],
   "source": [
    "for i in tqdm_notebook(range(100)):\n",
    "    \n",
    "    #shuffle data\n",
    "    x = x.sample(n=x.shape[0], random_state=i)\n",
    "    y = y.loc[x.index]\n",
    "    \n",
    "    params_distribution = {'n_estimators': randint(2,100),\n",
    "                           'max_depth': randint(2,200),\n",
    "                           'learning_rate': uniform(.001, .2),\n",
    "                           'colsample_bytree': uniform(.5, 0.5),\n",
    "                           'num_leaves': randint(2,100)}\n",
    "\n",
    "    ps = ParameterSampler(params_distribution, 100, random_state=i)\n",
    "    model = LGBMRegressor()\n",
    "    cross_val_scores_list = []\n",
    "\n",
    "    for params in ps:\n",
    "\n",
    "        model.set_params(**params)\n",
    "\n",
    "        cross_val_scores = cross_val_score(model, x, y, cv=8, scoring='neg_mean_squared_error')\n",
    "        cross_val_scores_list.append(cross_val_scores)\n",
    "\n",
    "    scores_array = np.array(cross_val_scores_list)\n",
    "    scores_cumulative = [scores_array[:,:i+1].mean(axis=1) for i in range(12)]\n",
    "    scores_cumulative = np.array(scores_cumulative)\n",
    "\n",
    "    corrs = pd.DataFrame(np.corrcoef(scores_cumulative).round(4))\n",
    "\n",
    "    ax = sns.lineplot(x=range(1,13), y=corrs.iloc[:,-1], color='royalblue', alpha=0.1)\n",
    "    ax.set(xlabel='fold number', ylabel='correlation')"
   ]
  },
  {
   "cell_type": "code",
   "execution_count": null,
   "metadata": {
    "ExecuteTime": {
     "start_time": "2019-03-19T05:00:26.296Z"
    }
   },
   "outputs": [],
   "source": [
    "wine = load_wine()\n",
    "x_wine = pd.DataFrame(wine['data'])\n",
    "y_wine = pd.Series(wine['target'])"
   ]
  },
  {
   "cell_type": "code",
   "execution_count": null,
   "metadata": {
    "ExecuteTime": {
     "start_time": "2019-03-19T05:00:26.678Z"
    }
   },
   "outputs": [],
   "source": [
    "for i in tqdm_notebook(range(100)):\n",
    "    \n",
    "    \n",
    "    #shuffle data\n",
    "    x_wine = x_wine.sample(n=x_wine.shape[0], random_state=i)\n",
    "    y_wine = y_wine.loc[x_wine.index]\n",
    "\n",
    "    params_distribution = {'n_estimators': randint(2,100),\n",
    "                           'max_depth': randint(2,200),\n",
    "                           'learning_rate': uniform(.001, .2),\n",
    "                           'colsample_bytree': uniform(.5, 0.5),\n",
    "                           'num_leaves': randint(2,100)}\n",
    "\n",
    "    ps = ParameterSampler(params_distribution, 100, random_state=i)\n",
    "    model = LGBMClassifier()\n",
    "    cross_val_scores_list = []\n",
    "\n",
    "    for params in ps:\n",
    "\n",
    "        model.set_params(**params)\n",
    "\n",
    "        cross_val_scores = cross_val_score(model, x_wine, y_wine, cv=8, scoring='neg_mean_squared_error')\n",
    "        cross_val_scores_list.append(cross_val_scores)\n",
    "\n",
    "    scores_array = np.array(cross_val_scores_list)\n",
    "    scores_cumulative = [scores_array[:,:i+1].mean(axis=1) for i in range(8)]\n",
    "    scores_cumulative = np.array(scores_cumulative)\n",
    "\n",
    "    corrs = pd.DataFrame(np.corrcoef(scores_cumulative).round(4), \n",
    "                         columns=[i for i in range(1,9)], \n",
    "                         index=[i for i in range(1,9)])\n",
    "\n",
    "    ax = sns.lineplot(x=range(1,9), y=corrs.iloc[:,-1], color='royalblue', alpha=0.1)\n",
    "    ax.set(xlabel='fold number', ylabel='correlation')"
   ]
  },
  {
   "cell_type": "code",
   "execution_count": null,
   "metadata": {
    "ExecuteTime": {
     "start_time": "2019-03-19T05:00:26.932Z"
    }
   },
   "outputs": [],
   "source": [
    "boston = load_boston()\n",
    "\n",
    "x_boston = pd.DataFrame(boston['data'])\n",
    "y_boston = pd.Series(boston['target'])"
   ]
  },
  {
   "cell_type": "code",
   "execution_count": null,
   "metadata": {
    "ExecuteTime": {
     "start_time": "2019-03-19T05:00:27.171Z"
    }
   },
   "outputs": [],
   "source": [
    "for i in tqdm_notebook(range(100)):\n",
    "    \n",
    "    #shuffle data\n",
    "    x_boston = x_boston.sample(n=x_boston.shape[0], random_state=i)\n",
    "    y_boston = y_boston.loc[x_boston.index]\n",
    "\n",
    "    params_distribution = {'n_estimators': randint(2,100),\n",
    "                           'max_depth': randint(2,200),\n",
    "                           'learning_rate': uniform(.001, .2),\n",
    "                           'colsample_bytree': uniform(.5, 0.5),\n",
    "                           'num_leaves': randint(2,100)}\n",
    "\n",
    "    ps = ParameterSampler(params_distribution, 100, random_state=i)\n",
    "    model = LGBMRegressor()\n",
    "    cross_val_scores_list = []\n",
    "\n",
    "    for params in ps:\n",
    "\n",
    "        model.set_params(**params)\n",
    "\n",
    "        cross_val_scores = cross_val_score(model, x_boston, y_boston, cv=8, scoring='neg_mean_squared_error')\n",
    "        cross_val_scores_list.append(cross_val_scores)\n",
    "\n",
    "    scores_array = np.array(cross_val_scores_list)\n",
    "    scores_cumulative = [scores_array[:,:i+1].mean(axis=1) for i in range(8)]\n",
    "    scores_cumulative = np.array(scores_cumulative)\n",
    "\n",
    "    corrs = pd.DataFrame(np.corrcoef(scores_cumulative).round(4), \n",
    "                         columns=[i for i in range(1,9)], \n",
    "                         index=[i for i in range(1,9)])\n",
    "\n",
    "    ax = sns.lineplot(x=range(1,9), y=corrs.iloc[:,-1], color='royalblue', alpha=0.1)\n",
    "    ax.set(xlabel='fold number', ylabel='correlation')"
   ]
  }
 ],
 "metadata": {
  "kernelspec": {
   "display_name": "Python 3",
   "language": "python",
   "name": "python3"
  },
  "language_info": {
   "codemirror_mode": {
    "name": "ipython",
    "version": 3
   },
   "file_extension": ".py",
   "mimetype": "text/x-python",
   "name": "python",
   "nbconvert_exporter": "python",
   "pygments_lexer": "ipython3",
   "version": "3.6.8"
  }
 },
 "nbformat": 4,
 "nbformat_minor": 2
}
