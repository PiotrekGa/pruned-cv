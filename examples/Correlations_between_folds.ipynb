{
 "cells": [
  {
   "cell_type": "code",
   "execution_count": 1,
   "metadata": {
    "ExecuteTime": {
     "end_time": "2019-03-15T23:12:32.231218Z",
     "start_time": "2019-03-15T23:12:29.912655Z"
    }
   },
   "outputs": [
    {
     "name": "stderr",
     "output_type": "stream",
     "text": [
      "/Users/piotrgabrys/.pyenv/versions/miniconda3-4.3.30/lib/python3.6/site-packages/lightgbm/__init__.py:46: UserWarning: Starting from version 2.2.1, the library file in distribution wheels for macOS is built by the Apple Clang (Xcode_8.3.1) compiler.\n",
      "This means that in case of installing LightGBM from PyPI via the ``pip install lightgbm`` command, you don't need to install the gcc compiler anymore.\n",
      "Instead of that, you need to install the OpenMP library, which is required for running LightGBM on the system with the Apple Clang compiler.\n",
      "You can install the OpenMP library by the following command: ``brew install libomp``.\n",
      "  \"You can install the OpenMP library by the following command: ``brew install libomp``.\", UserWarning)\n"
     ]
    }
   ],
   "source": [
    "from lightgbm import LGBMRegressor, LGBMClassifier\n",
    "from sklearn.datasets import fetch_california_housing, load_iris, load_wine, load_boston\n",
    "from sklearn.model_selection import cross_val_score, ParameterSampler\n",
    "from scipy.stats.distributions import uniform, randint\n",
    "import seaborn as sns\n",
    "import numpy as np\n",
    "import pandas as pd\n",
    "from tqdm import tqdm_notebook"
   ]
  },
  {
   "cell_type": "code",
   "execution_count": 2,
   "metadata": {
    "ExecuteTime": {
     "end_time": "2019-03-15T23:12:32.275353Z",
     "start_time": "2019-03-15T23:12:32.233337Z"
    }
   },
   "outputs": [],
   "source": [
    "data = fetch_california_housing()\n",
    "x = pd.DataFrame(data['data'])\n",
    "y = pd.DataFrame(data['target'])\n",
    "\n",
    "x = x.sample(n=x.shape[0], random_state=42)\n",
    "y = y.loc[x.index]"
   ]
  },
  {
   "cell_type": "code",
   "execution_count": 71,
   "metadata": {
    "ExecuteTime": {
     "end_time": "2019-03-12T15:06:10.963460Z",
     "start_time": "2019-03-12T15:04:38.131970Z"
    }
   },
   "outputs": [
    {
     "data": {
      "application/vnd.jupyter.widget-view+json": {
       "model_id": "adfc44b43c364f2a9e75204908c0acff",
       "version_major": 2,
       "version_minor": 0
      },
      "text/plain": [
       "HBox(children=(IntProgress(value=0, max=50), HTML(value='')))"
      ]
     },
     "metadata": {},
     "output_type": "display_data"
    },
    {
     "name": "stdout",
     "output_type": "stream",
     "text": [
      "\n"
     ]
    }
   ],
   "source": [
    "params_distribution = {'n_estimators': randint(2,100),\n",
    "                       'max_depth': randint(2,200),\n",
    "                       'learning_rate': uniform(.001, .2),\n",
    "                       'colsample_bytree': uniform(.5, 0.5),\n",
    "                       'num_leaves': randint(2,100)}\n",
    "\n",
    "ps = ParameterSampler(params_distribution, 50, random_state=42)\n",
    "model = LGBMRegressor()\n",
    "cross_val_scores_list = []\n",
    "\n",
    "for params in tqdm_notebook(ps):\n",
    "    \n",
    "    model.set_params(**params)\n",
    "\n",
    "    cross_val_scores = cross_val_score(model, x, y, cv=12, scoring='neg_mean_squared_error')\n",
    "    cross_val_scores_list.append(cross_val_scores)"
   ]
  },
  {
   "cell_type": "code",
   "execution_count": 103,
   "metadata": {
    "ExecuteTime": {
     "end_time": "2019-03-12T15:10:59.856358Z",
     "start_time": "2019-03-12T15:10:59.828071Z"
    }
   },
   "outputs": [
    {
     "data": {
      "text/html": [
       "<div>\n",
       "<style scoped>\n",
       "    .dataframe tbody tr th:only-of-type {\n",
       "        vertical-align: middle;\n",
       "    }\n",
       "\n",
       "    .dataframe tbody tr th {\n",
       "        vertical-align: top;\n",
       "    }\n",
       "\n",
       "    .dataframe thead th {\n",
       "        text-align: right;\n",
       "    }\n",
       "</style>\n",
       "<table border=\"1\" class=\"dataframe\">\n",
       "  <thead>\n",
       "    <tr style=\"text-align: right;\">\n",
       "      <th></th>\n",
       "      <th>0</th>\n",
       "      <th>1</th>\n",
       "      <th>2</th>\n",
       "      <th>3</th>\n",
       "      <th>4</th>\n",
       "      <th>5</th>\n",
       "      <th>6</th>\n",
       "      <th>7</th>\n",
       "      <th>8</th>\n",
       "      <th>9</th>\n",
       "      <th>10</th>\n",
       "      <th>11</th>\n",
       "    </tr>\n",
       "  </thead>\n",
       "  <tbody>\n",
       "    <tr>\n",
       "      <th>0</th>\n",
       "      <td>1.0000</td>\n",
       "      <td>0.9999</td>\n",
       "      <td>0.9999</td>\n",
       "      <td>0.9999</td>\n",
       "      <td>0.9999</td>\n",
       "      <td>0.9998</td>\n",
       "      <td>0.9998</td>\n",
       "      <td>0.9998</td>\n",
       "      <td>0.9998</td>\n",
       "      <td>0.9998</td>\n",
       "      <td>0.9998</td>\n",
       "      <td>0.9998</td>\n",
       "    </tr>\n",
       "    <tr>\n",
       "      <th>1</th>\n",
       "      <td>0.9999</td>\n",
       "      <td>1.0000</td>\n",
       "      <td>1.0000</td>\n",
       "      <td>0.9999</td>\n",
       "      <td>0.9999</td>\n",
       "      <td>0.9999</td>\n",
       "      <td>0.9999</td>\n",
       "      <td>0.9999</td>\n",
       "      <td>0.9999</td>\n",
       "      <td>0.9999</td>\n",
       "      <td>0.9999</td>\n",
       "      <td>0.9999</td>\n",
       "    </tr>\n",
       "    <tr>\n",
       "      <th>2</th>\n",
       "      <td>0.9999</td>\n",
       "      <td>1.0000</td>\n",
       "      <td>1.0000</td>\n",
       "      <td>1.0000</td>\n",
       "      <td>1.0000</td>\n",
       "      <td>1.0000</td>\n",
       "      <td>1.0000</td>\n",
       "      <td>1.0000</td>\n",
       "      <td>1.0000</td>\n",
       "      <td>1.0000</td>\n",
       "      <td>1.0000</td>\n",
       "      <td>1.0000</td>\n",
       "    </tr>\n",
       "    <tr>\n",
       "      <th>3</th>\n",
       "      <td>0.9999</td>\n",
       "      <td>0.9999</td>\n",
       "      <td>1.0000</td>\n",
       "      <td>1.0000</td>\n",
       "      <td>1.0000</td>\n",
       "      <td>1.0000</td>\n",
       "      <td>1.0000</td>\n",
       "      <td>1.0000</td>\n",
       "      <td>1.0000</td>\n",
       "      <td>1.0000</td>\n",
       "      <td>1.0000</td>\n",
       "      <td>1.0000</td>\n",
       "    </tr>\n",
       "    <tr>\n",
       "      <th>4</th>\n",
       "      <td>0.9999</td>\n",
       "      <td>0.9999</td>\n",
       "      <td>1.0000</td>\n",
       "      <td>1.0000</td>\n",
       "      <td>1.0000</td>\n",
       "      <td>1.0000</td>\n",
       "      <td>1.0000</td>\n",
       "      <td>1.0000</td>\n",
       "      <td>1.0000</td>\n",
       "      <td>1.0000</td>\n",
       "      <td>1.0000</td>\n",
       "      <td>1.0000</td>\n",
       "    </tr>\n",
       "    <tr>\n",
       "      <th>5</th>\n",
       "      <td>0.9998</td>\n",
       "      <td>0.9999</td>\n",
       "      <td>1.0000</td>\n",
       "      <td>1.0000</td>\n",
       "      <td>1.0000</td>\n",
       "      <td>1.0000</td>\n",
       "      <td>1.0000</td>\n",
       "      <td>1.0000</td>\n",
       "      <td>1.0000</td>\n",
       "      <td>1.0000</td>\n",
       "      <td>1.0000</td>\n",
       "      <td>1.0000</td>\n",
       "    </tr>\n",
       "    <tr>\n",
       "      <th>6</th>\n",
       "      <td>0.9998</td>\n",
       "      <td>0.9999</td>\n",
       "      <td>1.0000</td>\n",
       "      <td>1.0000</td>\n",
       "      <td>1.0000</td>\n",
       "      <td>1.0000</td>\n",
       "      <td>1.0000</td>\n",
       "      <td>1.0000</td>\n",
       "      <td>1.0000</td>\n",
       "      <td>1.0000</td>\n",
       "      <td>1.0000</td>\n",
       "      <td>1.0000</td>\n",
       "    </tr>\n",
       "    <tr>\n",
       "      <th>7</th>\n",
       "      <td>0.9998</td>\n",
       "      <td>0.9999</td>\n",
       "      <td>1.0000</td>\n",
       "      <td>1.0000</td>\n",
       "      <td>1.0000</td>\n",
       "      <td>1.0000</td>\n",
       "      <td>1.0000</td>\n",
       "      <td>1.0000</td>\n",
       "      <td>1.0000</td>\n",
       "      <td>1.0000</td>\n",
       "      <td>1.0000</td>\n",
       "      <td>1.0000</td>\n",
       "    </tr>\n",
       "    <tr>\n",
       "      <th>8</th>\n",
       "      <td>0.9998</td>\n",
       "      <td>0.9999</td>\n",
       "      <td>1.0000</td>\n",
       "      <td>1.0000</td>\n",
       "      <td>1.0000</td>\n",
       "      <td>1.0000</td>\n",
       "      <td>1.0000</td>\n",
       "      <td>1.0000</td>\n",
       "      <td>1.0000</td>\n",
       "      <td>1.0000</td>\n",
       "      <td>1.0000</td>\n",
       "      <td>1.0000</td>\n",
       "    </tr>\n",
       "    <tr>\n",
       "      <th>9</th>\n",
       "      <td>0.9998</td>\n",
       "      <td>0.9999</td>\n",
       "      <td>1.0000</td>\n",
       "      <td>1.0000</td>\n",
       "      <td>1.0000</td>\n",
       "      <td>1.0000</td>\n",
       "      <td>1.0000</td>\n",
       "      <td>1.0000</td>\n",
       "      <td>1.0000</td>\n",
       "      <td>1.0000</td>\n",
       "      <td>1.0000</td>\n",
       "      <td>1.0000</td>\n",
       "    </tr>\n",
       "    <tr>\n",
       "      <th>10</th>\n",
       "      <td>0.9998</td>\n",
       "      <td>0.9999</td>\n",
       "      <td>1.0000</td>\n",
       "      <td>1.0000</td>\n",
       "      <td>1.0000</td>\n",
       "      <td>1.0000</td>\n",
       "      <td>1.0000</td>\n",
       "      <td>1.0000</td>\n",
       "      <td>1.0000</td>\n",
       "      <td>1.0000</td>\n",
       "      <td>1.0000</td>\n",
       "      <td>1.0000</td>\n",
       "    </tr>\n",
       "    <tr>\n",
       "      <th>11</th>\n",
       "      <td>0.9998</td>\n",
       "      <td>0.9999</td>\n",
       "      <td>1.0000</td>\n",
       "      <td>1.0000</td>\n",
       "      <td>1.0000</td>\n",
       "      <td>1.0000</td>\n",
       "      <td>1.0000</td>\n",
       "      <td>1.0000</td>\n",
       "      <td>1.0000</td>\n",
       "      <td>1.0000</td>\n",
       "      <td>1.0000</td>\n",
       "      <td>1.0000</td>\n",
       "    </tr>\n",
       "  </tbody>\n",
       "</table>\n",
       "</div>"
      ],
      "text/plain": [
       "        0       1       2       3       4       5       6       7       8   \\\n",
       "0   1.0000  0.9999  0.9999  0.9999  0.9999  0.9998  0.9998  0.9998  0.9998   \n",
       "1   0.9999  1.0000  1.0000  0.9999  0.9999  0.9999  0.9999  0.9999  0.9999   \n",
       "2   0.9999  1.0000  1.0000  1.0000  1.0000  1.0000  1.0000  1.0000  1.0000   \n",
       "3   0.9999  0.9999  1.0000  1.0000  1.0000  1.0000  1.0000  1.0000  1.0000   \n",
       "4   0.9999  0.9999  1.0000  1.0000  1.0000  1.0000  1.0000  1.0000  1.0000   \n",
       "5   0.9998  0.9999  1.0000  1.0000  1.0000  1.0000  1.0000  1.0000  1.0000   \n",
       "6   0.9998  0.9999  1.0000  1.0000  1.0000  1.0000  1.0000  1.0000  1.0000   \n",
       "7   0.9998  0.9999  1.0000  1.0000  1.0000  1.0000  1.0000  1.0000  1.0000   \n",
       "8   0.9998  0.9999  1.0000  1.0000  1.0000  1.0000  1.0000  1.0000  1.0000   \n",
       "9   0.9998  0.9999  1.0000  1.0000  1.0000  1.0000  1.0000  1.0000  1.0000   \n",
       "10  0.9998  0.9999  1.0000  1.0000  1.0000  1.0000  1.0000  1.0000  1.0000   \n",
       "11  0.9998  0.9999  1.0000  1.0000  1.0000  1.0000  1.0000  1.0000  1.0000   \n",
       "\n",
       "        9       10      11  \n",
       "0   0.9998  0.9998  0.9998  \n",
       "1   0.9999  0.9999  0.9999  \n",
       "2   1.0000  1.0000  1.0000  \n",
       "3   1.0000  1.0000  1.0000  \n",
       "4   1.0000  1.0000  1.0000  \n",
       "5   1.0000  1.0000  1.0000  \n",
       "6   1.0000  1.0000  1.0000  \n",
       "7   1.0000  1.0000  1.0000  \n",
       "8   1.0000  1.0000  1.0000  \n",
       "9   1.0000  1.0000  1.0000  \n",
       "10  1.0000  1.0000  1.0000  \n",
       "11  1.0000  1.0000  1.0000  "
      ]
     },
     "execution_count": 103,
     "metadata": {},
     "output_type": "execute_result"
    }
   ],
   "source": [
    "scores_array = np.array(cross_val_scores_list)\n",
    "scores_cumulative = [scores_array[:,:i+1].mean(axis=1) for i in range(12)]\n",
    "scores_cumulative = np.array(scores_cumulative)\n",
    "\n",
    "corrs = pd.DataFrame(np.corrcoef(scores_cumulative).round(4))\n",
    "corrs"
   ]
  },
  {
   "cell_type": "code",
   "execution_count": 104,
   "metadata": {
    "ExecuteTime": {
     "end_time": "2019-03-12T15:11:00.491010Z",
     "start_time": "2019-03-12T15:11:00.303369Z"
    }
   },
   "outputs": [
    {
     "data": {
      "image/png": "[encoded data removed]",
      "text/plain": [
       "<Figure size 432x288 with 1 Axes>"
      ]
     },
     "metadata": {
      "needs_background": "light"
     },
     "output_type": "display_data"
    }
   ],
   "source": [
    "sns.lineplot(x=range(1,13), y=corrs.iloc[:,-1]);"
   ]
  },
  {
   "cell_type": "code",
   "execution_count": 111,
   "metadata": {
    "ExecuteTime": {
     "end_time": "2019-03-12T15:15:35.754925Z",
     "start_time": "2019-03-12T15:15:35.744393Z"
    }
   },
   "outputs": [],
   "source": [
    "iris = load_iris()\n",
    "x_iris = pd.DataFrame(iris['data'])\n",
    "y_iris = pd.Series(iris['target'])\n",
    "\n",
    "x_iris = x_iris.sample(n=x_iris.shape[0], random_state=42)\n",
    "y_iris = y_iris.loc[x_iris.index]"
   ]
  },
  {
   "cell_type": "code",
   "execution_count": 115,
   "metadata": {
    "ExecuteTime": {
     "end_time": "2019-03-12T15:16:45.637959Z",
     "start_time": "2019-03-12T15:16:14.842352Z"
    }
   },
   "outputs": [
    {
     "data": {
      "application/vnd.jupyter.widget-view+json": {
       "model_id": "9c37350d577643f993fb49aeaa0f38ce",
       "version_major": 2,
       "version_minor": 0
      },
      "text/plain": [
       "HBox(children=(IntProgress(value=0, max=200), HTML(value='')))"
      ]
     },
     "metadata": {},
     "output_type": "display_data"
    }
   ],
   "source": [
    "params_distribution = {'n_estimators': randint(2,100),\n",
    "                       'max_depth': randint(2,200),\n",
    "                       'learning_rate': uniform(.001, .2),\n",
    "                       'colsample_bytree': uniform(.5, 0.5),\n",
    "                       'num_leaves': randint(2,100)}\n",
    "\n",
    "ps = ParameterSampler(params_distribution, 200, random_state=42)\n",
    "model = LGBMClassifier()\n",
    "cross_val_scores_list = []\n",
    "\n",
    "for params in tqdm_notebook(ps):\n",
    "    \n",
    "    model.set_params(**params)\n",
    "\n",
    "    cross_val_scores = cross_val_score(model, x_iris, y_iris, cv=8, scoring='neg_mean_squared_error')\n",
    "    cross_val_scores_list.append(cross_val_scores)"
   ]
  },
  {
   "cell_type": "code",
   "execution_count": 121,
   "metadata": {
    "ExecuteTime": {
     "end_time": "2019-03-12T15:18:25.794356Z",
     "start_time": "2019-03-12T15:18:25.773206Z"
    }
   },
   "outputs": [
    {
     "data": {
      "text/html": [
       "<div>\n",
       "<style scoped>\n",
       "    .dataframe tbody tr th:only-of-type {\n",
       "        vertical-align: middle;\n",
       "    }\n",
       "\n",
       "    .dataframe tbody tr th {\n",
       "        vertical-align: top;\n",
       "    }\n",
       "\n",
       "    .dataframe thead th {\n",
       "        text-align: right;\n",
       "    }\n",
       "</style>\n",
       "<table border=\"1\" class=\"dataframe\">\n",
       "  <thead>\n",
       "    <tr style=\"text-align: right;\">\n",
       "      <th></th>\n",
       "      <th>1</th>\n",
       "      <th>2</th>\n",
       "      <th>3</th>\n",
       "      <th>4</th>\n",
       "      <th>5</th>\n",
       "      <th>6</th>\n",
       "      <th>7</th>\n",
       "      <th>8</th>\n",
       "    </tr>\n",
       "  </thead>\n",
       "  <tbody>\n",
       "    <tr>\n",
       "      <th>1</th>\n",
       "      <td>1.0000</td>\n",
       "      <td>0.9139</td>\n",
       "      <td>0.9139</td>\n",
       "      <td>0.6674</td>\n",
       "      <td>0.4808</td>\n",
       "      <td>0.4868</td>\n",
       "      <td>0.4268</td>\n",
       "      <td>0.3686</td>\n",
       "    </tr>\n",
       "    <tr>\n",
       "      <th>2</th>\n",
       "      <td>0.9139</td>\n",
       "      <td>1.0000</td>\n",
       "      <td>1.0000</td>\n",
       "      <td>0.8415</td>\n",
       "      <td>0.6675</td>\n",
       "      <td>0.6160</td>\n",
       "      <td>0.5332</td>\n",
       "      <td>0.4649</td>\n",
       "    </tr>\n",
       "    <tr>\n",
       "      <th>3</th>\n",
       "      <td>0.9139</td>\n",
       "      <td>1.0000</td>\n",
       "      <td>1.0000</td>\n",
       "      <td>0.8415</td>\n",
       "      <td>0.6675</td>\n",
       "      <td>0.6160</td>\n",
       "      <td>0.5332</td>\n",
       "      <td>0.4649</td>\n",
       "    </tr>\n",
       "    <tr>\n",
       "      <th>4</th>\n",
       "      <td>0.6674</td>\n",
       "      <td>0.8415</td>\n",
       "      <td>0.8415</td>\n",
       "      <td>1.0000</td>\n",
       "      <td>0.7304</td>\n",
       "      <td>0.6306</td>\n",
       "      <td>0.5076</td>\n",
       "      <td>0.4874</td>\n",
       "    </tr>\n",
       "    <tr>\n",
       "      <th>5</th>\n",
       "      <td>0.4808</td>\n",
       "      <td>0.6675</td>\n",
       "      <td>0.6675</td>\n",
       "      <td>0.7304</td>\n",
       "      <td>1.0000</td>\n",
       "      <td>0.8300</td>\n",
       "      <td>0.7429</td>\n",
       "      <td>0.6926</td>\n",
       "    </tr>\n",
       "    <tr>\n",
       "      <th>6</th>\n",
       "      <td>0.4868</td>\n",
       "      <td>0.6160</td>\n",
       "      <td>0.6160</td>\n",
       "      <td>0.6306</td>\n",
       "      <td>0.8300</td>\n",
       "      <td>1.0000</td>\n",
       "      <td>0.9682</td>\n",
       "      <td>0.9388</td>\n",
       "    </tr>\n",
       "    <tr>\n",
       "      <th>7</th>\n",
       "      <td>0.4268</td>\n",
       "      <td>0.5332</td>\n",
       "      <td>0.5332</td>\n",
       "      <td>0.5076</td>\n",
       "      <td>0.7429</td>\n",
       "      <td>0.9682</td>\n",
       "      <td>1.0000</td>\n",
       "      <td>0.9662</td>\n",
       "    </tr>\n",
       "    <tr>\n",
       "      <th>8</th>\n",
       "      <td>0.3686</td>\n",
       "      <td>0.4649</td>\n",
       "      <td>0.4649</td>\n",
       "      <td>0.4874</td>\n",
       "      <td>0.6926</td>\n",
       "      <td>0.9388</td>\n",
       "      <td>0.9662</td>\n",
       "      <td>1.0000</td>\n",
       "    </tr>\n",
       "  </tbody>\n",
       "</table>\n",
       "</div>"
      ],
      "text/plain": [
       "        1       2       3       4       5       6       7       8\n",
       "1  1.0000  0.9139  0.9139  0.6674  0.4808  0.4868  0.4268  0.3686\n",
       "2  0.9139  1.0000  1.0000  0.8415  0.6675  0.6160  0.5332  0.4649\n",
       "3  0.9139  1.0000  1.0000  0.8415  0.6675  0.6160  0.5332  0.4649\n",
       "4  0.6674  0.8415  0.8415  1.0000  0.7304  0.6306  0.5076  0.4874\n",
       "5  0.4808  0.6675  0.6675  0.7304  1.0000  0.8300  0.7429  0.6926\n",
       "6  0.4868  0.6160  0.6160  0.6306  0.8300  1.0000  0.9682  0.9388\n",
       "7  0.4268  0.5332  0.5332  0.5076  0.7429  0.9682  1.0000  0.9662\n",
       "8  0.3686  0.4649  0.4649  0.4874  0.6926  0.9388  0.9662  1.0000"
      ]
     },
     "execution_count": 121,
     "metadata": {},
     "output_type": "execute_result"
    }
   ],
   "source": [
    "scores_array = np.array(cross_val_scores_list)\n",
    "scores_cumulative = [scores_array[:,:i+1].mean(axis=1) for i in range(8)]\n",
    "scores_cumulative = np.array(scores_cumulative)\n",
    "\n",
    "corrs = pd.DataFrame(np.corrcoef(scores_cumulative).round(4), \n",
    "                     columns=[i for i in range(1,9)], \n",
    "                     index=[i for i in range(1,9)])\n",
    "corrs"
   ]
  },
  {
   "cell_type": "code",
   "execution_count": 122,
   "metadata": {
    "ExecuteTime": {
     "end_time": "2019-03-12T15:18:32.300040Z",
     "start_time": "2019-03-12T15:18:31.887652Z"
    }
   },
   "outputs": [
    {
     "data": {
      "image/png": "[encoded data removed]",
      "text/plain": [
       "<Figure size 432x288 with 1 Axes>"
      ]
     },
     "metadata": {
      "needs_background": "light"
     },
     "output_type": "display_data"
    }
   ],
   "source": [
    "sns.lineplot(x=range(1,9), y=corrs.iloc[:,-1]);"
   ]
  },
  {
   "cell_type": "code",
   "execution_count": 124,
   "metadata": {
    "ExecuteTime": {
     "end_time": "2019-03-12T15:20:25.901612Z",
     "start_time": "2019-03-12T15:20:25.881995Z"
    }
   },
   "outputs": [],
   "source": [
    "wine = load_wine()\n",
    "x_wine = pd.DataFrame(wine['data'])\n",
    "y_wine = pd.Series(wine['target'])\n",
    "\n",
    "x_wine = x_wine.sample(n=x_wine.shape[0], random_state=42)\n",
    "y_wine = y_wine.loc[x_wine.index]"
   ]
  },
  {
   "cell_type": "code",
   "execution_count": 127,
   "metadata": {
    "ExecuteTime": {
     "end_time": "2019-03-12T15:21:46.196374Z",
     "start_time": "2019-03-12T15:21:02.605669Z"
    }
   },
   "outputs": [
    {
     "data": {
      "application/vnd.jupyter.widget-view+json": {
       "model_id": "4bc73ac007464842b4c055f8a214c482",
       "version_major": 2,
       "version_minor": 0
      },
      "text/plain": [
       "HBox(children=(IntProgress(value=0, max=200), HTML(value='')))"
      ]
     },
     "metadata": {},
     "output_type": "display_data"
    },
    {
     "data": {
      "text/html": [
       "<div>\n",
       "<style scoped>\n",
       "    .dataframe tbody tr th:only-of-type {\n",
       "        vertical-align: middle;\n",
       "    }\n",
       "\n",
       "    .dataframe tbody tr th {\n",
       "        vertical-align: top;\n",
       "    }\n",
       "\n",
       "    .dataframe thead th {\n",
       "        text-align: right;\n",
       "    }\n",
       "</style>\n",
       "<table border=\"1\" class=\"dataframe\">\n",
       "  <thead>\n",
       "    <tr style=\"text-align: right;\">\n",
       "      <th></th>\n",
       "      <th>1</th>\n",
       "      <th>2</th>\n",
       "      <th>3</th>\n",
       "      <th>4</th>\n",
       "      <th>5</th>\n",
       "      <th>6</th>\n",
       "      <th>7</th>\n",
       "      <th>8</th>\n",
       "    </tr>\n",
       "  </thead>\n",
       "  <tbody>\n",
       "    <tr>\n",
       "      <th>1</th>\n",
       "      <td>1.0000</td>\n",
       "      <td>0.9658</td>\n",
       "      <td>0.9258</td>\n",
       "      <td>0.9075</td>\n",
       "      <td>0.8819</td>\n",
       "      <td>0.8607</td>\n",
       "      <td>0.8518</td>\n",
       "      <td>0.8634</td>\n",
       "    </tr>\n",
       "    <tr>\n",
       "      <th>2</th>\n",
       "      <td>0.9658</td>\n",
       "      <td>1.0000</td>\n",
       "      <td>0.9899</td>\n",
       "      <td>0.9816</td>\n",
       "      <td>0.9690</td>\n",
       "      <td>0.9572</td>\n",
       "      <td>0.9526</td>\n",
       "      <td>0.9597</td>\n",
       "    </tr>\n",
       "    <tr>\n",
       "      <th>3</th>\n",
       "      <td>0.9258</td>\n",
       "      <td>0.9899</td>\n",
       "      <td>1.0000</td>\n",
       "      <td>0.9974</td>\n",
       "      <td>0.9917</td>\n",
       "      <td>0.9854</td>\n",
       "      <td>0.9826</td>\n",
       "      <td>0.9867</td>\n",
       "    </tr>\n",
       "    <tr>\n",
       "      <th>4</th>\n",
       "      <td>0.9075</td>\n",
       "      <td>0.9816</td>\n",
       "      <td>0.9974</td>\n",
       "      <td>1.0000</td>\n",
       "      <td>0.9971</td>\n",
       "      <td>0.9929</td>\n",
       "      <td>0.9907</td>\n",
       "      <td>0.9936</td>\n",
       "    </tr>\n",
       "    <tr>\n",
       "      <th>5</th>\n",
       "      <td>0.8819</td>\n",
       "      <td>0.9690</td>\n",
       "      <td>0.9917</td>\n",
       "      <td>0.9971</td>\n",
       "      <td>1.0000</td>\n",
       "      <td>0.9979</td>\n",
       "      <td>0.9966</td>\n",
       "      <td>0.9980</td>\n",
       "    </tr>\n",
       "    <tr>\n",
       "      <th>6</th>\n",
       "      <td>0.8607</td>\n",
       "      <td>0.9572</td>\n",
       "      <td>0.9854</td>\n",
       "      <td>0.9929</td>\n",
       "      <td>0.9979</td>\n",
       "      <td>1.0000</td>\n",
       "      <td>0.9995</td>\n",
       "      <td>0.9993</td>\n",
       "    </tr>\n",
       "    <tr>\n",
       "      <th>7</th>\n",
       "      <td>0.8518</td>\n",
       "      <td>0.9526</td>\n",
       "      <td>0.9826</td>\n",
       "      <td>0.9907</td>\n",
       "      <td>0.9966</td>\n",
       "      <td>0.9995</td>\n",
       "      <td>1.0000</td>\n",
       "      <td>0.9993</td>\n",
       "    </tr>\n",
       "    <tr>\n",
       "      <th>8</th>\n",
       "      <td>0.8634</td>\n",
       "      <td>0.9597</td>\n",
       "      <td>0.9867</td>\n",
       "      <td>0.9936</td>\n",
       "      <td>0.9980</td>\n",
       "      <td>0.9993</td>\n",
       "      <td>0.9993</td>\n",
       "      <td>1.0000</td>\n",
       "    </tr>\n",
       "  </tbody>\n",
       "</table>\n",
       "</div>"
      ],
      "text/plain": [
       "        1       2       3       4       5       6       7       8\n",
       "1  1.0000  0.9658  0.9258  0.9075  0.8819  0.8607  0.8518  0.8634\n",
       "2  0.9658  1.0000  0.9899  0.9816  0.9690  0.9572  0.9526  0.9597\n",
       "3  0.9258  0.9899  1.0000  0.9974  0.9917  0.9854  0.9826  0.9867\n",
       "4  0.9075  0.9816  0.9974  1.0000  0.9971  0.9929  0.9907  0.9936\n",
       "5  0.8819  0.9690  0.9917  0.9971  1.0000  0.9979  0.9966  0.9980\n",
       "6  0.8607  0.9572  0.9854  0.9929  0.9979  1.0000  0.9995  0.9993\n",
       "7  0.8518  0.9526  0.9826  0.9907  0.9966  0.9995  1.0000  0.9993\n",
       "8  0.8634  0.9597  0.9867  0.9936  0.9980  0.9993  0.9993  1.0000"
      ]
     },
     "execution_count": 127,
     "metadata": {},
     "output_type": "execute_result"
    }
   ],
   "source": [
    "params_distribution = {'n_estimators': randint(2,100),\n",
    "                       'max_depth': randint(2,200),\n",
    "                       'learning_rate': uniform(.001, .2),\n",
    "                       'colsample_bytree': uniform(.5, 0.5),\n",
    "                       'num_leaves': randint(2,100)}\n",
    "\n",
    "ps = ParameterSampler(params_distribution, 200, random_state=42)\n",
    "model = LGBMClassifier()\n",
    "cross_val_scores_list = []\n",
    "\n",
    "for params in tqdm_notebook(ps):\n",
    "    \n",
    "    model.set_params(**params)\n",
    "\n",
    "    cross_val_scores = cross_val_score(model, x_wine, y_wine, cv=8, scoring='neg_mean_squared_error')\n",
    "    cross_val_scores_list.append(cross_val_scores)\n",
    "\n",
    "scores_array = np.array(cross_val_scores_list)\n",
    "scores_cumulative = [scores_array[:,:i+1].mean(axis=1) for i in range(8)]\n",
    "scores_cumulative = np.array(scores_cumulative)\n",
    "\n",
    "corrs = pd.DataFrame(np.corrcoef(scores_cumulative).round(4), \n",
    "                     columns=[i for i in range(1,9)], \n",
    "                     index=[i for i in range(1,9)])\n",
    "corrs"
   ]
  },
  {
   "cell_type": "code",
   "execution_count": 128,
   "metadata": {
    "ExecuteTime": {
     "end_time": "2019-03-12T15:21:46.468139Z",
     "start_time": "2019-03-12T15:21:46.198653Z"
    },
    "scrolled": true
   },
   "outputs": [
    {
     "data": {
      "image/png": "[encoded data removed]",
      "text/plain": [
       "<Figure size 432x288 with 1 Axes>"
      ]
     },
     "metadata": {
      "needs_background": "light"
     },
     "output_type": "display_data"
    }
   ],
   "source": [
    "sns.lineplot(x=range(1,9), y=corrs.iloc[:,-1]);"
   ]
  },
  {
   "cell_type": "code",
   "execution_count": 137,
   "metadata": {
    "ExecuteTime": {
     "end_time": "2019-03-12T15:28:03.358256Z",
     "start_time": "2019-03-12T15:28:03.341151Z"
    }
   },
   "outputs": [],
   "source": [
    "boston = load_boston()\n",
    "\n",
    "x_boston = pd.DataFrame(boston['data'])\n",
    "y_boston = pd.Series(boston['target'])\n",
    "\n",
    "x_boston = x_boston.sample(n=x_boston.shape[0], random_state=42)\n",
    "y_boston = y_boston.loc[x_boston.index]"
   ]
  },
  {
   "cell_type": "code",
   "execution_count": 139,
   "metadata": {
    "ExecuteTime": {
     "end_time": "2019-03-12T15:29:12.509652Z",
     "start_time": "2019-03-12T15:28:30.675267Z"
    }
   },
   "outputs": [
    {
     "data": {
      "application/vnd.jupyter.widget-view+json": {
       "model_id": "8071cdf852d84c76ae8dc2058148f106",
       "version_major": 2,
       "version_minor": 0
      },
      "text/plain": [
       "HBox(children=(IntProgress(value=0, max=200), HTML(value='')))"
      ]
     },
     "metadata": {},
     "output_type": "display_data"
    },
    {
     "data": {
      "text/html": [
       "<div>\n",
       "<style scoped>\n",
       "    .dataframe tbody tr th:only-of-type {\n",
       "        vertical-align: middle;\n",
       "    }\n",
       "\n",
       "    .dataframe tbody tr th {\n",
       "        vertical-align: top;\n",
       "    }\n",
       "\n",
       "    .dataframe thead th {\n",
       "        text-align: right;\n",
       "    }\n",
       "</style>\n",
       "<table border=\"1\" class=\"dataframe\">\n",
       "  <thead>\n",
       "    <tr style=\"text-align: right;\">\n",
       "      <th></th>\n",
       "      <th>1</th>\n",
       "      <th>2</th>\n",
       "      <th>3</th>\n",
       "      <th>4</th>\n",
       "      <th>5</th>\n",
       "      <th>6</th>\n",
       "      <th>7</th>\n",
       "      <th>8</th>\n",
       "    </tr>\n",
       "  </thead>\n",
       "  <tbody>\n",
       "    <tr>\n",
       "      <th>1</th>\n",
       "      <td>1.0000</td>\n",
       "      <td>0.9969</td>\n",
       "      <td>0.9967</td>\n",
       "      <td>0.9983</td>\n",
       "      <td>0.9986</td>\n",
       "      <td>0.9988</td>\n",
       "      <td>0.9988</td>\n",
       "      <td>0.9986</td>\n",
       "    </tr>\n",
       "    <tr>\n",
       "      <th>2</th>\n",
       "      <td>0.9969</td>\n",
       "      <td>1.0000</td>\n",
       "      <td>0.9998</td>\n",
       "      <td>0.9996</td>\n",
       "      <td>0.9993</td>\n",
       "      <td>0.9991</td>\n",
       "      <td>0.9991</td>\n",
       "      <td>0.9992</td>\n",
       "    </tr>\n",
       "    <tr>\n",
       "      <th>3</th>\n",
       "      <td>0.9967</td>\n",
       "      <td>0.9998</td>\n",
       "      <td>1.0000</td>\n",
       "      <td>0.9995</td>\n",
       "      <td>0.9993</td>\n",
       "      <td>0.9991</td>\n",
       "      <td>0.9991</td>\n",
       "      <td>0.9993</td>\n",
       "    </tr>\n",
       "    <tr>\n",
       "      <th>4</th>\n",
       "      <td>0.9983</td>\n",
       "      <td>0.9996</td>\n",
       "      <td>0.9995</td>\n",
       "      <td>1.0000</td>\n",
       "      <td>0.9999</td>\n",
       "      <td>0.9998</td>\n",
       "      <td>0.9998</td>\n",
       "      <td>0.9999</td>\n",
       "    </tr>\n",
       "    <tr>\n",
       "      <th>5</th>\n",
       "      <td>0.9986</td>\n",
       "      <td>0.9993</td>\n",
       "      <td>0.9993</td>\n",
       "      <td>0.9999</td>\n",
       "      <td>1.0000</td>\n",
       "      <td>0.9999</td>\n",
       "      <td>0.9999</td>\n",
       "      <td>0.9999</td>\n",
       "    </tr>\n",
       "    <tr>\n",
       "      <th>6</th>\n",
       "      <td>0.9988</td>\n",
       "      <td>0.9991</td>\n",
       "      <td>0.9991</td>\n",
       "      <td>0.9998</td>\n",
       "      <td>0.9999</td>\n",
       "      <td>1.0000</td>\n",
       "      <td>1.0000</td>\n",
       "      <td>0.9999</td>\n",
       "    </tr>\n",
       "    <tr>\n",
       "      <th>7</th>\n",
       "      <td>0.9988</td>\n",
       "      <td>0.9991</td>\n",
       "      <td>0.9991</td>\n",
       "      <td>0.9998</td>\n",
       "      <td>0.9999</td>\n",
       "      <td>1.0000</td>\n",
       "      <td>1.0000</td>\n",
       "      <td>1.0000</td>\n",
       "    </tr>\n",
       "    <tr>\n",
       "      <th>8</th>\n",
       "      <td>0.9986</td>\n",
       "      <td>0.9992</td>\n",
       "      <td>0.9993</td>\n",
       "      <td>0.9999</td>\n",
       "      <td>0.9999</td>\n",
       "      <td>0.9999</td>\n",
       "      <td>1.0000</td>\n",
       "      <td>1.0000</td>\n",
       "    </tr>\n",
       "  </tbody>\n",
       "</table>\n",
       "</div>"
      ],
      "text/plain": [
       "        1       2       3       4       5       6       7       8\n",
       "1  1.0000  0.9969  0.9967  0.9983  0.9986  0.9988  0.9988  0.9986\n",
       "2  0.9969  1.0000  0.9998  0.9996  0.9993  0.9991  0.9991  0.9992\n",
       "3  0.9967  0.9998  1.0000  0.9995  0.9993  0.9991  0.9991  0.9993\n",
       "4  0.9983  0.9996  0.9995  1.0000  0.9999  0.9998  0.9998  0.9999\n",
       "5  0.9986  0.9993  0.9993  0.9999  1.0000  0.9999  0.9999  0.9999\n",
       "6  0.9988  0.9991  0.9991  0.9998  0.9999  1.0000  1.0000  0.9999\n",
       "7  0.9988  0.9991  0.9991  0.9998  0.9999  1.0000  1.0000  1.0000\n",
       "8  0.9986  0.9992  0.9993  0.9999  0.9999  0.9999  1.0000  1.0000"
      ]
     },
     "execution_count": 139,
     "metadata": {},
     "output_type": "execute_result"
    }
   ],
   "source": [
    "params_distribution = {'n_estimators': randint(2,100),\n",
    "                       'max_depth': randint(2,200),\n",
    "                       'learning_rate': uniform(.001, .2),\n",
    "                       'colsample_bytree': uniform(.5, 0.5),\n",
    "                       'num_leaves': randint(2,100)}\n",
    "\n",
    "ps = ParameterSampler(params_distribution, 200, random_state=42)\n",
    "model = LGBMRegressor()\n",
    "cross_val_scores_list = []\n",
    "\n",
    "for params in tqdm_notebook(ps):\n",
    "    \n",
    "    model.set_params(**params)\n",
    "\n",
    "    cross_val_scores = cross_val_score(model, x_boston, y_boston, cv=8, scoring='neg_mean_squared_error')\n",
    "    cross_val_scores_list.append(cross_val_scores)\n",
    "\n",
    "scores_array = np.array(cross_val_scores_list)\n",
    "scores_cumulative = [scores_array[:,:i+1].mean(axis=1) for i in range(8)]\n",
    "scores_cumulative = np.array(scores_cumulative)\n",
    "\n",
    "corrs = pd.DataFrame(np.corrcoef(scores_cumulative).round(4), \n",
    "                     columns=[i for i in range(1,9)], \n",
    "                     index=[i for i in range(1,9)])\n",
    "corrs"
   ]
  },
  {
   "cell_type": "code",
   "execution_count": 140,
   "metadata": {
    "ExecuteTime": {
     "end_time": "2019-03-12T15:29:12.836243Z",
     "start_time": "2019-03-12T15:29:12.512090Z"
    }
   },
   "outputs": [
    {
     "data": {
      "image/png": "[encoded data removed]",
      "text/plain": [
       "<Figure size 432x288 with 1 Axes>"
      ]
     },
     "metadata": {
      "needs_background": "light"
     },
     "output_type": "display_data"
    }
   ],
   "source": [
    "sns.lineplot(x=range(1,9), y=corrs.iloc[:,-1]);"
   ]
  }
 ],
 "metadata": {
  "kernelspec": {
   "display_name": "Python 3",
   "language": "python",
   "name": "python3"
  },
  "language_info": {
   "codemirror_mode": {
    "name": "ipython",
    "version": 3
   },
   "file_extension": ".py",
   "mimetype": "text/x-python",
   "name": "python",
   "nbconvert_exporter": "python",
   "pygments_lexer": "ipython3",
   "version": "3.6.8"
  }
 },
 "nbformat": 4,
 "nbformat_minor": 2
}
