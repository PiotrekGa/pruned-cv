{
 "cells": [
  {
   "cell_type": "code",
   "execution_count": 31,
   "metadata": {
    "ExecuteTime": {
     "end_time": "2019-03-13T05:00:14.113225Z",
     "start_time": "2019-03-13T05:00:14.109182Z"
    }
   },
   "outputs": [],
   "source": [
    "from lightgbm import LGBMRegressor\n",
    "from hyperopt import fmin, tpe, space_eval, hp, Trials\n",
    "from sklearn.datasets import fetch_california_housing\n",
    "from sklearn.model_selection import cross_val_score\n",
    "from prunedcv import PrunedCV\n",
    "import seaborn as sns\n",
    "import numpy as np\n",
    "import pandas as pd"
   ]
  },
  {
   "cell_type": "code",
   "execution_count": 2,
   "metadata": {
    "ExecuteTime": {
     "end_time": "2019-03-13T04:39:48.499025Z",
     "start_time": "2019-03-13T04:39:48.481624Z"
    }
   },
   "outputs": [],
   "source": [
    "data = fetch_california_housing()\n",
    "x = data['data']\n",
    "y = data['target']"
   ]
  },
  {
   "cell_type": "code",
   "execution_count": 3,
   "metadata": {
    "ExecuteTime": {
     "end_time": "2019-03-13T04:39:48.505605Z",
     "start_time": "2019-03-13T04:39:48.502338Z"
    }
   },
   "outputs": [],
   "source": [
    "model = LGBMRegressor()"
   ]
  },
  {
   "cell_type": "code",
   "execution_count": 4,
   "metadata": {
    "ExecuteTime": {
     "end_time": "2019-03-13T04:39:48.519775Z",
     "start_time": "2019-03-13T04:39:48.510972Z"
    }
   },
   "outputs": [],
   "source": [
    "def objective_standard(params):\n",
    "    \n",
    "    for parameters in ['n_estimators', 'num_leaves', 'max_depth']:\n",
    "        params[parameters] = int(params[parameters])\n",
    "    \n",
    "    model.set_params(**params)\n",
    "\n",
    "    return - np.mean(cross_val_score(model, x, y, cv=12, scoring='neg_mean_squared_error'))"
   ]
  },
  {
   "cell_type": "code",
   "execution_count": 5,
   "metadata": {
    "ExecuteTime": {
     "end_time": "2019-03-13T04:39:48.534289Z",
     "start_time": "2019-03-13T04:39:48.525799Z"
    }
   },
   "outputs": [],
   "source": [
    "space = {\n",
    "    'n_estimators': hp.quniform('n_estimators', 5, 100, 1),\n",
    "    'num_leaves': hp.quniform('num_leaves', 2, 100, 1),\n",
    "    'colsample_bytree': hp.uniform('colsample_bytree', 0.5, 1.0),\n",
    "    'learning_rate': hp.uniform('learning_rate', 1e-4, 1e-0),\n",
    "    'max_depth': hp.quniform('max_depth', 2, 1_000, 1)\n",
    "}"
   ]
  },
  {
   "cell_type": "code",
   "execution_count": 6,
   "metadata": {
    "ExecuteTime": {
     "end_time": "2019-03-13T04:44:14.531418Z",
     "start_time": "2019-03-13T04:39:48.539311Z"
    }
   },
   "outputs": [
    {
     "name": "stdout",
     "output_type": "stream",
     "text": [
      "100%|██████████| 200/200 [04:25<00:00,  1.17it/s, best loss: 0.33260919196403954]\n"
     ]
    }
   ],
   "source": [
    "bayes_trials_standard = Trials()\n",
    "best_standard = fmin(fn=objective_standard, \n",
    "                     space=space, \n",
    "                     algo=tpe.suggest, \n",
    "                     max_evals=200, \n",
    "                     trials=bayes_trials_standard, \n",
    "                     rstate=np.random.RandomState(42))"
   ]
  },
  {
   "cell_type": "markdown",
   "metadata": {},
   "source": [
    "For probabilistic search methods like Bayesian Optimization you should use probabilistic pruning:"
   ]
  },
  {
   "cell_type": "code",
   "execution_count": 7,
   "metadata": {
    "ExecuteTime": {
     "end_time": "2019-03-13T04:44:14.538795Z",
     "start_time": "2019-03-13T04:44:14.533855Z"
    }
   },
   "outputs": [],
   "source": [
    "prun = PrunedCV(12, probabilistic_prun=True)\n",
    "\n",
    "def objective_pruned(params):\n",
    "\n",
    "    for parameters in ['n_estimators', 'num_leaves', 'max_depth']:\n",
    "        params[parameters] = int(params[parameters])\n",
    "    \n",
    "    model.set_params(**params)\n",
    "\n",
    "    return prun.cross_val_score(model, x, y)"
   ]
  },
  {
   "cell_type": "code",
   "execution_count": 25,
   "metadata": {
    "ExecuteTime": {
     "end_time": "2019-03-13T04:59:45.285803Z",
     "start_time": "2019-03-13T04:55:38.349355Z"
    }
   },
   "outputs": [
    {
     "name": "stdout",
     "output_type": "stream",
     "text": [
      "100%|██████████| 1000/1000 [04:06<00:00,  3.46it/s, best loss: 0.3292563469527635]\n"
     ]
    }
   ],
   "source": [
    "bayes_trials_pruned = Trials()\n",
    "best_pruned = fmin(fn=objective_pruned, \n",
    "                   space=space, \n",
    "                   algo=tpe.suggest, \n",
    "                   max_evals=1_000, \n",
    "                   trials=bayes_trials_pruned, \n",
    "                   rstate=np.random.RandomState(42))"
   ]
  },
  {
   "cell_type": "code",
   "execution_count": 26,
   "metadata": {
    "ExecuteTime": {
     "end_time": "2019-03-13T04:59:45.304021Z",
     "start_time": "2019-03-13T04:59:45.288487Z"
    }
   },
   "outputs": [],
   "source": [
    "df_prun = []\n",
    "for trial in bayes_trials_pruned.trials:\n",
    "    df_prun.append([trial['result']['loss'], trial['refresh_time']])\n",
    "\n",
    "df_prun = pd.DataFrame(df_prun, columns=['value', 'time_finished'])\n",
    "df_prun['time'] = (df_prun.time_finished - df_prun.time_finished.min()).astype('int') / 1_000_000_000\n",
    "\n",
    "df_stan = []\n",
    "for trial in bayes_trials_standard.trials:\n",
    "    df_stan.append([trial['result']['loss'], trial['refresh_time']])\n",
    "\n",
    "df_stan = pd.DataFrame(df_stan, columns=['value', 'time_finished'])\n",
    "df_stan['time'] = (df_stan.time_finished - df_stan.time_finished.min()).astype('int') / 1_000_000_000"
   ]
  },
  {
   "cell_type": "code",
   "execution_count": 27,
   "metadata": {
    "ExecuteTime": {
     "end_time": "2019-03-13T04:59:45.836632Z",
     "start_time": "2019-03-13T04:59:45.307898Z"
    }
   },
   "outputs": [
    {
     "data": {
      "image/png": "[encoded data removed]",
      "text/plain": [
       "<Figure size 432x288 with 1 Axes>"
      ]
     },
     "metadata": {
      "needs_background": "light"
     },
     "output_type": "display_data"
    }
   ],
   "source": [
    "sns.lineplot(x=df_stan.time, y=df_stan.value.cummin());\n",
    "sns.lineplot(x=df_prun.time, y=df_prun.value.cummin());"
   ]
  },
  {
   "cell_type": "code",
   "execution_count": 28,
   "metadata": {
    "ExecuteTime": {
     "end_time": "2019-03-13T04:59:46.460504Z",
     "start_time": "2019-03-13T04:59:45.839750Z"
    }
   },
   "outputs": [
    {
     "data": {
      "image/png": "[encoded data removed]",
      "text/plain": [
       "<Figure size 432x288 with 1 Axes>"
      ]
     },
     "metadata": {
      "needs_background": "light"
     },
     "output_type": "display_data"
    }
   ],
   "source": [
    "sns.lineplot(x=df_stan.index, y=df_stan.value.cummin());\n",
    "sns.lineplot(x=df_prun.index, y=df_prun.value.cummin());"
   ]
  },
  {
   "cell_type": "code",
   "execution_count": 30,
   "metadata": {
    "ExecuteTime": {
     "end_time": "2019-03-13T05:00:01.961127Z",
     "start_time": "2019-03-13T05:00:01.955121Z"
    }
   },
   "outputs": [
    {
     "data": {
      "text/plain": [
       "5.35"
      ]
     },
     "execution_count": 30,
     "metadata": {},
     "output_type": "execute_result"
    }
   ],
   "source": [
    "round((df_stan.time.max() / df_stan.shape[0]) / (df_prun.time.max() / df_prun.shape[0]),2)"
   ]
  }
 ],
 "metadata": {
  "kernelspec": {
   "display_name": "Python 3",
   "language": "python",
   "name": "python3"
  },
  "language_info": {
   "codemirror_mode": {
    "name": "ipython",
    "version": 3
   },
   "file_extension": ".py",
   "mimetype": "text/x-python",
   "name": "python",
   "nbconvert_exporter": "python",
   "pygments_lexer": "ipython3",
   "version": "3.6.8"
  }
 },
 "nbformat": 4,
 "nbformat_minor": 2
}
